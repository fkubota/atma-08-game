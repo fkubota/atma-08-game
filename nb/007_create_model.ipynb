{
 "cells": [
  {
   "cell_type": "markdown",
   "metadata": {},
   "source": [
    "# Overview\n",
    "- nb006の改良\n",
    "- train_test_splitからkfoldにする"
   ]
  },
  {
   "cell_type": "markdown",
   "metadata": {},
   "source": [
    "# Const"
   ]
  },
  {
   "cell_type": "code",
   "execution_count": 7,
   "metadata": {},
   "outputs": [],
   "source": [
    "NB = '007'\n",
    "N_SPLITS = 5\n",
    "\n",
    "\n",
    "PATH_TRAIN = './../data/official/train.csv'\n",
    "PATH_TEST = './../data/official/test.csv'\n",
    "PATH_SAMPLE_SUBMITTION = './../data/official/atmaCup8_sample-submission.csv'\n",
    "SAVE_DIR = f'../data/output_nb/nb{NB}/'\n",
    "\n",
    "feat_train_only = ['JP_Sales', 'Global_Sales', 'NA_Sales', 'Other_Sales', 'EU_Sales']\n",
    "feat_common = ['Name', 'Platform', 'Year_of_Release', 'Genre', 'Publisher',\n",
    "           'Critic_Score', 'Critic_Count', 'User_Score', 'User_Count', 'Developer',\n",
    "           'Rating']\n",
    "feat_string = ['Platform', 'Genre', 'Publisher', 'Developer', 'Rating']"
   ]
  },
  {
   "cell_type": "markdown",
   "metadata": {},
   "source": [
    "# Import everything I need :)"
   ]
  },
  {
   "cell_type": "code",
   "execution_count": 39,
   "metadata": {},
   "outputs": [],
   "source": [
    "import os\n",
    "import time\n",
    "import numpy as np\n",
    "import pandas as pd\n",
    "import matplotlib.pyplot as plt\n",
    "\n",
    "from lightgbm import LGBMRegressor \n",
    "\n",
    "from sklearn.preprocessing import LabelEncoder\n",
    "from sklearn.metrics import mean_squared_log_error\n",
    "from sklearn.model_selection import train_test_split, KFold\n",
    "\n",
    "import warnings\n",
    "warnings.filterwarnings('ignore')"
   ]
  },
  {
   "cell_type": "markdown",
   "metadata": {},
   "source": [
    "# My function"
   ]
  },
  {
   "cell_type": "code",
   "execution_count": 13,
   "metadata": {},
   "outputs": [],
   "source": [
    "def metric(y_true, y_pred):\n",
    "    return mean_squared_log_error(y_true, y_pred) ** .5\n",
    "\n",
    "def preprocess_User_Score(df):\n",
    "    '''\n",
    "    - tbdをnanにする\n",
    "    - stringをfloatにする\n",
    "    '''\n",
    "    mask = df.User_Score.values == 'tbd'\n",
    "    df.User_Score[mask] = np.nan\n",
    "    df.User_Score = df.User_Score.values.astype(float)\n",
    "    return df\n",
    "\n",
    "def string_encode(df, cols):\n",
    "    '''\n",
    "    - np.nanがあれば、'nan'に置き換える\n",
    "    - label encodingする\n",
    "    '''\n",
    "    df[cols] = df[cols].replace(np.nan, 'nan')\n",
    "    for col in cols:\n",
    "        le = LabelEncoder()\n",
    "        df[col] = le.fit_transform(df[col])\n",
    "    return df\n",
    "\n",
    "def df_preprocessing(df, string_cols):\n",
    "    df = preprocess_User_Score(df)\n",
    "    df = string_encode(df, string_cols)\n",
    "    return df"
   ]
  },
  {
   "cell_type": "markdown",
   "metadata": {},
   "source": [
    "# Preparation"
   ]
  },
  {
   "cell_type": "markdown",
   "metadata": {},
   "source": [
    "set"
   ]
  },
  {
   "cell_type": "code",
   "execution_count": 10,
   "metadata": {},
   "outputs": [],
   "source": [
    "if not os.path.exists(SAVE_DIR):\n",
    "    os.makedirs(SAVE_DIR)"
   ]
  },
  {
   "cell_type": "markdown",
   "metadata": {},
   "source": [
    "<br>\n",
    "\n",
    "load dataset"
   ]
  },
  {
   "cell_type": "code",
   "execution_count": 18,
   "metadata": {},
   "outputs": [],
   "source": [
    "train = pd.read_csv(PATH_TRAIN)\n",
    "test = pd.read_csv(PATH_TEST)\n",
    "ss = pd.read_csv(PATH_SAMPLE_SUBMITTION)"
   ]
  },
  {
   "cell_type": "markdown",
   "metadata": {},
   "source": [
    "<br>\n",
    "\n",
    "preprocess"
   ]
  },
  {
   "cell_type": "code",
   "execution_count": 19,
   "metadata": {},
   "outputs": [],
   "source": [
    "train = df_preprocessing(train, feat_string)\n",
    "test = df_preprocessing(test, feat_string)"
   ]
  },
  {
   "cell_type": "code",
   "execution_count": 20,
   "metadata": {},
   "outputs": [
    {
     "data": {
      "text/plain": [
       "['Platform',\n",
       " 'Year_of_Release',\n",
       " 'Genre',\n",
       " 'Publisher',\n",
       " 'Critic_Score',\n",
       " 'Critic_Count',\n",
       " 'User_Score',\n",
       " 'User_Count',\n",
       " 'Developer',\n",
       " 'Rating']"
      ]
     },
     "execution_count": 20,
     "metadata": {},
     "output_type": "execute_result"
    }
   ],
   "source": [
    "mask = test.columns != 'Name'\n",
    "use_col = test.columns[mask].tolist()\n",
    "use_col"
   ]
  },
  {
   "cell_type": "code",
   "execution_count": 25,
   "metadata": {},
   "outputs": [],
   "source": [
    "X = train[use_col].copy()\n",
    "y = train[['Global_Sales']].copy()\n",
    "X_te = test[use_col].copy()"
   ]
  },
  {
   "cell_type": "markdown",
   "metadata": {},
   "source": [
    "# Create Model"
   ]
  },
  {
   "cell_type": "code",
   "execution_count": 23,
   "metadata": {},
   "outputs": [],
   "source": [
    "splitter = KFold(n_splits=N_SPLITS, shuffle=True, random_state=2020)"
   ]
  },
  {
   "cell_type": "code",
   "execution_count": 43,
   "metadata": {},
   "outputs": [
    {
     "name": "stdout",
     "output_type": "stream",
     "text": [
      "use_col: ['Platform', 'Year_of_Release', 'Genre', 'Publisher', 'Critic_Score', 'Critic_Count', 'User_Score', 'User_Count', 'Developer', 'Rating']\n",
      "\n",
      "::Fold 1/5 start at Fri Dec  4 21:35:29 2020::\n",
      "score train: 1.04486\n",
      "score valid: 1.18130\n",
      "\n",
      "::Fold 2/5 start at Fri Dec  4 21:35:29 2020::\n",
      "score train: 1.04830\n",
      "score valid: 1.11969\n",
      "\n",
      "::Fold 3/5 start at Fri Dec  4 21:35:29 2020::\n",
      "score train: 1.01304\n",
      "score valid: 1.14669\n",
      "\n",
      "::Fold 4/5 start at Fri Dec  4 21:35:29 2020::\n",
      "score train: 1.05580\n",
      "score valid: 1.14030\n",
      "\n",
      "::Fold 5/5 start at Fri Dec  4 21:35:29 2020::\n",
      "score train: 1.03097\n",
      "score valid: 1.13289\n",
      "\n",
      "oof score: 1.14436\n",
      "CPU times: user 5.63 s, sys: 39.1 ms, total: 5.67 s\n",
      "Wall time: 483 ms\n"
     ]
    }
   ],
   "source": [
    "%%time\n",
    "print(f'use_col: {use_col}\\n')\n",
    "\n",
    "oof = np.zeros(len(X))\n",
    "y_test_pred = np.zeros(len(X_te))\n",
    "for fold_i, (idx_trn, idx_val) in enumerate(splitter.split(X)):\n",
    "    print(f'::Fold {fold_i+1}/{N_SPLITS} start at {time.ctime()}::')\n",
    "    X_trn, X_val = X.iloc[idx_trn, :], X.iloc[idx_val, :]\n",
    "    y_trn, y_val = y.iloc[idx_trn], y.iloc[idx_val]\n",
    "    X_trn = pd.DataFrame(X_trn, columns=X.columns)\n",
    "    X_val = pd.DataFrame(X_val, columns=X.columns)\n",
    "    \n",
    "    # train\n",
    "    model = LGBMRegressor(random_state=2020, colsample_bytree=0.7)\n",
    "    model.fit(X_trn, y_trn.values[:, 0], categorical_feature=feat_string)\n",
    "    \n",
    "    # predict\n",
    "    y_trn_pred = model.predict(X_trn)\n",
    "    y_val_pred = model.predict(X_val)\n",
    "    _y_test_pred = model.predict(X_te)\n",
    "    \n",
    "    # postprocessiing\n",
    "    y_trn_pred[y_trn_pred <= 1] = 1\n",
    "    y_val_pred[y_val_pred <= 1] = 1\n",
    "    \n",
    "    # result\n",
    "    oof[idx_val] = y_val_pred\n",
    "    y_test_pred += _y_test_pred / N_SPLITS\n",
    "    \n",
    "    print(f'score train: {metric(y_trn, y_trn_pred):.5f}')\n",
    "    print(f'score valid: {metric(y_val, y_val_pred):.5f}')\n",
    "    print('')\n",
    "\n",
    "y_test_pred[y_test_pred <= 1] = 1\n",
    "print(f'oof score: {metric(y, oof):.5f}')"
   ]
  },
  {
   "cell_type": "markdown",
   "metadata": {},
   "source": [
    "# create sub"
   ]
  },
  {
   "cell_type": "code",
   "execution_count": 44,
   "metadata": {},
   "outputs": [
    {
     "name": "stdout",
     "output_type": "stream",
     "text": [
      "save: ../data/output_nb/nb007/submission.csv\n"
     ]
    }
   ],
   "source": [
    "ss['Global_Sales'] = y_test_pred\n",
    "save_path = f'{SAVE_DIR}submission.csv'\n",
    "ss.to_csv(save_path, index=False)\n",
    "\n",
    "print(f'save: {save_path}')"
   ]
  },
  {
   "cell_type": "code",
   "execution_count": null,
   "metadata": {},
   "outputs": [],
   "source": []
  },
  {
   "cell_type": "code",
   "execution_count": null,
   "metadata": {},
   "outputs": [],
   "source": []
  },
  {
   "cell_type": "raw",
   "metadata": {},
   "source": [
    "\n",
    "\n",
    "\n",
    "\n",
    "\n",
    "\n",
    "\n",
    "\n",
    "\n",
    "\n",
    "\n",
    "\n",
    "\n",
    "\n",
    "\n",
    "\n",
    "\n",
    "\n",
    "\n",
    "\n",
    "\n",
    "\n"
   ]
  }
 ],
 "metadata": {
  "kernelspec": {
   "display_name": "Python 3",
   "language": "python",
   "name": "python3"
  },
  "language_info": {
   "codemirror_mode": {
    "name": "ipython",
    "version": 3
   },
   "file_extension": ".py",
   "mimetype": "text/x-python",
   "name": "python",
   "nbconvert_exporter": "python",
   "pygments_lexer": "ipython3",
   "version": "3.6.10"
  }
 },
 "nbformat": 4,
 "nbformat_minor": 4
}
