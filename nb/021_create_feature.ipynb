{
 "cells": [
  {
   "cell_type": "markdown",
   "metadata": {},
   "source": [
    "# Overview\n",
    "- nb016の改良\n",
    "- trainだけでなくtestデータも考慮にいれて解析する"
   ]
  },
  {
   "cell_type": "markdown",
   "metadata": {},
   "source": [
    "# Const"
   ]
  },
  {
   "cell_type": "code",
   "execution_count": 1,
   "metadata": {},
   "outputs": [],
   "source": [
    "NB = '021'\n",
    "\n",
    "PATH_TRAIN = './../data/official/train.csv'\n",
    "PATH_TEST = './../data/official/test.csv'\n",
    "PATH_SAMPLE_SUBMITTION = './../data/official/atmaCup8_sample-submission.csv'\n",
    "SAVE_DIR = f'../data/output_nb/nb{NB}/'\n",
    "\n",
    "feat_train_only = ['JP_Sales', 'Global_Sales', 'NA_Sales', 'Other_Sales', 'EU_Sales']\n",
    "feat_common = ['Name', 'Platform', 'Year_of_Release', 'Genre', 'Publisher',\n",
    "           'Critic_Score', 'Critic_Count', 'User_Score', 'User_Count', 'Developer',\n",
    "           'Rating']\n",
    "feat_string = ['Platform', 'Genre', 'Publisher', 'Rating']\n",
    "feat_cat = ['Platform', 'Genre', 'Rating']\n",
    "feat_num = ['Year_of_Release', 'Critic_Score', 'Critic_Count', 'User_Score', 'User_Count']\n",
    "use_col = [\n",
    "    'Platform',\n",
    "    'Year_of_Release',\n",
    "    'Genre',\n",
    "    'Critic_Score',\n",
    "    'Critic_Count',\n",
    "    'User_Score',\n",
    "    'User_Count',\n",
    "    'Rating'\n",
    "    ]"
   ]
  },
  {
   "cell_type": "code",
   "execution_count": 2,
   "metadata": {},
   "outputs": [],
   "source": [
    "config_str = \"\"\"\n",
    "globals:\n",
    "  seed: 2020\n",
    "  show_log: True\n",
    "\n",
    "feature:\n",
    "    use_col: [\n",
    "        'Platform',\n",
    "        'Year_of_Release',\n",
    "        'Genre',\n",
    "        'Critic_Score',\n",
    "        'Critic_Count',\n",
    "        'User_Score',\n",
    "        'User_Count',\n",
    "        'Rating'\n",
    "        ]\n",
    "\n",
    "split:\n",
    "  name: KFold\n",
    "  params:\n",
    "    n_splits: 5\n",
    "    random_state: 2020\n",
    "    shuffle: True\n",
    "\n",
    "model:\n",
    "    model_params:\n",
    "        objective: 'regression'\n",
    "        metric: 'rmse'\n",
    "        n_estimators: 800\n",
    "        max_depth: 131\n",
    "        subsample: 0.6\n",
    "        colsample_bytree: 0.9\n",
    "        learning_rate: 0.022862256818781214\n",
    "        reg_alpha: 1.0\n",
    "        reg_lambda: 6.0\n",
    "        min_child_samples: 10\n",
    "    \n",
    "    train_params:\n",
    "        categorical_feature: ['Platform', 'Genre', 'Rating']\n",
    "        verbose: -1\n",
    "        early_stopping_rounds: 100\n",
    "\"\"\"\n",
    "\n"
   ]
  },
  {
   "cell_type": "markdown",
   "metadata": {},
   "source": [
    "# Import everything I need :)"
   ]
  },
  {
   "cell_type": "code",
   "execution_count": 3,
   "metadata": {},
   "outputs": [
    {
     "name": "stderr",
     "output_type": "stream",
     "text": [
      "/usr/local/lib/python3.6/dist-packages/matplotlib/__init__.py:886: MatplotlibDeprecationWarning: \n",
      "examples.directory is deprecated; in the future, examples will be found relative to the 'datapath' directory.\n",
      "  \"found relative to the 'datapath' directory.\".format(key))\n"
     ]
    }
   ],
   "source": [
    "import os\n",
    "import time\n",
    "import yaml\n",
    "import types\n",
    "import builtins\n",
    "import numpy as np\n",
    "import pandas as pd\n",
    "import seaborn as sns\n",
    "import matplotlib.pyplot as plt\n",
    "from fastprogress import progress_bar\n",
    "\n",
    "from lightgbm import LGBMRegressor \n",
    "\n",
    "from sklearn.preprocessing import LabelEncoder\n",
    "from sklearn.metrics import mean_squared_log_error\n",
    "from sklearn.model_selection import train_test_split, KFold\n",
    "\n",
    "import warnings\n",
    "warnings.filterwarnings('ignore')"
   ]
  },
  {
   "cell_type": "markdown",
   "metadata": {},
   "source": [
    "# My function"
   ]
  },
  {
   "cell_type": "code",
   "execution_count": 4,
   "metadata": {},
   "outputs": [],
   "source": [
    "# noglobal\n",
    "\n",
    "def imports():\n",
    "    for name, val in globals().items():\n",
    "        # module imports\n",
    "        if isinstance(val, types.ModuleType):\n",
    "            yield name, val\n",
    "\n",
    "            # functions / callables\n",
    "        if hasattr(val, '__call__'):\n",
    "            yield name, val\n",
    "\n",
    "\n",
    "def noglobal(f):\n",
    "    '''\n",
    "    ref: https://gist.github.com/raven38/4e4c3c7a179283c441f575d6e375510c\n",
    "    '''\n",
    "    return types.FunctionType(f.__code__,\n",
    "                              dict(imports()),\n",
    "                              f.__name__,\n",
    "                              f.__defaults__,\n",
    "                              f.__closure__\n",
    "                              )"
   ]
  },
  {
   "cell_type": "code",
   "execution_count": 5,
   "metadata": {},
   "outputs": [],
   "source": [
    "@noglobal\n",
    "def metric(y_true, y_pred):\n",
    "    return mean_squared_log_error(y_true, y_pred) ** .5\n",
    "\n",
    "@noglobal\n",
    "def preprocess_User_Score(df):\n",
    "    '''\n",
    "    - tbdをnanにする\n",
    "    - stringをfloatにする\n",
    "    '''\n",
    "    mask = df.User_Score.values == 'tbd'\n",
    "    df.User_Score[mask] = np.nan\n",
    "    df.User_Score = df.User_Score.values.astype(float)\n",
    "    return df\n",
    "\n",
    "@noglobal\n",
    "def string_encode(df_trn, df_te, cols):\n",
    "    '''\n",
    "    - np.nanがあれば、'nan'に置き換える\n",
    "    - label encodingする\n",
    "    '''\n",
    "    df = pd.concat([df_trn, df_te], axis=0).copy()\n",
    "    df[cols] = df[cols].replace(np.nan, 'nan')\n",
    "    df_trn[cols] = df_trn[cols].replace(np.nan, 'nan')\n",
    "    df_te[cols] = df_te[cols].replace(np.nan, 'nan')\n",
    "    for col in cols:\n",
    "        le = LabelEncoder()\n",
    "        le.fit(df[col])\n",
    "        df_trn[col] = le.transform(df_trn[col])\n",
    "        df_te[col] = le.transform(df_te[col])\n",
    "    return df_trn, df_te\n",
    "\n",
    "@noglobal\n",
    "def df_preprocessing(df_trn, df_te, string_cols):\n",
    "    df_trn = preprocess_User_Score(df_trn)\n",
    "    df_te = preprocess_User_Score(df_te)\n",
    "    df_trn, df_te = string_encode(df_trn, df_te, string_cols)\n",
    "    return df_trn, df_te"
   ]
  },
  {
   "cell_type": "code",
   "execution_count": 6,
   "metadata": {},
   "outputs": [],
   "source": [
    "@noglobal\n",
    "def run_fold_lgbm(_X_trn, _y_trn, _X_val, _y_val, _X_te, model_config, show_log=True):\n",
    "    model_params = model_config['model_params']\n",
    "    train_params = model_config['train_params']\n",
    "    \n",
    "    # train\n",
    "    model = LGBMRegressor(**model_params)\n",
    "    model.fit(_X_trn, _y_trn.values[:, 0],\n",
    "              eval_set=[(_X_trn, _y_trn), (_X_val, _y_val)],\n",
    "              **train_params\n",
    "             )\n",
    "    \n",
    "    # predict\n",
    "    y_trn_pred = model.predict(_X_trn)\n",
    "    y_val_pred = model.predict(_X_val)\n",
    "    _y_test_pred = model.predict(_X_te)\n",
    "    \n",
    "    # postprocessiing\n",
    "    y_trn_pred[y_trn_pred <= 1] = 1\n",
    "    y_val_pred[y_val_pred <= 1] = 1\n",
    "    y_trn_pred = np.expm1(y_trn_pred)  # exp を適用して 1 を引く\n",
    "    y_val_pred = np.expm1(y_val_pred)  # exp を適用して 1 を引く\n",
    "    _y_test_pred = np.expm1(_y_test_pred)  # exp を適用して 1 を引く\n",
    "    \n",
    "    if show_log:\n",
    "        print(show_log)\n",
    "        print(f'score train: {metric(np.expm1(_y_trn), y_trn_pred):.5f}')\n",
    "        print(f'score valid: {metric(np.expm1(_y_val), y_val_pred):.5f}')\n",
    "        print('')\n",
    "    \n",
    "    return y_trn_pred, y_val_pred, _y_test_pred\n",
    "\n",
    "@noglobal\n",
    "def run_lgbm(X, y, X_te, splitter, config):\n",
    "    show_log = config['globals']['show_log']\n",
    "    model_config = config['model']\n",
    "\n",
    "    oof = np.zeros(len(X))\n",
    "    y_test_pred = np.zeros(len(X_te))\n",
    "    for fold_i, (idx_trn, idx_val) in enumerate(splitter.split(X)):\n",
    "        if show_log:\n",
    "            print(f'::Fold {fold_i+1}/{splitter.n_splits} start at {time.ctime()}::')\n",
    "        X_trn, X_val = X.iloc[idx_trn, :], X.iloc[idx_val, :]\n",
    "        y_trn, y_val = y.iloc[idx_trn], y.iloc[idx_val]\n",
    "        X_trn = pd.DataFrame(X_trn, columns=X.columns)\n",
    "        X_val = pd.DataFrame(X_val, columns=X.columns)\n",
    "\n",
    "        # train\n",
    "        y_trn_pred, y_val_pred, _y_test_pred = run_fold_lgbm(X_trn, y_trn, X_val, y_val, \n",
    "                                                             X_te, model_config, \n",
    "                                                             show_log=show_log)\n",
    "\n",
    "        # result\n",
    "        oof[idx_val] = y_val_pred\n",
    "        y_test_pred += _y_test_pred / splitter.n_splits\n",
    "\n",
    "\n",
    "    y_test_pred[y_test_pred <= 1] = 1\n",
    "    return oof, y_test_pred"
   ]
  },
  {
   "cell_type": "markdown",
   "metadata": {},
   "source": [
    "# Preparation"
   ]
  },
  {
   "cell_type": "markdown",
   "metadata": {},
   "source": [
    "set"
   ]
  },
  {
   "cell_type": "code",
   "execution_count": 7,
   "metadata": {},
   "outputs": [],
   "source": [
    "if not os.path.exists(SAVE_DIR):\n",
    "    os.makedirs(SAVE_DIR)\n",
    "\n",
    "config = yaml.safe_load(config_str)"
   ]
  },
  {
   "cell_type": "markdown",
   "metadata": {},
   "source": [
    "<br>\n",
    "\n",
    "load dataset"
   ]
  },
  {
   "cell_type": "code",
   "execution_count": 8,
   "metadata": {},
   "outputs": [],
   "source": [
    "train = pd.read_csv(PATH_TRAIN)\n",
    "test = pd.read_csv(PATH_TEST)\n",
    "ss = pd.read_csv(PATH_SAMPLE_SUBMITTION)"
   ]
  },
  {
   "cell_type": "markdown",
   "metadata": {},
   "source": [
    "<br>\n",
    "\n",
    "preprocess"
   ]
  },
  {
   "cell_type": "code",
   "execution_count": 9,
   "metadata": {},
   "outputs": [],
   "source": [
    "train, test = df_preprocessing(train, test, feat_string)"
   ]
  },
  {
   "cell_type": "code",
   "execution_count": 10,
   "metadata": {},
   "outputs": [],
   "source": [
    "X = train[use_col].copy()\n",
    "y = train[['Global_Sales']].copy()\n",
    "X_te = test[use_col].copy()"
   ]
  },
  {
   "cell_type": "code",
   "execution_count": 11,
   "metadata": {},
   "outputs": [],
   "source": [
    "# RMSLE を RMSEとしいて解く\n",
    "y = np.log1p(y)  # 1 を足してlog を適用"
   ]
  },
  {
   "cell_type": "markdown",
   "metadata": {},
   "source": [
    "# EDA"
   ]
  },
  {
   "cell_type": "markdown",
   "metadata": {},
   "source": [
    "<br>\n",
    "\n",
    "textを小文字にして1行に"
   ]
  },
  {
   "cell_type": "code",
   "execution_count": 12,
   "metadata": {},
   "outputs": [],
   "source": [
    "train['Name'] = train['Name'].replace(np.nan, 'nan')\n",
    "test['Name'] = test['Name'].replace(np.nan, 'nan')\n",
    "\n",
    "train_word_line = ' '.join(train.Name.str.lower().values)\n",
    "test_word_line = ' '.join(test.Name.str.lower().values)\n",
    "\n",
    "# ( と ) と : を消去\n",
    "train_word_line = train_word_line.replace('(', ' ')\n",
    "train_word_line = train_word_line.replace(')', ' ')\n",
    "train_word_line = train_word_line.replace(':', ' ')\n",
    "test_word_line = test_word_line.replace('(', ' ')\n",
    "test_word_line = test_word_line.replace(')', ' ')\n",
    "test_word_line = test_word_line.replace(':', ' ')\n",
    "\n",
    "train_word_list = train_word_line.split(None)\n",
    "test_word_list = test_word_line.split(None)"
   ]
  },
  {
   "cell_type": "code",
   "execution_count": 13,
   "metadata": {},
   "outputs": [
    {
     "name": "stdout",
     "output_type": "stream",
     "text": [
      "lego batman  the videogame lego indiana jones  the original adventures lego batman  the videogame combat lego harry potter  years 5-7 lego harry potter  years 5-7 yakuza 4 lego harry potter  years 5-7 the lord of the rings  war in the north the lord of the rings  war in the north the chronicles of narnia  the lion, the witch and the wardrobe lego harry potter  years 5-7 the golden compass circus atari maze craze  a game of cops 'n robbers robert ludlum's the bourne conspiracy lego harry potter  years 5-7 robert ludlum's the bourne conspiracy the golden compass tomb raider  2013  slot machine t\n",
      "\n",
      "hitman 2  silent assassin legacy of kain  soul reaver metal gear solid 2  substance silent hill  homecoming silent hill  homecoming cubix robots for everyone  clash 'n' bash dragon ball z  budokai tenkaichi 2  jp sales  shrek the third nicktoons  battle for volcano island the legend of zelda  the minish cap weekly jp sales  ghostbusters ii dead space 3 twisted metal  small brawl teen titans james cameron's dark angel splatterhouse jurassic park  the game wcw backstage assault demon chaos action man-operation extreme dead island  riptide mcfarlane's evil prophecy prinny  can i really be the her\n"
     ]
    }
   ],
   "source": [
    "print(train_word_line[:600])\n",
    "print('')\n",
    "print(test_word_line[:600])"
   ]
  },
  {
   "cell_type": "markdown",
   "metadata": {},
   "source": [
    "<br>\n",
    "\n",
    "trainとtest共通のワードを取得"
   ]
  },
  {
   "cell_type": "code",
   "execution_count": 14,
   "metadata": {},
   "outputs": [
    {
     "data": {
      "text/plain": [
       "['wolfenstein',\n",
       " 'popolocrois',\n",
       " 'blade',\n",
       " 'shellshock',\n",
       " 'kuro',\n",
       " 'can',\n",
       " 'army',\n",
       " 'village',\n",
       " 'disc',\n",
       " 'vampire',\n",
       " 'continuum',\n",
       " 'rift',\n",
       " 'blazblue',\n",
       " 'backyard',\n",
       " 'travel',\n",
       " 'craze',\n",
       " 'deadly',\n",
       " 'cocoon',\n",
       " 'rebellion',\n",
       " 'featuring']"
      ]
     },
     "execution_count": 14,
     "metadata": {},
     "output_type": "execute_result"
    }
   ],
   "source": [
    "common_word_unique = list(set(train_word_list) & set(test_word_list))\n",
    "common_word_unique[:20]"
   ]
  },
  {
   "cell_type": "markdown",
   "metadata": {},
   "source": [
    "<br>\n",
    "\n",
    "testで数える"
   ]
  },
  {
   "cell_type": "code",
   "execution_count": 15,
   "metadata": {},
   "outputs": [
    {
     "data": {
      "text/html": [
       "\n",
       "    <div>\n",
       "        <style>\n",
       "            /* Turns off some styling */\n",
       "            progress {\n",
       "                /* gets rid of default border in Firefox and Opera. */\n",
       "                border: none;\n",
       "                /* Needs to be in here for Safari polyfill so background images work as expected. */\n",
       "                background-size: auto;\n",
       "            }\n",
       "            .progress-bar-interrupted, .progress-bar-interrupted::-webkit-progress-bar {\n",
       "                background: #F44336;\n",
       "            }\n",
       "        </style>\n",
       "      <progress value='2654' class='' max='2654' style='width:300px; height:20px; vertical-align: middle;'></progress>\n",
       "      100.00% [2654/2654 01:41<00:00]\n",
       "    </div>\n",
       "    "
      ],
      "text/plain": [
       "<IPython.core.display.HTML object>"
      ]
     },
     "metadata": {},
     "output_type": "display_data"
    },
    {
     "name": "stdout",
     "output_type": "stream",
     "text": [
      "CPU times: user 1min 41s, sys: 251 ms, total: 1min 41s\n",
      "Wall time: 1min 41s\n"
     ]
    }
   ],
   "source": [
    "%%time\n",
    "common_words_in_test = []\n",
    "for word in progress_bar(common_word_unique):\n",
    "    bools = []\n",
    "    for val in test.Name.values:\n",
    "        words = np.array(str(val).split(None))\n",
    "        bool_ = any(words == word)\n",
    "        bools.append(bool_)\n",
    "        \n",
    "        if bool_:\n",
    "            common_words_in_test.append(word)"
   ]
  },
  {
   "cell_type": "code",
   "execution_count": 16,
   "metadata": {},
   "outputs": [
    {
     "data": {
      "text/html": [
       "\n",
       "    <div>\n",
       "        <style>\n",
       "            /* Turns off some styling */\n",
       "            progress {\n",
       "                /* gets rid of default border in Firefox and Opera. */\n",
       "                border: none;\n",
       "                /* Needs to be in here for Safari polyfill so background images work as expected. */\n",
       "                background-size: auto;\n",
       "            }\n",
       "            .progress-bar-interrupted, .progress-bar-interrupted::-webkit-progress-bar {\n",
       "                background: #F44336;\n",
       "            }\n",
       "        </style>\n",
       "      <progress value='2654' class='' max='2654' style='width:300px; height:20px; vertical-align: middle;'></progress>\n",
       "      100.00% [2654/2654 01:42<00:00]\n",
       "    </div>\n",
       "    "
      ],
      "text/plain": [
       "<IPython.core.display.HTML object>"
      ]
     },
     "metadata": {},
     "output_type": "display_data"
    },
    {
     "name": "stdout",
     "output_type": "stream",
     "text": [
      "CPU times: user 1min 42s, sys: 92 ms, total: 1min 42s\n",
      "Wall time: 1min 42s\n"
     ]
    }
   ],
   "source": [
    "%%time\n",
    "common_words_in_train = []\n",
    "for word in progress_bar(common_word_unique):\n",
    "    bools = []\n",
    "    for val in train.Name.values:\n",
    "        words = np.array(str(val).split(None))\n",
    "        bool_ = any(words == word)\n",
    "        bools.append(bool_)\n",
    "        \n",
    "        if bool_:\n",
    "            common_words_in_train.append(word)"
   ]
  },
  {
   "cell_type": "markdown",
   "metadata": {},
   "source": [
    "<br>\n",
    "\n",
    "trainの中の数を見る"
   ]
  },
  {
   "cell_type": "code",
   "execution_count": 17,
   "metadata": {},
   "outputs": [
    {
     "data": {
      "text/plain": [
       "of           821\n",
       "the          506\n",
       "2            428\n",
       "no           325\n",
       "&            208\n",
       "3            206\n",
       "-            134\n",
       "and          133\n",
       "to           121\n",
       "4             89\n",
       "vs.           86\n",
       "in            81\n",
       "5             44\n",
       "ni            41\n",
       "de            39\n",
       "/             35\n",
       "or            33\n",
       "1             33\n",
       "for           32\n",
       "6             28\n",
       "7             26\n",
       "o             26\n",
       "64            25\n",
       "at            23\n",
       "10            22\n",
       "2009          22\n",
       "on            22\n",
       "2010          22\n",
       "2001          22\n",
       "*             20\n",
       "2000          19\n",
       "a             19\n",
       "vs            18\n",
       "2008          18\n",
       "2004          17\n",
       "2002          17\n",
       "2006          16\n",
       "2003          14\n",
       "with          13\n",
       "8             13\n",
       "e             13\n",
       "2nd           13\n",
       "2011          12\n",
       "ga            12\n",
       "wa            12\n",
       "is            11\n",
       "featuring     11\n",
       "2007          10\n",
       "from           9\n",
       "2016           9\n",
       "dtype: int64"
      ]
     },
     "execution_count": 17,
     "metadata": {},
     "output_type": "execute_result"
    }
   ],
   "source": [
    "value_counts = pd.Series(common_words_in_train).value_counts(ascending=False)\n",
    "value_counts[:50]"
   ]
  },
  {
   "cell_type": "markdown",
   "metadata": {},
   "source": [
    "<br>\n",
    "\n",
    "testの中の数を見る"
   ]
  },
  {
   "cell_type": "code",
   "execution_count": 18,
   "metadata": {},
   "outputs": [
    {
     "data": {
      "text/plain": [
       "of      825\n",
       "2       433\n",
       "the     428\n",
       "no      290\n",
       "3       192\n",
       "&       141\n",
       "to      138\n",
       "for     131\n",
       "and     126\n",
       "-       110\n",
       "in       87\n",
       "4        70\n",
       "2002     58\n",
       "2000     45\n",
       "2005     43\n",
       "2004     41\n",
       "09       41\n",
       "08       39\n",
       "vs.      38\n",
       "2010     37\n",
       "07       37\n",
       "5        36\n",
       "/        36\n",
       "10       36\n",
       "2003     36\n",
       "06       35\n",
       "de       35\n",
       "1        31\n",
       "2011     31\n",
       "14       29\n",
       "2014     28\n",
       "13       27\n",
       "2012     27\n",
       "15       27\n",
       "a        27\n",
       "2001     25\n",
       "11       25\n",
       "12       24\n",
       "99       22\n",
       "2016     22\n",
       "64       22\n",
       "2015     22\n",
       "16       20\n",
       "with     19\n",
       "2008     18\n",
       "2009     18\n",
       "98       18\n",
       "ni       17\n",
       "or       17\n",
       "on       15\n",
       "dtype: int64"
      ]
     },
     "execution_count": 18,
     "metadata": {},
     "output_type": "execute_result"
    }
   ],
   "source": [
    "value_counts = pd.Series(common_words_in_test).value_counts(ascending=False)\n",
    "value_counts[:50]"
   ]
  },
  {
   "cell_type": "markdown",
   "metadata": {},
   "source": [
    "---> 全然使えないじゃん。  \n",
    "---> ボツ  \n",
    "---> name_has は微妙だけど、2010とか2008をカテゴリカルにするとよさそう(name_age)てきな  \n",
    "---> あと、1,2,3もいいな(name_ver)"
   ]
  },
  {
   "cell_type": "raw",
   "metadata": {},
   "source": [
    "\n",
    "\n",
    "\n",
    "\n",
    "\n",
    "\n",
    "\n",
    "\n",
    "\n",
    "\n",
    "\n",
    "\n",
    "\n",
    "\n",
    "\n",
    "\n",
    "\n",
    "\n",
    "\n",
    "\n",
    "\n",
    "\n",
    "\n",
    "\n",
    "\n",
    "\n",
    "\n",
    "\n",
    "\n",
    "\n",
    "\n",
    "\n",
    "\n",
    "\n",
    "\n",
    "\n",
    "\n",
    "\n"
   ]
  }
 ],
 "metadata": {
  "kernelspec": {
   "display_name": "Python 3",
   "language": "python",
   "name": "python3"
  },
  "language_info": {
   "codemirror_mode": {
    "name": "ipython",
    "version": 3
   },
   "file_extension": ".py",
   "mimetype": "text/x-python",
   "name": "python",
   "nbconvert_exporter": "python",
   "pygments_lexer": "ipython3",
   "version": "3.6.10"
  }
 },
 "nbformat": 4,
 "nbformat_minor": 4
}
