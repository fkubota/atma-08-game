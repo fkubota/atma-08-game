{
 "cells": [
  {
   "cell_type": "markdown",
   "metadata": {},
   "source": [
    "# Overview\n",
    "- lightGBMのハイパラチューニング"
   ]
  },
  {
   "cell_type": "markdown",
   "metadata": {},
   "source": [
    "# Const"
   ]
  },
  {
   "cell_type": "code",
   "execution_count": 1,
   "metadata": {},
   "outputs": [],
   "source": [
    "NB = '009'\n",
    "N_SPLITS = 5\n",
    "SHOW_LOG = False\n",
    "\n",
    "\n",
    "PATH_TRAIN = './../data/official/train.csv'\n",
    "PATH_TEST = './../data/official/test.csv'\n",
    "PATH_SAMPLE_SUBMITTION = './../data/official/atmaCup8_sample-submission.csv'\n",
    "SAVE_DIR = f'../data/output_nb/nb{NB}/'\n",
    "\n",
    "feat_train_only = ['JP_Sales', 'Global_Sales', 'NA_Sales', 'Other_Sales', 'EU_Sales']\n",
    "feat_common = ['Name', 'Platform', 'Year_of_Release', 'Genre', 'Publisher',\n",
    "           'Critic_Score', 'Critic_Count', 'User_Score', 'User_Count', 'Developer',\n",
    "           'Rating']\n",
    "feat_string = ['Platform', 'Genre', 'Publisher', 'Developer', 'Rating']"
   ]
  },
  {
   "cell_type": "markdown",
   "metadata": {},
   "source": [
    "# Import everything I need :)"
   ]
  },
  {
   "cell_type": "code",
   "execution_count": 2,
   "metadata": {},
   "outputs": [],
   "source": [
    "import os\n",
    "import time\n",
    "import optuna\n",
    "import numpy as np\n",
    "import pandas as pd\n",
    "import matplotlib.pyplot as plt\n",
    "\n",
    "from lightgbm import LGBMRegressor \n",
    "\n",
    "from sklearn.preprocessing import LabelEncoder\n",
    "from sklearn.metrics import mean_squared_log_error\n",
    "from sklearn.model_selection import train_test_split, KFold\n",
    "\n",
    "import warnings\n",
    "warnings.filterwarnings('ignore')"
   ]
  },
  {
   "cell_type": "markdown",
   "metadata": {},
   "source": [
    "# My function"
   ]
  },
  {
   "cell_type": "code",
   "execution_count": 3,
   "metadata": {},
   "outputs": [],
   "source": [
    "def metric(y_true, y_pred):\n",
    "    return mean_squared_log_error(y_true, y_pred) ** .5\n",
    "\n",
    "def preprocess_User_Score(df):\n",
    "    '''\n",
    "    - tbdをnanにする\n",
    "    - stringをfloatにする\n",
    "    '''\n",
    "    mask = df.User_Score.values == 'tbd'\n",
    "    df.User_Score[mask] = np.nan\n",
    "    df.User_Score = df.User_Score.values.astype(float)\n",
    "    return df\n",
    "\n",
    "def string_encode(df, cols):\n",
    "    '''\n",
    "    - np.nanがあれば、'nan'に置き換える\n",
    "    - label encodingする\n",
    "    '''\n",
    "    df[cols] = df[cols].replace(np.nan, 'nan')\n",
    "    for col in cols:\n",
    "        le = LabelEncoder()\n",
    "        df[col] = le.fit_transform(df[col])\n",
    "    return df\n",
    "\n",
    "def df_preprocessing(df, string_cols):\n",
    "    df = preprocess_User_Score(df)\n",
    "    df = string_encode(df, string_cols)\n",
    "    return df"
   ]
  },
  {
   "cell_type": "code",
   "execution_count": 14,
   "metadata": {},
   "outputs": [],
   "source": [
    "def run_fold_lgbm(_X_trn, _y_trn, _X_val, _y_val, _X_te, model_config, show_log=True):\n",
    "    FEAT_STRING = ['Platform', 'Genre', 'Publisher', 'Developer', 'Rating']\n",
    "    \n",
    "    # train\n",
    "    model = LGBMRegressor(**model_config)\n",
    "    model.fit(_X_trn, _y_trn.values[:, 0], categorical_feature=FEAT_STRING)\n",
    "    \n",
    "    # predict\n",
    "    y_trn_pred = model.predict(_X_trn)\n",
    "    y_val_pred = model.predict(_X_val)\n",
    "    _y_test_pred = model.predict(_X_te)\n",
    "    \n",
    "    # postprocessiing\n",
    "    y_trn_pred[y_trn_pred <= 1] = 1\n",
    "    y_val_pred[y_val_pred <= 1] = 1\n",
    "    \n",
    "    if show_log:\n",
    "        print(show_log)\n",
    "        print(f'score train: {metric(_y_trn, y_trn_pred):.5f}')\n",
    "        print(f'score valid: {metric(_y_val, y_val_pred):.5f}')\n",
    "        print('')\n",
    "    \n",
    "    return y_trn_pred, y_val_pred, _y_test_pred\n",
    "\n",
    "def run(X, y, X_te, splitter, use_col, model_config, show_log=True):\n",
    "    print(f'use_col: {use_col}\\n') if show_log else None\n",
    "\n",
    "    oof = np.zeros(len(X))\n",
    "    y_test_pred = np.zeros(len(X_te))\n",
    "    for fold_i, (idx_trn, idx_val) in enumerate(splitter.split(X)):\n",
    "        if show_log:\n",
    "            print(f'::Fold {fold_i+1}/{N_SPLITS} start at {time.ctime()}::')\n",
    "        X_trn, X_val = X.iloc[idx_trn, :], X.iloc[idx_val, :]\n",
    "        y_trn, y_val = y.iloc[idx_trn], y.iloc[idx_val]\n",
    "        X_trn = pd.DataFrame(X_trn, columns=X.columns)\n",
    "        X_val = pd.DataFrame(X_val, columns=X.columns)\n",
    "\n",
    "    #     # train\n",
    "        y_trn_pred, y_val_pred, _y_test_pred = run_fold_lgbm(X_trn, y_trn, X_val, y_val, \n",
    "                                                             X_te, model_config, show_log=show_log)\n",
    "\n",
    "        # result\n",
    "        oof[idx_val] = y_val_pred\n",
    "        y_test_pred += _y_test_pred / N_SPLITS\n",
    "\n",
    "\n",
    "    y_test_pred[y_test_pred <= 1] = 1\n",
    "    return oof, y_test_pred"
   ]
  },
  {
   "cell_type": "markdown",
   "metadata": {},
   "source": [
    "# Preparation"
   ]
  },
  {
   "cell_type": "markdown",
   "metadata": {},
   "source": [
    "set"
   ]
  },
  {
   "cell_type": "code",
   "execution_count": 5,
   "metadata": {},
   "outputs": [],
   "source": [
    "if not os.path.exists(SAVE_DIR):\n",
    "    os.makedirs(SAVE_DIR)"
   ]
  },
  {
   "cell_type": "markdown",
   "metadata": {},
   "source": [
    "<br>\n",
    "\n",
    "load dataset"
   ]
  },
  {
   "cell_type": "code",
   "execution_count": 6,
   "metadata": {},
   "outputs": [],
   "source": [
    "train = pd.read_csv(PATH_TRAIN)\n",
    "test = pd.read_csv(PATH_TEST)\n",
    "ss = pd.read_csv(PATH_SAMPLE_SUBMITTION)"
   ]
  },
  {
   "cell_type": "markdown",
   "metadata": {},
   "source": [
    "<br>\n",
    "\n",
    "preprocess"
   ]
  },
  {
   "cell_type": "code",
   "execution_count": 7,
   "metadata": {},
   "outputs": [],
   "source": [
    "train = df_preprocessing(train, feat_string)\n",
    "test = df_preprocessing(test, feat_string)"
   ]
  },
  {
   "cell_type": "code",
   "execution_count": 8,
   "metadata": {},
   "outputs": [
    {
     "data": {
      "text/plain": [
       "['Platform',\n",
       " 'Year_of_Release',\n",
       " 'Genre',\n",
       " 'Publisher',\n",
       " 'Critic_Score',\n",
       " 'Critic_Count',\n",
       " 'User_Score',\n",
       " 'User_Count',\n",
       " 'Developer',\n",
       " 'Rating']"
      ]
     },
     "execution_count": 8,
     "metadata": {},
     "output_type": "execute_result"
    }
   ],
   "source": [
    "mask = test.columns != 'Name'\n",
    "use_col = test.columns[mask].tolist()\n",
    "use_col"
   ]
  },
  {
   "cell_type": "code",
   "execution_count": 9,
   "metadata": {},
   "outputs": [],
   "source": [
    "X = train[use_col].copy()\n",
    "y = train[['Global_Sales']].copy()\n",
    "X_te = test[use_col].copy()"
   ]
  },
  {
   "cell_type": "markdown",
   "metadata": {},
   "source": [
    "# Create Model"
   ]
  },
  {
   "cell_type": "markdown",
   "metadata": {},
   "source": [
    "# Tuning"
   ]
  },
  {
   "cell_type": "code",
   "execution_count": 10,
   "metadata": {},
   "outputs": [],
   "source": [
    "splitter = KFold(n_splits=N_SPLITS, shuffle=True, random_state=2020)"
   ]
  },
  {
   "cell_type": "code",
   "execution_count": 11,
   "metadata": {},
   "outputs": [],
   "source": [
    "model_config = {\n",
    "    'random_state': 2020,\n",
    "    'colsample_bytree': 0.7,\n",
    "}"
   ]
  },
  {
   "cell_type": "code",
   "execution_count": 12,
   "metadata": {},
   "outputs": [
    {
     "name": "stdout",
     "output_type": "stream",
     "text": [
      "oof score: 1.14436\n",
      "CPU times: user 5.74 s, sys: 17.2 ms, total: 5.75 s\n",
      "Wall time: 493 ms\n"
     ]
    }
   ],
   "source": [
    "%%time\n",
    "oof, y_test_pred = run(X, y, X_te, splitter, use_col, model_config, show_log=SHOW_LOG)\n",
    "print(f'oof score: {metric(y, oof):.5f}')"
   ]
  },
  {
   "cell_type": "code",
   "execution_count": null,
   "metadata": {},
   "outputs": [],
   "source": [
    "hyper_space = {'objective': 'regression',\n",
    "               'metric':'mae',\n",
    "               'boosting':'gbdt',\n",
    "               'max_depth':  hp.choice('max_depth', [5, 8, 10, 15]),\n",
    "               'num_leaves': hp.choice('num_leaves', [50, 100, 250]),\n",
    "               'subsample': hp.choice('subsample', [.3, .5, .7, 1]),\n",
    "               'subsample_freq': 1,\n",
    "               'colsample_bytree': hp.choice('colsample_bytree', [ .6, .8, 1]),\n",
    "               'learning_rate': hp.choice('learning_rate', [0.01, .1, .3]),\n",
    "               'reg_alpha': hp.choice('reg_alpha', [.1, .2, .4, .6]),\n",
    "               'reg_lambda':  hp.choice('reg_lambda', [.1, .2, .4, .6]),               \n",
    "               'min_child_samples': hp.choice('min_child_samples', [20, 45, 70, 100]),\n",
    "               'verbosity': -1,\n",
    "               'bagging_seed': 11,\n",
    "              }"
   ]
  },
  {
   "cell_type": "code",
   "execution_count": 22,
   "metadata": {},
   "outputs": [],
   "source": [
    "# 最小化したい関数\n",
    "def objective(trial):\n",
    "    print('')\n",
    "    params = {\n",
    "        'n_estimators': int(trial.suggest_int('n_estimators', 10, 800)),\n",
    "        'max_depth': trial.suggest_int('max_depth', 5, 300),\n",
    "        'subsample': trial.suggest_discrete_uniform('subsample', 0.1, 1.0, 0.1),\n",
    "        'colsample_bytree': trial.suggest_discrete_uniform('colsample_bytree', 0.1, 1.0, 0.1),\n",
    "        'learning_rate': trial.suggest_loguniform('learing_rate', 1e-3, 1e-1),\n",
    "        'reg_alpha': trial.suggest_discrete_uniform('reg_alpha', 1, 6, 1),\n",
    "        'reg_lambda': trial.suggest_discrete_uniform('reg_alpha', 1, 6, 1),\n",
    "        'min_child_samples': trial.suggest_int('min_child_samples', 10, 100),\n",
    "    }\n",
    "    oof, y_test_pred = run(X, y, X_te, splitter, use_col, params, show_log=SHOW_LOG)\n",
    "    return metric(y, oof)"
   ]
  },
  {
   "cell_type": "code",
   "execution_count": null,
   "metadata": {},
   "outputs": [
    {
     "name": "stdout",
     "output_type": "stream",
     "text": [
      "\n"
     ]
    },
    {
     "name": "stderr",
     "output_type": "stream",
     "text": [
      "\u001b[32m[I 2020-12-04 22:39:04,238]\u001b[0m Finished trial#0 with value: 1.3130807923262957 with parameters: {'n_estimators': 606, 'max_depth': 218, 'subsample': 0.8, 'colsample_bytree': 0.6, 'learing_rate': 0.07152738622558157, 'reg_alpha': 1.0, 'min_child_samples': 98}. Best is trial#0 with value: 1.3130807923262957.\u001b[0m\n"
     ]
    },
    {
     "name": "stdout",
     "output_type": "stream",
     "text": [
      "\n"
     ]
    },
    {
     "name": "stderr",
     "output_type": "stream",
     "text": [
      "\u001b[32m[I 2020-12-04 22:39:06,624]\u001b[0m Finished trial#1 with value: 1.4066813732065426 with parameters: {'n_estimators': 524, 'max_depth': 24, 'subsample': 0.7000000000000001, 'colsample_bytree': 0.7000000000000001, 'learing_rate': 0.002324221055558453, 'reg_alpha': 4.0, 'min_child_samples': 54}. Best is trial#0 with value: 1.3130807923262957.\u001b[0m\n"
     ]
    },
    {
     "name": "stdout",
     "output_type": "stream",
     "text": [
      "\n"
     ]
    },
    {
     "name": "stderr",
     "output_type": "stream",
     "text": [
      "\u001b[32m[I 2020-12-04 22:39:08,507]\u001b[0m Finished trial#2 with value: 1.268810195169164 with parameters: {'n_estimators': 412, 'max_depth': 189, 'subsample': 1.0, 'colsample_bytree': 0.6, 'learing_rate': 0.08319918228389797, 'reg_alpha': 4.0, 'min_child_samples': 36}. Best is trial#2 with value: 1.268810195169164.\u001b[0m\n"
     ]
    },
    {
     "name": "stdout",
     "output_type": "stream",
     "text": [
      "\n"
     ]
    },
    {
     "name": "stderr",
     "output_type": "stream",
     "text": [
      "\u001b[32m[I 2020-12-04 22:39:10,441]\u001b[0m Finished trial#3 with value: 1.457736972794275 with parameters: {'n_estimators': 492, 'max_depth': 255, 'subsample': 0.7000000000000001, 'colsample_bytree': 0.30000000000000004, 'learing_rate': 0.0028974540983993788, 'reg_alpha': 3.0, 'min_child_samples': 30}. Best is trial#2 with value: 1.268810195169164.\u001b[0m\n"
     ]
    },
    {
     "name": "stdout",
     "output_type": "stream",
     "text": [
      "\n"
     ]
    },
    {
     "name": "stderr",
     "output_type": "stream",
     "text": [
      "\u001b[32m[I 2020-12-04 22:39:14,227]\u001b[0m Finished trial#4 with value: 1.2854259198650588 with parameters: {'n_estimators': 778, 'max_depth': 71, 'subsample': 0.5, 'colsample_bytree': 0.6, 'learing_rate': 0.046818239343290075, 'reg_alpha': 1.0, 'min_child_samples': 88}. Best is trial#2 with value: 1.268810195169164.\u001b[0m\n"
     ]
    },
    {
     "name": "stdout",
     "output_type": "stream",
     "text": [
      "\n"
     ]
    },
    {
     "name": "stderr",
     "output_type": "stream",
     "text": [
      "\u001b[32m[I 2020-12-04 22:39:16,670]\u001b[0m Finished trial#5 with value: 1.3949027158958531 with parameters: {'n_estimators': 519, 'max_depth': 149, 'subsample': 1.0, 'colsample_bytree': 0.9, 'learing_rate': 0.0023283719074247396, 'reg_alpha': 4.0, 'min_child_samples': 54}. Best is trial#2 with value: 1.268810195169164.\u001b[0m\n"
     ]
    },
    {
     "name": "stdout",
     "output_type": "stream",
     "text": [
      "\n"
     ]
    },
    {
     "name": "stderr",
     "output_type": "stream",
     "text": [
      "\u001b[32m[I 2020-12-04 22:39:16,896]\u001b[0m Finished trial#6 with value: 1.2156085640301977 with parameters: {'n_estimators': 27, 'max_depth': 276, 'subsample': 0.30000000000000004, 'colsample_bytree': 0.4, 'learing_rate': 0.09721674825661362, 'reg_alpha': 5.0, 'min_child_samples': 75}. Best is trial#6 with value: 1.2156085640301977.\u001b[0m\n"
     ]
    },
    {
     "name": "stdout",
     "output_type": "stream",
     "text": [
      "\n"
     ]
    },
    {
     "name": "stderr",
     "output_type": "stream",
     "text": [
      "\u001b[32m[I 2020-12-04 22:39:18,302]\u001b[0m Finished trial#7 with value: 1.2334236528112363 with parameters: {'n_estimators': 282, 'max_depth': 138, 'subsample': 0.4, 'colsample_bytree': 0.6, 'learing_rate': 0.06383050776508989, 'reg_alpha': 4.0, 'min_child_samples': 85}. Best is trial#6 with value: 1.2156085640301977.\u001b[0m\n",
      "\u001b[32m[I 2020-12-04 22:39:18,464]\u001b[0m Finished trial#8 with value: 1.7451495738540053 with parameters: {'n_estimators': 17, 'max_depth': 12, 'subsample': 0.2, 'colsample_bytree': 0.1, 'learing_rate': 0.007851716781506026, 'reg_alpha': 5.0, 'min_child_samples': 33}. Best is trial#6 with value: 1.2156085640301977.\u001b[0m\n"
     ]
    },
    {
     "name": "stdout",
     "output_type": "stream",
     "text": [
      "\n",
      "\n"
     ]
    },
    {
     "name": "stderr",
     "output_type": "stream",
     "text": [
      "\u001b[32m[I 2020-12-04 22:39:20,790]\u001b[0m Finished trial#9 with value: 1.1703908859695558 with parameters: {'n_estimators': 447, 'max_depth': 105, 'subsample': 0.5, 'colsample_bytree': 1.0, 'learing_rate': 0.027362767762676182, 'reg_alpha': 3.0, 'min_child_samples': 94}. Best is trial#9 with value: 1.1703908859695558.\u001b[0m\n"
     ]
    },
    {
     "name": "stdout",
     "output_type": "stream",
     "text": [
      "\n"
     ]
    },
    {
     "name": "stderr",
     "output_type": "stream",
     "text": [
      "\u001b[32m[I 2020-12-04 22:39:21,915]\u001b[0m Finished trial#10 with value: 1.1188774909399164 with parameters: {'n_estimators': 225, 'max_depth': 95, 'subsample': 0.1, 'colsample_bytree': 1.0, 'learing_rate': 0.019570673395568006, 'reg_alpha': 2.0, 'min_child_samples': 14}. Best is trial#10 with value: 1.1188774909399164.\u001b[0m\n"
     ]
    },
    {
     "name": "stdout",
     "output_type": "stream",
     "text": [
      "\n"
     ]
    },
    {
     "name": "stderr",
     "output_type": "stream",
     "text": [
      "\u001b[32m[I 2020-12-04 22:39:23,017]\u001b[0m Finished trial#11 with value: 1.1156835584401432 with parameters: {'n_estimators': 222, 'max_depth': 94, 'subsample': 0.1, 'colsample_bytree': 1.0, 'learing_rate': 0.022817270351537574, 'reg_alpha': 2.0, 'min_child_samples': 12}. Best is trial#11 with value: 1.1156835584401432.\u001b[0m\n"
     ]
    },
    {
     "name": "stdout",
     "output_type": "stream",
     "text": [
      "\n"
     ]
    },
    {
     "name": "stderr",
     "output_type": "stream",
     "text": [
      "\u001b[32m[I 2020-12-04 22:39:24,028]\u001b[0m Finished trial#12 with value: 1.1864564904055925 with parameters: {'n_estimators': 209, 'max_depth': 68, 'subsample': 0.1, 'colsample_bytree': 0.9, 'learing_rate': 0.014443530340906813, 'reg_alpha': 2.0, 'min_child_samples': 11}. Best is trial#11 with value: 1.1156835584401432.\u001b[0m\n"
     ]
    },
    {
     "name": "stdout",
     "output_type": "stream",
     "text": [
      "\n"
     ]
    },
    {
     "name": "stderr",
     "output_type": "stream",
     "text": [
      "\u001b[32m[I 2020-12-04 22:39:24,945]\u001b[0m Finished trial#13 with value: 1.2948519279574608 with parameters: {'n_estimators': 186, 'max_depth': 81, 'subsample': 0.1, 'colsample_bytree': 1.0, 'learing_rate': 0.01043475207730326, 'reg_alpha': 2.0, 'min_child_samples': 10}. Best is trial#11 with value: 1.1156835584401432.\u001b[0m\n"
     ]
    },
    {
     "name": "stdout",
     "output_type": "stream",
     "text": [
      "\n"
     ]
    },
    {
     "name": "stderr",
     "output_type": "stream",
     "text": [
      "\u001b[32m[I 2020-12-04 22:39:26,352]\u001b[0m Finished trial#14 with value: 1.0971367716175793 with parameters: {'n_estimators': 292, 'max_depth': 114, 'subsample': 0.1, 'colsample_bytree': 0.8, 'learing_rate': 0.02617639067143891, 'reg_alpha': 2.0, 'min_child_samples': 20}. Best is trial#14 with value: 1.0971367716175793.\u001b[0m\n"
     ]
    },
    {
     "name": "stdout",
     "output_type": "stream",
     "text": [
      "\n"
     ]
    },
    {
     "name": "stderr",
     "output_type": "stream",
     "text": [
      "\u001b[32m[I 2020-12-04 22:39:27,859]\u001b[0m Finished trial#15 with value: 1.3136589524593976 with parameters: {'n_estimators': 326, 'max_depth': 182, 'subsample': 0.30000000000000004, 'colsample_bytree': 0.8, 'learing_rate': 0.005193964265138836, 'reg_alpha': 1.0, 'min_child_samples': 22}. Best is trial#14 with value: 1.0971367716175793.\u001b[0m\n"
     ]
    },
    {
     "name": "stdout",
     "output_type": "stream",
     "text": [
      "\n"
     ]
    },
    {
     "name": "stderr",
     "output_type": "stream",
     "text": [
      "\u001b[32m[I 2020-12-04 22:39:28,343]\u001b[0m Finished trial#16 with value: 1.168910712658995 with parameters: {'n_estimators': 85, 'max_depth': 39, 'subsample': 0.2, 'colsample_bytree': 0.8, 'learing_rate': 0.03253991629006041, 'reg_alpha': 2.0, 'min_child_samples': 42}. Best is trial#14 with value: 1.0971367716175793.\u001b[0m\n"
     ]
    },
    {
     "name": "stdout",
     "output_type": "stream",
     "text": [
      "\n"
     ]
    },
    {
     "name": "stderr",
     "output_type": "stream",
     "text": [
      "\u001b[32m[I 2020-12-04 22:39:29,868]\u001b[0m Finished trial#17 with value: 1.6267610166349102 with parameters: {'n_estimators': 340, 'max_depth': 128, 'subsample': 0.30000000000000004, 'colsample_bytree': 0.8, 'learing_rate': 0.0011845978556077798, 'reg_alpha': 3.0, 'min_child_samples': 21}. Best is trial#14 with value: 1.0971367716175793.\u001b[0m\n"
     ]
    },
    {
     "name": "stdout",
     "output_type": "stream",
     "text": [
      "\n"
     ]
    },
    {
     "name": "stderr",
     "output_type": "stream",
     "text": [
      "\u001b[32m[I 2020-12-04 22:39:30,516]\u001b[0m Finished trial#18 with value: 1.105070592271721 with parameters: {'n_estimators': 118, 'max_depth': 45, 'subsample': 0.2, 'colsample_bytree': 0.9, 'learing_rate': 0.03497508897799788, 'reg_alpha': 6.0, 'min_child_samples': 46}. Best is trial#14 with value: 1.0971367716175793.\u001b[0m\n"
     ]
    },
    {
     "name": "stdout",
     "output_type": "stream",
     "text": [
      "\n"
     ]
    },
    {
     "name": "stderr",
     "output_type": "stream",
     "text": [
      "\u001b[32m[I 2020-12-04 22:39:31,241]\u001b[0m Finished trial#19 with value: 1.1615659648613805 with parameters: {'n_estimators': 147, 'max_depth': 44, 'subsample': 0.2, 'colsample_bytree': 0.4, 'learing_rate': 0.035461243282914286, 'reg_alpha': 6.0, 'min_child_samples': 65}. Best is trial#14 with value: 1.0971367716175793.\u001b[0m\n"
     ]
    },
    {
     "name": "stdout",
     "output_type": "stream",
     "text": [
      "\n"
     ]
    },
    {
     "name": "stderr",
     "output_type": "stream",
     "text": [
      "\u001b[32m[I 2020-12-04 22:39:31,906]\u001b[0m Finished trial#20 with value: 1.2850088874396173 with parameters: {'n_estimators': 124, 'max_depth': 175, 'subsample': 0.6, 'colsample_bytree': 0.9, 'learing_rate': 0.014303686580364062, 'reg_alpha': 6.0, 'min_child_samples': 46}. Best is trial#14 with value: 1.0971367716175793.\u001b[0m\n"
     ]
    },
    {
     "name": "stdout",
     "output_type": "stream",
     "text": [
      "\n"
     ]
    },
    {
     "name": "stderr",
     "output_type": "stream",
     "text": [
      "\u001b[32m[I 2020-12-04 22:39:33,283]\u001b[0m Finished trial#21 with value: 1.091920312672475 with parameters: {'n_estimators': 269, 'max_depth': 114, 'subsample': 0.1, 'colsample_bytree': 0.9, 'learing_rate': 0.021566023876995938, 'reg_alpha': 2.0, 'min_child_samples': 23}. Best is trial#21 with value: 1.091920312672475.\u001b[0m\n"
     ]
    },
    {
     "name": "stdout",
     "output_type": "stream",
     "text": [
      "\n"
     ]
    },
    {
     "name": "stderr",
     "output_type": "stream",
     "text": [
      "\u001b[32m[I 2020-12-04 22:39:34,665]\u001b[0m Finished trial#22 with value: 1.1382426252653008 with parameters: {'n_estimators': 286, 'max_depth': 117, 'subsample': 0.2, 'colsample_bytree': 0.7000000000000001, 'learing_rate': 0.04605852801888346, 'reg_alpha': 1.0, 'min_child_samples': 22}. Best is trial#21 with value: 1.091920312672475.\u001b[0m\n"
     ]
    },
    {
     "name": "stdout",
     "output_type": "stream",
     "text": [
      "\n"
     ]
    },
    {
     "name": "stderr",
     "output_type": "stream",
     "text": [
      "\u001b[32m[I 2020-12-04 22:39:35,116]\u001b[0m Finished trial#23 with value: 1.3638934178867577 with parameters: {'n_estimators': 76, 'max_depth': 55, 'subsample': 0.4, 'colsample_bytree': 0.9, 'learing_rate': 0.017666456712846463, 'reg_alpha': 3.0, 'min_child_samples': 45}. Best is trial#21 with value: 1.091920312672475.\u001b[0m\n"
     ]
    },
    {
     "name": "stdout",
     "output_type": "stream",
     "text": [
      "\n"
     ]
    },
    {
     "name": "stderr",
     "output_type": "stream",
     "text": [
      "\u001b[32m[I 2020-12-04 22:39:37,071]\u001b[0m Finished trial#24 with value: 1.2006210694666994 with parameters: {'n_estimators': 372, 'max_depth': 150, 'subsample': 0.1, 'colsample_bytree': 0.7000000000000001, 'learing_rate': 0.04742630257497662, 'reg_alpha': 5.0, 'min_child_samples': 63}. Best is trial#21 with value: 1.091920312672475.\u001b[0m\n"
     ]
    },
    {
     "name": "stdout",
     "output_type": "stream",
     "text": [
      "\n"
     ]
    },
    {
     "name": "stderr",
     "output_type": "stream",
     "text": [
      "\u001b[32m[I 2020-12-04 22:39:38,355]\u001b[0m Finished trial#25 with value: 1.2572112698894213 with parameters: {'n_estimators': 270, 'max_depth': 116, 'subsample': 0.30000000000000004, 'colsample_bytree': 0.8, 'learing_rate': 0.007581955164168946, 'reg_alpha': 2.0, 'min_child_samples': 26}. Best is trial#21 with value: 1.091920312672475.\u001b[0m\n"
     ]
    },
    {
     "name": "stdout",
     "output_type": "stream",
     "text": [
      "\n"
     ]
    },
    {
     "name": "stderr",
     "output_type": "stream",
     "text": [
      "\u001b[32m[I 2020-12-04 22:39:38,798]\u001b[0m Finished trial#26 with value: 1.1636273341495773 with parameters: {'n_estimators': 140, 'max_depth': 5, 'subsample': 0.2, 'colsample_bytree': 0.9, 'learing_rate': 0.027267768849916857, 'reg_alpha': 3.0, 'min_child_samples': 40}. Best is trial#21 with value: 1.091920312672475.\u001b[0m\n"
     ]
    },
    {
     "name": "stdout",
     "output_type": "stream",
     "text": [
      "\n"
     ]
    },
    {
     "name": "stderr",
     "output_type": "stream",
     "text": [
      "\u001b[32m[I 2020-12-04 22:39:40,348]\u001b[0m Finished trial#27 with value: 1.1049868707754549 with parameters: {'n_estimators': 323, 'max_depth': 225, 'subsample': 0.4, 'colsample_bytree': 0.8, 'learing_rate': 0.013243457223027829, 'reg_alpha': 1.0, 'min_child_samples': 30}. Best is trial#21 with value: 1.091920312672475.\u001b[0m\n"
     ]
    },
    {
     "name": "stdout",
     "output_type": "stream",
     "text": [
      "\n"
     ]
    },
    {
     "name": "stderr",
     "output_type": "stream",
     "text": [
      "\u001b[32m[I 2020-12-04 22:39:42,313]\u001b[0m Finished trial#28 with value: 1.105663010258805 with parameters: {'n_estimators': 424, 'max_depth': 225, 'subsample': 0.4, 'colsample_bytree': 0.7000000000000001, 'learing_rate': 0.011177916402705927, 'reg_alpha': 1.0, 'min_child_samples': 17}. Best is trial#21 with value: 1.091920312672475.\u001b[0m\n"
     ]
    },
    {
     "name": "stdout",
     "output_type": "stream",
     "text": [
      "\n"
     ]
    },
    {
     "name": "stderr",
     "output_type": "stream",
     "text": [
      "\u001b[32m[I 2020-12-04 22:39:45,034]\u001b[0m Finished trial#29 with value: 1.1593710698587578 with parameters: {'n_estimators': 615, 'max_depth': 213, 'subsample': 0.8, 'colsample_bytree': 0.5, 'learing_rate': 0.005303559282609956, 'reg_alpha': 1.0, 'min_child_samples': 29}. Best is trial#21 with value: 1.091920312672475.\u001b[0m\n"
     ]
    },
    {
     "name": "stdout",
     "output_type": "stream",
     "text": [
      "\n"
     ]
    },
    {
     "name": "stderr",
     "output_type": "stream",
     "text": [
      "\u001b[32m[I 2020-12-04 22:39:47,900]\u001b[0m Finished trial#30 with value: 1.0986297647781005 with parameters: {'n_estimators': 605, 'max_depth': 243, 'subsample': 0.9, 'colsample_bytree': 0.8, 'learing_rate': 0.013695683792829353, 'reg_alpha': 1.0, 'min_child_samples': 19}. Best is trial#21 with value: 1.091920312672475.\u001b[0m\n"
     ]
    },
    {
     "name": "stdout",
     "output_type": "stream",
     "text": [
      "\n"
     ]
    },
    {
     "name": "stderr",
     "output_type": "stream",
     "text": [
      "\u001b[32m[I 2020-12-04 22:39:51,298]\u001b[0m Finished trial#31 with value: 1.1173585590748811 with parameters: {'n_estimators': 704, 'max_depth': 290, 'subsample': 0.9, 'colsample_bytree': 0.8, 'learing_rate': 0.013870322824882453, 'reg_alpha': 1.0, 'min_child_samples': 25}. Best is trial#21 with value: 1.091920312672475.\u001b[0m\n"
     ]
    },
    {
     "name": "stdout",
     "output_type": "stream",
     "text": [
      "\n"
     ]
    },
    {
     "name": "stderr",
     "output_type": "stream",
     "text": [
      "\u001b[32m[I 2020-12-04 22:39:54,027]\u001b[0m Finished trial#32 with value: 1.1114609007121812 with parameters: {'n_estimators': 591, 'max_depth': 228, 'subsample': 0.6, 'colsample_bytree': 0.7000000000000001, 'learing_rate': 0.007639533401108696, 'reg_alpha': 2.0, 'min_child_samples': 17}. Best is trial#21 with value: 1.091920312672475.\u001b[0m\n"
     ]
    },
    {
     "name": "stdout",
     "output_type": "stream",
     "text": [
      "\n"
     ]
    },
    {
     "name": "stderr",
     "output_type": "stream",
     "text": [
      "\u001b[32m[I 2020-12-04 22:39:55,851]\u001b[0m Finished trial#33 with value: 1.1070169491079336 with parameters: {'n_estimators': 371, 'max_depth': 255, 'subsample': 0.8, 'colsample_bytree': 0.8, 'learing_rate': 0.02034354950109093, 'reg_alpha': 1.0, 'min_child_samples': 35}. Best is trial#21 with value: 1.091920312672475.\u001b[0m\n"
     ]
    },
    {
     "name": "stdout",
     "output_type": "stream",
     "text": [
      "\n"
     ]
    },
    {
     "name": "stderr",
     "output_type": "stream",
     "text": [
      "\u001b[32m[I 2020-12-04 22:39:58,064]\u001b[0m Finished trial#34 with value: 1.0967206984062117 with parameters: {'n_estimators': 475, 'max_depth': 201, 'subsample': 0.9, 'colsample_bytree': 0.7000000000000001, 'learing_rate': 0.016733664290290468, 'reg_alpha': 1.0, 'min_child_samples': 17}. Best is trial#21 with value: 1.091920312672475.\u001b[0m\n"
     ]
    },
    {
     "name": "stdout",
     "output_type": "stream",
     "text": [
      "\n"
     ]
    },
    {
     "name": "stderr",
     "output_type": "stream",
     "text": [
      "\u001b[32m[I 2020-12-04 22:40:00,173]\u001b[0m Finished trial#35 with value: 1.1314434208508237 with parameters: {'n_estimators': 489, 'max_depth': 191, 'subsample': 0.9, 'colsample_bytree': 0.5, 'learing_rate': 0.02432674508686482, 'reg_alpha': 2.0, 'min_child_samples': 15}. Best is trial#21 with value: 1.091920312672475.\u001b[0m\n"
     ]
    },
    {
     "name": "stdout",
     "output_type": "stream",
     "text": [
      "\n"
     ]
    },
    {
     "name": "stderr",
     "output_type": "stream",
     "text": [
      "\u001b[32m[I 2020-12-04 22:40:02,796]\u001b[0m Finished trial#36 with value: 1.2384938894355528 with parameters: {'n_estimators': 590, 'max_depth': 165, 'subsample': 1.0, 'colsample_bytree': 0.7000000000000001, 'learing_rate': 0.06581543140017959, 'reg_alpha': 1.0, 'min_child_samples': 19}. Best is trial#21 with value: 1.091920312672475.\u001b[0m\n"
     ]
    },
    {
     "name": "stdout",
     "output_type": "stream",
     "text": [
      "\n"
     ]
    },
    {
     "name": "stderr",
     "output_type": "stream",
     "text": [
      "\u001b[32m[I 2020-12-04 22:40:05,699]\u001b[0m Finished trial#37 with value: 1.1224845368901142 with parameters: {'n_estimators': 641, 'max_depth': 204, 'subsample': 0.9, 'colsample_bytree': 0.6, 'learing_rate': 0.01669075157815772, 'reg_alpha': 2.0, 'min_child_samples': 25}. Best is trial#21 with value: 1.091920312672475.\u001b[0m\n"
     ]
    },
    {
     "name": "stdout",
     "output_type": "stream",
     "text": [
      "\n"
     ]
    },
    {
     "name": "stderr",
     "output_type": "stream",
     "text": [
      "\u001b[32m[I 2020-12-04 22:40:08,444]\u001b[0m Finished trial#38 with value: 1.0953901663378076 with parameters: {'n_estimators': 556, 'max_depth': 244, 'subsample': 0.7000000000000001, 'colsample_bytree': 0.7000000000000001, 'learing_rate': 0.00929844494228492, 'reg_alpha': 1.0, 'min_child_samples': 36}. Best is trial#21 with value: 1.091920312672475.\u001b[0m\n"
     ]
    },
    {
     "name": "stdout",
     "output_type": "stream",
     "text": [
      "\n"
     ]
    },
    {
     "name": "stderr",
     "output_type": "stream",
     "text": [
      "\u001b[32m[I 2020-12-04 22:40:10,885]\u001b[0m Finished trial#39 with value: 1.1901358575763752 with parameters: {'n_estimators': 536, 'max_depth': 267, 'subsample': 0.7000000000000001, 'colsample_bytree': 0.6, 'learing_rate': 0.004975664413854508, 'reg_alpha': 3.0, 'min_child_samples': 52}. Best is trial#21 with value: 1.091920312672475.\u001b[0m\n"
     ]
    },
    {
     "name": "stdout",
     "output_type": "stream",
     "text": [
      "\n"
     ]
    },
    {
     "name": "stderr",
     "output_type": "stream",
     "text": [
      "\u001b[32m[I 2020-12-04 22:40:13,013]\u001b[0m Finished trial#40 with value: 1.132228180986749 with parameters: {'n_estimators': 474, 'max_depth': 164, 'subsample': 0.7000000000000001, 'colsample_bytree': 0.5, 'learing_rate': 0.008092458820765643, 'reg_alpha': 2.0, 'min_child_samples': 37}. Best is trial#21 with value: 1.091920312672475.\u001b[0m\n"
     ]
    },
    {
     "name": "stdout",
     "output_type": "stream",
     "text": [
      "\n"
     ]
    },
    {
     "name": "stderr",
     "output_type": "stream",
     "text": [
      "\u001b[32m[I 2020-12-04 22:40:16,413]\u001b[0m Finished trial#41 with value: 1.1078655751851179 with parameters: {'n_estimators': 718, 'max_depth': 244, 'subsample': 0.9, 'colsample_bytree': 0.7000000000000001, 'learing_rate': 0.010485369381521059, 'reg_alpha': 1.0, 'min_child_samples': 31}. Best is trial#21 with value: 1.091920312672475.\u001b[0m\n"
     ]
    },
    {
     "name": "stdout",
     "output_type": "stream",
     "text": [
      "\n"
     ]
    },
    {
     "name": "stderr",
     "output_type": "stream",
     "text": [
      "\u001b[32m[I 2020-12-04 22:40:19,391]\u001b[0m Finished trial#42 with value: 1.2335923592339948 with parameters: {'n_estimators': 664, 'max_depth': 241, 'subsample': 0.8, 'colsample_bytree': 0.6, 'learing_rate': 0.0035161404370289847, 'reg_alpha': 1.0, 'min_child_samples': 27}. Best is trial#21 with value: 1.091920312672475.\u001b[0m\n"
     ]
    },
    {
     "name": "stdout",
     "output_type": "stream",
     "text": [
      "\n"
     ]
    },
    {
     "name": "stderr",
     "output_type": "stream",
     "text": [
      "\u001b[32m[I 2020-12-04 22:40:21,955]\u001b[0m Finished trial#43 with value: 1.1000300958543339 with parameters: {'n_estimators': 530, 'max_depth': 202, 'subsample': 1.0, 'colsample_bytree': 0.9, 'learing_rate': 0.018538606981331703, 'reg_alpha': 1.0, 'min_child_samples': 11}. Best is trial#21 with value: 1.091920312672475.\u001b[0m\n"
     ]
    },
    {
     "name": "stdout",
     "output_type": "stream",
     "text": [
      "\n"
     ]
    },
    {
     "name": "stderr",
     "output_type": "stream",
     "text": [
      "\u001b[32m[I 2020-12-04 22:40:24,565]\u001b[0m Finished trial#44 with value: 1.1325544753698915 with parameters: {'n_estimators': 565, 'max_depth': 294, 'subsample': 0.8, 'colsample_bytree': 0.7000000000000001, 'learing_rate': 0.006485992675397953, 'reg_alpha': 2.0, 'min_child_samples': 20}. Best is trial#21 with value: 1.091920312672475.\u001b[0m\n"
     ]
    },
    {
     "name": "stdout",
     "output_type": "stream",
     "text": [
      "\n"
     ]
    },
    {
     "name": "stderr",
     "output_type": "stream",
     "text": [
      "\u001b[32m[I 2020-12-04 22:40:28,334]\u001b[0m Finished trial#45 with value: 1.1030154242461718 with parameters: {'n_estimators': 797, 'max_depth': 271, 'subsample': 0.7000000000000001, 'colsample_bytree': 0.8, 'learing_rate': 0.012172230725316265, 'reg_alpha': 1.0, 'min_child_samples': 15}. Best is trial#21 with value: 1.091920312672475.\u001b[0m\n"
     ]
    },
    {
     "name": "stdout",
     "output_type": "stream",
     "text": [
      "\n"
     ]
    },
    {
     "name": "stderr",
     "output_type": "stream",
     "text": [
      "\u001b[32m[I 2020-12-04 22:40:30,543]\u001b[0m Finished trial#46 with value: 1.117136387184149 with parameters: {'n_estimators': 436, 'max_depth': 239, 'subsample': 0.6, 'colsample_bytree': 1.0, 'learing_rate': 0.009339837375755314, 'reg_alpha': 2.0, 'min_child_samples': 35}. Best is trial#21 with value: 1.091920312672475.\u001b[0m\n"
     ]
    },
    {
     "name": "stdout",
     "output_type": "stream",
     "text": [
      "\n"
     ]
    },
    {
     "name": "stderr",
     "output_type": "stream",
     "text": [
      "\u001b[32m[I 2020-12-04 22:40:32,782]\u001b[0m Finished trial#47 with value: 1.116284163228258 with parameters: {'n_estimators': 471, 'max_depth': 137, 'subsample': 0.9, 'colsample_bytree': 0.9, 'learing_rate': 0.029041908683993308, 'reg_alpha': 3.0, 'min_child_samples': 10}. Best is trial#21 with value: 1.091920312672475.\u001b[0m\n"
     ]
    },
    {
     "name": "stdout",
     "output_type": "stream",
     "text": [
      "\n"
     ]
    },
    {
     "name": "stderr",
     "output_type": "stream",
     "text": [
      "\u001b[32m[I 2020-12-04 22:40:34,594]\u001b[0m Finished trial#48 with value: 1.173772149659212 with parameters: {'n_estimators': 394, 'max_depth': 95, 'subsample': 1.0, 'colsample_bytree': 0.6, 'learing_rate': 0.04495011593816442, 'reg_alpha': 1.0, 'min_child_samples': 24}. Best is trial#21 with value: 1.091920312672475.\u001b[0m\n"
     ]
    },
    {
     "name": "stdout",
     "output_type": "stream",
     "text": [
      "\n"
     ]
    },
    {
     "name": "stderr",
     "output_type": "stream",
     "text": [
      "\u001b[32m[I 2020-12-04 22:40:35,898]\u001b[0m Finished trial#49 with value: 1.0959803415752931 with parameters: {'n_estimators': 261, 'max_depth': 257, 'subsample': 0.5, 'colsample_bytree': 0.8, 'learing_rate': 0.02250942327734117, 'reg_alpha': 4.0, 'min_child_samples': 32}. Best is trial#21 with value: 1.091920312672475.\u001b[0m\n"
     ]
    },
    {
     "name": "stdout",
     "output_type": "stream",
     "text": [
      "\n"
     ]
    },
    {
     "name": "stderr",
     "output_type": "stream",
     "text": [
      "\u001b[32m[I 2020-12-04 22:40:36,927]\u001b[0m Finished trial#50 with value: 1.2467758563341793 with parameters: {'n_estimators': 268, 'max_depth': 81, 'subsample': 0.5, 'colsample_bytree': 0.2, 'learing_rate': 0.022889709579482578, 'reg_alpha': 4.0, 'min_child_samples': 50}. Best is trial#21 with value: 1.091920312672475.\u001b[0m\n"
     ]
    },
    {
     "name": "stdout",
     "output_type": "stream",
     "text": [
      "\n"
     ]
    },
    {
     "name": "stderr",
     "output_type": "stream",
     "text": [
      "\u001b[32m[I 2020-12-04 22:40:37,868]\u001b[0m Finished trial#51 with value: 1.1471844265171447 with parameters: {'n_estimators': 182, 'max_depth': 283, 'subsample': 0.8, 'colsample_bytree': 0.8, 'learing_rate': 0.016919378087503583, 'reg_alpha': 4.0, 'min_child_samples': 39}. Best is trial#21 with value: 1.091920312672475.\u001b[0m\n"
     ]
    },
    {
     "name": "stdout",
     "output_type": "stream",
     "text": [
      "\n"
     ]
    },
    {
     "name": "stderr",
     "output_type": "stream",
     "text": [
      "\u001b[32m[I 2020-12-04 22:40:39,062]\u001b[0m Finished trial#52 with value: 1.0943547530986126 with parameters: {'n_estimators': 241, 'max_depth': 266, 'subsample': 1.0, 'colsample_bytree': 0.8, 'learing_rate': 0.020874826388625412, 'reg_alpha': 4.0, 'min_child_samples': 33}. Best is trial#21 with value: 1.091920312672475.\u001b[0m\n"
     ]
    },
    {
     "name": "stdout",
     "output_type": "stream",
     "text": [
      "\n"
     ]
    },
    {
     "name": "stderr",
     "output_type": "stream",
     "text": [
      "\u001b[32m[I 2020-12-04 22:40:40,248]\u001b[0m Finished trial#53 with value: 1.1167222677485544 with parameters: {'n_estimators': 241, 'max_depth': 258, 'subsample': 1.0, 'colsample_bytree': 0.7000000000000001, 'learing_rate': 0.03858268394605524, 'reg_alpha': 4.0, 'min_child_samples': 32}. Best is trial#21 with value: 1.091920312672475.\u001b[0m\n"
     ]
    },
    {
     "name": "stdout",
     "output_type": "stream",
     "text": [
      "\n"
     ]
    },
    {
     "name": "stderr",
     "output_type": "stream",
     "text": [
      "\u001b[32m[I 2020-12-04 22:40:41,855]\u001b[0m Finished trial#54 with value: 1.1167709157187853 with parameters: {'n_estimators': 308, 'max_depth': 299, 'subsample': 0.7000000000000001, 'colsample_bytree': 0.9, 'learing_rate': 0.022233606788663863, 'reg_alpha': 4.0, 'min_child_samples': 59}. Best is trial#21 with value: 1.091920312672475.\u001b[0m\n"
     ]
    },
    {
     "name": "stdout",
     "output_type": "stream",
     "text": [
      "\n"
     ]
    },
    {
     "name": "stderr",
     "output_type": "stream",
     "text": [
      "\u001b[32m[I 2020-12-04 22:40:42,837]\u001b[0m Finished trial#55 with value: 1.1046799518764154 with parameters: {'n_estimators': 182, 'max_depth': 259, 'subsample': 0.5, 'colsample_bytree': 1.0, 'learing_rate': 0.027810647602981922, 'reg_alpha': 5.0, 'min_child_samples': 28}. Best is trial#21 with value: 1.091920312672475.\u001b[0m\n"
     ]
    },
    {
     "name": "stdout",
     "output_type": "stream",
     "text": [
      "\n"
     ]
    },
    {
     "name": "stderr",
     "output_type": "stream",
     "text": [
      "\u001b[32m[I 2020-12-04 22:40:44,071]\u001b[0m Finished trial#56 with value: 1.11465694939317 with parameters: {'n_estimators': 246, 'max_depth': 134, 'subsample': 0.6, 'colsample_bytree': 0.8, 'learing_rate': 0.015553144225123777, 'reg_alpha': 5.0, 'min_child_samples': 43}. Best is trial#21 with value: 1.091920312672475.\u001b[0m\n"
     ]
    },
    {
     "name": "stdout",
     "output_type": "stream",
     "text": [
      "\n"
     ]
    },
    {
     "name": "stderr",
     "output_type": "stream",
     "text": [
      "\u001b[32m[I 2020-12-04 22:40:45,737]\u001b[0m Finished trial#57 with value: 1.1238713457147596 with parameters: {'n_estimators': 342, 'max_depth': 107, 'subsample': 0.1, 'colsample_bytree': 0.7000000000000001, 'learing_rate': 0.03193578758685252, 'reg_alpha': 4.0, 'min_child_samples': 33}. Best is trial#21 with value: 1.091920312672475.\u001b[0m\n"
     ]
    },
    {
     "name": "stdout",
     "output_type": "stream",
     "text": [
      "\n"
     ]
    },
    {
     "name": "stderr",
     "output_type": "stream",
     "text": [
      "\u001b[32m[I 2020-12-04 22:40:46,787]\u001b[0m Finished trial#58 with value: 1.1183133327230206 with parameters: {'n_estimators': 206, 'max_depth': 126, 'subsample': 1.0, 'colsample_bytree': 0.9, 'learing_rate': 0.05409017449277043, 'reg_alpha': 3.0, 'min_child_samples': 23}. Best is trial#21 with value: 1.091920312672475.\u001b[0m\n"
     ]
    },
    {
     "name": "stdout",
     "output_type": "stream",
     "text": [
      "\n"
     ]
    },
    {
     "name": "stderr",
     "output_type": "stream",
     "text": [
      "\u001b[32m[I 2020-12-04 22:40:49,343]\u001b[0m Finished trial#59 with value: 1.2348289844493436 with parameters: {'n_estimators': 379, 'max_depth': 276, 'subsample': 0.1, 'colsample_bytree': 0.8, 'learing_rate': 0.08157259647603764, 'reg_alpha': 4.0, 'min_child_samples': 36}. Best is trial#21 with value: 1.091920312672475.\u001b[0m\n"
     ]
    },
    {
     "name": "stdout",
     "output_type": "stream",
     "text": [
      "\n"
     ]
    },
    {
     "name": "stderr",
     "output_type": "stream",
     "text": [
      "\u001b[32m[I 2020-12-04 22:40:50,598]\u001b[0m Finished trial#60 with value: 1.1421362543120628 with parameters: {'n_estimators': 250, 'max_depth': 159, 'subsample': 0.30000000000000004, 'colsample_bytree': 0.6, 'learing_rate': 0.03913656471349414, 'reg_alpha': 3.0, 'min_child_samples': 39}. Best is trial#21 with value: 1.091920312672475.\u001b[0m\n"
     ]
    },
    {
     "name": "stdout",
     "output_type": "stream",
     "text": [
      "\n"
     ]
    },
    {
     "name": "stderr",
     "output_type": "stream",
     "text": [
      "\u001b[32m[I 2020-12-04 22:40:52,079]\u001b[0m Finished trial#61 with value: 1.0919798597565795 with parameters: {'n_estimators': 305, 'max_depth': 248, 'subsample': 0.9, 'colsample_bytree': 0.8, 'learing_rate': 0.0194170180885423, 'reg_alpha': 4.0, 'min_child_samples': 19}. Best is trial#21 with value: 1.091920312672475.\u001b[0m\n"
     ]
    },
    {
     "name": "stdout",
     "output_type": "stream",
     "text": [
      "\n"
     ]
    },
    {
     "name": "stderr",
     "output_type": "stream",
     "text": [
      "\u001b[32m[I 2020-12-04 22:40:53,568]\u001b[0m Finished trial#62 with value: 1.0953869295514702 with parameters: {'n_estimators': 300, 'max_depth': 214, 'subsample': 0.9, 'colsample_bytree': 0.9, 'learing_rate': 0.020031507071576166, 'reg_alpha': 4.0, 'min_child_samples': 13}. Best is trial#21 with value: 1.091920312672475.\u001b[0m\n"
     ]
    },
    {
     "name": "stdout",
     "output_type": "stream",
     "text": [
      "\n"
     ]
    },
    {
     "name": "stderr",
     "output_type": "stream",
     "text": [
      "\u001b[32m[I 2020-12-04 22:40:55,038]\u001b[0m Finished trial#63 with value: 1.0961022850362034 with parameters: {'n_estimators': 294, 'max_depth': 216, 'subsample': 0.9, 'colsample_bytree': 0.9, 'learing_rate': 0.020742850112070537, 'reg_alpha': 4.0, 'min_child_samples': 14}. Best is trial#21 with value: 1.091920312672475.\u001b[0m\n"
     ]
    },
    {
     "name": "stdout",
     "output_type": "stream",
     "text": [
      "\n"
     ]
    },
    {
     "name": "stderr",
     "output_type": "stream",
     "text": [
      "\u001b[32m[I 2020-12-04 22:40:56,739]\u001b[0m Finished trial#64 with value: 1.1003556638497136 with parameters: {'n_estimators': 349, 'max_depth': 215, 'subsample': 1.0, 'colsample_bytree': 0.9, 'learing_rate': 0.019348934614950106, 'reg_alpha': 4.0, 'min_child_samples': 13}. Best is trial#21 with value: 1.091920312672475.\u001b[0m\n"
     ]
    },
    {
     "name": "stdout",
     "output_type": "stream",
     "text": [
      "\n"
     ]
    },
    {
     "name": "stderr",
     "output_type": "stream",
     "text": [
      "\u001b[32m[I 2020-12-04 22:40:58,272]\u001b[0m Finished trial#65 with value: 1.098375761879384 with parameters: {'n_estimators': 301, 'max_depth': 237, 'subsample': 0.9, 'colsample_bytree': 1.0, 'learing_rate': 0.022030113314729663, 'reg_alpha': 5.0, 'min_child_samples': 28}. Best is trial#21 with value: 1.091920312672475.\u001b[0m\n"
     ]
    },
    {
     "name": "stdout",
     "output_type": "stream",
     "text": [
      "\n"
     ]
    },
    {
     "name": "stderr",
     "output_type": "stream",
     "text": [
      "\u001b[32m[I 2020-12-04 22:40:59,363]\u001b[0m Finished trial#66 with value: 1.2023090425643361 with parameters: {'n_estimators': 209, 'max_depth': 254, 'subsample': 0.8, 'colsample_bytree': 0.9, 'learing_rate': 0.012104509886252066, 'reg_alpha': 4.0, 'min_child_samples': 22}. Best is trial#21 with value: 1.091920312672475.\u001b[0m\n"
     ]
    },
    {
     "name": "stdout",
     "output_type": "stream",
     "text": [
      "\n"
     ]
    },
    {
     "name": "stderr",
     "output_type": "stream",
     "text": [
      "\u001b[32m[I 2020-12-04 22:41:00,754]\u001b[0m Finished trial#67 with value: 1.1861737974743793 with parameters: {'n_estimators': 276, 'max_depth': 229, 'subsample': 0.9, 'colsample_bytree': 1.0, 'learing_rate': 0.008891865738740089, 'reg_alpha': 4.0, 'min_child_samples': 80}. Best is trial#21 with value: 1.091920312672475.\u001b[0m\n"
     ]
    },
    {
     "name": "stdout",
     "output_type": "stream",
     "text": [
      "\n"
     ]
    },
    {
     "name": "stderr",
     "output_type": "stream",
     "text": [
      "\u001b[32m[I 2020-12-04 22:41:01,604]\u001b[0m Finished trial#68 with value: 1.1173832984615641 with parameters: {'n_estimators': 164, 'max_depth': 283, 'subsample': 1.0, 'colsample_bytree': 0.9, 'learing_rate': 0.02518993131538916, 'reg_alpha': 5.0, 'min_child_samples': 15}. Best is trial#21 with value: 1.091920312672475.\u001b[0m\n"
     ]
    },
    {
     "name": "stdout",
     "output_type": "stream",
     "text": [
      "\n"
     ]
    },
    {
     "name": "stderr",
     "output_type": "stream",
     "text": [
      "\u001b[32m[I 2020-12-04 22:41:03,146]\u001b[0m Finished trial#69 with value: 1.0998267086040727 with parameters: {'n_estimators': 326, 'max_depth': 267, 'subsample': 0.9, 'colsample_bytree': 0.8, 'learing_rate': 0.031246120029881114, 'reg_alpha': 4.0, 'min_child_samples': 10}. Best is trial#21 with value: 1.091920312672475.\u001b[0m\n"
     ]
    },
    {
     "name": "stdout",
     "output_type": "stream",
     "text": [
      "\n"
     ]
    },
    {
     "name": "stderr",
     "output_type": "stream",
     "text": [
      "\u001b[32m[I 2020-12-04 22:41:04,431]\u001b[0m Finished trial#70 with value: 1.120156558194875 with parameters: {'n_estimators': 263, 'max_depth': 249, 'subsample': 0.8, 'colsample_bytree': 0.8, 'learing_rate': 0.01511098488432131, 'reg_alpha': 4.0, 'min_child_samples': 18}. Best is trial#21 with value: 1.091920312672475.\u001b[0m\n"
     ]
    },
    {
     "name": "stdout",
     "output_type": "stream",
     "text": [
      "\n"
     ]
    },
    {
     "name": "stderr",
     "output_type": "stream",
     "text": [
      "\u001b[32m[I 2020-12-04 22:41:06,560]\u001b[0m Finished trial#71 with value: 1.0952892982541054 with parameters: {'n_estimators': 404, 'max_depth': 188, 'subsample': 0.9, 'colsample_bytree': 0.9, 'learing_rate': 0.020174295657009105, 'reg_alpha': 4.0, 'min_child_samples': 13}. Best is trial#21 with value: 1.091920312672475.\u001b[0m\n"
     ]
    },
    {
     "name": "stdout",
     "output_type": "stream",
     "text": [
      "\n"
     ]
    },
    {
     "name": "stderr",
     "output_type": "stream",
     "text": [
      "\u001b[32m[I 2020-12-04 22:41:07,694]\u001b[0m Finished trial#72 with value: 1.1150992206073018 with parameters: {'n_estimators': 231, 'max_depth': 188, 'subsample': 0.9, 'colsample_bytree': 0.9, 'learing_rate': 0.020321808652362036, 'reg_alpha': 4.0, 'min_child_samples': 13}. Best is trial#21 with value: 1.091920312672475.\u001b[0m\n"
     ]
    },
    {
     "name": "stdout",
     "output_type": "stream",
     "text": [
      "\n"
     ]
    },
    {
     "name": "stderr",
     "output_type": "stream",
     "text": [
      "\u001b[32m[I 2020-12-04 22:41:09,732]\u001b[0m Finished trial#73 with value: 1.1144483325299015 with parameters: {'n_estimators': 399, 'max_depth': 177, 'subsample': 1.0, 'colsample_bytree': 1.0, 'learing_rate': 0.024316298966061405, 'reg_alpha': 4.0, 'min_child_samples': 21}. Best is trial#21 with value: 1.091920312672475.\u001b[0m\n"
     ]
    },
    {
     "name": "stdout",
     "output_type": "stream",
     "text": [
      "\n"
     ]
    },
    {
     "name": "stderr",
     "output_type": "stream",
     "text": [
      "\u001b[32m[I 2020-12-04 22:41:11,514]\u001b[0m Finished trial#74 with value: 1.102497488031517 with parameters: {'n_estimators': 357, 'max_depth': 211, 'subsample': 0.9, 'colsample_bytree': 0.9, 'learing_rate': 0.012625479120845981, 'reg_alpha': 5.0, 'min_child_samples': 25}. Best is trial#21 with value: 1.091920312672475.\u001b[0m\n"
     ]
    },
    {
     "name": "stdout",
     "output_type": "stream",
     "text": [
      "\n"
     ]
    },
    {
     "name": "stderr",
     "output_type": "stream",
     "text": [
      "\u001b[32m[I 2020-12-04 22:41:13,089]\u001b[0m Finished trial#75 with value: 1.0964039765267202 with parameters: {'n_estimators': 311, 'max_depth': 221, 'subsample': 0.8, 'colsample_bytree': 0.9, 'learing_rate': 0.01912804971006014, 'reg_alpha': 4.0, 'min_child_samples': 29}. Best is trial#21 with value: 1.091920312672475.\u001b[0m\n"
     ]
    },
    {
     "name": "stdout",
     "output_type": "stream",
     "text": [
      "\n"
     ]
    },
    {
     "name": "stderr",
     "output_type": "stream",
     "text": [
      "\u001b[32m[I 2020-12-04 22:41:14,525]\u001b[0m Finished trial#76 with value: 1.0995676425418603 with parameters: {'n_estimators': 289, 'max_depth': 233, 'subsample': 1.0, 'colsample_bytree': 0.8, 'learing_rate': 0.01520519035505994, 'reg_alpha': 4.0, 'min_child_samples': 33}. Best is trial#21 with value: 1.091920312672475.\u001b[0m\n"
     ]
    },
    {
     "name": "stdout",
     "output_type": "stream",
     "text": [
      "\n"
     ]
    },
    {
     "name": "stderr",
     "output_type": "stream",
     "text": [
      "\u001b[32m[I 2020-12-04 22:41:16,189]\u001b[0m Finished trial#77 with value: 1.107832475945193 with parameters: {'n_estimators': 330, 'max_depth': 190, 'subsample': 0.9, 'colsample_bytree': 1.0, 'learing_rate': 0.02826169191040913, 'reg_alpha': 3.0, 'min_child_samples': 16}. Best is trial#21 with value: 1.091920312672475.\u001b[0m\n"
     ]
    },
    {
     "name": "stdout",
     "output_type": "stream",
     "text": [
      "\n"
     ]
    },
    {
     "name": "stderr",
     "output_type": "stream",
     "text": [
      "\u001b[32m[I 2020-12-04 22:41:18,149]\u001b[0m Finished trial#78 with value: 1.1219821461959287 with parameters: {'n_estimators': 411, 'max_depth': 207, 'subsample': 0.8, 'colsample_bytree': 0.8, 'learing_rate': 0.035623585958143265, 'reg_alpha': 4.0, 'min_child_samples': 12}. Best is trial#21 with value: 1.091920312672475.\u001b[0m\n"
     ]
    },
    {
     "name": "stdout",
     "output_type": "stream",
     "text": [
      "\n"
     ]
    },
    {
     "name": "stderr",
     "output_type": "stream",
     "text": [
      "\u001b[32m[I 2020-12-04 22:41:19,202]\u001b[0m Finished trial#79 with value: 1.6778461090526866 with parameters: {'n_estimators': 223, 'max_depth': 195, 'subsample': 0.9, 'colsample_bytree': 0.8, 'learing_rate': 0.0011565297188410905, 'reg_alpha': 5.0, 'min_child_samples': 18}. Best is trial#21 with value: 1.091920312672475.\u001b[0m\n"
     ]
    },
    {
     "name": "stdout",
     "output_type": "stream",
     "text": [
      "\n"
     ]
    },
    {
     "name": "stderr",
     "output_type": "stream",
     "text": [
      "\u001b[32m[I 2020-12-04 22:41:21,023]\u001b[0m Finished trial#80 with value: 1.1173029650489599 with parameters: {'n_estimators': 363, 'max_depth': 220, 'subsample': 0.7000000000000001, 'colsample_bytree': 0.9, 'learing_rate': 0.010343485648823723, 'reg_alpha': 3.0, 'min_child_samples': 42}. Best is trial#21 with value: 1.091920312672475.\u001b[0m\n"
     ]
    },
    {
     "name": "stdout",
     "output_type": "stream",
     "text": [
      "\n"
     ]
    },
    {
     "name": "stderr",
     "output_type": "stream",
     "text": [
      "\u001b[32m[I 2020-12-04 22:41:22,652]\u001b[0m Finished trial#81 with value: 1.1249430220177743 with parameters: {'n_estimators': 311, 'max_depth': 221, 'subsample': 0.8, 'colsample_bytree': 0.9, 'learing_rate': 0.020671820128416996, 'reg_alpha': 4.0, 'min_child_samples': 100}. Best is trial#21 with value: 1.091920312672475.\u001b[0m\n"
     ]
    },
    {
     "name": "stdout",
     "output_type": "stream",
     "text": [
      "\n"
     ]
    },
    {
     "name": "stderr",
     "output_type": "stream",
     "text": [
      "\u001b[32m[I 2020-12-04 22:41:24,136]\u001b[0m Finished trial#82 with value: 1.0914636694678153 with parameters: {'n_estimators': 294, 'max_depth': 231, 'subsample': 0.8, 'colsample_bytree': 0.9, 'learing_rate': 0.01837644807730678, 'reg_alpha': 4.0, 'min_child_samples': 31}. Best is trial#82 with value: 1.0914636694678153.\u001b[0m\n"
     ]
    },
    {
     "name": "stdout",
     "output_type": "stream",
     "text": [
      "\n"
     ]
    },
    {
     "name": "stderr",
     "output_type": "stream",
     "text": [
      "\u001b[32m[I 2020-12-04 22:41:25,430]\u001b[0m Finished trial#83 with value: 1.1014234348986696 with parameters: {'n_estimators': 255, 'max_depth': 262, 'subsample': 0.8, 'colsample_bytree': 0.9, 'learing_rate': 0.017719475730533223, 'reg_alpha': 4.0, 'min_child_samples': 31}. Best is trial#82 with value: 1.0914636694678153.\u001b[0m\n"
     ]
    },
    {
     "name": "stdout",
     "output_type": "stream",
     "text": [
      "\n"
     ]
    },
    {
     "name": "stderr",
     "output_type": "stream",
     "text": [
      "\u001b[32m[I 2020-12-04 22:41:26,905]\u001b[0m Finished trial#84 with value: 1.0993248681724568 with parameters: {'n_estimators': 286, 'max_depth': 251, 'subsample': 0.7000000000000001, 'colsample_bytree': 1.0, 'learing_rate': 0.024393199159917386, 'reg_alpha': 4.0, 'min_child_samples': 26}. Best is trial#82 with value: 1.0914636694678153.\u001b[0m\n"
     ]
    },
    {
     "name": "stdout",
     "output_type": "stream",
     "text": [
      "\n"
     ]
    },
    {
     "name": "stderr",
     "output_type": "stream",
     "text": [
      "\u001b[32m[I 2020-12-04 22:41:27,961]\u001b[0m Finished trial#85 with value: 1.1258984377819037 with parameters: {'n_estimators': 208, 'max_depth': 247, 'subsample': 0.9, 'colsample_bytree': 0.8, 'learing_rate': 0.016630586720905064, 'reg_alpha': 4.0, 'min_child_samples': 48}. Best is trial#82 with value: 1.0914636694678153.\u001b[0m\n"
     ]
    },
    {
     "name": "stdout",
     "output_type": "stream",
     "text": [
      "\n"
     ]
    },
    {
     "name": "stderr",
     "output_type": "stream",
     "text": [
      "\u001b[32m[I 2020-12-04 22:41:30,211]\u001b[0m Finished trial#86 with value: 1.092520250994706 with parameters: {'n_estimators': 453, 'max_depth': 236, 'subsample': 0.9, 'colsample_bytree': 0.9, 'learing_rate': 0.013215316879071836, 'reg_alpha': 4.0, 'min_child_samples': 37}. Best is trial#82 with value: 1.0914636694678153.\u001b[0m\n"
     ]
    },
    {
     "name": "stdout",
     "output_type": "stream",
     "text": [
      "\n"
     ]
    },
    {
     "name": "stderr",
     "output_type": "stream",
     "text": [
      "\u001b[32m[I 2020-12-04 22:41:32,476]\u001b[0m Finished trial#87 with value: 1.0972820347687593 with parameters: {'n_estimators': 460, 'max_depth': 232, 'subsample': 0.8, 'colsample_bytree': 0.8, 'learing_rate': 0.013459682449841122, 'reg_alpha': 4.0, 'min_child_samples': 37}. Best is trial#82 with value: 1.0914636694678153.\u001b[0m\n"
     ]
    },
    {
     "name": "stdout",
     "output_type": "stream",
     "text": [
      "\n"
     ]
    },
    {
     "name": "stderr",
     "output_type": "stream",
     "text": [
      "\u001b[32m[I 2020-12-04 22:41:35,085]\u001b[0m Finished trial#88 with value: 1.101029715355598 with parameters: {'n_estimators': 519, 'max_depth': 277, 'subsample': 1.0, 'colsample_bytree': 1.0, 'learing_rate': 0.011595263896293029, 'reg_alpha': 5.0, 'min_child_samples': 35}. Best is trial#82 with value: 1.0914636694678153.\u001b[0m\n"
     ]
    },
    {
     "name": "stdout",
     "output_type": "stream",
     "text": [
      "\n"
     ]
    },
    {
     "name": "stderr",
     "output_type": "stream",
     "text": [
      "\u001b[32m[I 2020-12-04 22:41:37,137]\u001b[0m Finished trial#89 with value: 1.1769245739373533 with parameters: {'n_estimators': 432, 'max_depth': 238, 'subsample': 0.9, 'colsample_bytree': 0.7000000000000001, 'learing_rate': 0.0064347349746240595, 'reg_alpha': 4.0, 'min_child_samples': 30}. Best is trial#82 with value: 1.0914636694678153.\u001b[0m\n"
     ]
    },
    {
     "name": "stdout",
     "output_type": "stream",
     "text": [
      "\n"
     ]
    },
    {
     "name": "stderr",
     "output_type": "stream",
     "text": [
      "\u001b[32m[I 2020-12-04 22:41:39,636]\u001b[0m Finished trial#90 with value: 1.1011006934390373 with parameters: {'n_estimators': 503, 'max_depth': 146, 'subsample': 0.8, 'colsample_bytree': 0.9, 'learing_rate': 0.014489869437628108, 'reg_alpha': 3.0, 'min_child_samples': 38}. Best is trial#82 with value: 1.0914636694678153.\u001b[0m\n"
     ]
    },
    {
     "name": "stdout",
     "output_type": "stream",
     "text": [
      "\n"
     ]
    },
    {
     "name": "stderr",
     "output_type": "stream",
     "text": [
      "\u001b[32m[I 2020-12-04 22:41:42,430]\u001b[0m Finished trial#91 with value: 1.1334646280336003 with parameters: {'n_estimators': 556, 'max_depth': 263, 'subsample': 0.9, 'colsample_bytree': 0.9, 'learing_rate': 0.020272559505699013, 'reg_alpha': 4.0, 'min_child_samples': 42}. Best is trial#82 with value: 1.0914636694678153.\u001b[0m\n"
     ]
    },
    {
     "name": "stdout",
     "output_type": "stream",
     "text": [
      "\n"
     ]
    },
    {
     "name": "stderr",
     "output_type": "stream",
     "text": [
      "\u001b[32m[I 2020-12-04 22:41:43,855]\u001b[0m Finished trial#92 with value: 1.0908328020830589 with parameters: {'n_estimators': 283, 'max_depth': 211, 'subsample': 0.9, 'colsample_bytree': 0.9, 'learing_rate': 0.02236017713442633, 'reg_alpha': 4.0, 'min_child_samples': 21}. Best is trial#92 with value: 1.0908328020830589.\u001b[0m\n"
     ]
    },
    {
     "name": "stdout",
     "output_type": "stream",
     "text": [
      "\n"
     ]
    },
    {
     "name": "stderr",
     "output_type": "stream",
     "text": [
      "\u001b[32m[I 2020-12-04 22:41:45,766]\u001b[0m Finished trial#93 with value: 1.0993227624414224 with parameters: {'n_estimators': 384, 'max_depth': 196, 'subsample': 0.9, 'colsample_bytree': 0.8, 'learing_rate': 0.016848284664295103, 'reg_alpha': 4.0, 'min_child_samples': 33}. Best is trial#92 with value: 1.0908328020830589.\u001b[0m\n"
     ]
    },
    {
     "name": "stdout",
     "output_type": "stream",
     "text": [
      "\n"
     ]
    },
    {
     "name": "stderr",
     "output_type": "stream",
     "text": [
      "\u001b[32m[I 2020-12-04 22:41:47,109]\u001b[0m Finished trial#94 with value: 1.0989862016785514 with parameters: {'n_estimators': 269, 'max_depth': 246, 'subsample': 1.0, 'colsample_bytree': 0.9, 'learing_rate': 0.025896172021181323, 'reg_alpha': 4.0, 'min_child_samples': 24}. Best is trial#92 with value: 1.0908328020830589.\u001b[0m\n"
     ]
    },
    {
     "name": "stdout",
     "output_type": "stream",
     "text": [
      "\n"
     ]
    },
    {
     "name": "stderr",
     "output_type": "stream",
     "text": [
      "\u001b[32m[I 2020-12-04 22:41:48,790]\u001b[0m Finished trial#95 with value: 1.1130255095277495 with parameters: {'n_estimators': 336, 'max_depth': 209, 'subsample': 0.6, 'colsample_bytree': 0.9, 'learing_rate': 0.030135439174297948, 'reg_alpha': 4.0, 'min_child_samples': 27}. Best is trial#92 with value: 1.0908328020830589.\u001b[0m\n"
     ]
    },
    {
     "name": "stdout",
     "output_type": "stream",
     "text": [
      "\n"
     ]
    },
    {
     "name": "stderr",
     "output_type": "stream",
     "text": [
      "\u001b[32m[I 2020-12-04 22:41:49,959]\u001b[0m Finished trial#96 with value: 1.1102603474851735 with parameters: {'n_estimators': 236, 'max_depth': 225, 'subsample': 0.8, 'colsample_bytree': 0.8, 'learing_rate': 0.01792670484753365, 'reg_alpha': 4.0, 'min_child_samples': 20}. Best is trial#92 with value: 1.0908328020830589.\u001b[0m\n"
     ]
    },
    {
     "name": "stdout",
     "output_type": "stream",
     "text": [
      "\n"
     ]
    },
    {
     "name": "stderr",
     "output_type": "stream",
     "text": [
      "\u001b[32m[I 2020-12-04 22:41:50,993]\u001b[0m Finished trial#97 with value: 1.1084893533962636 with parameters: {'n_estimators': 194, 'max_depth': 253, 'subsample': 0.9, 'colsample_bytree': 1.0, 'learing_rate': 0.023925590848960523, 'reg_alpha': 3.0, 'min_child_samples': 23}. Best is trial#92 with value: 1.0908328020830589.\u001b[0m\n"
     ]
    },
    {
     "name": "stdout",
     "output_type": "stream",
     "text": [
      "\n"
     ]
    },
    {
     "name": "stderr",
     "output_type": "stream",
     "text": [
      "\u001b[32m[I 2020-12-04 22:41:52,496]\u001b[0m Finished trial#98 with value: 1.1743448055423884 with parameters: {'n_estimators': 316, 'max_depth': 182, 'subsample': 0.5, 'colsample_bytree': 0.7000000000000001, 'learing_rate': 0.009185431781077464, 'reg_alpha': 4.0, 'min_child_samples': 21}. Best is trial#92 with value: 1.0908328020830589.\u001b[0m\n"
     ]
    },
    {
     "name": "stdout",
     "output_type": "stream",
     "text": [
      "\n"
     ]
    },
    {
     "name": "stderr",
     "output_type": "stream",
     "text": [
      "\u001b[32m[I 2020-12-04 22:41:53,891]\u001b[0m Finished trial#99 with value: 1.1027206029744687 with parameters: {'n_estimators': 284, 'max_depth': 235, 'subsample': 0.7000000000000001, 'colsample_bytree': 0.8, 'learing_rate': 0.021877528808554692, 'reg_alpha': 4.0, 'min_child_samples': 29}. Best is trial#92 with value: 1.0908328020830589.\u001b[0m\n"
     ]
    },
    {
     "name": "stdout",
     "output_type": "stream",
     "text": [
      "\n"
     ]
    },
    {
     "name": "stderr",
     "output_type": "stream",
     "text": [
      "\u001b[32m[I 2020-12-04 22:41:54,715]\u001b[0m Finished trial#100 with value: 1.183151120686722 with parameters: {'n_estimators': 162, 'max_depth': 272, 'subsample': 1.0, 'colsample_bytree': 0.9, 'learing_rate': 0.01586879423936707, 'reg_alpha': 4.0, 'min_child_samples': 44}. Best is trial#92 with value: 1.0908328020830589.\u001b[0m\n"
     ]
    },
    {
     "name": "stdout",
     "output_type": "stream",
     "text": [
      "\n"
     ]
    },
    {
     "name": "stderr",
     "output_type": "stream",
     "text": [
      "\u001b[32m[I 2020-12-04 22:41:56,193]\u001b[0m Finished trial#101 with value: 1.0989806248778018 with parameters: {'n_estimators': 297, 'max_depth': 218, 'subsample': 0.9, 'colsample_bytree': 0.9, 'learing_rate': 0.018956584658832407, 'reg_alpha': 4.0, 'min_child_samples': 40}. Best is trial#92 with value: 1.0908328020830589.\u001b[0m\n"
     ]
    },
    {
     "name": "stdout",
     "output_type": "stream",
     "text": [
      "\n"
     ]
    },
    {
     "name": "stderr",
     "output_type": "stream",
     "text": [
      "\u001b[32m[I 2020-12-04 22:41:57,498]\u001b[0m Finished trial#102 with value: 1.0943860628442097 with parameters: {'n_estimators': 261, 'max_depth': 229, 'subsample': 0.9, 'colsample_bytree': 0.9, 'learing_rate': 0.02199314036064448, 'reg_alpha': 4.0, 'min_child_samples': 14}. Best is trial#92 with value: 1.0908328020830589.\u001b[0m\n"
     ]
    },
    {
     "name": "stdout",
     "output_type": "stream",
     "text": [
      "\n"
     ]
    },
    {
     "name": "stderr",
     "output_type": "stream",
     "text": [
      "\u001b[32m[I 2020-12-04 22:41:58,814]\u001b[0m Finished trial#103 with value: 1.0942422219070258 with parameters: {'n_estimators': 257, 'max_depth': 228, 'subsample': 0.9, 'colsample_bytree': 0.9, 'learing_rate': 0.0274563875892935, 'reg_alpha': 4.0, 'min_child_samples': 16}. Best is trial#92 with value: 1.0908328020830589.\u001b[0m\n"
     ]
    },
    {
     "name": "stdout",
     "output_type": "stream",
     "text": [
      "\n"
     ]
    },
    {
     "name": "stderr",
     "output_type": "stream",
     "text": [
      "\u001b[32m[I 2020-12-04 22:42:00,008]\u001b[0m Finished trial#104 with value: 1.0977158803234242 with parameters: {'n_estimators': 229, 'max_depth': 228, 'subsample': 0.9, 'colsample_bytree': 1.0, 'learing_rate': 0.03272670956142621, 'reg_alpha': 4.0, 'min_child_samples': 17}. Best is trial#92 with value: 1.0908328020830589.\u001b[0m\n"
     ]
    },
    {
     "name": "stdout",
     "output_type": "stream",
     "text": [
      "\n"
     ]
    },
    {
     "name": "stderr",
     "output_type": "stream",
     "text": [
      "\u001b[32m[I 2020-12-04 22:42:01,237]\u001b[0m Finished trial#105 with value: 1.1976263396897247 with parameters: {'n_estimators': 251, 'max_depth': 203, 'subsample': 0.9, 'colsample_bytree': 0.9, 'learing_rate': 0.01125574225798417, 'reg_alpha': 4.0, 'min_child_samples': 11}. Best is trial#92 with value: 1.0908328020830589.\u001b[0m\n"
     ]
    },
    {
     "name": "stdout",
     "output_type": "stream",
     "text": [
      "\n"
     ]
    },
    {
     "name": "stderr",
     "output_type": "stream",
     "text": [
      "\u001b[32m[I 2020-12-04 22:42:02,594]\u001b[0m Finished trial#106 with value: 1.0936498325117376 with parameters: {'n_estimators': 271, 'max_depth': 243, 'subsample': 1.0, 'colsample_bytree': 0.9, 'learing_rate': 0.027067938471168396, 'reg_alpha': 5.0, 'min_child_samples': 19}. Best is trial#92 with value: 1.0908328020830589.\u001b[0m\n"
     ]
    },
    {
     "name": "stdout",
     "output_type": "stream",
     "text": [
      "\n"
     ]
    },
    {
     "name": "stderr",
     "output_type": "stream",
     "text": [
      "\u001b[32m[I 2020-12-04 22:42:04,021]\u001b[0m Finished trial#107 with value: 1.1000314485362142 with parameters: {'n_estimators': 275, 'max_depth': 239, 'subsample': 1.0, 'colsample_bytree': 1.0, 'learing_rate': 0.02669617582917321, 'reg_alpha': 5.0, 'min_child_samples': 19}. Best is trial#92 with value: 1.0908328020830589.\u001b[0m\n"
     ]
    },
    {
     "name": "stdout",
     "output_type": "stream",
     "text": [
      "\n"
     ]
    },
    {
     "name": "stderr",
     "output_type": "stream",
     "text": [
      "\u001b[32m[I 2020-12-04 22:42:05,726]\u001b[0m Finished trial#108 with value: 1.1046955242764092 with parameters: {'n_estimators': 349, 'max_depth': 232, 'subsample': 1.0, 'colsample_bytree': 0.9, 'learing_rate': 0.03349359193440738, 'reg_alpha': 5.0, 'min_child_samples': 14}. Best is trial#92 with value: 1.0908328020830589.\u001b[0m\n"
     ]
    },
    {
     "name": "stdout",
     "output_type": "stream",
     "text": [
      "\n"
     ]
    },
    {
     "name": "stderr",
     "output_type": "stream",
     "text": [
      "\u001b[32m[I 2020-12-04 22:42:06,918]\u001b[0m Finished trial#109 with value: 1.6368776509417837 with parameters: {'n_estimators': 247, 'max_depth': 199, 'subsample': 1.0, 'colsample_bytree': 0.9, 'learing_rate': 0.0014794061483972079, 'reg_alpha': 5.0, 'min_child_samples': 17}. Best is trial#92 with value: 1.0908328020830589.\u001b[0m\n"
     ]
    },
    {
     "name": "stdout",
     "output_type": "stream",
     "text": [
      "\n"
     ]
    },
    {
     "name": "stderr",
     "output_type": "stream",
     "text": [
      "\u001b[32m[I 2020-12-04 22:42:07,949]\u001b[0m Finished trial#110 with value: 1.0943475177631743 with parameters: {'n_estimators': 198, 'max_depth': 211, 'subsample': 0.9, 'colsample_bytree': 1.0, 'learing_rate': 0.041780455175348924, 'reg_alpha': 6.0, 'min_child_samples': 10}. Best is trial#92 with value: 1.0908328020830589.\u001b[0m\n"
     ]
    },
    {
     "name": "stdout",
     "output_type": "stream",
     "text": [
      "\n"
     ]
    },
    {
     "name": "stderr",
     "output_type": "stream",
     "text": [
      "\u001b[32m[I 2020-12-04 22:42:08,519]\u001b[0m Finished trial#111 with value: 1.1013869873380329 with parameters: {'n_estimators': 103, 'max_depth': 211, 'subsample': 0.9, 'colsample_bytree': 1.0, 'learing_rate': 0.05250141937766623, 'reg_alpha': 6.0, 'min_child_samples': 10}. Best is trial#92 with value: 1.0908328020830589.\u001b[0m\n"
     ]
    },
    {
     "name": "stdout",
     "output_type": "stream",
     "text": [
      "\n"
     ]
    },
    {
     "name": "stderr",
     "output_type": "stream",
     "text": [
      "\u001b[32m[I 2020-12-04 22:42:09,526]\u001b[0m Finished trial#112 with value: 1.0955258890744064 with parameters: {'n_estimators': 197, 'max_depth': 225, 'subsample': 0.9, 'colsample_bytree': 0.9, 'learing_rate': 0.036812690482698966, 'reg_alpha': 6.0, 'min_child_samples': 15}. Best is trial#92 with value: 1.0908328020830589.\u001b[0m\n"
     ]
    },
    {
     "name": "stdout",
     "output_type": "stream",
     "text": [
      "\n"
     ]
    },
    {
     "name": "stderr",
     "output_type": "stream",
     "text": [
      "\u001b[32m[I 2020-12-04 22:42:10,650]\u001b[0m Finished trial#113 with value: 1.097988487531548 with parameters: {'n_estimators': 219, 'max_depth': 244, 'subsample': 1.0, 'colsample_bytree': 1.0, 'learing_rate': 0.039905627910197264, 'reg_alpha': 6.0, 'min_child_samples': 12}. Best is trial#92 with value: 1.0908328020830589.\u001b[0m\n"
     ]
    },
    {
     "name": "stdout",
     "output_type": "stream",
     "text": [
      "\n"
     ]
    },
    {
     "name": "stderr",
     "output_type": "stream",
     "text": [
      "\u001b[32m[I 2020-12-04 22:42:11,994]\u001b[0m Finished trial#114 with value: 1.09507044424127 with parameters: {'n_estimators': 262, 'max_depth': 215, 'subsample': 0.9, 'colsample_bytree': 0.9, 'learing_rate': 0.029215581433664685, 'reg_alpha': 5.0, 'min_child_samples': 19}. Best is trial#92 with value: 1.0908328020830589.\u001b[0m\n"
     ]
    },
    {
     "name": "stdout",
     "output_type": "stream",
     "text": [
      "\n"
     ]
    },
    {
     "name": "stderr",
     "output_type": "stream",
     "text": [
      "\u001b[32m[I 2020-12-04 22:42:12,924]\u001b[0m Finished trial#115 with value: 1.0949712788343224 with parameters: {'n_estimators': 182, 'max_depth': 170, 'subsample': 0.9, 'colsample_bytree': 0.9, 'learing_rate': 0.02944828641264362, 'reg_alpha': 5.0, 'min_child_samples': 19}. Best is trial#92 with value: 1.0908328020830589.\u001b[0m\n"
     ]
    },
    {
     "name": "stdout",
     "output_type": "stream",
     "text": [
      "\n"
     ]
    },
    {
     "name": "stderr",
     "output_type": "stream",
     "text": [
      "\u001b[32m[I 2020-12-04 22:42:13,834]\u001b[0m Finished trial#116 with value: 1.1010625008794543 with parameters: {'n_estimators': 172, 'max_depth': 167, 'subsample': 0.9, 'colsample_bytree': 0.9, 'learing_rate': 0.04366198824431139, 'reg_alpha': 5.0, 'min_child_samples': 22}. Best is trial#92 with value: 1.0908328020830589.\u001b[0m\n"
     ]
    },
    {
     "name": "stdout",
     "output_type": "stream",
     "text": [
      "\n"
     ]
    },
    {
     "name": "stderr",
     "output_type": "stream",
     "text": [
      "\u001b[32m[I 2020-12-04 22:42:14,421]\u001b[0m Finished trial#117 with value: 1.1825869066188825 with parameters: {'n_estimators': 124, 'max_depth': 241, 'subsample': 1.0, 'colsample_bytree': 0.4, 'learing_rate': 0.028996546934305735, 'reg_alpha': 5.0, 'min_child_samples': 20}. Best is trial#92 with value: 1.0908328020830589.\u001b[0m\n"
     ]
    },
    {
     "name": "stdout",
     "output_type": "stream",
     "text": [
      "\n"
     ]
    },
    {
     "name": "stderr",
     "output_type": "stream",
     "text": [
      "\u001b[32m[I 2020-12-04 22:42:15,571]\u001b[0m Finished trial#118 with value: 1.1008186061868914 with parameters: {'n_estimators': 219, 'max_depth': 225, 'subsample': 1.0, 'colsample_bytree': 1.0, 'learing_rate': 0.02689216153847976, 'reg_alpha': 5.0, 'min_child_samples': 23}. Best is trial#92 with value: 1.0908328020830589.\u001b[0m\n"
     ]
    },
    {
     "name": "stdout",
     "output_type": "stream",
     "text": [
      "\n"
     ]
    },
    {
     "name": "stderr",
     "output_type": "stream",
     "text": [
      "\u001b[32m[I 2020-12-04 22:42:16,552]\u001b[0m Finished trial#119 with value: 1.0908185931054317 with parameters: {'n_estimators': 187, 'max_depth': 207, 'subsample': 0.9, 'colsample_bytree': 0.9, 'learing_rate': 0.0427798901104505, 'reg_alpha': 6.0, 'min_child_samples': 18}. Best is trial#119 with value: 1.0908185931054317.\u001b[0m\n"
     ]
    },
    {
     "name": "stdout",
     "output_type": "stream",
     "text": [
      "\n"
     ]
    },
    {
     "name": "stderr",
     "output_type": "stream",
     "text": [
      "\u001b[32m[I 2020-12-04 22:42:17,363]\u001b[0m Finished trial#120 with value: 1.1070693102519744 with parameters: {'n_estimators': 150, 'max_depth': 62, 'subsample': 0.8, 'colsample_bytree': 1.0, 'learing_rate': 0.0518273640042862, 'reg_alpha': 6.0, 'min_child_samples': 25}. Best is trial#119 with value: 1.0908185931054317.\u001b[0m\n"
     ]
    },
    {
     "name": "stdout",
     "output_type": "stream",
     "text": [
      "\n"
     ]
    },
    {
     "name": "stderr",
     "output_type": "stream",
     "text": [
      "\u001b[32m[I 2020-12-04 22:42:18,571]\u001b[0m Finished trial#121 with value: 1.125284028028769 with parameters: {'n_estimators': 237, 'max_depth': 217, 'subsample': 0.9, 'colsample_bytree': 0.9, 'learing_rate': 0.05886678951445764, 'reg_alpha': 6.0, 'min_child_samples': 18}. Best is trial#119 with value: 1.0908185931054317.\u001b[0m\n"
     ]
    },
    {
     "name": "stdout",
     "output_type": "stream",
     "text": [
      "\n"
     ]
    },
    {
     "name": "stderr",
     "output_type": "stream",
     "text": [
      "\u001b[32m[I 2020-12-04 22:42:19,526]\u001b[0m Finished trial#122 with value: 1.0926430616104104 with parameters: {'n_estimators': 183, 'max_depth': 232, 'subsample': 0.9, 'colsample_bytree': 0.9, 'learing_rate': 0.029770337233990127, 'reg_alpha': 6.0, 'min_child_samples': 16}. Best is trial#119 with value: 1.0908185931054317.\u001b[0m\n"
     ]
    },
    {
     "name": "stdout",
     "output_type": "stream",
     "text": [
      "\n"
     ]
    },
    {
     "name": "stderr",
     "output_type": "stream",
     "text": [
      "\u001b[32m[I 2020-12-04 22:42:20,486]\u001b[0m Finished trial#123 with value: 1.0984679845926324 with parameters: {'n_estimators': 187, 'max_depth': 234, 'subsample': 0.9, 'colsample_bytree': 0.9, 'learing_rate': 0.048357009321531995, 'reg_alpha': 6.0, 'min_child_samples': 16}. Best is trial#119 with value: 1.0908185931054317.\u001b[0m\n"
     ]
    },
    {
     "name": "stdout",
     "output_type": "stream",
     "text": [
      "\n"
     ]
    },
    {
     "name": "stderr",
     "output_type": "stream",
     "text": [
      "\u001b[32m[I 2020-12-04 22:42:21,247]\u001b[0m Finished trial#124 with value: 1.0939431932939299 with parameters: {'n_estimators': 141, 'max_depth': 206, 'subsample': 0.9, 'colsample_bytree': 0.9, 'learing_rate': 0.04047871953374144, 'reg_alpha': 6.0, 'min_child_samples': 16}. Best is trial#119 with value: 1.0908185931054317.\u001b[0m\n"
     ]
    },
    {
     "name": "stdout",
     "output_type": "stream",
     "text": [
      "\n"
     ]
    },
    {
     "name": "stderr",
     "output_type": "stream",
     "text": [
      "\u001b[32m[I 2020-12-04 22:42:22,007]\u001b[0m Finished trial#125 with value: 1.0904211625886704 with parameters: {'n_estimators': 146, 'max_depth': 251, 'subsample': 0.9, 'colsample_bytree': 0.9, 'learing_rate': 0.04053476253320048, 'reg_alpha': 6.0, 'min_child_samples': 21}. Best is trial#125 with value: 1.0904211625886704.\u001b[0m\n"
     ]
    },
    {
     "name": "stdout",
     "output_type": "stream",
     "text": [
      "\n"
     ]
    },
    {
     "name": "stderr",
     "output_type": "stream",
     "text": [
      "\u001b[32m[I 2020-12-04 22:42:22,821]\u001b[0m Finished trial#126 with value: 1.0979173638747888 with parameters: {'n_estimators': 151, 'max_depth': 250, 'subsample': 1.0, 'colsample_bytree': 0.9, 'learing_rate': 0.04537319209279413, 'reg_alpha': 6.0, 'min_child_samples': 22}. Best is trial#125 with value: 1.0904211625886704.\u001b[0m\n"
     ]
    },
    {
     "name": "stdout",
     "output_type": "stream",
     "text": [
      "\n"
     ]
    },
    {
     "name": "stderr",
     "output_type": "stream",
     "text": [
      "\u001b[32m[I 2020-12-04 22:42:23,153]\u001b[0m Finished trial#127 with value: 1.2467650585956394 with parameters: {'n_estimators': 50, 'max_depth': 264, 'subsample': 0.8, 'colsample_bytree': 1.0, 'learing_rate': 0.04064780087737219, 'reg_alpha': 6.0, 'min_child_samples': 27}. Best is trial#125 with value: 1.0904211625886704.\u001b[0m\n"
     ]
    },
    {
     "name": "stdout",
     "output_type": "stream",
     "text": [
      "\n"
     ]
    },
    {
     "name": "stderr",
     "output_type": "stream",
     "text": [
      "\u001b[32m[I 2020-12-04 22:42:23,672]\u001b[0m Finished trial#128 with value: 1.0930322688531218 with parameters: {'n_estimators': 92, 'max_depth': 207, 'subsample': 0.9, 'colsample_bytree': 0.8, 'learing_rate': 0.06023771799786315, 'reg_alpha': 6.0, 'min_child_samples': 24}. Best is trial#125 with value: 1.0904211625886704.\u001b[0m\n"
     ]
    },
    {
     "name": "stdout",
     "output_type": "stream",
     "text": [
      "\n"
     ]
    },
    {
     "name": "stderr",
     "output_type": "stream",
     "text": [
      "\u001b[32m[I 2020-12-04 22:42:24,399]\u001b[0m Finished trial#129 with value: 1.156077572476626 with parameters: {'n_estimators': 128, 'max_depth': 202, 'subsample': 0.9, 'colsample_bytree': 0.8, 'learing_rate': 0.0755628428636949, 'reg_alpha': 6.0, 'min_child_samples': 70}. Best is trial#125 with value: 1.0904211625886704.\u001b[0m\n"
     ]
    },
    {
     "name": "stdout",
     "output_type": "stream",
     "text": [
      "\n"
     ]
    },
    {
     "name": "stderr",
     "output_type": "stream",
     "text": [
      "\u001b[32m[I 2020-12-04 22:42:24,892]\u001b[0m Finished trial#130 with value: 1.0953472024814193 with parameters: {'n_estimators': 87, 'max_depth': 222, 'subsample': 0.8, 'colsample_bytree': 0.9, 'learing_rate': 0.06763263972030738, 'reg_alpha': 6.0, 'min_child_samples': 16}. Best is trial#125 with value: 1.0904211625886704.\u001b[0m\n"
     ]
    },
    {
     "name": "stdout",
     "output_type": "stream",
     "text": [
      "\n"
     ]
    },
    {
     "name": "stderr",
     "output_type": "stream",
     "text": [
      "\u001b[32m[I 2020-12-04 22:42:25,630]\u001b[0m Finished trial#131 with value: 1.0887346967690406 with parameters: {'n_estimators': 138, 'max_depth': 256, 'subsample': 0.9, 'colsample_bytree': 0.8, 'learing_rate': 0.04174641677448675, 'reg_alpha': 6.0, 'min_child_samples': 24}. Best is trial#131 with value: 1.0887346967690406.\u001b[0m\n"
     ]
    },
    {
     "name": "stdout",
     "output_type": "stream",
     "text": [
      "\n"
     ]
    },
    {
     "name": "stderr",
     "output_type": "stream",
     "text": [
      "\u001b[32m[I 2020-12-04 22:42:26,331]\u001b[0m Finished trial#132 with value: 1.0998464870405487 with parameters: {'n_estimators': 136, 'max_depth': 208, 'subsample': 0.9, 'colsample_bytree': 0.8, 'learing_rate': 0.05715669259534014, 'reg_alpha': 6.0, 'min_child_samples': 21}. Best is trial#131 with value: 1.0887346967690406.\u001b[0m\n"
     ]
    },
    {
     "name": "stdout",
     "output_type": "stream",
     "text": [
      "\n"
     ]
    },
    {
     "name": "stderr",
     "output_type": "stream",
     "text": [
      "\u001b[32m[I 2020-12-04 22:42:26,669]\u001b[0m Finished trial#133 with value: 1.1052681141257348 with parameters: {'n_estimators': 51, 'max_depth': 243, 'subsample': 0.9, 'colsample_bytree': 0.9, 'learing_rate': 0.09822241318567504, 'reg_alpha': 6.0, 'min_child_samples': 24}. Best is trial#131 with value: 1.0887346967690406.\u001b[0m\n"
     ]
    },
    {
     "name": "stdout",
     "output_type": "stream",
     "text": [
      "\n"
     ]
    },
    {
     "name": "stderr",
     "output_type": "stream",
     "text": [
      "\u001b[32m[I 2020-12-04 22:42:27,302]\u001b[0m Finished trial#134 with value: 1.0945869125223213 with parameters: {'n_estimators': 117, 'max_depth': 254, 'subsample': 0.9, 'colsample_bytree': 0.8, 'learing_rate': 0.043113404119213, 'reg_alpha': 6.0, 'min_child_samples': 26}. Best is trial#131 with value: 1.0887346967690406.\u001b[0m\n"
     ]
    },
    {
     "name": "stdout",
     "output_type": "stream",
     "text": [
      "\n"
     ]
    },
    {
     "name": "stderr",
     "output_type": "stream",
     "text": [
      "\u001b[32m[I 2020-12-04 22:42:27,773]\u001b[0m Finished trial#135 with value: 1.1795987615762784 with parameters: {'n_estimators': 79, 'max_depth': 236, 'subsample': 0.9, 'colsample_bytree': 0.9, 'learing_rate': 0.03554766670566962, 'reg_alpha': 6.0, 'min_child_samples': 21}. Best is trial#131 with value: 1.0887346967690406.\u001b[0m\n"
     ]
    },
    {
     "name": "stdout",
     "output_type": "stream",
     "text": [
      "\n"
     ]
    },
    {
     "name": "stderr",
     "output_type": "stream",
     "text": [
      "\u001b[32m[I 2020-12-04 22:42:28,652]\u001b[0m Finished trial#136 with value: 1.120254581103372 with parameters: {'n_estimators': 171, 'max_depth': 259, 'subsample': 0.8, 'colsample_bytree': 0.8, 'learing_rate': 0.06249439698509479, 'reg_alpha': 6.0, 'min_child_samples': 23}. Best is trial#131 with value: 1.0887346967690406.\u001b[0m\n"
     ]
    },
    {
     "name": "stdout",
     "output_type": "stream",
     "text": [
      "\n"
     ]
    },
    {
     "name": "stderr",
     "output_type": "stream",
     "text": [
      "\u001b[32m[I 2020-12-04 22:42:29,189]\u001b[0m Finished trial#137 with value: 1.1033731484916345 with parameters: {'n_estimators': 96, 'max_depth': 205, 'subsample': 0.9, 'colsample_bytree': 0.9, 'learing_rate': 0.04891553562384772, 'reg_alpha': 6.0, 'min_child_samples': 17}. Best is trial#131 with value: 1.0887346967690406.\u001b[0m\n"
     ]
    },
    {
     "name": "stdout",
     "output_type": "stream",
     "text": [
      "\n"
     ]
    },
    {
     "name": "stderr",
     "output_type": "stream",
     "text": [
      "\u001b[32m[I 2020-12-04 22:42:29,816]\u001b[0m Finished trial#138 with value: 1.1039455646920742 with parameters: {'n_estimators': 108, 'max_depth': 27, 'subsample': 0.9, 'colsample_bytree': 0.9, 'learing_rate': 0.04008371371170357, 'reg_alpha': 6.0, 'min_child_samples': 56}. Best is trial#131 with value: 1.0887346967690406.\u001b[0m\n"
     ]
    },
    {
     "name": "stdout",
     "output_type": "stream",
     "text": [
      "\n"
     ]
    },
    {
     "name": "stderr",
     "output_type": "stream",
     "text": [
      "\u001b[32m[I 2020-12-04 22:42:30,626]\u001b[0m Finished trial#139 with value: 1.1023418503968108 with parameters: {'n_estimators': 149, 'max_depth': 197, 'subsample': 0.9, 'colsample_bytree': 0.9, 'learing_rate': 0.032012014906160374, 'reg_alpha': 6.0, 'min_child_samples': 19}. Best is trial#131 with value: 1.0887346967690406.\u001b[0m\n"
     ]
    },
    {
     "name": "stdout",
     "output_type": "stream",
     "text": [
      "\n"
     ]
    },
    {
     "name": "stderr",
     "output_type": "stream",
     "text": [
      "\u001b[32m[I 2020-12-04 22:42:31,487]\u001b[0m Finished trial#140 with value: 1.096959212682259 with parameters: {'n_estimators': 165, 'max_depth': 250, 'subsample': 0.8, 'colsample_bytree': 1.0, 'learing_rate': 0.03507072815325221, 'reg_alpha': 6.0, 'min_child_samples': 24}. Best is trial#131 with value: 1.0887346967690406.\u001b[0m\n"
     ]
    },
    {
     "name": "stdout",
     "output_type": "stream",
     "text": [
      "\n"
     ]
    },
    {
     "name": "stderr",
     "output_type": "stream",
     "text": [
      "\u001b[32m[I 2020-12-04 22:42:32,464]\u001b[0m Finished trial#141 with value: 1.0921382783708042 with parameters: {'n_estimators': 193, 'max_depth': 81, 'subsample': 1.0, 'colsample_bytree': 0.8, 'learing_rate': 0.025774347307566288, 'reg_alpha': 6.0, 'min_child_samples': 28}. Best is trial#131 with value: 1.0887346967690406.\u001b[0m\n"
     ]
    },
    {
     "name": "stdout",
     "output_type": "stream",
     "text": [
      "\n"
     ]
    },
    {
     "name": "stderr",
     "output_type": "stream",
     "text": [
      "\u001b[32m[I 2020-12-04 22:42:33,522]\u001b[0m Finished trial#142 with value: 1.1099713762352401 with parameters: {'n_estimators': 205, 'max_depth': 98, 'subsample': 1.0, 'colsample_bytree': 0.8, 'learing_rate': 0.04108493848756823, 'reg_alpha': 6.0, 'min_child_samples': 28}. Best is trial#131 with value: 1.0887346967690406.\u001b[0m\n"
     ]
    },
    {
     "name": "stdout",
     "output_type": "stream",
     "text": [
      "\n"
     ]
    },
    {
     "name": "stderr",
     "output_type": "stream",
     "text": [
      "\u001b[32m[I 2020-12-04 22:42:33,870]\u001b[0m Finished trial#143 with value: 1.3624170645909657 with parameters: {'n_estimators': 55, 'max_depth': 110, 'subsample': 0.9, 'colsample_bytree': 0.8, 'learing_rate': 0.025230027503143515, 'reg_alpha': 6.0, 'min_child_samples': 25}. Best is trial#131 with value: 1.0887346967690406.\u001b[0m\n"
     ]
    },
    {
     "name": "stdout",
     "output_type": "stream",
     "text": [
      "\n"
     ]
    },
    {
     "name": "stderr",
     "output_type": "stream",
     "text": [
      "\u001b[32m[I 2020-12-04 22:42:34,607]\u001b[0m Finished trial#144 with value: 1.1028417374466908 with parameters: {'n_estimators': 140, 'max_depth': 76, 'subsample': 0.9, 'colsample_bytree': 0.8, 'learing_rate': 0.032127164541337634, 'reg_alpha': 6.0, 'min_child_samples': 21}. Best is trial#131 with value: 1.0887346967690406.\u001b[0m\n"
     ]
    },
    {
     "name": "stdout",
     "output_type": "stream",
     "text": [
      "\n"
     ]
    },
    {
     "name": "stderr",
     "output_type": "stream",
     "text": [
      "\u001b[32m[I 2020-12-04 22:42:35,610]\u001b[0m Finished trial#145 with value: 1.103261578762861 with parameters: {'n_estimators': 189, 'max_depth': 91, 'subsample': 0.9, 'colsample_bytree': 0.9, 'learing_rate': 0.037233513839957884, 'reg_alpha': 6.0, 'min_child_samples': 31}. Best is trial#131 with value: 1.0887346967690406.\u001b[0m\n"
     ]
    },
    {
     "name": "stdout",
     "output_type": "stream",
     "text": [
      "\n"
     ]
    },
    {
     "name": "stderr",
     "output_type": "stream",
     "text": [
      "\u001b[32m[I 2020-12-04 22:42:36,484]\u001b[0m Finished trial#146 with value: 1.196236030927332 with parameters: {'n_estimators': 159, 'max_depth': 231, 'subsample': 1.0, 'colsample_bytree': 0.8, 'learing_rate': 0.08573282635469458, 'reg_alpha': 6.0, 'min_child_samples': 92}. Best is trial#131 with value: 1.0887346967690406.\u001b[0m\n"
     ]
    },
    {
     "name": "stdout",
     "output_type": "stream",
     "text": [
      "\n"
     ]
    },
    {
     "name": "stderr",
     "output_type": "stream",
     "text": [
      "\u001b[32m[I 2020-12-04 22:42:37,592]\u001b[0m Finished trial#147 with value: 1.0955004045612178 with parameters: {'n_estimators': 214, 'max_depth': 120, 'subsample': 0.9, 'colsample_bytree': 0.9, 'learing_rate': 0.02372976831724858, 'reg_alpha': 6.0, 'min_child_samples': 27}. Best is trial#131 with value: 1.0887346967690406.\u001b[0m\n"
     ]
    },
    {
     "name": "stdout",
     "output_type": "stream",
     "text": [
      "\n"
     ]
    },
    {
     "name": "stderr",
     "output_type": "stream",
     "text": [
      "\u001b[32m[I 2020-12-04 22:42:38,337]\u001b[0m Finished trial#148 with value: 1.091875227141647 with parameters: {'n_estimators': 136, 'max_depth': 183, 'subsample': 1.0, 'colsample_bytree': 0.9, 'learing_rate': 0.047760573550876796, 'reg_alpha': 6.0, 'min_child_samples': 15}. Best is trial#131 with value: 1.0887346967690406.\u001b[0m\n"
     ]
    },
    {
     "name": "stdout",
     "output_type": "stream",
     "text": [
      "\n"
     ]
    },
    {
     "name": "stderr",
     "output_type": "stream",
     "text": [
      "\u001b[32m[I 2020-12-04 22:42:39,098]\u001b[0m Finished trial#149 with value: 1.095071221388671 with parameters: {'n_estimators': 143, 'max_depth': 190, 'subsample': 1.0, 'colsample_bytree': 0.9, 'learing_rate': 0.0516767980796131, 'reg_alpha': 6.0, 'min_child_samples': 15}. Best is trial#131 with value: 1.0887346967690406.\u001b[0m\n"
     ]
    },
    {
     "name": "stdout",
     "output_type": "stream",
     "text": [
      "\n"
     ]
    },
    {
     "name": "stderr",
     "output_type": "stream",
     "text": [
      "\u001b[32m[I 2020-12-04 22:42:40,004]\u001b[0m Finished trial#150 with value: 1.0934937099383104 with parameters: {'n_estimators': 168, 'max_depth': 182, 'subsample': 1.0, 'colsample_bytree': 0.9, 'learing_rate': 0.0472672072450266, 'reg_alpha': 6.0, 'min_child_samples': 17}. Best is trial#131 with value: 1.0887346967690406.\u001b[0m\n"
     ]
    },
    {
     "name": "stdout",
     "output_type": "stream",
     "text": [
      "\n"
     ]
    },
    {
     "name": "stderr",
     "output_type": "stream",
     "text": [
      "\u001b[32m[I 2020-12-04 22:42:40,608]\u001b[0m Finished trial#151 with value: 1.0968111754480518 with parameters: {'n_estimators': 110, 'max_depth': 181, 'subsample': 1.0, 'colsample_bytree': 0.9, 'learing_rate': 0.047868475740235, 'reg_alpha': 6.0, 'min_child_samples': 18}. Best is trial#131 with value: 1.0887346967690406.\u001b[0m\n"
     ]
    },
    {
     "name": "stdout",
     "output_type": "stream",
     "text": [
      "\n"
     ]
    },
    {
     "name": "stderr",
     "output_type": "stream",
     "text": [
      "\u001b[32m[I 2020-12-04 22:42:41,310]\u001b[0m Finished trial#152 with value: 1.1018234007615018 with parameters: {'n_estimators': 126, 'max_depth': 174, 'subsample': 1.0, 'colsample_bytree': 0.9, 'learing_rate': 0.05461173099992229, 'reg_alpha': 6.0, 'min_child_samples': 20}. Best is trial#131 with value: 1.0887346967690406.\u001b[0m\n"
     ]
    },
    {
     "name": "stdout",
     "output_type": "stream",
     "text": [
      "\n"
     ]
    },
    {
     "name": "stderr",
     "output_type": "stream",
     "text": [
      "\u001b[32m[I 2020-12-04 22:42:42,213]\u001b[0m Finished trial#153 with value: 1.1127509910881646 with parameters: {'n_estimators': 174, 'max_depth': 239, 'subsample': 1.0, 'colsample_bytree': 0.9, 'learing_rate': 0.060898718824369785, 'reg_alpha': 6.0, 'min_child_samples': 16}. Best is trial#131 with value: 1.0887346967690406.\u001b[0m\n"
     ]
    },
    {
     "name": "stdout",
     "output_type": "stream",
     "text": [
      "\n"
     ]
    },
    {
     "name": "stderr",
     "output_type": "stream",
     "text": [
      "\u001b[32m[I 2020-12-04 22:42:42,737]\u001b[0m Finished trial#154 with value: 1.118627874750119 with parameters: {'n_estimators': 94, 'max_depth': 151, 'subsample': 1.0, 'colsample_bytree': 0.9, 'learing_rate': 0.04459012887133782, 'reg_alpha': 6.0, 'min_child_samples': 13}. Best is trial#131 with value: 1.0887346967690406.\u001b[0m\n"
     ]
    },
    {
     "name": "stdout",
     "output_type": "stream",
     "text": [
      "\n"
     ]
    },
    {
     "name": "stderr",
     "output_type": "stream",
     "text": [
      "\u001b[32m[I 2020-12-04 22:42:43,067]\u001b[0m Finished trial#155 with value: 1.2298119636745433 with parameters: {'n_estimators': 64, 'max_depth': 144, 'subsample': 1.0, 'colsample_bytree': 0.1, 'learing_rate': 0.06854503394326364, 'reg_alpha': 6.0, 'min_child_samples': 22}. Best is trial#131 with value: 1.0887346967690406.\u001b[0m\n"
     ]
    },
    {
     "name": "stdout",
     "output_type": "stream",
     "text": [
      "\n"
     ]
    },
    {
     "name": "stderr",
     "output_type": "stream",
     "text": [
      "\u001b[32m[I 2020-12-04 22:42:43,811]\u001b[0m Finished trial#156 with value: 1.0948070212631598 with parameters: {'n_estimators': 138, 'max_depth': 218, 'subsample': 1.0, 'colsample_bytree': 0.9, 'learing_rate': 0.03659508287434202, 'reg_alpha': 6.0, 'min_child_samples': 18}. Best is trial#131 with value: 1.0887346967690406.\u001b[0m\n"
     ]
    },
    {
     "name": "stdout",
     "output_type": "stream",
     "text": [
      "\n"
     ]
    },
    {
     "name": "stderr",
     "output_type": "stream",
     "text": [
      "\u001b[32m[I 2020-12-04 22:42:45,220]\u001b[0m Finished trial#157 with value: 1.0958950202665205 with parameters: {'n_estimators': 282, 'max_depth': 157, 'subsample': 0.9, 'colsample_bytree': 0.9, 'learing_rate': 0.030725325071954798, 'reg_alpha': 6.0, 'min_child_samples': 23}. Best is trial#131 with value: 1.0887346967690406.\u001b[0m\n"
     ]
    },
    {
     "name": "stdout",
     "output_type": "stream",
     "text": [
      "\n"
     ]
    },
    {
     "name": "stderr",
     "output_type": "stream",
     "text": [
      "\u001b[32m[I 2020-12-04 22:42:45,493]\u001b[0m Finished trial#158 with value: 1.4678273686661065 with parameters: {'n_estimators': 35, 'max_depth': 86, 'subsample': 1.0, 'colsample_bytree': 0.8, 'learing_rate': 0.026716534019665075, 'reg_alpha': 6.0, 'min_child_samples': 15}. Best is trial#131 with value: 1.0887346967690406.\u001b[0m\n"
     ]
    },
    {
     "name": "stdout",
     "output_type": "stream",
     "text": [
      "\n"
     ]
    },
    {
     "name": "stderr",
     "output_type": "stream",
     "text": [
      "\u001b[32m[I 2020-12-04 22:42:46,313]\u001b[0m Finished trial#159 with value: 1.1324438855876946 with parameters: {'n_estimators': 156, 'max_depth': 246, 'subsample': 0.9, 'colsample_bytree': 0.9, 'learing_rate': 0.022416521197783857, 'reg_alpha': 6.0, 'min_child_samples': 20}. Best is trial#131 with value: 1.0887346967690406.\u001b[0m\n"
     ]
    },
    {
     "name": "stdout",
     "output_type": "stream",
     "text": [
      "\n"
     ]
    },
    {
     "name": "stderr",
     "output_type": "stream",
     "text": [
      "\u001b[32m[I 2020-12-04 22:42:46,976]\u001b[0m Finished trial#160 with value: 1.1142305140565487 with parameters: {'n_estimators': 117, 'max_depth': 194, 'subsample': 0.9, 'colsample_bytree': 0.9, 'learing_rate': 0.03369570692635524, 'reg_alpha': 6.0, 'min_child_samples': 26}. Best is trial#131 with value: 1.0887346967690406.\u001b[0m\n"
     ]
    },
    {
     "name": "stdout",
     "output_type": "stream",
     "text": [
      "\n"
     ]
    },
    {
     "name": "stderr",
     "output_type": "stream",
     "text": [
      "\u001b[32m[I 2020-12-04 22:42:47,935]\u001b[0m Finished trial#161 with value: 1.0886033490991482 with parameters: {'n_estimators': 195, 'max_depth': 50, 'subsample': 0.9, 'colsample_bytree': 0.8, 'learing_rate': 0.0478441584865376, 'reg_alpha': 6.0, 'min_child_samples': 10}. Best is trial#161 with value: 1.0886033490991482.\u001b[0m\n"
     ]
    },
    {
     "name": "stdout",
     "output_type": "stream",
     "text": [
      "\n"
     ]
    },
    {
     "name": "stderr",
     "output_type": "stream",
     "text": [
      "\u001b[32m[I 2020-12-04 22:42:48,856]\u001b[0m Finished trial#162 with value: 1.0937208358916197 with parameters: {'n_estimators': 184, 'max_depth': 50, 'subsample': 0.9, 'colsample_bytree': 0.8, 'learing_rate': 0.04593039552033671, 'reg_alpha': 6.0, 'min_child_samples': 12}. Best is trial#161 with value: 1.0886033490991482.\u001b[0m\n"
     ]
    },
    {
     "name": "stdout",
     "output_type": "stream",
     "text": [
      "\n"
     ]
    },
    {
     "name": "stderr",
     "output_type": "stream",
     "text": [
      "\u001b[32m[I 2020-12-04 22:42:49,723]\u001b[0m Finished trial#163 with value: 1.0954842015863773 with parameters: {'n_estimators': 172, 'max_depth': 56, 'subsample': 0.9, 'colsample_bytree': 0.8, 'learing_rate': 0.0479465250718607, 'reg_alpha': 6.0, 'min_child_samples': 12}. Best is trial#161 with value: 1.0886033490991482.\u001b[0m\n"
     ]
    },
    {
     "name": "stdout",
     "output_type": "stream",
     "text": [
      "\n"
     ]
    },
    {
     "name": "stderr",
     "output_type": "stream",
     "text": [
      "\u001b[32m[I 2020-12-04 22:42:50,655]\u001b[0m Finished trial#164 with value: 1.094474645007472 with parameters: {'n_estimators': 189, 'max_depth': 21, 'subsample': 0.9, 'colsample_bytree': 0.7000000000000001, 'learing_rate': 0.04939512377103054, 'reg_alpha': 6.0, 'min_child_samples': 10}. Best is trial#161 with value: 1.0886033490991482.\u001b[0m\n"
     ]
    },
    {
     "name": "stdout",
     "output_type": "stream",
     "text": [
      "\n"
     ]
    },
    {
     "name": "stderr",
     "output_type": "stream",
     "text": [
      "\u001b[32m[I 2020-12-04 22:42:51,685]\u001b[0m Finished trial#165 with value: 1.094785823726317 with parameters: {'n_estimators': 206, 'max_depth': 66, 'subsample': 1.0, 'colsample_bytree': 0.8, 'learing_rate': 0.043632247704097564, 'reg_alpha': 6.0, 'min_child_samples': 14}. Best is trial#161 with value: 1.0886033490991482.\u001b[0m\n"
     ]
    },
    {
     "name": "stdout",
     "output_type": "stream",
     "text": [
      "\n"
     ]
    },
    {
     "name": "stderr",
     "output_type": "stream",
     "text": [
      "\u001b[32m[I 2020-12-04 22:42:52,585]\u001b[0m Finished trial#166 with value: 1.1307806079381482 with parameters: {'n_estimators': 178, 'max_depth': 45, 'subsample': 0.9, 'colsample_bytree': 0.8, 'learing_rate': 0.05739639867064376, 'reg_alpha': 6.0, 'min_child_samples': 29}. Best is trial#161 with value: 1.0886033490991482.\u001b[0m\n"
     ]
    },
    {
     "name": "stdout",
     "output_type": "stream",
     "text": [
      "\n"
     ]
    },
    {
     "name": "stderr",
     "output_type": "stream",
     "text": [
      "\u001b[32m[I 2020-12-04 22:42:53,404]\u001b[0m Finished trial#167 with value: 1.0896801347138292 with parameters: {'n_estimators': 156, 'max_depth': 183, 'subsample': 0.9, 'colsample_bytree': 0.8, 'learing_rate': 0.03809549935983888, 'reg_alpha': 6.0, 'min_child_samples': 18}. Best is trial#161 with value: 1.0886033490991482.\u001b[0m\n"
     ]
    },
    {
     "name": "stdout",
     "output_type": "stream",
     "text": [
      "\n"
     ]
    },
    {
     "name": "stderr",
     "output_type": "stream",
     "text": [
      "\u001b[32m[I 2020-12-04 22:42:54,207]\u001b[0m Finished trial#168 with value: 1.096023370659074 with parameters: {'n_estimators': 155, 'max_depth': 45, 'subsample': 0.4, 'colsample_bytree': 0.8, 'learing_rate': 0.05530645645727002, 'reg_alpha': 6.0, 'min_child_samples': 18}. Best is trial#161 with value: 1.0886033490991482.\u001b[0m\n"
     ]
    },
    {
     "name": "stdout",
     "output_type": "stream",
     "text": [
      "\n"
     ]
    },
    {
     "name": "stderr",
     "output_type": "stream",
     "text": [
      "\u001b[32m[I 2020-12-04 22:42:55,298]\u001b[0m Finished trial#169 with value: 1.1049763221667719 with parameters: {'n_estimators': 221, 'max_depth': 185, 'subsample': 1.0, 'colsample_bytree': 0.7000000000000001, 'learing_rate': 0.03849580801336116, 'reg_alpha': 6.0, 'min_child_samples': 24}. Best is trial#161 with value: 1.0886033490991482.\u001b[0m\n"
     ]
    },
    {
     "name": "stdout",
     "output_type": "stream",
     "text": [
      "\n"
     ]
    },
    {
     "name": "stderr",
     "output_type": "stream",
     "text": [
      "\u001b[32m[I 2020-12-04 22:42:57,453]\u001b[0m Finished trial#170 with value: 1.1562615038767616 with parameters: {'n_estimators': 447, 'max_depth': 33, 'subsample': 0.9, 'colsample_bytree': 0.8, 'learing_rate': 0.04566908550408628, 'reg_alpha': 6.0, 'min_child_samples': 20}. Best is trial#161 with value: 1.0886033490991482.\u001b[0m\n"
     ]
    },
    {
     "name": "stdout",
     "output_type": "stream",
     "text": [
      "\n"
     ]
    },
    {
     "name": "stderr",
     "output_type": "stream",
     "text": [
      "\u001b[32m[I 2020-12-04 22:42:58,137]\u001b[0m Finished trial#171 with value: 1.0952888003788213 with parameters: {'n_estimators': 132, 'max_depth': 176, 'subsample': 0.9, 'colsample_bytree': 0.8, 'learing_rate': 0.03966192979740466, 'reg_alpha': 6.0, 'min_child_samples': 17}. Best is trial#161 with value: 1.0886033490991482.\u001b[0m\n"
     ]
    },
    {
     "name": "stdout",
     "output_type": "stream",
     "text": [
      "\n"
     ]
    },
    {
     "name": "stderr",
     "output_type": "stream",
     "text": [
      "\u001b[32m[I 2020-12-04 22:42:58,982]\u001b[0m Finished trial#172 with value: 1.0926660775752401 with parameters: {'n_estimators': 163, 'max_depth': 53, 'subsample': 0.9, 'colsample_bytree': 0.8, 'learing_rate': 0.052163679935874854, 'reg_alpha': 6.0, 'min_child_samples': 12}. Best is trial#161 with value: 1.0886033490991482.\u001b[0m\n"
     ]
    },
    {
     "name": "stdout",
     "output_type": "stream",
     "text": [
      "\n"
     ]
    },
    {
     "name": "stderr",
     "output_type": "stream",
     "text": [
      "\u001b[32m[I 2020-12-04 22:42:59,905]\u001b[0m Finished trial#173 with value: 1.1114326180606175 with parameters: {'n_estimators': 187, 'max_depth': 53, 'subsample': 0.9, 'colsample_bytree': 0.8, 'learing_rate': 0.06511288114955752, 'reg_alpha': 6.0, 'min_child_samples': 12}. Best is trial#161 with value: 1.0886033490991482.\u001b[0m\n"
     ]
    },
    {
     "name": "stdout",
     "output_type": "stream",
     "text": [
      "\n"
     ]
    },
    {
     "name": "stderr",
     "output_type": "stream",
     "text": [
      "\u001b[32m[I 2020-12-04 22:43:00,751]\u001b[0m Finished trial#174 with value: 1.118708670916218 with parameters: {'n_estimators': 164, 'max_depth': 49, 'subsample': 0.8, 'colsample_bytree': 0.8, 'learing_rate': 0.07538916240855513, 'reg_alpha': 6.0, 'min_child_samples': 13}. Best is trial#161 with value: 1.0886033490991482.\u001b[0m\n"
     ]
    },
    {
     "name": "stdout",
     "output_type": "stream",
     "text": [
      "\n"
     ]
    },
    {
     "name": "stderr",
     "output_type": "stream",
     "text": [
      "\u001b[32m[I 2020-12-04 22:43:01,757]\u001b[0m Finished trial#175 with value: 1.1179140963947194 with parameters: {'n_estimators': 202, 'max_depth': 59, 'subsample': 0.9, 'colsample_bytree': 0.8, 'learing_rate': 0.05328720532446273, 'reg_alpha': 6.0, 'min_child_samples': 22}. Best is trial#161 with value: 1.0886033490991482.\u001b[0m\n"
     ]
    },
    {
     "name": "stdout",
     "output_type": "stream",
     "text": [
      "\n"
     ]
    },
    {
     "name": "stderr",
     "output_type": "stream",
     "text": [
      "\u001b[32m[I 2020-12-04 22:43:02,880]\u001b[0m Finished trial#176 with value: 1.1063093646142015 with parameters: {'n_estimators': 232, 'max_depth': 70, 'subsample': 0.9, 'colsample_bytree': 0.7000000000000001, 'learing_rate': 0.018778982501392375, 'reg_alpha': 6.0, 'min_child_samples': 18}. Best is trial#161 with value: 1.0886033490991482.\u001b[0m\n"
     ]
    },
    {
     "name": "stdout",
     "output_type": "stream",
     "text": [
      "\n"
     ]
    },
    {
     "name": "stderr",
     "output_type": "stream",
     "text": [
      "\u001b[32m[I 2020-12-04 22:43:03,705]\u001b[0m Finished trial#177 with value: 1.1023579511964094 with parameters: {'n_estimators': 159, 'max_depth': 37, 'subsample': 1.0, 'colsample_bytree': 0.8, 'learing_rate': 0.062084233418255995, 'reg_alpha': 6.0, 'min_child_samples': 10}. Best is trial#161 with value: 1.0886033490991482.\u001b[0m\n"
     ]
    },
    {
     "name": "stdout",
     "output_type": "stream",
     "text": [
      "\n"
     ]
    },
    {
     "name": "stderr",
     "output_type": "stream",
     "text": [
      "\u001b[32m[I 2020-12-04 22:43:04,587]\u001b[0m Finished trial#178 with value: 1.0970541756237215 with parameters: {'n_estimators': 175, 'max_depth': 40, 'subsample': 0.9, 'colsample_bytree': 0.8, 'learing_rate': 0.0463310361186226, 'reg_alpha': 6.0, 'min_child_samples': 20}. Best is trial#161 with value: 1.0886033490991482.\u001b[0m\n"
     ]
    },
    {
     "name": "stdout",
     "output_type": "stream",
     "text": [
      "\n"
     ]
    },
    {
     "name": "stderr",
     "output_type": "stream",
     "text": [
      "\u001b[32m[I 2020-12-04 22:43:06,119]\u001b[0m Finished trial#179 with value: 1.132274125387346 with parameters: {'n_estimators': 322, 'max_depth': 64, 'subsample': 0.9, 'colsample_bytree': 0.8, 'learing_rate': 0.051015881231516506, 'reg_alpha': 6.0, 'min_child_samples': 15}. Best is trial#161 with value: 1.0886033490991482.\u001b[0m\n"
     ]
    },
    {
     "name": "stdout",
     "output_type": "stream",
     "text": [
      "\n"
     ]
    },
    {
     "name": "stderr",
     "output_type": "stream",
     "text": [
      "\u001b[32m[I 2020-12-04 22:43:06,819]\u001b[0m Finished trial#180 with value: 1.0915571408826088 with parameters: {'n_estimators': 128, 'max_depth': 76, 'subsample': 0.8, 'colsample_bytree': 0.8, 'learing_rate': 0.04415875063598861, 'reg_alpha': 6.0, 'min_child_samples': 26}. Best is trial#161 with value: 1.0886033490991482.\u001b[0m\n"
     ]
    },
    {
     "name": "stdout",
     "output_type": "stream",
     "text": [
      "\n"
     ]
    },
    {
     "name": "stderr",
     "output_type": "stream",
     "text": [
      "\u001b[32m[I 2020-12-04 22:43:07,441]\u001b[0m Finished trial#181 with value: 1.0965722433551905 with parameters: {'n_estimators': 115, 'max_depth': 75, 'subsample': 0.8, 'colsample_bytree': 0.8, 'learing_rate': 0.04419233042358882, 'reg_alpha': 6.0, 'min_child_samples': 25}. Best is trial#161 with value: 1.0886033490991482.\u001b[0m\n"
     ]
    },
    {
     "name": "stdout",
     "output_type": "stream",
     "text": [
      "\n"
     ]
    },
    {
     "name": "stderr",
     "output_type": "stream",
     "text": [
      "\u001b[32m[I 2020-12-04 22:43:08,340]\u001b[0m Finished trial#182 with value: 1.098875916919628 with parameters: {'n_estimators': 132, 'max_depth': 98, 'subsample': 0.9, 'colsample_bytree': 0.8, 'learing_rate': 0.03661623475970017, 'reg_alpha': 6.0, 'min_child_samples': 29}. Best is trial#161 with value: 1.0886033490991482.\u001b[0m\n"
     ]
    },
    {
     "name": "stdout",
     "output_type": "stream",
     "text": [
      "\n"
     ]
    },
    {
     "name": "stderr",
     "output_type": "stream",
     "text": [
      "\u001b[32m[I 2020-12-04 22:43:08,915]\u001b[0m Finished trial#183 with value: 1.0952862461362236 with parameters: {'n_estimators': 101, 'max_depth': 54, 'subsample': 0.8, 'colsample_bytree': 0.8, 'learing_rate': 0.050534218663734344, 'reg_alpha': 6.0, 'min_child_samples': 27}. Best is trial#161 with value: 1.0886033490991482.\u001b[0m\n"
     ]
    },
    {
     "name": "stdout",
     "output_type": "stream",
     "text": [
      "\n"
     ]
    },
    {
     "name": "stderr",
     "output_type": "stream",
     "text": [
      "\u001b[32m[I 2020-12-04 22:43:09,674]\u001b[0m Finished trial#184 with value: 1.09273347869382 with parameters: {'n_estimators': 142, 'max_depth': 49, 'subsample': 0.9, 'colsample_bytree': 0.8, 'learing_rate': 0.04249137588616865, 'reg_alpha': 6.0, 'min_child_samples': 23}. Best is trial#161 with value: 1.0886033490991482.\u001b[0m\n"
     ]
    },
    {
     "name": "stdout",
     "output_type": "stream",
     "text": [
      "\n"
     ]
    },
    {
     "name": "stderr",
     "output_type": "stream",
     "text": [
      "\u001b[32m[I 2020-12-04 22:43:10,440]\u001b[0m Finished trial#185 with value: 1.0977366000990936 with parameters: {'n_estimators': 147, 'max_depth': 257, 'subsample': 0.9, 'colsample_bytree': 0.9, 'learing_rate': 0.04183143695276223, 'reg_alpha': 6.0, 'min_child_samples': 23}. Best is trial#161 with value: 1.0886033490991482.\u001b[0m\n"
     ]
    },
    {
     "name": "stdout",
     "output_type": "stream",
     "text": [
      "\n"
     ]
    },
    {
     "name": "stderr",
     "output_type": "stream",
     "text": [
      "\u001b[32m[I 2020-12-04 22:43:11,062]\u001b[0m Finished trial#186 with value: 1.1120811252349552 with parameters: {'n_estimators': 117, 'max_depth': 163, 'subsample': 1.0, 'colsample_bytree': 0.7000000000000001, 'learing_rate': 0.03441389418303809, 'reg_alpha': 6.0, 'min_child_samples': 25}. Best is trial#161 with value: 1.0886033490991482.\u001b[0m\n"
     ]
    },
    {
     "name": "stdout",
     "output_type": "stream",
     "text": [
      "\n"
     ]
    },
    {
     "name": "stderr",
     "output_type": "stream",
     "text": [
      "\u001b[32m[I 2020-12-04 22:43:11,564]\u001b[0m Finished trial#187 with value: 1.2295567429054493 with parameters: {'n_estimators': 89, 'max_depth': 245, 'subsample': 0.9, 'colsample_bytree': 0.9, 'learing_rate': 0.025157640338213164, 'reg_alpha': 6.0, 'min_child_samples': 21}. Best is trial#161 with value: 1.0886033490991482.\u001b[0m\n"
     ]
    },
    {
     "name": "stdout",
     "output_type": "stream",
     "text": [
      "\n"
     ]
    },
    {
     "name": "stderr",
     "output_type": "stream",
     "text": [
      "\u001b[32m[I 2020-12-04 22:43:12,335]\u001b[0m Finished trial#188 with value: 1.1041490875894413 with parameters: {'n_estimators': 146, 'max_depth': 80, 'subsample': 0.8, 'colsample_bytree': 0.8, 'learing_rate': 0.05821302736081478, 'reg_alpha': 6.0, 'min_child_samples': 23}. Best is trial#161 with value: 1.0886033490991482.\u001b[0m\n"
     ]
    },
    {
     "name": "stdout",
     "output_type": "stream",
     "text": [
      "\n"
     ]
    },
    {
     "name": "stderr",
     "output_type": "stream",
     "text": [
      "\u001b[32m[I 2020-12-04 22:43:13,822]\u001b[0m Finished trial#189 with value: 1.1225988773236608 with parameters: {'n_estimators': 294, 'max_depth': 252, 'subsample': 1.0, 'colsample_bytree': 0.9, 'learing_rate': 0.0380168946862684, 'reg_alpha': 6.0, 'min_child_samples': 31}. Best is trial#161 with value: 1.0886033490991482.\u001b[0m\n"
     ]
    },
    {
     "name": "stdout",
     "output_type": "stream",
     "text": [
      "\n"
     ]
    },
    {
     "name": "stderr",
     "output_type": "stream",
     "text": [
      "\u001b[32m[I 2020-12-04 22:43:14,259]\u001b[0m Finished trial#190 with value: 1.3865132588665576 with parameters: {'n_estimators': 73, 'max_depth': 87, 'subsample': 0.9, 'colsample_bytree': 0.8, 'learing_rate': 0.01762838002683661, 'reg_alpha': 6.0, 'min_child_samples': 19}. Best is trial#161 with value: 1.0886033490991482.\u001b[0m\n"
     ]
    },
    {
     "name": "stdout",
     "output_type": "stream",
     "text": [
      "\n"
     ]
    },
    {
     "name": "stderr",
     "output_type": "stream",
     "text": [
      "\u001b[32m[I 2020-12-04 22:43:15,249]\u001b[0m Finished trial#191 with value: 1.1019637051074338 with parameters: {'n_estimators': 194, 'max_depth': 33, 'subsample': 0.9, 'colsample_bytree': 0.8, 'learing_rate': 0.04629585934734331, 'reg_alpha': 6.0, 'min_child_samples': 27}. Best is trial#161 with value: 1.0886033490991482.\u001b[0m\n"
     ]
    },
    {
     "name": "stdout",
     "output_type": "stream",
     "text": [
      "\n"
     ]
    },
    {
     "name": "stderr",
     "output_type": "stream",
     "text": [
      "\u001b[32m[I 2020-12-04 22:43:16,113]\u001b[0m Finished trial#192 with value: 1.0927016943029364 with parameters: {'n_estimators': 165, 'max_depth': 52, 'subsample': 0.9, 'colsample_bytree': 0.8, 'learing_rate': 0.04374649899128575, 'reg_alpha': 6.0, 'min_child_samples': 17}. Best is trial#161 with value: 1.0886033490991482.\u001b[0m\n"
     ]
    },
    {
     "name": "stdout",
     "output_type": "stream",
     "text": [
      "\n"
     ]
    },
    {
     "name": "stderr",
     "output_type": "stream",
     "text": [
      "\u001b[32m[I 2020-12-04 22:43:16,803]\u001b[0m Finished trial#193 with value: 1.0929354306045627 with parameters: {'n_estimators': 130, 'max_depth': 48, 'subsample': 0.9, 'colsample_bytree': 0.8, 'learing_rate': 0.042657137542835566, 'reg_alpha': 6.0, 'min_child_samples': 17}. Best is trial#161 with value: 1.0886033490991482.\u001b[0m\n"
     ]
    },
    {
     "name": "stdout",
     "output_type": "stream",
     "text": [
      "\n"
     ]
    },
    {
     "name": "stderr",
     "output_type": "stream",
     "text": [
      "\u001b[32m[I 2020-12-04 22:43:17,644]\u001b[0m Finished trial#194 with value: 1.0945697805812422 with parameters: {'n_estimators': 164, 'max_depth': 51, 'subsample': 0.9, 'colsample_bytree': 0.8, 'learing_rate': 0.04158324791379656, 'reg_alpha': 6.0, 'min_child_samples': 17}. Best is trial#161 with value: 1.0886033490991482.\u001b[0m\n"
     ]
    },
    {
     "name": "stdout",
     "output_type": "stream",
     "text": [
      "\n"
     ]
    },
    {
     "name": "stderr",
     "output_type": "stream",
     "text": [
      "\u001b[32m[I 2020-12-04 22:43:18,307]\u001b[0m Finished trial#195 with value: 1.0954817101444236 with parameters: {'n_estimators': 124, 'max_depth': 62, 'subsample': 0.9, 'colsample_bytree': 0.8, 'learing_rate': 0.05205878388703172, 'reg_alpha': 6.0, 'min_child_samples': 21}. Best is trial#161 with value: 1.0886033490991482.\u001b[0m\n"
     ]
    },
    {
     "name": "stdout",
     "output_type": "stream",
     "text": [
      "\n"
     ]
    },
    {
     "name": "stderr",
     "output_type": "stream",
     "text": [
      "\u001b[32m[I 2020-12-04 22:43:19,012]\u001b[0m Finished trial#196 with value: 1.0929303899409342 with parameters: {'n_estimators': 131, 'max_depth': 43, 'subsample': 0.9, 'colsample_bytree': 0.8, 'learing_rate': 0.04154482181142661, 'reg_alpha': 6.0, 'min_child_samples': 14}. Best is trial#161 with value: 1.0886033490991482.\u001b[0m\n"
     ]
    },
    {
     "name": "stdout",
     "output_type": "stream",
     "text": [
      "\n"
     ]
    },
    {
     "name": "stderr",
     "output_type": "stream",
     "text": [
      "\u001b[32m[I 2020-12-04 22:43:19,560]\u001b[0m Finished trial#197 with value: 1.127946937121861 with parameters: {'n_estimators': 103, 'max_depth': 37, 'subsample': 0.9, 'colsample_bytree': 0.8, 'learing_rate': 0.03814554146787741, 'reg_alpha': 6.0, 'min_child_samples': 14}. Best is trial#161 with value: 1.0886033490991482.\u001b[0m\n"
     ]
    },
    {
     "name": "stdout",
     "output_type": "stream",
     "text": [
      "\n"
     ]
    },
    {
     "name": "stderr",
     "output_type": "stream",
     "text": [
      "\u001b[32m[I 2020-12-04 22:43:20,272]\u001b[0m Finished trial#198 with value: 1.094938865254505 with parameters: {'n_estimators': 134, 'max_depth': 42, 'subsample': 0.9, 'colsample_bytree': 0.7000000000000001, 'learing_rate': 0.04135017290227603, 'reg_alpha': 2.0, 'min_child_samples': 25}. Best is trial#161 with value: 1.0886033490991482.\u001b[0m\n"
     ]
    },
    {
     "name": "stdout",
     "output_type": "stream",
     "text": [
      "\n"
     ]
    },
    {
     "name": "stderr",
     "output_type": "stream",
     "text": [
      "\u001b[32m[I 2020-12-04 22:43:21,058]\u001b[0m Finished trial#199 with value: 1.095261476512762 with parameters: {'n_estimators': 149, 'max_depth': 58, 'subsample': 0.9, 'colsample_bytree': 0.8, 'learing_rate': 0.0333018417145015, 'reg_alpha': 6.0, 'min_child_samples': 22}. Best is trial#161 with value: 1.0886033490991482.\u001b[0m\n"
     ]
    },
    {
     "name": "stdout",
     "output_type": "stream",
     "text": [
      "\n"
     ]
    },
    {
     "name": "stderr",
     "output_type": "stream",
     "text": [
      "\u001b[32m[I 2020-12-04 22:43:21,742]\u001b[0m Finished trial#200 with value: 1.097196102308402 with parameters: {'n_estimators': 128, 'max_depth': 27, 'subsample': 0.9, 'colsample_bytree': 0.8, 'learing_rate': 0.05526738523233553, 'reg_alpha': 6.0, 'min_child_samples': 15}. Best is trial#161 with value: 1.0886033490991482.\u001b[0m\n"
     ]
    },
    {
     "name": "stdout",
     "output_type": "stream",
     "text": [
      "\n"
     ]
    },
    {
     "name": "stderr",
     "output_type": "stream",
     "text": [
      "\u001b[32m[I 2020-12-04 22:43:22,556]\u001b[0m Finished trial#201 with value: 1.0975147885505265 with parameters: {'n_estimators': 158, 'max_depth': 48, 'subsample': 0.9, 'colsample_bytree': 0.8, 'learing_rate': 0.0441288375413371, 'reg_alpha': 6.0, 'min_child_samples': 17}. Best is trial#161 with value: 1.0886033490991482.\u001b[0m\n"
     ]
    },
    {
     "name": "stdout",
     "output_type": "stream",
     "text": [
      "\n"
     ]
    },
    {
     "name": "stderr",
     "output_type": "stream",
     "text": [
      "\u001b[32m[I 2020-12-04 22:43:23,467]\u001b[0m Finished trial#202 with value: 1.1001553902521946 with parameters: {'n_estimators': 174, 'max_depth': 72, 'subsample': 0.9, 'colsample_bytree': 0.8, 'learing_rate': 0.04829311256188332, 'reg_alpha': 6.0, 'min_child_samples': 18}. Best is trial#161 with value: 1.0886033490991482.\u001b[0m\n"
     ]
    },
    {
     "name": "stdout",
     "output_type": "stream",
     "text": [
      "\n"
     ]
    },
    {
     "name": "stderr",
     "output_type": "stream",
     "text": [
      "\u001b[32m[I 2020-12-04 22:43:24,206]\u001b[0m Finished trial#203 with value: 1.089928491305228 with parameters: {'n_estimators': 141, 'max_depth': 130, 'subsample': 0.9, 'colsample_bytree': 0.8, 'learing_rate': 0.042448289341952036, 'reg_alpha': 6.0, 'min_child_samples': 20}. Best is trial#161 with value: 1.0886033490991482.\u001b[0m\n"
     ]
    },
    {
     "name": "stdout",
     "output_type": "stream",
     "text": [
      "\n"
     ]
    },
    {
     "name": "stderr",
     "output_type": "stream",
     "text": [
      "\u001b[32m[I 2020-12-04 22:43:24,940]\u001b[0m Finished trial#204 with value: 1.0878781417322703 with parameters: {'n_estimators': 139, 'max_depth': 141, 'subsample': 0.9, 'colsample_bytree': 0.8, 'learing_rate': 0.03764594006398187, 'reg_alpha': 6.0, 'min_child_samples': 20}. Best is trial#204 with value: 1.0878781417322703.\u001b[0m\n"
     ]
    },
    {
     "name": "stdout",
     "output_type": "stream",
     "text": [
      "\n"
     ]
    },
    {
     "name": "stderr",
     "output_type": "stream",
     "text": [
      "\u001b[32m[I 2020-12-04 22:43:25,691]\u001b[0m Finished trial#205 with value: 1.09555792194173 with parameters: {'n_estimators': 144, 'max_depth': 127, 'subsample': 0.9, 'colsample_bytree': 0.8, 'learing_rate': 0.03917706220878946, 'reg_alpha': 6.0, 'min_child_samples': 20}. Best is trial#204 with value: 1.0878781417322703.\u001b[0m\n"
     ]
    },
    {
     "name": "stdout",
     "output_type": "stream",
     "text": [
      "\n"
     ]
    },
    {
     "name": "stderr",
     "output_type": "stream",
     "text": [
      "\u001b[32m[I 2020-12-04 22:43:26,381]\u001b[0m Finished trial#206 with value: 1.1049294712633602 with parameters: {'n_estimators': 126, 'max_depth': 140, 'subsample': 0.9, 'colsample_bytree': 0.8, 'learing_rate': 0.034996587887114954, 'reg_alpha': 6.0, 'min_child_samples': 19}. Best is trial#204 with value: 1.0878781417322703.\u001b[0m\n"
     ]
    },
    {
     "name": "stdout",
     "output_type": "stream",
     "text": [
      "\n"
     ]
    },
    {
     "name": "stderr",
     "output_type": "stream",
     "text": [
      "\u001b[32m[I 2020-12-04 22:43:26,970]\u001b[0m Finished trial#207 with value: 1.111545071963376 with parameters: {'n_estimators': 110, 'max_depth': 132, 'subsample': 0.8, 'colsample_bytree': 0.8, 'learing_rate': 0.036873838157775486, 'reg_alpha': 6.0, 'min_child_samples': 22}. Best is trial#204 with value: 1.0878781417322703.\u001b[0m\n"
     ]
    },
    {
     "name": "stdout",
     "output_type": "stream",
     "text": [
      "\n"
     ]
    },
    {
     "name": "stderr",
     "output_type": "stream",
     "text": [
      "\u001b[32m[I 2020-12-04 22:43:27,697]\u001b[0m Finished trial#208 with value: 1.1134329109661985 with parameters: {'n_estimators': 142, 'max_depth': 135, 'subsample': 0.9, 'colsample_bytree': 0.8, 'learing_rate': 0.03129840522668107, 'reg_alpha': 6.0, 'min_child_samples': 14}. Best is trial#204 with value: 1.0878781417322703.\u001b[0m\n"
     ]
    },
    {
     "name": "stdout",
     "output_type": "stream",
     "text": [
      "\n"
     ]
    },
    {
     "name": "stderr",
     "output_type": "stream",
     "text": [
      "\u001b[32m[I 2020-12-04 22:43:30,064]\u001b[0m Finished trial#209 with value: 1.1615594177116384 with parameters: {'n_estimators': 495, 'max_depth': 117, 'subsample': 0.30000000000000004, 'colsample_bytree': 0.8, 'learing_rate': 0.04270635277314832, 'reg_alpha': 6.0, 'min_child_samples': 20}. Best is trial#204 with value: 1.0878781417322703.\u001b[0m\n"
     ]
    },
    {
     "name": "stdout",
     "output_type": "stream",
     "text": [
      "\n"
     ]
    },
    {
     "name": "stderr",
     "output_type": "stream",
     "text": [
      "\u001b[32m[I 2020-12-04 22:43:30,890]\u001b[0m Finished trial#210 with value: 1.0923953741221875 with parameters: {'n_estimators': 160, 'max_depth': 154, 'subsample': 0.9, 'colsample_bytree': 0.8, 'learing_rate': 0.04240547562525587, 'reg_alpha': 6.0, 'min_child_samples': 11}. Best is trial#204 with value: 1.0878781417322703.\u001b[0m\n"
     ]
    },
    {
     "name": "stdout",
     "output_type": "stream",
     "text": [
      "\n"
     ]
    },
    {
     "name": "stderr",
     "output_type": "stream",
     "text": [
      "\u001b[32m[I 2020-12-04 22:43:31,686]\u001b[0m Finished trial#211 with value: 1.09052682432224 with parameters: {'n_estimators': 155, 'max_depth': 124, 'subsample': 0.9, 'colsample_bytree': 0.8, 'learing_rate': 0.04274864006224189, 'reg_alpha': 6.0, 'min_child_samples': 10}. Best is trial#204 with value: 1.0878781417322703.\u001b[0m\n"
     ]
    },
    {
     "name": "stdout",
     "output_type": "stream",
     "text": [
      "\n"
     ]
    },
    {
     "name": "stderr",
     "output_type": "stream",
     "text": [
      "\u001b[32m[I 2020-12-04 22:43:32,606]\u001b[0m Finished trial#212 with value: 1.093331936017656 with parameters: {'n_estimators': 180, 'max_depth': 122, 'subsample': 0.9, 'colsample_bytree': 0.8, 'learing_rate': 0.03897364480966437, 'reg_alpha': 6.0, 'min_child_samples': 10}. Best is trial#204 with value: 1.0878781417322703.\u001b[0m\n"
     ]
    },
    {
     "name": "stdout",
     "output_type": "stream",
     "text": [
      "\n"
     ]
    },
    {
     "name": "stderr",
     "output_type": "stream",
     "text": [
      "\u001b[32m[I 2020-12-04 22:43:33,396]\u001b[0m Finished trial#213 with value: 1.0962776562421885 with parameters: {'n_estimators': 157, 'max_depth': 153, 'subsample': 0.9, 'colsample_bytree': 0.7000000000000001, 'learing_rate': 0.04898197145771322, 'reg_alpha': 6.0, 'min_child_samples': 12}. Best is trial#204 with value: 1.0878781417322703.\u001b[0m\n"
     ]
    },
    {
     "name": "stdout",
     "output_type": "stream",
     "text": [
      "\n"
     ]
    },
    {
     "name": "stderr",
     "output_type": "stream",
     "text": [
      "\u001b[32m[I 2020-12-04 22:43:34,234]\u001b[0m Finished trial#214 with value: 1.0929899088755934 with parameters: {'n_estimators': 163, 'max_depth': 145, 'subsample': 0.9, 'colsample_bytree': 0.8, 'learing_rate': 0.04164758204072685, 'reg_alpha': 6.0, 'min_child_samples': 12}. Best is trial#204 with value: 1.0878781417322703.\u001b[0m\n"
     ]
    },
    {
     "name": "stdout",
     "output_type": "stream",
     "text": [
      "\n"
     ]
    },
    {
     "name": "stderr",
     "output_type": "stream",
     "text": [
      "\u001b[32m[I 2020-12-04 22:43:34,990]\u001b[0m Finished trial#215 with value: 1.166969523602623 with parameters: {'n_estimators': 148, 'max_depth': 124, 'subsample': 0.9, 'colsample_bytree': 0.8, 'learing_rate': 0.021595680129999566, 'reg_alpha': 6.0, 'min_child_samples': 11}. Best is trial#204 with value: 1.0878781417322703.\u001b[0m\n"
     ]
    },
    {
     "name": "stdout",
     "output_type": "stream",
     "text": [
      "\n"
     ]
    },
    {
     "name": "stderr",
     "output_type": "stream",
     "text": [
      "\u001b[32m[I 2020-12-04 22:43:35,960]\u001b[0m Finished trial#216 with value: 1.0903410629411623 with parameters: {'n_estimators': 191, 'max_depth': 130, 'subsample': 0.9, 'colsample_bytree': 0.8, 'learing_rate': 0.03535546335621991, 'reg_alpha': 6.0, 'min_child_samples': 15}. Best is trial#204 with value: 1.0878781417322703.\u001b[0m\n"
     ]
    },
    {
     "name": "stdout",
     "output_type": "stream",
     "text": [
      "\n"
     ]
    },
    {
     "name": "stderr",
     "output_type": "stream",
     "text": [
      "\u001b[32m[I 2020-12-04 22:43:36,904]\u001b[0m Finished trial#217 with value: 1.1084871392213003 with parameters: {'n_estimators': 200, 'max_depth': 113, 'subsample': 0.9, 'colsample_bytree': 0.5, 'learing_rate': 0.035537088601025384, 'reg_alpha': 6.0, 'min_child_samples': 10}. Best is trial#204 with value: 1.0878781417322703.\u001b[0m\n"
     ]
    },
    {
     "name": "stdout",
     "output_type": "stream",
     "text": [
      "\n"
     ]
    },
    {
     "name": "stderr",
     "output_type": "stream",
     "text": [
      "\u001b[32m[I 2020-12-04 22:43:37,857]\u001b[0m Finished trial#218 with value: 1.0904758972347728 with parameters: {'n_estimators': 181, 'max_depth': 136, 'subsample': 0.8, 'colsample_bytree': 0.8, 'learing_rate': 0.03058285852838655, 'reg_alpha': 6.0, 'min_child_samples': 16}. Best is trial#204 with value: 1.0878781417322703.\u001b[0m\n"
     ]
    },
    {
     "name": "stdout",
     "output_type": "stream",
     "text": [
      "\n"
     ]
    },
    {
     "name": "stderr",
     "output_type": "stream",
     "text": [
      "\u001b[32m[I 2020-12-04 22:43:38,850]\u001b[0m Finished trial#219 with value: 1.0919759605039476 with parameters: {'n_estimators': 189, 'max_depth': 131, 'subsample': 0.8, 'colsample_bytree': 0.8, 'learing_rate': 0.028566218839001543, 'reg_alpha': 6.0, 'min_child_samples': 16}. Best is trial#204 with value: 1.0878781417322703.\u001b[0m\n"
     ]
    },
    {
     "name": "stdout",
     "output_type": "stream",
     "text": [
      "\n"
     ]
    },
    {
     "name": "stderr",
     "output_type": "stream",
     "text": [
      "\u001b[32m[I 2020-12-04 22:43:39,960]\u001b[0m Finished trial#220 with value: 1.0891073133974487 with parameters: {'n_estimators': 210, 'max_depth': 136, 'subsample': 0.8, 'colsample_bytree': 0.9, 'learing_rate': 0.02911681597258925, 'reg_alpha': 6.0, 'min_child_samples': 16}. Best is trial#204 with value: 1.0878781417322703.\u001b[0m\n"
     ]
    },
    {
     "name": "stdout",
     "output_type": "stream",
     "text": [
      "\n"
     ]
    },
    {
     "name": "stderr",
     "output_type": "stream",
     "text": [
      "\u001b[32m[I 2020-12-04 22:43:41,049]\u001b[0m Finished trial#221 with value: 1.08885348161697 with parameters: {'n_estimators': 216, 'max_depth': 130, 'subsample': 0.8, 'colsample_bytree': 0.9, 'learing_rate': 0.030228572762418665, 'reg_alpha': 6.0, 'min_child_samples': 15}. Best is trial#204 with value: 1.0878781417322703.\u001b[0m\n"
     ]
    },
    {
     "name": "stdout",
     "output_type": "stream",
     "text": [
      "\n"
     ]
    },
    {
     "name": "stderr",
     "output_type": "stream",
     "text": [
      "\u001b[32m[I 2020-12-04 22:43:42,140]\u001b[0m Finished trial#222 with value: 1.0925752563077027 with parameters: {'n_estimators': 210, 'max_depth': 131, 'subsample': 0.8, 'colsample_bytree': 0.9, 'learing_rate': 0.028966118005033303, 'reg_alpha': 6.0, 'min_child_samples': 15}. Best is trial#204 with value: 1.0878781417322703.\u001b[0m\n"
     ]
    },
    {
     "name": "stdout",
     "output_type": "stream",
     "text": [
      "\n"
     ]
    },
    {
     "name": "stderr",
     "output_type": "stream",
     "text": [
      "\u001b[32m[I 2020-12-04 22:43:43,300]\u001b[0m Finished trial#223 with value: 1.091964429870372 with parameters: {'n_estimators': 221, 'max_depth': 135, 'subsample': 0.8, 'colsample_bytree': 0.9, 'learing_rate': 0.028566999640626648, 'reg_alpha': 6.0, 'min_child_samples': 15}. Best is trial#204 with value: 1.0878781417322703.\u001b[0m\n"
     ]
    },
    {
     "name": "stdout",
     "output_type": "stream",
     "text": [
      "\n"
     ]
    },
    {
     "name": "stderr",
     "output_type": "stream",
     "text": [
      "\u001b[32m[I 2020-12-04 22:43:44,398]\u001b[0m Finished trial#224 with value: 1.0976454692584052 with parameters: {'n_estimators': 213, 'max_depth': 140, 'subsample': 0.7000000000000001, 'colsample_bytree': 0.9, 'learing_rate': 0.023327367786048388, 'reg_alpha': 6.0, 'min_child_samples': 16}. Best is trial#204 with value: 1.0878781417322703.\u001b[0m\n"
     ]
    },
    {
     "name": "stdout",
     "output_type": "stream",
     "text": [
      "\n"
     ]
    },
    {
     "name": "stderr",
     "output_type": "stream",
     "text": [
      "\u001b[32m[I 2020-12-04 22:43:45,574]\u001b[0m Finished trial#225 with value: 1.0914789420441275 with parameters: {'n_estimators': 228, 'max_depth': 139, 'subsample': 0.8, 'colsample_bytree': 0.9, 'learing_rate': 0.029040393302077347, 'reg_alpha': 6.0, 'min_child_samples': 14}. Best is trial#204 with value: 1.0878781417322703.\u001b[0m\n"
     ]
    },
    {
     "name": "stdout",
     "output_type": "stream",
     "text": [
      "\n"
     ]
    },
    {
     "name": "stderr",
     "output_type": "stream",
     "text": [
      "\u001b[32m[I 2020-12-04 22:43:46,779]\u001b[0m Finished trial#226 with value: 1.0892283459955632 with parameters: {'n_estimators': 230, 'max_depth': 139, 'subsample': 0.8, 'colsample_bytree': 0.9, 'learing_rate': 0.027883641189271606, 'reg_alpha': 6.0, 'min_child_samples': 14}. Best is trial#204 with value: 1.0878781417322703.\u001b[0m\n"
     ]
    },
    {
     "name": "stdout",
     "output_type": "stream",
     "text": [
      "\n"
     ]
    },
    {
     "name": "stderr",
     "output_type": "stream",
     "text": [
      "\u001b[32m[I 2020-12-04 22:43:47,987]\u001b[0m Finished trial#227 with value: 1.092799031530171 with parameters: {'n_estimators': 235, 'max_depth': 134, 'subsample': 0.8, 'colsample_bytree': 0.9, 'learing_rate': 0.02833396215202987, 'reg_alpha': 6.0, 'min_child_samples': 15}. Best is trial#204 with value: 1.0878781417322703.\u001b[0m\n"
     ]
    },
    {
     "name": "stdout",
     "output_type": "stream",
     "text": [
      "\n"
     ]
    },
    {
     "name": "stderr",
     "output_type": "stream",
     "text": [
      "\u001b[32m[I 2020-12-04 22:43:49,133]\u001b[0m Finished trial#228 with value: 1.0956637044909485 with parameters: {'n_estimators': 221, 'max_depth': 140, 'subsample': 0.8, 'colsample_bytree': 0.9, 'learing_rate': 0.026137122591761215, 'reg_alpha': 6.0, 'min_child_samples': 19}. Best is trial#204 with value: 1.0878781417322703.\u001b[0m\n"
     ]
    },
    {
     "name": "stdout",
     "output_type": "stream",
     "text": [
      "\n"
     ]
    },
    {
     "name": "stderr",
     "output_type": "stream",
     "text": [
      "\u001b[32m[I 2020-12-04 22:43:50,363]\u001b[0m Finished trial#229 with value: 1.095920396184416 with parameters: {'n_estimators': 247, 'max_depth': 127, 'subsample': 0.8, 'colsample_bytree': 0.9, 'learing_rate': 0.031652052447695124, 'reg_alpha': 6.0, 'min_child_samples': 14}. Best is trial#204 with value: 1.0878781417322703.\u001b[0m\n"
     ]
    },
    {
     "name": "stdout",
     "output_type": "stream",
     "text": [
      "\n"
     ]
    },
    {
     "name": "stderr",
     "output_type": "stream",
     "text": [
      "\u001b[32m[I 2020-12-04 22:43:51,511]\u001b[0m Finished trial#230 with value: 1.094216503354304 with parameters: {'n_estimators': 226, 'max_depth': 147, 'subsample': 0.8, 'colsample_bytree': 0.9, 'learing_rate': 0.0247480994567885, 'reg_alpha': 6.0, 'min_child_samples': 13}. Best is trial#204 with value: 1.0878781417322703.\u001b[0m\n"
     ]
    },
    {
     "name": "stdout",
     "output_type": "stream",
     "text": [
      "\n"
     ]
    },
    {
     "name": "stderr",
     "output_type": "stream",
     "text": [
      "\u001b[32m[I 2020-12-04 22:43:52,567]\u001b[0m Finished trial#231 with value: 1.08927659514127 with parameters: {'n_estimators': 203, 'max_depth': 137, 'subsample': 0.8, 'colsample_bytree': 0.9, 'learing_rate': 0.03034211572711217, 'reg_alpha': 6.0, 'min_child_samples': 16}. Best is trial#204 with value: 1.0878781417322703.\u001b[0m\n"
     ]
    },
    {
     "name": "stdout",
     "output_type": "stream",
     "text": [
      "\n"
     ]
    },
    {
     "name": "stderr",
     "output_type": "stream",
     "text": [
      "\u001b[32m[I 2020-12-04 22:43:53,616]\u001b[0m Finished trial#232 with value: 1.0909942680873994 with parameters: {'n_estimators': 205, 'max_depth': 136, 'subsample': 0.8, 'colsample_bytree': 0.9, 'learing_rate': 0.030449673141682045, 'reg_alpha': 6.0, 'min_child_samples': 16}. Best is trial#204 with value: 1.0878781417322703.\u001b[0m\n"
     ]
    },
    {
     "name": "stdout",
     "output_type": "stream",
     "text": [
      "\n"
     ]
    },
    {
     "name": "stderr",
     "output_type": "stream",
     "text": [
      "\u001b[32m[I 2020-12-04 22:43:54,698]\u001b[0m Finished trial#233 with value: 1.0871316108187778 with parameters: {'n_estimators': 212, 'max_depth': 138, 'subsample': 0.8, 'colsample_bytree': 0.9, 'learing_rate': 0.03254984182886218, 'reg_alpha': 6.0, 'min_child_samples': 18}. Best is trial#233 with value: 1.0871316108187778.\u001b[0m\n"
     ]
    },
    {
     "name": "stdout",
     "output_type": "stream",
     "text": [
      "\n"
     ]
    },
    {
     "name": "stderr",
     "output_type": "stream",
     "text": [
      "\u001b[32m[I 2020-12-04 22:43:55,594]\u001b[0m Finished trial#234 with value: 1.1763649354727643 with parameters: {'n_estimators': 207, 'max_depth': 137, 'subsample': 0.8, 'colsample_bytree': 0.30000000000000004, 'learing_rate': 0.03039568468247639, 'reg_alpha': 6.0, 'min_child_samples': 16}. Best is trial#233 with value: 1.0871316108187778.\u001b[0m\n"
     ]
    },
    {
     "name": "stdout",
     "output_type": "stream",
     "text": [
      "\n"
     ]
    },
    {
     "name": "stderr",
     "output_type": "stream",
     "text": [
      "\u001b[32m[I 2020-12-04 22:43:56,792]\u001b[0m Finished trial#235 with value: 1.0917456800701661 with parameters: {'n_estimators': 234, 'max_depth': 129, 'subsample': 0.8, 'colsample_bytree': 0.9, 'learing_rate': 0.03227508526946383, 'reg_alpha': 6.0, 'min_child_samples': 18}. Best is trial#233 with value: 1.0871316108187778.\u001b[0m\n"
     ]
    },
    {
     "name": "stdout",
     "output_type": "stream",
     "text": [
      "\n"
     ]
    },
    {
     "name": "stderr",
     "output_type": "stream",
     "text": [
      "\u001b[32m[I 2020-12-04 22:43:58,001]\u001b[0m Finished trial#236 with value: 1.0941828492646435 with parameters: {'n_estimators': 241, 'max_depth': 129, 'subsample': 0.8, 'colsample_bytree': 0.9, 'learing_rate': 0.03245379793924106, 'reg_alpha': 6.0, 'min_child_samples': 17}. Best is trial#233 with value: 1.0871316108187778.\u001b[0m\n"
     ]
    },
    {
     "name": "stdout",
     "output_type": "stream",
     "text": [
      "\n"
     ]
    },
    {
     "name": "stderr",
     "output_type": "stream",
     "text": [
      "\u001b[32m[I 2020-12-04 22:43:59,158]\u001b[0m Finished trial#237 with value: 1.0975685210690829 with parameters: {'n_estimators': 223, 'max_depth': 141, 'subsample': 0.8, 'colsample_bytree': 0.9, 'learing_rate': 0.03335736528087283, 'reg_alpha': 6.0, 'min_child_samples': 18}. Best is trial#233 with value: 1.0871316108187778.\u001b[0m\n"
     ]
    },
    {
     "name": "stdout",
     "output_type": "stream",
     "text": [
      "\n"
     ]
    },
    {
     "name": "stderr",
     "output_type": "stream",
     "text": [
      "\u001b[32m[I 2020-12-04 22:44:00,445]\u001b[0m Finished trial#238 with value: 1.0920674344449466 with parameters: {'n_estimators': 256, 'max_depth': 125, 'subsample': 0.7000000000000001, 'colsample_bytree': 0.9, 'learing_rate': 0.030043830547985356, 'reg_alpha': 6.0, 'min_child_samples': 14}. Best is trial#233 with value: 1.0871316108187778.\u001b[0m\n"
     ]
    },
    {
     "name": "stdout",
     "output_type": "stream",
     "text": [
      "\n"
     ]
    },
    {
     "name": "stderr",
     "output_type": "stream",
     "text": [
      "\u001b[32m[I 2020-12-04 22:44:01,607]\u001b[0m Finished trial#239 with value: 1.0906634252118985 with parameters: {'n_estimators': 228, 'max_depth': 136, 'subsample': 0.8, 'colsample_bytree': 0.9, 'learing_rate': 0.03427392762555299, 'reg_alpha': 6.0, 'min_child_samples': 18}. Best is trial#233 with value: 1.0871316108187778.\u001b[0m\n"
     ]
    },
    {
     "name": "stdout",
     "output_type": "stream",
     "text": [
      "\n"
     ]
    },
    {
     "name": "stderr",
     "output_type": "stream",
     "text": [
      "\u001b[32m[I 2020-12-04 22:44:02,825]\u001b[0m Finished trial#240 with value: 1.0966757838068042 with parameters: {'n_estimators': 243, 'max_depth': 141, 'subsample': 0.8, 'colsample_bytree': 0.9, 'learing_rate': 0.034124312377297766, 'reg_alpha': 6.0, 'min_child_samples': 19}. Best is trial#233 with value: 1.0871316108187778.\u001b[0m\n"
     ]
    },
    {
     "name": "stdout",
     "output_type": "stream",
     "text": [
      "\n"
     ]
    },
    {
     "name": "stderr",
     "output_type": "stream",
     "text": [
      "\u001b[32m[I 2020-12-04 22:44:03,947]\u001b[0m Finished trial#241 with value: 1.0916389079285742 with parameters: {'n_estimators': 220, 'max_depth': 136, 'subsample': 0.8, 'colsample_bytree': 0.9, 'learing_rate': 0.031009585493601995, 'reg_alpha': 6.0, 'min_child_samples': 18}. Best is trial#233 with value: 1.0871316108187778.\u001b[0m\n"
     ]
    },
    {
     "name": "stdout",
     "output_type": "stream",
     "text": [
      "\n"
     ]
    },
    {
     "name": "stderr",
     "output_type": "stream",
     "text": [
      "\u001b[32m[I 2020-12-04 22:44:04,994]\u001b[0m Finished trial#242 with value: 1.0943107343435137 with parameters: {'n_estimators': 200, 'max_depth': 135, 'subsample': 0.8, 'colsample_bytree': 0.9, 'learing_rate': 0.0318264245284945, 'reg_alpha': 6.0, 'min_child_samples': 18}. Best is trial#233 with value: 1.0871316108187778.\u001b[0m\n"
     ]
    },
    {
     "name": "stdout",
     "output_type": "stream",
     "text": [
      "\n"
     ]
    },
    {
     "name": "stderr",
     "output_type": "stream",
     "text": [
      "\u001b[32m[I 2020-12-04 22:44:06,212]\u001b[0m Finished trial#243 with value: 1.094161274394981 with parameters: {'n_estimators': 235, 'max_depth': 149, 'subsample': 0.8, 'colsample_bytree': 0.9, 'learing_rate': 0.036483859128971424, 'reg_alpha': 6.0, 'min_child_samples': 21}. Best is trial#233 with value: 1.0871316108187778.\u001b[0m\n"
     ]
    },
    {
     "name": "stdout",
     "output_type": "stream",
     "text": [
      "\n"
     ]
    },
    {
     "name": "stderr",
     "output_type": "stream",
     "text": [
      "\u001b[32m[I 2020-12-04 22:44:07,282]\u001b[0m Finished trial#244 with value: 1.0915515175308381 with parameters: {'n_estimators': 212, 'max_depth': 120, 'subsample': 0.8, 'colsample_bytree': 0.9, 'learing_rate': 0.03314915529325574, 'reg_alpha': 6.0, 'min_child_samples': 19}. Best is trial#233 with value: 1.0871316108187778.\u001b[0m\n"
     ]
    },
    {
     "name": "stdout",
     "output_type": "stream",
     "text": [
      "\n"
     ]
    },
    {
     "name": "stderr",
     "output_type": "stream",
     "text": [
      "\u001b[32m[I 2020-12-04 22:44:08,362]\u001b[0m Finished trial#245 with value: 1.0912654673417745 with parameters: {'n_estimators': 213, 'max_depth': 118, 'subsample': 0.8, 'colsample_bytree': 0.9, 'learing_rate': 0.033564798918806434, 'reg_alpha': 6.0, 'min_child_samples': 19}. Best is trial#233 with value: 1.0871316108187778.\u001b[0m\n"
     ]
    },
    {
     "name": "stdout",
     "output_type": "stream",
     "text": [
      "\n"
     ]
    },
    {
     "name": "stderr",
     "output_type": "stream",
     "text": [
      "\u001b[32m[I 2020-12-04 22:44:09,452]\u001b[0m Finished trial#246 with value: 1.092352404959442 with parameters: {'n_estimators': 211, 'max_depth': 118, 'subsample': 0.8, 'colsample_bytree': 0.9, 'learing_rate': 0.03320074665240864, 'reg_alpha': 6.0, 'min_child_samples': 19}. Best is trial#233 with value: 1.0871316108187778.\u001b[0m\n"
     ]
    },
    {
     "name": "stdout",
     "output_type": "stream",
     "text": [
      "\n"
     ]
    },
    {
     "name": "stderr",
     "output_type": "stream",
     "text": [
      "\u001b[32m[I 2020-12-04 22:44:10,492]\u001b[0m Finished trial#247 with value: 1.086740047475654 with parameters: {'n_estimators': 201, 'max_depth': 122, 'subsample': 0.8, 'colsample_bytree': 0.9, 'learing_rate': 0.030992699450822902, 'reg_alpha': 6.0, 'min_child_samples': 20}. Best is trial#247 with value: 1.086740047475654.\u001b[0m\n"
     ]
    },
    {
     "name": "stdout",
     "output_type": "stream",
     "text": [
      "\n"
     ]
    },
    {
     "name": "stderr",
     "output_type": "stream",
     "text": [
      "\u001b[32m[I 2020-12-04 22:44:11,519]\u001b[0m Finished trial#248 with value: 1.0936557578079709 with parameters: {'n_estimators': 199, 'max_depth': 104, 'subsample': 0.8, 'colsample_bytree': 0.9, 'learing_rate': 0.035532355659987656, 'reg_alpha': 6.0, 'min_child_samples': 20}. Best is trial#247 with value: 1.086740047475654.\u001b[0m\n"
     ]
    },
    {
     "name": "stdout",
     "output_type": "stream",
     "text": [
      "\n"
     ]
    },
    {
     "name": "stderr",
     "output_type": "stream",
     "text": [
      "\u001b[32m[I 2020-12-04 22:44:12,649]\u001b[0m Finished trial#249 with value: 1.0896826216107431 with parameters: {'n_estimators': 219, 'max_depth': 125, 'subsample': 0.8, 'colsample_bytree': 0.9, 'learing_rate': 0.02797788090689426, 'reg_alpha': 6.0, 'min_child_samples': 20}. Best is trial#247 with value: 1.086740047475654.\u001b[0m\n"
     ]
    },
    {
     "name": "stdout",
     "output_type": "stream",
     "text": [
      "\n"
     ]
    },
    {
     "name": "stderr",
     "output_type": "stream",
     "text": [
      "\u001b[32m[I 2020-12-04 22:44:13,660]\u001b[0m Finished trial#250 with value: 1.092781598266608 with parameters: {'n_estimators': 192, 'max_depth': 121, 'subsample': 0.8, 'colsample_bytree': 0.9, 'learing_rate': 0.02945142420812388, 'reg_alpha': 6.0, 'min_child_samples': 20}. Best is trial#247 with value: 1.086740047475654.\u001b[0m\n"
     ]
    },
    {
     "name": "stdout",
     "output_type": "stream",
     "text": [
      "\n"
     ]
    },
    {
     "name": "stderr",
     "output_type": "stream",
     "text": [
      "\u001b[32m[I 2020-12-04 22:44:14,736]\u001b[0m Finished trial#251 with value: 1.091894735484911 with parameters: {'n_estimators': 209, 'max_depth': 123, 'subsample': 0.8, 'colsample_bytree': 0.9, 'learing_rate': 0.027444308141321642, 'reg_alpha': 6.0, 'min_child_samples': 21}. Best is trial#247 with value: 1.086740047475654.\u001b[0m\n"
     ]
    },
    {
     "name": "stdout",
     "output_type": "stream",
     "text": [
      "\n"
     ]
    },
    {
     "name": "stderr",
     "output_type": "stream",
     "text": [
      "\u001b[32m[I 2020-12-04 22:44:15,782]\u001b[0m Finished trial#252 with value: 1.0927707981139518 with parameters: {'n_estimators': 193, 'max_depth': 115, 'subsample': 0.8, 'colsample_bytree': 0.9, 'learing_rate': 0.035497767165308176, 'reg_alpha': 6.0, 'min_child_samples': 16}. Best is trial#247 with value: 1.086740047475654.\u001b[0m\n"
     ]
    },
    {
     "name": "stdout",
     "output_type": "stream",
     "text": [
      "\n"
     ]
    },
    {
     "name": "stderr",
     "output_type": "stream",
     "text": [
      "\u001b[32m[I 2020-12-04 22:44:16,903]\u001b[0m Finished trial#253 with value: 1.095233641458249 with parameters: {'n_estimators': 213, 'max_depth': 127, 'subsample': 0.7000000000000001, 'colsample_bytree': 0.9, 'learing_rate': 0.037335934314027534, 'reg_alpha': 6.0, 'min_child_samples': 21}. Best is trial#247 with value: 1.086740047475654.\u001b[0m\n"
     ]
    },
    {
     "name": "stdout",
     "output_type": "stream",
     "text": [
      "\n"
     ]
    },
    {
     "name": "stderr",
     "output_type": "stream",
     "text": [
      "\u001b[32m[I 2020-12-04 22:44:17,879]\u001b[0m Finished trial#254 with value: 1.096650784921677 with parameters: {'n_estimators': 187, 'max_depth': 144, 'subsample': 0.8, 'colsample_bytree': 0.9, 'learing_rate': 0.027286758711561145, 'reg_alpha': 6.0, 'min_child_samples': 17}. Best is trial#247 with value: 1.086740047475654.\u001b[0m\n"
     ]
    },
    {
     "name": "stdout",
     "output_type": "stream",
     "text": [
      "\n"
     ]
    },
    {
     "name": "stderr",
     "output_type": "stream",
     "text": [
      "\u001b[32m[I 2020-12-04 22:44:19,052]\u001b[0m Finished trial#255 with value: 1.0895313788297278 with parameters: {'n_estimators': 224, 'max_depth': 109, 'subsample': 0.8, 'colsample_bytree': 0.9, 'learing_rate': 0.0305720477262601, 'reg_alpha': 6.0, 'min_child_samples': 19}. Best is trial#247 with value: 1.086740047475654.\u001b[0m\n"
     ]
    },
    {
     "name": "stdout",
     "output_type": "stream",
     "text": [
      "\n"
     ]
    },
    {
     "name": "stderr",
     "output_type": "stream",
     "text": [
      "\u001b[32m[I 2020-12-04 22:44:20,254]\u001b[0m Finished trial#256 with value: 1.0929295564378294 with parameters: {'n_estimators': 228, 'max_depth': 109, 'subsample': 0.8, 'colsample_bytree': 0.9, 'learing_rate': 0.029680962745680377, 'reg_alpha': 6.0, 'min_child_samples': 19}. Best is trial#247 with value: 1.086740047475654.\u001b[0m\n"
     ]
    },
    {
     "name": "stdout",
     "output_type": "stream",
     "text": [
      "\n"
     ]
    },
    {
     "name": "stderr",
     "output_type": "stream",
     "text": [
      "\u001b[32m[I 2020-12-04 22:44:21,290]\u001b[0m Finished trial#257 with value: 1.09469404336585 with parameters: {'n_estimators': 202, 'max_depth': 120, 'subsample': 0.8, 'colsample_bytree': 0.9, 'learing_rate': 0.033476006249375405, 'reg_alpha': 6.0, 'min_child_samples': 17}. Best is trial#247 with value: 1.086740047475654.\u001b[0m\n"
     ]
    },
    {
     "name": "stdout",
     "output_type": "stream",
     "text": [
      "\n"
     ]
    },
    {
     "name": "stderr",
     "output_type": "stream",
     "text": [
      "\u001b[32m[I 2020-12-04 22:44:22,388]\u001b[0m Finished trial#258 with value: 1.093813275679568 with parameters: {'n_estimators': 223, 'max_depth': 130, 'subsample': 0.8, 'colsample_bytree': 0.9, 'learing_rate': 0.03105277471018649, 'reg_alpha': 6.0, 'min_child_samples': 13}. Best is trial#247 with value: 1.086740047475654.\u001b[0m\n"
     ]
    },
    {
     "name": "stdout",
     "output_type": "stream",
     "text": [
      "\n"
     ]
    },
    {
     "name": "stderr",
     "output_type": "stream",
     "text": [
      "\u001b[32m[I 2020-12-04 22:44:23,329]\u001b[0m Finished trial#259 with value: 1.0971191227534032 with parameters: {'n_estimators': 181, 'max_depth': 136, 'subsample': 0.8, 'colsample_bytree': 0.9, 'learing_rate': 0.026615787769943822, 'reg_alpha': 6.0, 'min_child_samples': 19}. Best is trial#247 with value: 1.086740047475654.\u001b[0m\n"
     ]
    },
    {
     "name": "stdout",
     "output_type": "stream",
     "text": [
      "\n"
     ]
    },
    {
     "name": "stderr",
     "output_type": "stream",
     "text": [
      "\u001b[32m[I 2020-12-04 22:44:24,539]\u001b[0m Finished trial#260 with value: 1.0918812146311414 with parameters: {'n_estimators': 241, 'max_depth': 144, 'subsample': 0.8, 'colsample_bytree': 0.9, 'learing_rate': 0.03436760236199301, 'reg_alpha': 6.0, 'min_child_samples': 16}. Best is trial#247 with value: 1.086740047475654.\u001b[0m\n"
     ]
    },
    {
     "name": "stdout",
     "output_type": "stream",
     "text": [
      "\n"
     ]
    },
    {
     "name": "stderr",
     "output_type": "stream",
     "text": [
      "\u001b[32m[I 2020-12-04 22:44:25,624]\u001b[0m Finished trial#261 with value: 1.0931743998537022 with parameters: {'n_estimators': 209, 'max_depth': 131, 'subsample': 0.7000000000000001, 'colsample_bytree': 0.9, 'learing_rate': 0.03762417543548487, 'reg_alpha': 6.0, 'min_child_samples': 22}. Best is trial#247 with value: 1.086740047475654.\u001b[0m\n"
     ]
    },
    {
     "name": "stdout",
     "output_type": "stream",
     "text": [
      "\n"
     ]
    },
    {
     "name": "stderr",
     "output_type": "stream",
     "text": [
      "\u001b[32m[I 2020-12-04 22:44:26,913]\u001b[0m Finished trial#262 with value: 1.0932321419466362 with parameters: {'n_estimators': 255, 'max_depth': 124, 'subsample': 0.8, 'colsample_bytree': 0.9, 'learing_rate': 0.03044525106095067, 'reg_alpha': 6.0, 'min_child_samples': 20}. Best is trial#247 with value: 1.086740047475654.\u001b[0m\n"
     ]
    },
    {
     "name": "stdout",
     "output_type": "stream",
     "text": [
      "\n"
     ]
    },
    {
     "name": "stderr",
     "output_type": "stream",
     "text": [
      "\u001b[32m[I 2020-12-04 22:44:28,056]\u001b[0m Finished trial#263 with value: 1.0918295005002467 with parameters: {'n_estimators': 225, 'max_depth': 113, 'subsample': 0.8, 'colsample_bytree': 0.9, 'learing_rate': 0.024611984249557836, 'reg_alpha': 6.0, 'min_child_samples': 18}. Best is trial#247 with value: 1.086740047475654.\u001b[0m\n"
     ]
    },
    {
     "name": "stdout",
     "output_type": "stream",
     "text": [
      "\n"
     ]
    },
    {
     "name": "stderr",
     "output_type": "stream",
     "text": [
      "\u001b[32m[I 2020-12-04 22:44:28,999]\u001b[0m Finished trial#264 with value: 1.1009468789624206 with parameters: {'n_estimators': 182, 'max_depth': 139, 'subsample': 0.8, 'colsample_bytree': 0.9, 'learing_rate': 0.027462368416304783, 'reg_alpha': 6.0, 'min_child_samples': 14}. Best is trial#247 with value: 1.086740047475654.\u001b[0m\n"
     ]
    },
    {
     "name": "stdout",
     "output_type": "stream",
     "text": [
      "\n"
     ]
    },
    {
     "name": "stderr",
     "output_type": "stream",
     "text": [
      "\u001b[32m[I 2020-12-04 22:44:30,031]\u001b[0m Finished trial#265 with value: 1.0879713321193982 with parameters: {'n_estimators': 204, 'max_depth': 120, 'subsample': 0.8, 'colsample_bytree': 0.9, 'learing_rate': 0.03321431275503443, 'reg_alpha': 6.0, 'min_child_samples': 16}. Best is trial#247 with value: 1.086740047475654.\u001b[0m\n"
     ]
    },
    {
     "name": "stdout",
     "output_type": "stream",
     "text": [
      "\n"
     ]
    },
    {
     "name": "stderr",
     "output_type": "stream",
     "text": [
      "\u001b[32m[I 2020-12-04 22:44:31,062]\u001b[0m Finished trial#266 with value: 1.0904264311140948 with parameters: {'n_estimators': 200, 'max_depth': 132, 'subsample': 0.7000000000000001, 'colsample_bytree': 0.9, 'learing_rate': 0.03690604917580403, 'reg_alpha': 6.0, 'min_child_samples': 16}. Best is trial#247 with value: 1.086740047475654.\u001b[0m\n"
     ]
    },
    {
     "name": "stdout",
     "output_type": "stream",
     "text": [
      "\n"
     ]
    },
    {
     "name": "stderr",
     "output_type": "stream",
     "text": [
      "\u001b[32m[I 2020-12-04 22:44:32,083]\u001b[0m Finished trial#267 with value: 1.0956750112317748 with parameters: {'n_estimators': 198, 'max_depth': 130, 'subsample': 0.7000000000000001, 'colsample_bytree': 0.9, 'learing_rate': 0.039157871449099754, 'reg_alpha': 6.0, 'min_child_samples': 16}. Best is trial#247 with value: 1.086740047475654.\u001b[0m\n"
     ]
    },
    {
     "name": "stdout",
     "output_type": "stream",
     "text": [
      "\n"
     ]
    },
    {
     "name": "stderr",
     "output_type": "stream",
     "text": [
      "\u001b[32m[I 2020-12-04 22:44:33,001]\u001b[0m Finished trial#268 with value: 1.093287455596987 with parameters: {'n_estimators': 175, 'max_depth': 149, 'subsample': 0.8, 'colsample_bytree': 1.0, 'learing_rate': 0.03614239080440264, 'reg_alpha': 6.0, 'min_child_samples': 17}. Best is trial#247 with value: 1.086740047475654.\u001b[0m\n"
     ]
    },
    {
     "name": "stdout",
     "output_type": "stream",
     "text": [
      "\n"
     ]
    },
    {
     "name": "stderr",
     "output_type": "stream",
     "text": [
      "\u001b[32m[I 2020-12-04 22:44:34,025]\u001b[0m Finished trial#269 with value: 1.0934513873331433 with parameters: {'n_estimators': 196, 'max_depth': 126, 'subsample': 0.8, 'colsample_bytree': 0.9, 'learing_rate': 0.03749791134172294, 'reg_alpha': 6.0, 'min_child_samples': 21}. Best is trial#247 with value: 1.086740047475654.\u001b[0m\n"
     ]
    },
    {
     "name": "stdout",
     "output_type": "stream",
     "text": [
      "\n"
     ]
    },
    {
     "name": "stderr",
     "output_type": "stream",
     "text": [
      "\u001b[32m[I 2020-12-04 22:44:34,969]\u001b[0m Finished trial#270 with value: 1.0903464973629635 with parameters: {'n_estimators': 181, 'max_depth': 133, 'subsample': 0.8, 'colsample_bytree': 0.9, 'learing_rate': 0.03393723940325987, 'reg_alpha': 6.0, 'min_child_samples': 15}. Best is trial#247 with value: 1.086740047475654.\u001b[0m\n"
     ]
    },
    {
     "name": "stdout",
     "output_type": "stream",
     "text": [
      "\n"
     ]
    },
    {
     "name": "stderr",
     "output_type": "stream",
     "text": [
      "\u001b[32m[I 2020-12-04 22:44:35,776]\u001b[0m Finished trial#271 with value: 1.100016614667098 with parameters: {'n_estimators': 176, 'max_depth': 7, 'subsample': 0.8, 'colsample_bytree': 0.9, 'learing_rate': 0.03395643567196461, 'reg_alpha': 6.0, 'min_child_samples': 15}. Best is trial#247 with value: 1.086740047475654.\u001b[0m\n"
     ]
    },
    {
     "name": "stdout",
     "output_type": "stream",
     "text": [
      "\n"
     ]
    },
    {
     "name": "stderr",
     "output_type": "stream",
     "text": [
      "\u001b[32m[I 2020-12-04 22:44:36,782]\u001b[0m Finished trial#272 with value: 1.0957502063826905 with parameters: {'n_estimators': 193, 'max_depth': 134, 'subsample': 0.7000000000000001, 'colsample_bytree': 0.9, 'learing_rate': 0.03153885577858203, 'reg_alpha': 6.0, 'min_child_samples': 13}. Best is trial#247 with value: 1.086740047475654.\u001b[0m\n"
     ]
    },
    {
     "name": "stdout",
     "output_type": "stream",
     "text": [
      "\n"
     ]
    },
    {
     "name": "stderr",
     "output_type": "stream",
     "text": [
      "\u001b[32m[I 2020-12-04 22:44:37,725]\u001b[0m Finished trial#273 with value: 1.0939278259996341 with parameters: {'n_estimators': 178, 'max_depth': 117, 'subsample': 0.8, 'colsample_bytree': 0.9, 'learing_rate': 0.03799316502193533, 'reg_alpha': 6.0, 'min_child_samples': 16}. Best is trial#247 with value: 1.086740047475654.\u001b[0m\n"
     ]
    },
    {
     "name": "stdout",
     "output_type": "stream",
     "text": [
      "\n"
     ]
    },
    {
     "name": "stderr",
     "output_type": "stream",
     "text": [
      "\u001b[32m[I 2020-12-04 22:44:38,783]\u001b[0m Finished trial#274 with value: 1.0905892722718182 with parameters: {'n_estimators': 209, 'max_depth': 158, 'subsample': 0.8, 'colsample_bytree': 0.9, 'learing_rate': 0.03388643900890987, 'reg_alpha': 6.0, 'min_child_samples': 18}. Best is trial#247 with value: 1.086740047475654.\u001b[0m\n"
     ]
    },
    {
     "name": "stdout",
     "output_type": "stream",
     "text": [
      "\n"
     ]
    },
    {
     "name": "stderr",
     "output_type": "stream",
     "text": [
      "\u001b[32m[I 2020-12-04 22:44:39,812]\u001b[0m Finished trial#275 with value: 1.0924956722420955 with parameters: {'n_estimators': 199, 'max_depth': 142, 'subsample': 0.6, 'colsample_bytree': 0.9, 'learing_rate': 0.03875366984255094, 'reg_alpha': 6.0, 'min_child_samples': 12}. Best is trial#247 with value: 1.086740047475654.\u001b[0m\n"
     ]
    },
    {
     "name": "stdout",
     "output_type": "stream",
     "text": [
      "\n"
     ]
    },
    {
     "name": "stderr",
     "output_type": "stream",
     "text": [
      "\u001b[32m[I 2020-12-04 22:44:40,793]\u001b[0m Finished trial#276 with value: 1.0955336597529248 with parameters: {'n_estimators': 181, 'max_depth': 157, 'subsample': 0.8, 'colsample_bytree': 1.0, 'learing_rate': 0.03074511661694732, 'reg_alpha': 6.0, 'min_child_samples': 17}. Best is trial#247 with value: 1.086740047475654.\u001b[0m\n"
     ]
    },
    {
     "name": "stdout",
     "output_type": "stream",
     "text": [
      "\n"
     ]
    },
    {
     "name": "stderr",
     "output_type": "stream",
     "text": [
      "\u001b[32m[I 2020-12-04 22:44:41,862]\u001b[0m Finished trial#277 with value: 1.0933386538733931 with parameters: {'n_estimators': 208, 'max_depth': 134, 'subsample': 0.8, 'colsample_bytree': 0.9, 'learing_rate': 0.03424870008414383, 'reg_alpha': 6.0, 'min_child_samples': 15}. Best is trial#247 with value: 1.086740047475654.\u001b[0m\n"
     ]
    },
    {
     "name": "stdout",
     "output_type": "stream",
     "text": [
      "\n"
     ]
    },
    {
     "name": "stderr",
     "output_type": "stream",
     "text": [
      "\u001b[32m[I 2020-12-04 22:44:42,784]\u001b[0m Finished trial#278 with value: 1.101676310391997 with parameters: {'n_estimators': 171, 'max_depth': 127, 'subsample': 0.8, 'colsample_bytree': 0.9, 'learing_rate': 0.027947504435354827, 'reg_alpha': 6.0, 'min_child_samples': 18}. Best is trial#247 with value: 1.086740047475654.\u001b[0m\n"
     ]
    },
    {
     "name": "stdout",
     "output_type": "stream",
     "text": [
      "\n"
     ]
    },
    {
     "name": "stderr",
     "output_type": "stream",
     "text": [
      "\u001b[32m[I 2020-12-04 22:44:43,801]\u001b[0m Finished trial#279 with value: 1.0927345526693442 with parameters: {'n_estimators': 192, 'max_depth': 148, 'subsample': 0.8, 'colsample_bytree': 0.9, 'learing_rate': 0.03896264529962159, 'reg_alpha': 6.0, 'min_child_samples': 14}. Best is trial#247 with value: 1.086740047475654.\u001b[0m\n"
     ]
    },
    {
     "name": "stdout",
     "output_type": "stream",
     "text": [
      "\n"
     ]
    },
    {
     "name": "stderr",
     "output_type": "stream",
     "text": [
      "\u001b[32m[I 2020-12-04 22:44:44,968]\u001b[0m Finished trial#280 with value: 1.0889412020126013 with parameters: {'n_estimators': 232, 'max_depth': 132, 'subsample': 0.7000000000000001, 'colsample_bytree': 0.9, 'learing_rate': 0.03508008881074269, 'reg_alpha': 6.0, 'min_child_samples': 10}. Best is trial#247 with value: 1.086740047475654.\u001b[0m\n"
     ]
    },
    {
     "name": "stdout",
     "output_type": "stream",
     "text": [
      "\n"
     ]
    },
    {
     "name": "stderr",
     "output_type": "stream",
     "text": [
      "\u001b[32m[I 2020-12-04 22:44:46,182]\u001b[0m Finished trial#281 with value: 1.092132328380227 with parameters: {'n_estimators': 239, 'max_depth': 131, 'subsample': 0.7000000000000001, 'colsample_bytree': 0.9, 'learing_rate': 0.03559695711227837, 'reg_alpha': 6.0, 'min_child_samples': 10}. Best is trial#247 with value: 1.086740047475654.\u001b[0m\n"
     ]
    },
    {
     "name": "stdout",
     "output_type": "stream",
     "text": [
      "\n"
     ]
    },
    {
     "name": "stderr",
     "output_type": "stream",
     "text": [
      "\u001b[32m[I 2020-12-04 22:44:47,317]\u001b[0m Finished trial#282 with value: 1.096038552304028 with parameters: {'n_estimators': 223, 'max_depth': 124, 'subsample': 0.6, 'colsample_bytree': 0.9, 'learing_rate': 0.04018775396570553, 'reg_alpha': 6.0, 'min_child_samples': 10}. Best is trial#247 with value: 1.086740047475654.\u001b[0m\n"
     ]
    },
    {
     "name": "stdout",
     "output_type": "stream",
     "text": [
      "\n"
     ]
    },
    {
     "name": "stderr",
     "output_type": "stream",
     "text": [
      "\u001b[32m[I 2020-12-04 22:44:48,587]\u001b[0m Finished trial#283 with value: 1.0955072501680676 with parameters: {'n_estimators': 252, 'max_depth': 103, 'subsample': 0.7000000000000001, 'colsample_bytree': 0.9, 'learing_rate': 0.03490521598002416, 'reg_alpha': 6.0, 'min_child_samples': 12}. Best is trial#247 with value: 1.086740047475654.\u001b[0m\n"
     ]
    },
    {
     "name": "stdout",
     "output_type": "stream",
     "text": [
      "\n"
     ]
    },
    {
     "name": "stderr",
     "output_type": "stream",
     "text": [
      "\u001b[32m[I 2020-12-04 22:44:49,465]\u001b[0m Finished trial#284 with value: 1.0906678446481413 with parameters: {'n_estimators': 170, 'max_depth': 141, 'subsample': 0.6, 'colsample_bytree': 0.9, 'learing_rate': 0.03276013504884488, 'reg_alpha': 6.0, 'min_child_samples': 22}. Best is trial#247 with value: 1.086740047475654.\u001b[0m\n"
     ]
    },
    {
     "name": "stdout",
     "output_type": "stream",
     "text": [
      "\n"
     ]
    },
    {
     "name": "stderr",
     "output_type": "stream",
     "text": [
      "\u001b[32m[I 2020-12-04 22:44:50,348]\u001b[0m Finished trial#285 with value: 1.0963993425711325 with parameters: {'n_estimators': 167, 'max_depth': 147, 'subsample': 0.8, 'colsample_bytree': 0.9, 'learing_rate': 0.03252908706958096, 'reg_alpha': 6.0, 'min_child_samples': 22}. Best is trial#247 with value: 1.086740047475654.\u001b[0m\n"
     ]
    },
    {
     "name": "stdout",
     "output_type": "stream",
     "text": [
      "\n"
     ]
    },
    {
     "name": "stderr",
     "output_type": "stream",
     "text": [
      "\u001b[32m[I 2020-12-04 22:44:51,276]\u001b[0m Finished trial#286 with value: 1.5652780416525278 with parameters: {'n_estimators': 184, 'max_depth': 142, 'subsample': 0.6, 'colsample_bytree': 1.0, 'learing_rate': 0.0032045741350452315, 'reg_alpha': 6.0, 'min_child_samples': 13}. Best is trial#247 with value: 1.086740047475654.\u001b[0m\n"
     ]
    },
    {
     "name": "stdout",
     "output_type": "stream",
     "text": [
      "\n"
     ]
    },
    {
     "name": "stderr",
     "output_type": "stream",
     "text": [
      "\u001b[32m[I 2020-12-04 22:44:52,167]\u001b[0m Finished trial#287 with value: 1.0919472449834575 with parameters: {'n_estimators': 168, 'max_depth': 152, 'subsample': 0.7000000000000001, 'colsample_bytree': 0.9, 'learing_rate': 0.036014926727294554, 'reg_alpha': 6.0, 'min_child_samples': 19}. Best is trial#247 with value: 1.086740047475654.\u001b[0m\n"
     ]
    },
    {
     "name": "stdout",
     "output_type": "stream",
     "text": [
      "\n"
     ]
    },
    {
     "name": "stderr",
     "output_type": "stream",
     "text": [
      "\u001b[32m[I 2020-12-04 22:44:53,270]\u001b[0m Finished trial#288 with value: 1.0916941332305745 with parameters: {'n_estimators': 215, 'max_depth': 138, 'subsample': 0.7000000000000001, 'colsample_bytree': 0.9, 'learing_rate': 0.038620509172494565, 'reg_alpha': 6.0, 'min_child_samples': 17}. Best is trial#247 with value: 1.086740047475654.\u001b[0m\n"
     ]
    },
    {
     "name": "stdout",
     "output_type": "stream",
     "text": [
      "\n"
     ]
    },
    {
     "name": "stderr",
     "output_type": "stream",
     "text": [
      "\u001b[32m[I 2020-12-04 22:44:54,078]\u001b[0m Finished trial#289 with value: 1.1065313436095598 with parameters: {'n_estimators': 154, 'max_depth': 132, 'subsample': 0.8, 'colsample_bytree': 0.9, 'learing_rate': 0.03152913503119411, 'reg_alpha': 6.0, 'min_child_samples': 11}. Best is trial#247 with value: 1.086740047475654.\u001b[0m\n"
     ]
    },
    {
     "name": "stdout",
     "output_type": "stream",
     "text": [
      "\n"
     ]
    },
    {
     "name": "stderr",
     "output_type": "stream",
     "text": [
      "\u001b[32m[I 2020-12-04 22:44:55,109]\u001b[0m Finished trial#290 with value: 1.0945654535275489 with parameters: {'n_estimators': 192, 'max_depth': 164, 'subsample': 0.6, 'colsample_bytree': 0.9, 'learing_rate': 0.03558761453426325, 'reg_alpha': 6.0, 'min_child_samples': 21}. Best is trial#247 with value: 1.086740047475654.\u001b[0m\n"
     ]
    },
    {
     "name": "stdout",
     "output_type": "stream",
     "text": [
      "\n"
     ]
    },
    {
     "name": "stderr",
     "output_type": "stream",
     "text": [
      "\u001b[32m[I 2020-12-04 22:44:56,277]\u001b[0m Finished trial#291 with value: 1.0860848058933388 with parameters: {'n_estimators': 226, 'max_depth': 124, 'subsample': 0.7000000000000001, 'colsample_bytree': 0.9, 'learing_rate': 0.029424461899977716, 'reg_alpha': 6.0, 'min_child_samples': 15}. Best is trial#291 with value: 1.0860848058933388.\u001b[0m\n"
     ]
    },
    {
     "name": "stdout",
     "output_type": "stream",
     "text": [
      "\n"
     ]
    },
    {
     "name": "stderr",
     "output_type": "stream",
     "text": [
      "\u001b[32m[I 2020-12-04 22:44:57,495]\u001b[0m Finished trial#292 with value: 1.094015255216262 with parameters: {'n_estimators': 238, 'max_depth': 123, 'subsample': 0.7000000000000001, 'colsample_bytree': 0.9, 'learing_rate': 0.027982677920102325, 'reg_alpha': 6.0, 'min_child_samples': 14}. Best is trial#291 with value: 1.0860848058933388.\u001b[0m\n"
     ]
    },
    {
     "name": "stdout",
     "output_type": "stream",
     "text": [
      "\n"
     ]
    },
    {
     "name": "stderr",
     "output_type": "stream",
     "text": [
      "\u001b[32m[I 2020-12-04 22:44:58,580]\u001b[0m Finished trial#293 with value: 1.0941073721956003 with parameters: {'n_estimators': 213, 'max_depth': 110, 'subsample': 0.5, 'colsample_bytree': 0.9, 'learing_rate': 0.02887861720271887, 'reg_alpha': 6.0, 'min_child_samples': 16}. Best is trial#291 with value: 1.0860848058933388.\u001b[0m\n"
     ]
    },
    {
     "name": "stdout",
     "output_type": "stream",
     "text": [
      "\n"
     ]
    },
    {
     "name": "stderr",
     "output_type": "stream",
     "text": [
      "\u001b[32m[I 2020-12-04 22:44:59,759]\u001b[0m Finished trial#294 with value: 1.0987542094413216 with parameters: {'n_estimators': 226, 'max_depth': 128, 'subsample': 0.7000000000000001, 'colsample_bytree': 1.0, 'learing_rate': 0.026289865591029214, 'reg_alpha': 6.0, 'min_child_samples': 13}. Best is trial#291 with value: 1.0860848058933388.\u001b[0m\n"
     ]
    },
    {
     "name": "stdout",
     "output_type": "stream",
     "text": [
      "\n"
     ]
    },
    {
     "name": "stderr",
     "output_type": "stream",
     "text": [
      "\u001b[32m[I 2020-12-04 22:45:00,963]\u001b[0m Finished trial#295 with value: 1.0890284615542762 with parameters: {'n_estimators': 237, 'max_depth': 138, 'subsample': 0.7000000000000001, 'colsample_bytree': 0.9, 'learing_rate': 0.0321180792609692, 'reg_alpha': 6.0, 'min_child_samples': 10}. Best is trial#291 with value: 1.0860848058933388.\u001b[0m\n"
     ]
    },
    {
     "name": "stdout",
     "output_type": "stream",
     "text": [
      "\n"
     ]
    },
    {
     "name": "stderr",
     "output_type": "stream",
     "text": [
      "\u001b[32m[I 2020-12-04 22:45:02,270]\u001b[0m Finished trial#296 with value: 1.092884558154351 with parameters: {'n_estimators': 262, 'max_depth': 135, 'subsample': 0.7000000000000001, 'colsample_bytree': 0.9, 'learing_rate': 0.029968497740142343, 'reg_alpha': 6.0, 'min_child_samples': 10}. Best is trial#291 with value: 1.0860848058933388.\u001b[0m\n"
     ]
    },
    {
     "name": "stdout",
     "output_type": "stream",
     "text": [
      "\n"
     ]
    },
    {
     "name": "stderr",
     "output_type": "stream",
     "text": [
      "\u001b[32m[I 2020-12-04 22:45:03,476]\u001b[0m Finished trial#297 with value: 1.0959182765563604 with parameters: {'n_estimators': 243, 'max_depth': 123, 'subsample': 0.7000000000000001, 'colsample_bytree': 0.9, 'learing_rate': 0.024926340600869436, 'reg_alpha': 6.0, 'min_child_samples': 10}. Best is trial#291 with value: 1.0860848058933388.\u001b[0m\n"
     ]
    },
    {
     "name": "stdout",
     "output_type": "stream",
     "text": [
      "\n"
     ]
    },
    {
     "name": "stderr",
     "output_type": "stream",
     "text": [
      "\u001b[32m[I 2020-12-04 22:45:04,641]\u001b[0m Finished trial#298 with value: 1.0904461812422677 with parameters: {'n_estimators': 236, 'max_depth': 129, 'subsample': 0.7000000000000001, 'colsample_bytree': 0.9, 'learing_rate': 0.03278337850771044, 'reg_alpha': 6.0, 'min_child_samples': 12}. Best is trial#291 with value: 1.0860848058933388.\u001b[0m\n"
     ]
    },
    {
     "name": "stdout",
     "output_type": "stream",
     "text": [
      "\n"
     ]
    },
    {
     "name": "stderr",
     "output_type": "stream",
     "text": [
      "\u001b[32m[I 2020-12-04 22:45:05,874]\u001b[0m Finished trial#299 with value: 1.091345487156098 with parameters: {'n_estimators': 251, 'max_depth': 128, 'subsample': 0.7000000000000001, 'colsample_bytree': 0.9, 'learing_rate': 0.031002847060411495, 'reg_alpha': 6.0, 'min_child_samples': 11}. Best is trial#291 with value: 1.0860848058933388.\u001b[0m\n"
     ]
    },
    {
     "name": "stdout",
     "output_type": "stream",
     "text": [
      "\n"
     ]
    },
    {
     "name": "stderr",
     "output_type": "stream",
     "text": [
      "\u001b[32m[I 2020-12-04 22:45:06,925]\u001b[0m Finished trial#300 with value: 1.09897513719473 with parameters: {'n_estimators': 204, 'max_depth': 114, 'subsample': 0.7000000000000001, 'colsample_bytree': 0.9, 'learing_rate': 0.02824193159597876, 'reg_alpha': 6.0, 'min_child_samples': 12}. Best is trial#291 with value: 1.0860848058933388.\u001b[0m\n"
     ]
    },
    {
     "name": "stdout",
     "output_type": "stream",
     "text": [
      "\n"
     ]
    },
    {
     "name": "stderr",
     "output_type": "stream",
     "text": [
      "\u001b[32m[I 2020-12-04 22:45:08,149]\u001b[0m Finished trial#301 with value: 1.098289676732472 with parameters: {'n_estimators': 232, 'max_depth': 119, 'subsample': 0.7000000000000001, 'colsample_bytree': 1.0, 'learing_rate': 0.039282896800176915, 'reg_alpha': 6.0, 'min_child_samples': 13}. Best is trial#291 with value: 1.0860848058933388.\u001b[0m\n"
     ]
    },
    {
     "name": "stdout",
     "output_type": "stream",
     "text": [
      "\n"
     ]
    },
    {
     "name": "stderr",
     "output_type": "stream",
     "text": [
      "\u001b[32m[I 2020-12-04 22:45:09,615]\u001b[0m Finished trial#302 with value: 1.4706761572567815 with parameters: {'n_estimators': 213, 'max_depth': 131, 'subsample': 0.7000000000000001, 'colsample_bytree': 0.9, 'learing_rate': 0.004359227180140221, 'reg_alpha': 6.0, 'min_child_samples': 15}. Best is trial#291 with value: 1.0860848058933388.\u001b[0m\n"
     ]
    },
    {
     "name": "stdout",
     "output_type": "stream",
     "text": [
      "\n"
     ]
    },
    {
     "name": "stderr",
     "output_type": "stream",
     "text": [
      "\u001b[32m[I 2020-12-04 22:45:10,728]\u001b[0m Finished trial#303 with value: 1.0913649413390563 with parameters: {'n_estimators': 224, 'max_depth': 145, 'subsample': 0.7000000000000001, 'colsample_bytree': 0.9, 'learing_rate': 0.03241150082624759, 'reg_alpha': 6.0, 'min_child_samples': 10}. Best is trial#291 with value: 1.0860848058933388.\u001b[0m\n"
     ]
    },
    {
     "name": "stdout",
     "output_type": "stream",
     "text": [
      "\n"
     ]
    },
    {
     "name": "stderr",
     "output_type": "stream",
     "text": [
      "\u001b[32m[I 2020-12-04 22:45:11,743]\u001b[0m Finished trial#304 with value: 1.0886326769831576 with parameters: {'n_estimators': 200, 'max_depth': 125, 'subsample': 0.7000000000000001, 'colsample_bytree': 0.8, 'learing_rate': 0.035867599080877284, 'reg_alpha': 6.0, 'min_child_samples': 12}. Best is trial#291 with value: 1.0860848058933388.\u001b[0m\n"
     ]
    },
    {
     "name": "stdout",
     "output_type": "stream",
     "text": [
      "\n"
     ]
    },
    {
     "name": "stderr",
     "output_type": "stream",
     "text": [
      "\u001b[32m[I 2020-12-04 22:45:12,732]\u001b[0m Finished trial#305 with value: 1.090407139598842 with parameters: {'n_estimators': 198, 'max_depth': 124, 'subsample': 0.7000000000000001, 'colsample_bytree': 0.8, 'learing_rate': 0.03677472742093901, 'reg_alpha': 6.0, 'min_child_samples': 12}. Best is trial#291 with value: 1.0860848058933388.\u001b[0m\n"
     ]
    },
    {
     "name": "stdout",
     "output_type": "stream",
     "text": [
      "\n"
     ]
    },
    {
     "name": "stderr",
     "output_type": "stream",
     "text": [
      "\u001b[32m[I 2020-12-04 22:45:13,941]\u001b[0m Finished trial#306 with value: 1.1053285957299 with parameters: {'n_estimators': 269, 'max_depth': 127, 'subsample': 0.7000000000000001, 'colsample_bytree': 0.6, 'learing_rate': 0.036719906139277184, 'reg_alpha': 6.0, 'min_child_samples': 12}. Best is trial#291 with value: 1.0860848058933388.\u001b[0m\n"
     ]
    },
    {
     "name": "stdout",
     "output_type": "stream",
     "text": [
      "\n"
     ]
    },
    {
     "name": "stderr",
     "output_type": "stream",
     "text": [
      "\u001b[32m[I 2020-12-04 22:45:14,931]\u001b[0m Finished trial#307 with value: 1.09222062809879 with parameters: {'n_estimators': 195, 'max_depth': 119, 'subsample': 0.7000000000000001, 'colsample_bytree': 0.8, 'learing_rate': 0.031166462959798278, 'reg_alpha': 6.0, 'min_child_samples': 14}. Best is trial#291 with value: 1.0860848058933388.\u001b[0m\n"
     ]
    },
    {
     "name": "stdout",
     "output_type": "stream",
     "text": [
      "\n"
     ]
    },
    {
     "name": "stderr",
     "output_type": "stream",
     "text": [
      "\u001b[32m[I 2020-12-04 22:45:16,154]\u001b[0m Finished trial#308 with value: 1.0925581071703012 with parameters: {'n_estimators': 241, 'max_depth': 133, 'subsample': 0.7000000000000001, 'colsample_bytree': 0.8, 'learing_rate': 0.025777654920871897, 'reg_alpha': 6.0, 'min_child_samples': 12}. Best is trial#291 with value: 1.0860848058933388.\u001b[0m\n"
     ]
    },
    {
     "name": "stdout",
     "output_type": "stream",
     "text": [
      "\n"
     ]
    },
    {
     "name": "stderr",
     "output_type": "stream",
     "text": [
      "\u001b[32m[I 2020-12-04 22:45:17,179]\u001b[0m Finished trial#309 with value: 1.0907934443296925 with parameters: {'n_estimators': 194, 'max_depth': 110, 'subsample': 0.7000000000000001, 'colsample_bytree': 0.8, 'learing_rate': 0.036342339862048316, 'reg_alpha': 6.0, 'min_child_samples': 14}. Best is trial#291 with value: 1.0860848058933388.\u001b[0m\n"
     ]
    },
    {
     "name": "stdout",
     "output_type": "stream",
     "text": [
      "\n"
     ]
    },
    {
     "name": "stderr",
     "output_type": "stream",
     "text": [
      "\u001b[32m[I 2020-12-04 22:45:18,368]\u001b[0m Finished trial#310 with value: 1.1138674414994 with parameters: {'n_estimators': 220, 'max_depth': 139, 'subsample': 0.7000000000000001, 'colsample_bytree': 0.8, 'learing_rate': 0.03001973593202528, 'reg_alpha': 6.0, 'min_child_samples': 64}. Best is trial#291 with value: 1.0860848058933388.\u001b[0m\n"
     ]
    },
    {
     "name": "stdout",
     "output_type": "stream",
     "text": [
      "\n"
     ]
    },
    {
     "name": "stderr",
     "output_type": "stream",
     "text": [
      "\u001b[32m[I 2020-12-04 22:45:19,330]\u001b[0m Finished trial#311 with value: 1.0909844941703988 with parameters: {'n_estimators': 184, 'max_depth': 124, 'subsample': 0.7000000000000001, 'colsample_bytree': 0.8, 'learing_rate': 0.039860988506845024, 'reg_alpha': 6.0, 'min_child_samples': 15}. Best is trial#291 with value: 1.0860848058933388.\u001b[0m\n"
     ]
    },
    {
     "name": "stdout",
     "output_type": "stream",
     "text": [
      "\n"
     ]
    },
    {
     "name": "stderr",
     "output_type": "stream",
     "text": [
      "\u001b[32m[I 2020-12-04 22:45:20,367]\u001b[0m Finished trial#312 with value: 1.0960214395699084 with parameters: {'n_estimators': 203, 'max_depth': 131, 'subsample': 0.7000000000000001, 'colsample_bytree': 0.8, 'learing_rate': 0.02778237487909885, 'reg_alpha': 6.0, 'min_child_samples': 12}. Best is trial#291 with value: 1.0860848058933388.\u001b[0m\n"
     ]
    },
    {
     "name": "stdout",
     "output_type": "stream",
     "text": [
      "\n"
     ]
    },
    {
     "name": "stderr",
     "output_type": "stream",
     "text": [
      "\u001b[32m[I 2020-12-04 22:45:21,552]\u001b[0m Finished trial#313 with value: 1.0903526222217519 with parameters: {'n_estimators': 236, 'max_depth': 115, 'subsample': 0.7000000000000001, 'colsample_bytree': 0.8, 'learing_rate': 0.033087695235727556, 'reg_alpha': 6.0, 'min_child_samples': 10}. Best is trial#291 with value: 1.0860848058933388.\u001b[0m\n"
     ]
    },
    {
     "name": "stdout",
     "output_type": "stream",
     "text": [
      "\n"
     ]
    },
    {
     "name": "stderr",
     "output_type": "stream",
     "text": [
      "\u001b[32m[I 2020-12-04 22:45:22,780]\u001b[0m Finished trial#314 with value: 1.0973373005161486 with parameters: {'n_estimators': 249, 'max_depth': 103, 'subsample': 0.7000000000000001, 'colsample_bytree': 0.7000000000000001, 'learing_rate': 0.034288493156959816, 'reg_alpha': 6.0, 'min_child_samples': 10}. Best is trial#291 with value: 1.0860848058933388.\u001b[0m\n"
     ]
    },
    {
     "name": "stdout",
     "output_type": "stream",
     "text": [
      "\n"
     ]
    },
    {
     "name": "stderr",
     "output_type": "stream",
     "text": [
      "\u001b[32m[I 2020-12-04 22:45:23,924]\u001b[0m Finished trial#315 with value: 1.0960936229930027 with parameters: {'n_estimators': 230, 'max_depth': 115, 'subsample': 0.7000000000000001, 'colsample_bytree': 0.8, 'learing_rate': 0.03774138633406997, 'reg_alpha': 6.0, 'min_child_samples': 10}. Best is trial#291 with value: 1.0860848058933388.\u001b[0m\n"
     ]
    },
    {
     "name": "stdout",
     "output_type": "stream",
     "text": [
      "\n"
     ]
    },
    {
     "name": "stderr",
     "output_type": "stream",
     "text": [
      "\u001b[32m[I 2020-12-04 22:45:25,119]\u001b[0m Finished trial#316 with value: 1.0914146766852304 with parameters: {'n_estimators': 234, 'max_depth': 121, 'subsample': 0.7000000000000001, 'colsample_bytree': 0.9, 'learing_rate': 0.0333479938738125, 'reg_alpha': 6.0, 'min_child_samples': 13}. Best is trial#291 with value: 1.0860848058933388.\u001b[0m\n"
     ]
    },
    {
     "name": "stdout",
     "output_type": "stream",
     "text": [
      "\n"
     ]
    },
    {
     "name": "stderr",
     "output_type": "stream",
     "text": [
      "\u001b[32m[I 2020-12-04 22:45:26,446]\u001b[0m Finished trial#317 with value: 1.1008449731417012 with parameters: {'n_estimators': 268, 'max_depth': 115, 'subsample': 0.7000000000000001, 'colsample_bytree': 0.8, 'learing_rate': 0.039379414095833704, 'reg_alpha': 6.0, 'min_child_samples': 11}. Best is trial#291 with value: 1.0860848058933388.\u001b[0m\n"
     ]
    },
    {
     "name": "stdout",
     "output_type": "stream",
     "text": [
      "\n"
     ]
    },
    {
     "name": "stderr",
     "output_type": "stream",
     "text": [
      "\u001b[32m[I 2020-12-04 22:45:27,549]\u001b[0m Finished trial#318 with value: 1.09039350610406 with parameters: {'n_estimators': 213, 'max_depth': 126, 'subsample': 0.7000000000000001, 'colsample_bytree': 0.9, 'learing_rate': 0.03643424677401127, 'reg_alpha': 6.0, 'min_child_samples': 14}. Best is trial#291 with value: 1.0860848058933388.\u001b[0m\n"
     ]
    },
    {
     "name": "stdout",
     "output_type": "stream",
     "text": [
      "\n"
     ]
    },
    {
     "name": "stderr",
     "output_type": "stream",
     "text": [
      "\u001b[32m[I 2020-12-04 22:45:28,651]\u001b[0m Finished trial#319 with value: 1.1014607667800103 with parameters: {'n_estimators': 212, 'max_depth': 121, 'subsample': 0.7000000000000001, 'colsample_bytree': 0.9, 'learing_rate': 0.04567146269087914, 'reg_alpha': 6.0, 'min_child_samples': 15}. Best is trial#291 with value: 1.0860848058933388.\u001b[0m\n"
     ]
    },
    {
     "name": "stdout",
     "output_type": "stream",
     "text": [
      "\n"
     ]
    },
    {
     "name": "stderr",
     "output_type": "stream",
     "text": [
      "\u001b[32m[I 2020-12-04 22:45:29,743]\u001b[0m Finished trial#320 with value: 1.0933088279766006 with parameters: {'n_estimators': 217, 'max_depth': 108, 'subsample': 0.7000000000000001, 'colsample_bytree': 0.8, 'learing_rate': 0.04187174544345553, 'reg_alpha': 6.0, 'min_child_samples': 14}. Best is trial#291 with value: 1.0860848058933388.\u001b[0m\n"
     ]
    },
    {
     "name": "stdout",
     "output_type": "stream",
     "text": [
      "\n"
     ]
    },
    {
     "name": "stderr",
     "output_type": "stream",
     "text": [
      "\u001b[32m[I 2020-12-04 22:45:30,766]\u001b[0m Finished trial#321 with value: 1.0912302889698418 with parameters: {'n_estimators': 199, 'max_depth': 126, 'subsample': 0.7000000000000001, 'colsample_bytree': 0.9, 'learing_rate': 0.03652581649992242, 'reg_alpha': 6.0, 'min_child_samples': 15}. Best is trial#291 with value: 1.0860848058933388.\u001b[0m\n"
     ]
    },
    {
     "name": "stdout",
     "output_type": "stream",
     "text": [
      "\n"
     ]
    },
    {
     "name": "stderr",
     "output_type": "stream",
     "text": [
      "\u001b[32m[I 2020-12-04 22:45:31,860]\u001b[0m Finished trial#322 with value: 1.0922695849941355 with parameters: {'n_estimators': 218, 'max_depth': 144, 'subsample': 0.7000000000000001, 'colsample_bytree': 0.8, 'learing_rate': 0.03584917271779734, 'reg_alpha': 6.0, 'min_child_samples': 16}. Best is trial#291 with value: 1.0860848058933388.\u001b[0m\n"
     ]
    },
    {
     "name": "stdout",
     "output_type": "stream",
     "text": [
      "\n"
     ]
    },
    {
     "name": "stderr",
     "output_type": "stream",
     "text": [
      "\u001b[32m[I 2020-12-04 22:45:32,907]\u001b[0m Finished trial#323 with value: 1.1008986900385793 with parameters: {'n_estimators': 202, 'max_depth': 138, 'subsample': 0.6, 'colsample_bytree': 0.9, 'learing_rate': 0.04115793985710044, 'reg_alpha': 6.0, 'min_child_samples': 13}. Best is trial#291 with value: 1.0860848058933388.\u001b[0m\n"
     ]
    },
    {
     "name": "stdout",
     "output_type": "stream",
     "text": [
      "\n"
     ]
    },
    {
     "name": "stderr",
     "output_type": "stream",
     "text": [
      "\u001b[32m[I 2020-12-04 22:45:33,807]\u001b[0m Finished trial#324 with value: 1.0966038753962515 with parameters: {'n_estimators': 184, 'max_depth': 116, 'subsample': 0.7000000000000001, 'colsample_bytree': 0.7000000000000001, 'learing_rate': 0.030661631777782243, 'reg_alpha': 6.0, 'min_child_samples': 10}. Best is trial#291 with value: 1.0860848058933388.\u001b[0m\n"
     ]
    },
    {
     "name": "stdout",
     "output_type": "stream",
     "text": [
      "\n"
     ]
    },
    {
     "name": "stderr",
     "output_type": "stream",
     "text": [
      "\u001b[32m[I 2020-12-04 22:45:35,018]\u001b[0m Finished trial#325 with value: 1.1093648270676206 with parameters: {'n_estimators': 226, 'max_depth': 132, 'subsample': 0.7000000000000001, 'colsample_bytree': 0.9, 'learing_rate': 0.025680578658836446, 'reg_alpha': 6.0, 'min_child_samples': 70}. Best is trial#291 with value: 1.0860848058933388.\u001b[0m\n"
     ]
    },
    {
     "name": "stdout",
     "output_type": "stream",
     "text": [
      "\n"
     ]
    },
    {
     "name": "stderr",
     "output_type": "stream",
     "text": [
      "\u001b[32m[I 2020-12-04 22:45:38,535]\u001b[0m Finished trial#326 with value: 1.1833038135089204 with parameters: {'n_estimators': 750, 'max_depth': 123, 'subsample': 0.7000000000000001, 'colsample_bytree': 0.8, 'learing_rate': 0.04604052102726317, 'reg_alpha': 6.0, 'min_child_samples': 17}. Best is trial#291 with value: 1.0860848058933388.\u001b[0m\n"
     ]
    },
    {
     "name": "stdout",
     "output_type": "stream",
     "text": [
      "\n"
     ]
    },
    {
     "name": "stderr",
     "output_type": "stream",
     "text": [
      "\u001b[32m[I 2020-12-04 22:45:39,813]\u001b[0m Finished trial#327 with value: 1.0989520625783242 with parameters: {'n_estimators': 252, 'max_depth': 128, 'subsample': 0.8, 'colsample_bytree': 0.9, 'learing_rate': 0.03373512937187035, 'reg_alpha': 6.0, 'min_child_samples': 20}. Best is trial#291 with value: 1.0860848058933388.\u001b[0m\n"
     ]
    },
    {
     "name": "stdout",
     "output_type": "stream",
     "text": [
      "\n"
     ]
    },
    {
     "name": "stderr",
     "output_type": "stream",
     "text": [
      "\u001b[32m[I 2020-12-04 22:45:40,824]\u001b[0m Finished trial#328 with value: 1.0906992190008573 with parameters: {'n_estimators': 200, 'max_depth': 138, 'subsample': 0.8, 'colsample_bytree': 0.8, 'learing_rate': 0.028044616624849365, 'reg_alpha': 6.0, 'min_child_samples': 14}. Best is trial#291 with value: 1.0860848058933388.\u001b[0m\n"
     ]
    },
    {
     "name": "stdout",
     "output_type": "stream",
     "text": [
      "\n"
     ]
    },
    {
     "name": "stderr",
     "output_type": "stream",
     "text": [
      "\u001b[32m[I 2020-12-04 22:45:41,742]\u001b[0m Finished trial#329 with value: 1.0933198488321652 with parameters: {'n_estimators': 170, 'max_depth': 150, 'subsample': 0.8, 'colsample_bytree': 1.0, 'learing_rate': 0.03952093467119651, 'reg_alpha': 6.0, 'min_child_samples': 17}. Best is trial#291 with value: 1.0860848058933388.\u001b[0m\n"
     ]
    },
    {
     "name": "stdout",
     "output_type": "stream",
     "text": [
      "\n"
     ]
    },
    {
     "name": "stderr",
     "output_type": "stream",
     "text": [
      "\u001b[32m[I 2020-12-04 22:45:42,539]\u001b[0m Finished trial#330 with value: 1.097928226058919 with parameters: {'n_estimators': 152, 'max_depth': 112, 'subsample': 0.7000000000000001, 'colsample_bytree': 0.9, 'learing_rate': 0.036816038575863096, 'reg_alpha': 6.0, 'min_child_samples': 12}. Best is trial#291 with value: 1.0860848058933388.\u001b[0m\n"
     ]
    },
    {
     "name": "stdout",
     "output_type": "stream",
     "text": [
      "\n"
     ]
    },
    {
     "name": "stderr",
     "output_type": "stream",
     "text": [
      "\u001b[32m[I 2020-12-04 22:45:43,672]\u001b[0m Finished trial#331 with value: 1.0916896736050432 with parameters: {'n_estimators': 218, 'max_depth': 119, 'subsample': 0.7000000000000001, 'colsample_bytree': 0.9, 'learing_rate': 0.03184592387341084, 'reg_alpha': 6.0, 'min_child_samples': 19}. Best is trial#291 with value: 1.0860848058933388.\u001b[0m\n"
     ]
    },
    {
     "name": "stdout",
     "output_type": "stream",
     "text": [
      "\n"
     ]
    },
    {
     "name": "stderr",
     "output_type": "stream",
     "text": [
      "\u001b[32m[I 2020-12-04 22:45:44,912]\u001b[0m Finished trial#332 with value: 1.0923444997038394 with parameters: {'n_estimators': 242, 'max_depth': 289, 'subsample': 0.8, 'colsample_bytree': 0.9, 'learing_rate': 0.02338422699034415, 'reg_alpha': 6.0, 'min_child_samples': 16}. Best is trial#291 with value: 1.0860848058933388.\u001b[0m\n"
     ]
    },
    {
     "name": "stdout",
     "output_type": "stream",
     "text": [
      "\n"
     ]
    },
    {
     "name": "stderr",
     "output_type": "stream",
     "text": [
      "\u001b[32m[I 2020-12-04 22:45:45,876]\u001b[0m Finished trial#333 with value: 1.0966690506134695 with parameters: {'n_estimators': 187, 'max_depth': 133, 'subsample': 0.8, 'colsample_bytree': 0.8, 'learing_rate': 0.028638699258202782, 'reg_alpha': 6.0, 'min_child_samples': 10}. Best is trial#291 with value: 1.0860848058933388.\u001b[0m\n"
     ]
    },
    {
     "name": "stdout",
     "output_type": "stream",
     "text": [
      "\n"
     ]
    },
    {
     "name": "stderr",
     "output_type": "stream",
     "text": [
      "\u001b[32m[I 2020-12-04 22:45:46,929]\u001b[0m Finished trial#334 with value: 1.5938213460696005 with parameters: {'n_estimators': 210, 'max_depth': 142, 'subsample': 0.7000000000000001, 'colsample_bytree': 0.9, 'learing_rate': 0.0023782995104832277, 'reg_alpha': 6.0, 'min_child_samples': 13}. Best is trial#291 with value: 1.0860848058933388.\u001b[0m\n"
     ]
    },
    {
     "name": "stdout",
     "output_type": "stream",
     "text": [
      "\n"
     ]
    },
    {
     "name": "stderr",
     "output_type": "stream",
     "text": [
      "\u001b[32m[I 2020-12-04 22:45:47,850]\u001b[0m Finished trial#335 with value: 1.0902891216268513 with parameters: {'n_estimators': 174, 'max_depth': 125, 'subsample': 0.8, 'colsample_bytree': 0.8, 'learing_rate': 0.03476194446474172, 'reg_alpha': 6.0, 'min_child_samples': 20}. Best is trial#291 with value: 1.0860848058933388.\u001b[0m\n"
     ]
    },
    {
     "name": "stdout",
     "output_type": "stream",
     "text": [
      "\n"
     ]
    },
    {
     "name": "stderr",
     "output_type": "stream",
     "text": [
      "\u001b[32m[I 2020-12-04 22:45:48,655]\u001b[0m Finished trial#336 with value: 1.0941834739952876 with parameters: {'n_estimators': 149, 'max_depth': 105, 'subsample': 0.8, 'colsample_bytree': 0.8, 'learing_rate': 0.0318478442884302, 'reg_alpha': 6.0, 'min_child_samples': 23}. Best is trial#291 with value: 1.0860848058933388.\u001b[0m\n"
     ]
    },
    {
     "name": "stdout",
     "output_type": "stream",
     "text": [
      "\n"
     ]
    },
    {
     "name": "stderr",
     "output_type": "stream",
     "text": [
      "\u001b[32m[I 2020-12-04 22:45:49,576]\u001b[0m Finished trial#337 with value: 1.116031452745834 with parameters: {'n_estimators': 166, 'max_depth': 121, 'subsample': 0.8, 'colsample_bytree': 0.8, 'learing_rate': 0.03446818656673668, 'reg_alpha': 6.0, 'min_child_samples': 84}. Best is trial#291 with value: 1.0860848058933388.\u001b[0m\n"
     ]
    },
    {
     "name": "stdout",
     "output_type": "stream",
     "text": [
      "\n"
     ]
    },
    {
     "name": "stderr",
     "output_type": "stream",
     "text": [
      "\u001b[32m[I 2020-12-04 22:45:50,481]\u001b[0m Finished trial#338 with value: 1.096804678309491 with parameters: {'n_estimators': 177, 'max_depth': 125, 'subsample': 0.8, 'colsample_bytree': 0.8, 'learing_rate': 0.043214499207272244, 'reg_alpha': 6.0, 'min_child_samples': 20}. Best is trial#291 with value: 1.0860848058933388.\u001b[0m\n"
     ]
    },
    {
     "name": "stdout",
     "output_type": "stream",
     "text": [
      "\n"
     ]
    },
    {
     "name": "stderr",
     "output_type": "stream",
     "text": [
      "\u001b[32m[I 2020-12-04 22:45:51,197]\u001b[0m Finished trial#339 with value: 1.114410508107771 with parameters: {'n_estimators': 138, 'max_depth': 113, 'subsample': 0.8, 'colsample_bytree': 0.8, 'learing_rate': 0.028806979879674517, 'reg_alpha': 6.0, 'min_child_samples': 21}. Best is trial#291 with value: 1.0860848058933388.\u001b[0m\n"
     ]
    },
    {
     "name": "stdout",
     "output_type": "stream",
     "text": [
      "\n"
     ]
    },
    {
     "name": "stderr",
     "output_type": "stream",
     "text": [
      "\u001b[32m[I 2020-12-04 22:45:52,360]\u001b[0m Finished trial#340 with value: 1.1007651046379268 with parameters: {'n_estimators': 231, 'max_depth': 127, 'subsample': 0.8, 'colsample_bytree': 0.8, 'learing_rate': 0.03970172510204011, 'reg_alpha': 6.0, 'min_child_samples': 18}. Best is trial#291 with value: 1.0860848058933388.\u001b[0m\n"
     ]
    },
    {
     "name": "stdout",
     "output_type": "stream",
     "text": [
      "\n"
     ]
    },
    {
     "name": "stderr",
     "output_type": "stream",
     "text": [
      "\u001b[32m[I 2020-12-04 22:45:53,621]\u001b[0m Finished trial#341 with value: 1.0924473532697903 with parameters: {'n_estimators': 260, 'max_depth': 118, 'subsample': 0.8, 'colsample_bytree': 0.7000000000000001, 'learing_rate': 0.026673379477610303, 'reg_alpha': 6.0, 'min_child_samples': 23}. Best is trial#291 with value: 1.0860848058933388.\u001b[0m\n"
     ]
    },
    {
     "name": "stdout",
     "output_type": "stream",
     "text": [
      "\n"
     ]
    },
    {
     "name": "stderr",
     "output_type": "stream",
     "text": [
      "\u001b[32m[I 2020-12-04 22:45:54,566]\u001b[0m Finished trial#342 with value: 1.0876319529127656 with parameters: {'n_estimators': 185, 'max_depth': 136, 'subsample': 0.8, 'colsample_bytree': 0.8, 'learing_rate': 0.03440802687599031, 'reg_alpha': 6.0, 'min_child_samples': 20}. Best is trial#291 with value: 1.0860848058933388.\u001b[0m\n"
     ]
    },
    {
     "name": "stdout",
     "output_type": "stream",
     "text": [
      "\n"
     ]
    },
    {
     "name": "stderr",
     "output_type": "stream",
     "text": [
      "\u001b[32m[I 2020-12-04 22:45:55,542]\u001b[0m Finished trial#343 with value: 1.0864996326373277 with parameters: {'n_estimators': 190, 'max_depth': 138, 'subsample': 0.8, 'colsample_bytree': 0.8, 'learing_rate': 0.030405663464001143, 'reg_alpha': 6.0, 'min_child_samples': 18}. Best is trial#291 with value: 1.0860848058933388.\u001b[0m\n"
     ]
    },
    {
     "name": "stdout",
     "output_type": "stream",
     "text": [
      "\n"
     ]
    },
    {
     "name": "stderr",
     "output_type": "stream",
     "text": [
      "\u001b[32m[I 2020-12-04 22:45:56,432]\u001b[0m Finished trial#344 with value: 1.092896367345403 with parameters: {'n_estimators': 177, 'max_depth': 145, 'subsample': 0.8, 'colsample_bytree': 0.8, 'learing_rate': 0.029570880137674144, 'reg_alpha': 6.0, 'min_child_samples': 18}. Best is trial#291 with value: 1.0860848058933388.\u001b[0m\n"
     ]
    },
    {
     "name": "stdout",
     "output_type": "stream",
     "text": [
      "\n"
     ]
    },
    {
     "name": "stderr",
     "output_type": "stream",
     "text": [
      "\u001b[32m[I 2020-12-04 22:45:57,381]\u001b[0m Finished trial#345 with value: 1.1029388520385233 with parameters: {'n_estimators': 186, 'max_depth': 138, 'subsample': 0.8, 'colsample_bytree': 0.8, 'learing_rate': 0.024180344718797233, 'reg_alpha': 6.0, 'min_child_samples': 20}. Best is trial#291 with value: 1.0860848058933388.\u001b[0m\n"
     ]
    },
    {
     "name": "stdout",
     "output_type": "stream",
     "text": [
      "\n"
     ]
    },
    {
     "name": "stderr",
     "output_type": "stream",
     "text": [
      "\u001b[32m[I 2020-12-04 22:45:58,469]\u001b[0m Finished trial#346 with value: 1.0911448091346703 with parameters: {'n_estimators': 214, 'max_depth': 146, 'subsample': 0.8, 'colsample_bytree': 0.8, 'learing_rate': 0.03130489380752966, 'reg_alpha': 6.0, 'min_child_samples': 18}. Best is trial#291 with value: 1.0860848058933388.\u001b[0m\n"
     ]
    },
    {
     "name": "stdout",
     "output_type": "stream",
     "text": [
      "\n"
     ]
    },
    {
     "name": "stderr",
     "output_type": "stream",
     "text": [
      "\u001b[32m[I 2020-12-04 22:45:59,324]\u001b[0m Finished trial#347 with value: 1.0967911194341002 with parameters: {'n_estimators': 170, 'max_depth': 152, 'subsample': 0.8, 'colsample_bytree': 0.8, 'learing_rate': 0.03281812346268641, 'reg_alpha': 6.0, 'min_child_samples': 16}. Best is trial#291 with value: 1.0860848058933388.\u001b[0m\n"
     ]
    },
    {
     "name": "stdout",
     "output_type": "stream",
     "text": [
      "\n"
     ]
    },
    {
     "name": "stderr",
     "output_type": "stream",
     "text": [
      "\u001b[32m[I 2020-12-04 22:46:00,315]\u001b[0m Finished trial#348 with value: 1.0954662545175229 with parameters: {'n_estimators': 194, 'max_depth': 136, 'subsample': 0.8, 'colsample_bytree': 0.8, 'learing_rate': 0.0264568796840499, 'reg_alpha': 6.0, 'min_child_samples': 18}. Best is trial#291 with value: 1.0860848058933388.\u001b[0m\n"
     ]
    },
    {
     "name": "stdout",
     "output_type": "stream",
     "text": [
      "\n"
     ]
    },
    {
     "name": "stderr",
     "output_type": "stream",
     "text": [
      "\u001b[32m[I 2020-12-04 22:46:01,488]\u001b[0m Finished trial#349 with value: 1.090002747068368 with parameters: {'n_estimators': 229, 'max_depth': 131, 'subsample': 0.8, 'colsample_bytree': 0.8, 'learing_rate': 0.029815423486896503, 'reg_alpha': 6.0, 'min_child_samples': 20}. Best is trial#291 with value: 1.0860848058933388.\u001b[0m\n"
     ]
    },
    {
     "name": "stdout",
     "output_type": "stream",
     "text": [
      "\n"
     ]
    },
    {
     "name": "stderr",
     "output_type": "stream",
     "text": [
      "\u001b[32m[I 2020-12-04 22:46:02,716]\u001b[0m Finished trial#350 with value: 1.0915939679121796 with parameters: {'n_estimators': 243, 'max_depth': 139, 'subsample': 0.8, 'colsample_bytree': 0.8, 'learing_rate': 0.027345256257603145, 'reg_alpha': 6.0, 'min_child_samples': 22}. Best is trial#291 with value: 1.0860848058933388.\u001b[0m\n"
     ]
    },
    {
     "name": "stdout",
     "output_type": "stream",
     "text": [
      "\n"
     ]
    },
    {
     "name": "stderr",
     "output_type": "stream",
     "text": [
      "\u001b[32m[I 2020-12-04 22:46:03,826]\u001b[0m Finished trial#351 with value: 1.0933956483768827 with parameters: {'n_estimators': 224, 'max_depth': 133, 'subsample': 0.8, 'colsample_bytree': 0.8, 'learing_rate': 0.029189824965701355, 'reg_alpha': 6.0, 'min_child_samples': 20}. Best is trial#291 with value: 1.0860848058933388.\u001b[0m\n"
     ]
    },
    {
     "name": "stdout",
     "output_type": "stream",
     "text": [
      "\n"
     ]
    },
    {
     "name": "stderr",
     "output_type": "stream",
     "text": [
      "\u001b[32m[I 2020-12-04 22:46:04,655]\u001b[0m Finished trial#352 with value: 1.1127853051435843 with parameters: {'n_estimators': 159, 'max_depth': 144, 'subsample': 0.8, 'colsample_bytree': 0.8, 'learing_rate': 0.024654030659259946, 'reg_alpha': 6.0, 'min_child_samples': 24}. Best is trial#291 with value: 1.0860848058933388.\u001b[0m\n"
     ]
    },
    {
     "name": "stdout",
     "output_type": "stream",
     "text": [
      "\n"
     ]
    },
    {
     "name": "stderr",
     "output_type": "stream",
     "text": [
      "\u001b[32m[I 2020-12-04 22:46:05,888]\u001b[0m Finished trial#353 with value: 1.0963617677649948 with parameters: {'n_estimators': 255, 'max_depth': 132, 'subsample': 0.8, 'colsample_bytree': 0.7000000000000001, 'learing_rate': 0.030730762956657665, 'reg_alpha': 6.0, 'min_child_samples': 19}. Best is trial#291 with value: 1.0860848058933388.\u001b[0m\n"
     ]
    },
    {
     "name": "stdout",
     "output_type": "stream",
     "text": [
      "\n"
     ]
    },
    {
     "name": "stderr",
     "output_type": "stream",
     "text": [
      "\u001b[32m[I 2020-12-04 22:46:06,851]\u001b[0m Finished trial#354 with value: 1.094332625216938 with parameters: {'n_estimators': 189, 'max_depth': 141, 'subsample': 0.8, 'colsample_bytree': 0.8, 'learing_rate': 0.03320863895681665, 'reg_alpha': 6.0, 'min_child_samples': 20}. Best is trial#291 with value: 1.0860848058933388.\u001b[0m\n"
     ]
    },
    {
     "name": "stdout",
     "output_type": "stream",
     "text": [
      "\n"
     ]
    },
    {
     "name": "stderr",
     "output_type": "stream",
     "text": [
      "\u001b[32m[I 2020-12-04 22:46:08,018]\u001b[0m Finished trial#355 with value: 1.0899822974644717 with parameters: {'n_estimators': 233, 'max_depth': 130, 'subsample': 0.8, 'colsample_bytree': 0.8, 'learing_rate': 0.029312756335298763, 'reg_alpha': 6.0, 'min_child_samples': 21}. Best is trial#291 with value: 1.0860848058933388.\u001b[0m\n"
     ]
    },
    {
     "name": "stdout",
     "output_type": "stream",
     "text": [
      "\n"
     ]
    },
    {
     "name": "stderr",
     "output_type": "stream",
     "text": [
      "\u001b[32m[I 2020-12-04 22:46:09,052]\u001b[0m Finished trial#356 with value: 1.0909461905413567 with parameters: {'n_estimators': 199, 'max_depth': 135, 'subsample': 0.8, 'colsample_bytree': 0.8, 'learing_rate': 0.025614707623608114, 'reg_alpha': 6.0, 'min_child_samples': 23}. Best is trial#291 with value: 1.0860848058933388.\u001b[0m\n"
     ]
    },
    {
     "name": "stdout",
     "output_type": "stream",
     "text": [
      "\n"
     ]
    },
    {
     "name": "stderr",
     "output_type": "stream",
     "text": [
      "\u001b[32m[I 2020-12-04 22:46:10,155]\u001b[0m Finished trial#357 with value: 1.0904176545240893 with parameters: {'n_estimators': 225, 'max_depth': 130, 'subsample': 0.8, 'colsample_bytree': 0.8, 'learing_rate': 0.028458194567486217, 'reg_alpha': 6.0, 'min_child_samples': 21}. Best is trial#291 with value: 1.0860848058933388.\u001b[0m\n"
     ]
    },
    {
     "name": "stdout",
     "output_type": "stream",
     "text": [
      "\n"
     ]
    },
    {
     "name": "stderr",
     "output_type": "stream",
     "text": [
      "\u001b[32m[I 2020-12-04 22:46:11,082]\u001b[0m Finished trial#358 with value: 1.0967200090233253 with parameters: {'n_estimators': 179, 'max_depth': 148, 'subsample': 0.8, 'colsample_bytree': 0.8, 'learing_rate': 0.0293867149134618, 'reg_alpha': 6.0, 'min_child_samples': 22}. Best is trial#291 with value: 1.0860848058933388.\u001b[0m\n"
     ]
    },
    {
     "name": "stdout",
     "output_type": "stream",
     "text": [
      "\n"
     ]
    },
    {
     "name": "stderr",
     "output_type": "stream",
     "text": [
      "\u001b[32m[I 2020-12-04 22:46:12,032]\u001b[0m Finished trial#359 with value: 1.1485439032286076 with parameters: {'n_estimators': 209, 'max_depth': 140, 'subsample': 0.8, 'colsample_bytree': 0.4, 'learing_rate': 0.022899783805380977, 'reg_alpha': 6.0, 'min_child_samples': 19}. Best is trial#291 with value: 1.0860848058933388.\u001b[0m\n"
     ]
    },
    {
     "name": "stdout",
     "output_type": "stream",
     "text": [
      "\n"
     ]
    },
    {
     "name": "stderr",
     "output_type": "stream",
     "text": [
      "\u001b[32m[I 2020-12-04 22:46:12,836]\u001b[0m Finished trial#360 with value: 1.104819878113447 with parameters: {'n_estimators': 163, 'max_depth': 17, 'subsample': 0.8, 'colsample_bytree': 0.7000000000000001, 'learing_rate': 0.02631754935728685, 'reg_alpha': 6.0, 'min_child_samples': 21}. Best is trial#291 with value: 1.0860848058933388.\u001b[0m\n"
     ]
    },
    {
     "name": "stdout",
     "output_type": "stream",
     "text": [
      "\n"
     ]
    },
    {
     "name": "stderr",
     "output_type": "stream",
     "text": [
      "\u001b[32m[I 2020-12-04 22:46:14,051]\u001b[0m Finished trial#361 with value: 1.0944290045340521 with parameters: {'n_estimators': 243, 'max_depth': 128, 'subsample': 0.8, 'colsample_bytree': 0.8, 'learing_rate': 0.03084814591878331, 'reg_alpha': 6.0, 'min_child_samples': 24}. Best is trial#291 with value: 1.0860848058933388.\u001b[0m\n"
     ]
    },
    {
     "name": "stdout",
     "output_type": "stream",
     "text": [
      "\n"
     ]
    },
    {
     "name": "stderr",
     "output_type": "stream",
     "text": [
      "\u001b[32m[I 2020-12-04 22:46:15,110]\u001b[0m Finished trial#362 with value: 1.089889673750469 with parameters: {'n_estimators': 209, 'max_depth': 135, 'subsample': 0.8, 'colsample_bytree': 0.8, 'learing_rate': 0.03519263949931806, 'reg_alpha': 6.0, 'min_child_samples': 17}. Best is trial#291 with value: 1.0860848058933388.\u001b[0m\n"
     ]
    },
    {
     "name": "stdout",
     "output_type": "stream",
     "text": [
      "\n"
     ]
    },
    {
     "name": "stderr",
     "output_type": "stream",
     "text": [
      "\u001b[32m[I 2020-12-04 22:46:15,963]\u001b[0m Finished trial#363 with value: 1.7326226370887159 with parameters: {'n_estimators': 231, 'max_depth': 137, 'subsample': 0.8, 'colsample_bytree': 0.2, 'learing_rate': 0.001002785177838882, 'reg_alpha': 6.0, 'min_child_samples': 18}. Best is trial#291 with value: 1.0860848058933388.\u001b[0m\n"
     ]
    },
    {
     "name": "stdout",
     "output_type": "stream",
     "text": [
      "\n"
     ]
    },
    {
     "name": "stderr",
     "output_type": "stream",
     "text": [
      "\u001b[32m[I 2020-12-04 22:46:17,026]\u001b[0m Finished trial#364 with value: 1.0909700773261688 with parameters: {'n_estimators': 210, 'max_depth': 155, 'subsample': 0.8, 'colsample_bytree': 0.8, 'learing_rate': 0.029992670129456393, 'reg_alpha': 6.0, 'min_child_samples': 20}. Best is trial#291 with value: 1.0860848058933388.\u001b[0m\n"
     ]
    },
    {
     "name": "stdout",
     "output_type": "stream",
     "text": [
      "\n"
     ]
    },
    {
     "name": "stderr",
     "output_type": "stream",
     "text": [
      "\u001b[32m[I 2020-12-04 22:46:18,134]\u001b[0m Finished trial#365 with value: 1.0918557235260378 with parameters: {'n_estimators': 222, 'max_depth': 129, 'subsample': 0.8, 'colsample_bytree': 0.8, 'learing_rate': 0.033902115363326976, 'reg_alpha': 6.0, 'min_child_samples': 17}. Best is trial#291 with value: 1.0860848058933388.\u001b[0m\n"
     ]
    },
    {
     "name": "stdout",
     "output_type": "stream",
     "text": [
      "\n"
     ]
    },
    {
     "name": "stderr",
     "output_type": "stream",
     "text": [
      "\u001b[32m[I 2020-12-04 22:46:19,419]\u001b[0m Finished trial#366 with value: 1.094590900112003 with parameters: {'n_estimators': 257, 'max_depth': 144, 'subsample': 0.8, 'colsample_bytree': 0.8, 'learing_rate': 0.02774656215595923, 'reg_alpha': 6.0, 'min_child_samples': 22}. Best is trial#291 with value: 1.0860848058933388.\u001b[0m\n"
     ]
    },
    {
     "name": "stdout",
     "output_type": "stream",
     "text": [
      "\n"
     ]
    },
    {
     "name": "stderr",
     "output_type": "stream",
     "text": [
      "\u001b[32m[I 2020-12-04 22:46:20,432]\u001b[0m Finished trial#367 with value: 1.094444598987396 with parameters: {'n_estimators': 202, 'max_depth': 137, 'subsample': 0.8, 'colsample_bytree': 0.8, 'learing_rate': 0.03538821231351365, 'reg_alpha': 6.0, 'min_child_samples': 19}. Best is trial#291 with value: 1.0860848058933388.\u001b[0m\n"
     ]
    },
    {
     "name": "stdout",
     "output_type": "stream",
     "text": [
      "\n"
     ]
    },
    {
     "name": "stderr",
     "output_type": "stream",
     "text": [
      "\u001b[32m[I 2020-12-04 22:46:21,610]\u001b[0m Finished trial#368 with value: 1.093067882108254 with parameters: {'n_estimators': 236, 'max_depth': 123, 'subsample': 0.8, 'colsample_bytree': 0.8, 'learing_rate': 0.030593225191124115, 'reg_alpha': 6.0, 'min_child_samples': 17}. Best is trial#291 with value: 1.0860848058933388.\u001b[0m\n"
     ]
    },
    {
     "name": "stdout",
     "output_type": "stream",
     "text": [
      "\n"
     ]
    },
    {
     "name": "stderr",
     "output_type": "stream",
     "text": [
      "\u001b[32m[I 2020-12-04 22:46:22,955]\u001b[0m Finished trial#369 with value: 1.092055799232031 with parameters: {'n_estimators': 274, 'max_depth': 149, 'subsample': 0.8, 'colsample_bytree': 0.8, 'learing_rate': 0.023847248477305516, 'reg_alpha': 6.0, 'min_child_samples': 20}. Best is trial#291 with value: 1.0860848058933388.\u001b[0m\n"
     ]
    },
    {
     "name": "stdout",
     "output_type": "stream",
     "text": [
      "\n"
     ]
    },
    {
     "name": "stderr",
     "output_type": "stream",
     "text": [
      "\u001b[32m[I 2020-12-04 22:46:24,013]\u001b[0m Finished trial#370 with value: 1.094460630206234 with parameters: {'n_estimators': 216, 'max_depth': 132, 'subsample': 0.8, 'colsample_bytree': 0.7000000000000001, 'learing_rate': 0.03821330872529621, 'reg_alpha': 6.0, 'min_child_samples': 17}. Best is trial#291 with value: 1.0860848058933388.\u001b[0m\n"
     ]
    },
    {
     "name": "stdout",
     "output_type": "stream",
     "text": [
      "\n"
     ]
    },
    {
     "name": "stderr",
     "output_type": "stream",
     "text": [
      "\u001b[32m[I 2020-12-04 22:46:24,996]\u001b[0m Finished trial#371 with value: 1.0940323769943254 with parameters: {'n_estimators': 193, 'max_depth': 142, 'subsample': 0.8, 'colsample_bytree': 0.8, 'learing_rate': 0.026636216388358266, 'reg_alpha': 6.0, 'min_child_samples': 24}. Best is trial#291 with value: 1.0860848058933388.\u001b[0m\n"
     ]
    },
    {
     "name": "stdout",
     "output_type": "stream",
     "text": [
      "\n"
     ]
    },
    {
     "name": "stderr",
     "output_type": "stream",
     "text": [
      "\u001b[32m[I 2020-12-04 22:46:26,230]\u001b[0m Finished trial#372 with value: 1.0990402595125237 with parameters: {'n_estimators': 247, 'max_depth': 126, 'subsample': 0.8, 'colsample_bytree': 0.8, 'learing_rate': 0.03203607594291784, 'reg_alpha': 6.0, 'min_child_samples': 19}. Best is trial#291 with value: 1.0860848058933388.\u001b[0m\n"
     ]
    },
    {
     "name": "stdout",
     "output_type": "stream",
     "text": [
      "\n"
     ]
    },
    {
     "name": "stderr",
     "output_type": "stream",
     "text": [
      "\u001b[32m[I 2020-12-04 22:46:27,340]\u001b[0m Finished trial#373 with value: 1.1187440162159208 with parameters: {'n_estimators': 206, 'max_depth': 135, 'subsample': 0.8, 'colsample_bytree': 0.8, 'learing_rate': 0.0352604774476733, 'reg_alpha': 6.0, 'min_child_samples': 59}. Best is trial#291 with value: 1.0860848058933388.\u001b[0m\n"
     ]
    },
    {
     "name": "stdout",
     "output_type": "stream",
     "text": [
      "\n"
     ]
    },
    {
     "name": "stderr",
     "output_type": "stream",
     "text": [
      "\u001b[32m[I 2020-12-04 22:46:27,984]\u001b[0m Finished trial#374 with value: 1.097740976061759 with parameters: {'n_estimators': 119, 'max_depth': 120, 'subsample': 0.8, 'colsample_bytree': 0.8, 'learing_rate': 0.04122291034323298, 'reg_alpha': 6.0, 'min_child_samples': 49}. Best is trial#291 with value: 1.0860848058933388.\u001b[0m\n"
     ]
    },
    {
     "name": "stdout",
     "output_type": "stream",
     "text": [
      "\n"
     ]
    },
    {
     "name": "stderr",
     "output_type": "stream",
     "text": [
      "\u001b[32m[I 2020-12-04 22:46:29,135]\u001b[0m Finished trial#375 with value: 1.1098588787754424 with parameters: {'n_estimators': 227, 'max_depth': 129, 'subsample': 0.8, 'colsample_bytree': 0.8, 'learing_rate': 0.04604135651889882, 'reg_alpha': 6.0, 'min_child_samples': 22}. Best is trial#291 with value: 1.0860848058933388.\u001b[0m\n"
     ]
    },
    {
     "name": "stdout",
     "output_type": "stream",
     "text": [
      "\n"
     ]
    },
    {
     "name": "stderr",
     "output_type": "stream",
     "text": [
      "\u001b[32m[I 2020-12-04 22:46:29,914]\u001b[0m Finished trial#376 with value: 1.1138675927223003 with parameters: {'n_estimators': 149, 'max_depth': 141, 'subsample': 0.9, 'colsample_bytree': 0.8, 'learing_rate': 0.02850650739770255, 'reg_alpha': 6.0, 'min_child_samples': 16}. Best is trial#291 with value: 1.0860848058933388.\u001b[0m\n"
     ]
    },
    {
     "name": "stdout",
     "output_type": "stream",
     "text": [
      "\n"
     ]
    },
    {
     "name": "stderr",
     "output_type": "stream",
     "text": [
      "\u001b[32m[I 2020-12-04 22:46:30,908]\u001b[0m Finished trial#377 with value: 1.0903817503177324 with parameters: {'n_estimators': 194, 'max_depth': 122, 'subsample': 0.8, 'colsample_bytree': 0.8, 'learing_rate': 0.03324507935395182, 'reg_alpha': 6.0, 'min_child_samples': 18}. Best is trial#291 with value: 1.0860848058933388.\u001b[0m\n"
     ]
    },
    {
     "name": "stdout",
     "output_type": "stream",
     "text": [
      "\n"
     ]
    },
    {
     "name": "stderr",
     "output_type": "stream",
     "text": [
      "\u001b[32m[I 2020-12-04 22:46:31,820]\u001b[0m Finished trial#378 with value: 1.087825438695192 with parameters: {'n_estimators': 174, 'max_depth': 152, 'subsample': 0.8, 'colsample_bytree': 0.8, 'learing_rate': 0.030928031215338644, 'reg_alpha': 6.0, 'min_child_samples': 21}. Best is trial#291 with value: 1.0860848058933388.\u001b[0m\n"
     ]
    },
    {
     "name": "stdout",
     "output_type": "stream",
     "text": [
      "\n"
     ]
    },
    {
     "name": "stderr",
     "output_type": "stream",
     "text": [
      "\u001b[32m[I 2020-12-04 22:46:32,666]\u001b[0m Finished trial#379 with value: 1.105872823659799 with parameters: {'n_estimators': 167, 'max_depth': 161, 'subsample': 0.8, 'colsample_bytree': 0.7000000000000001, 'learing_rate': 0.025715297113660267, 'reg_alpha': 6.0, 'min_child_samples': 21}. Best is trial#291 with value: 1.0860848058933388.\u001b[0m\n"
     ]
    },
    {
     "name": "stdout",
     "output_type": "stream",
     "text": [
      "\n"
     ]
    },
    {
     "name": "stderr",
     "output_type": "stream",
     "text": [
      "\u001b[32m[I 2020-12-04 22:46:33,473]\u001b[0m Finished trial#380 with value: 1.100912372359565 with parameters: {'n_estimators': 153, 'max_depth': 150, 'subsample': 0.8, 'colsample_bytree': 0.8, 'learing_rate': 0.02946094830836576, 'reg_alpha': 6.0, 'min_child_samples': 23}. Best is trial#291 with value: 1.0860848058933388.\u001b[0m\n"
     ]
    },
    {
     "name": "stdout",
     "output_type": "stream",
     "text": [
      "\n"
     ]
    },
    {
     "name": "stderr",
     "output_type": "stream",
     "text": [
      "\u001b[32m[I 2020-12-04 22:46:34,395]\u001b[0m Finished trial#381 with value: 1.0917780627934761 with parameters: {'n_estimators': 183, 'max_depth': 156, 'subsample': 0.8, 'colsample_bytree': 0.8, 'learing_rate': 0.030823699574430957, 'reg_alpha': 6.0, 'min_child_samples': 21}. Best is trial#291 with value: 1.0860848058933388.\u001b[0m\n"
     ]
    },
    {
     "name": "stdout",
     "output_type": "stream",
     "text": [
      "\n"
     ]
    },
    {
     "name": "stderr",
     "output_type": "stream",
     "text": [
      "\u001b[32m[I 2020-12-04 22:46:35,182]\u001b[0m Finished trial#382 with value: 1.1208399302758332 with parameters: {'n_estimators': 140, 'max_depth': 152, 'subsample': 0.8, 'colsample_bytree': 1.0, 'learing_rate': 0.027436136738019284, 'reg_alpha': 6.0, 'min_child_samples': 24}. Best is trial#291 with value: 1.0860848058933388.\u001b[0m\n"
     ]
    },
    {
     "name": "stdout",
     "output_type": "stream",
     "text": [
      "\n"
     ]
    },
    {
     "name": "stderr",
     "output_type": "stream",
     "text": [
      "\u001b[32m[I 2020-12-04 22:46:36,286]\u001b[0m Finished trial#383 with value: 1.094540267138373 with parameters: {'n_estimators': 219, 'max_depth': 147, 'subsample': 0.8, 'colsample_bytree': 0.8, 'learing_rate': 0.02237484445383371, 'reg_alpha': 6.0, 'min_child_samples': 20}. Best is trial#291 with value: 1.0860848058933388.\u001b[0m\n"
     ]
    },
    {
     "name": "stdout",
     "output_type": "stream",
     "text": [
      "\n"
     ]
    },
    {
     "name": "stderr",
     "output_type": "stream",
     "text": [
      "\u001b[32m[I 2020-12-04 22:46:37,603]\u001b[0m Finished trial#384 with value: 1.0990102955211059 with parameters: {'n_estimators': 268, 'max_depth': 138, 'subsample': 0.8, 'colsample_bytree': 0.8, 'learing_rate': 0.03174834429944234, 'reg_alpha': 6.0, 'min_child_samples': 19}. Best is trial#291 with value: 1.0860848058933388.\u001b[0m\n"
     ]
    },
    {
     "name": "stdout",
     "output_type": "stream",
     "text": [
      "\n"
     ]
    },
    {
     "name": "stderr",
     "output_type": "stream",
     "text": [
      "\u001b[32m[I 2020-12-04 22:46:38,414]\u001b[0m Finished trial#385 with value: 1.1090142181703229 with parameters: {'n_estimators': 174, 'max_depth': 145, 'subsample': 0.8, 'colsample_bytree': 0.5, 'learing_rate': 0.03787474209117783, 'reg_alpha': 6.0, 'min_child_samples': 25}. Best is trial#291 with value: 1.0860848058933388.\u001b[0m\n"
     ]
    },
    {
     "name": "stdout",
     "output_type": "stream",
     "text": [
      "\n"
     ]
    },
    {
     "name": "stderr",
     "output_type": "stream",
     "text": [
      "\u001b[32m[I 2020-12-04 22:46:39,476]\u001b[0m Finished trial#386 with value: 1.3522443262226491 with parameters: {'n_estimators': 208, 'max_depth': 134, 'subsample': 0.8, 'colsample_bytree': 0.9, 'learing_rate': 0.006965451977997789, 'reg_alpha': 6.0, 'min_child_samples': 21}. Best is trial#291 with value: 1.0860848058933388.\u001b[0m\n"
     ]
    },
    {
     "name": "stdout",
     "output_type": "stream",
     "text": [
      "\n"
     ]
    },
    {
     "name": "stderr",
     "output_type": "stream",
     "text": [
      "\u001b[32m[I 2020-12-04 22:46:40,697]\u001b[0m Finished trial#387 with value: 1.0882897682053294 with parameters: {'n_estimators': 238, 'max_depth': 160, 'subsample': 0.8, 'colsample_bytree': 0.9, 'learing_rate': 0.02529005791263537, 'reg_alpha': 6.0, 'min_child_samples': 17}. Best is trial#291 with value: 1.0860848058933388.\u001b[0m\n"
     ]
    },
    {
     "name": "stdout",
     "output_type": "stream",
     "text": [
      "\n"
     ]
    },
    {
     "name": "stderr",
     "output_type": "stream",
     "text": [
      "\u001b[32m[I 2020-12-04 22:46:41,918]\u001b[0m Finished trial#388 with value: 1.091631693666132 with parameters: {'n_estimators': 242, 'max_depth': 154, 'subsample': 0.8, 'colsample_bytree': 0.9, 'learing_rate': 0.025262101793512463, 'reg_alpha': 6.0, 'min_child_samples': 17}. Best is trial#291 with value: 1.0860848058933388.\u001b[0m\n"
     ]
    },
    {
     "name": "stdout",
     "output_type": "stream",
     "text": [
      "\n"
     ]
    },
    {
     "name": "stderr",
     "output_type": "stream",
     "text": [
      "\u001b[32m[I 2020-12-04 22:46:43,226]\u001b[0m Finished trial#389 with value: 1.0888974428094744 with parameters: {'n_estimators': 258, 'max_depth': 160, 'subsample': 0.8, 'colsample_bytree': 0.9, 'learing_rate': 0.023471519394514175, 'reg_alpha': 6.0, 'min_child_samples': 15}. Best is trial#291 with value: 1.0860848058933388.\u001b[0m\n"
     ]
    },
    {
     "name": "stdout",
     "output_type": "stream",
     "text": [
      "\n"
     ]
    },
    {
     "name": "stderr",
     "output_type": "stream",
     "text": [
      "\u001b[32m[I 2020-12-04 22:46:44,640]\u001b[0m Finished trial#390 with value: 1.08853727407915 with parameters: {'n_estimators': 281, 'max_depth': 163, 'subsample': 0.8, 'colsample_bytree': 0.9, 'learing_rate': 0.023055560443387486, 'reg_alpha': 6.0, 'min_child_samples': 15}. Best is trial#291 with value: 1.0860848058933388.\u001b[0m\n"
     ]
    },
    {
     "name": "stdout",
     "output_type": "stream",
     "text": [
      "\n"
     ]
    },
    {
     "name": "stderr",
     "output_type": "stream",
     "text": [
      "\u001b[32m[I 2020-12-04 22:46:45,951]\u001b[0m Finished trial#391 with value: 1.08871130797537 with parameters: {'n_estimators': 256, 'max_depth': 172, 'subsample': 0.8, 'colsample_bytree': 0.9, 'learing_rate': 0.024959924920514347, 'reg_alpha': 6.0, 'min_child_samples': 15}. Best is trial#291 with value: 1.0860848058933388.\u001b[0m\n"
     ]
    },
    {
     "name": "stdout",
     "output_type": "stream",
     "text": [
      "\n"
     ]
    },
    {
     "name": "stderr",
     "output_type": "stream",
     "text": [
      "\u001b[32m[I 2020-12-04 22:46:47,312]\u001b[0m Finished trial#392 with value: 1.0956718203402378 with parameters: {'n_estimators': 268, 'max_depth': 173, 'subsample': 0.8, 'colsample_bytree': 0.9, 'learing_rate': 0.02006287314139688, 'reg_alpha': 6.0, 'min_child_samples': 15}. Best is trial#291 with value: 1.0860848058933388.\u001b[0m\n"
     ]
    },
    {
     "name": "stdout",
     "output_type": "stream",
     "text": [
      "\n"
     ]
    },
    {
     "name": "stderr",
     "output_type": "stream",
     "text": [
      "\u001b[32m[I 2020-12-04 22:46:48,695]\u001b[0m Finished trial#393 with value: 1.0928173492076898 with parameters: {'n_estimators': 274, 'max_depth': 169, 'subsample': 0.8, 'colsample_bytree': 0.9, 'learing_rate': 0.020862885613451374, 'reg_alpha': 6.0, 'min_child_samples': 14}. Best is trial#291 with value: 1.0860848058933388.\u001b[0m\n"
     ]
    },
    {
     "name": "stdout",
     "output_type": "stream",
     "text": [
      "\n"
     ]
    },
    {
     "name": "stderr",
     "output_type": "stream",
     "text": [
      "\u001b[32m[I 2020-12-04 22:46:50,184]\u001b[0m Finished trial#394 with value: 1.0900890873136755 with parameters: {'n_estimators': 297, 'max_depth': 166, 'subsample': 0.8, 'colsample_bytree': 0.9, 'learing_rate': 0.02300432259693555, 'reg_alpha': 6.0, 'min_child_samples': 15}. Best is trial#291 with value: 1.0860848058933388.\u001b[0m\n"
     ]
    },
    {
     "name": "stdout",
     "output_type": "stream",
     "text": [
      "\n"
     ]
    },
    {
     "name": "stderr",
     "output_type": "stream",
     "text": [
      "\u001b[32m[I 2020-12-04 22:46:51,600]\u001b[0m Finished trial#395 with value: 1.0992868601671513 with parameters: {'n_estimators': 277, 'max_depth': 161, 'subsample': 0.8, 'colsample_bytree': 1.0, 'learing_rate': 0.023924106299754833, 'reg_alpha': 6.0, 'min_child_samples': 13}. Best is trial#291 with value: 1.0860848058933388.\u001b[0m\n"
     ]
    },
    {
     "name": "stdout",
     "output_type": "stream",
     "text": [
      "\n"
     ]
    },
    {
     "name": "stderr",
     "output_type": "stream",
     "text": [
      "\u001b[32m[I 2020-12-04 22:46:52,900]\u001b[0m Finished trial#396 with value: 1.096184199274227 with parameters: {'n_estimators': 254, 'max_depth': 167, 'subsample': 0.8, 'colsample_bytree': 0.9, 'learing_rate': 0.020819298770090634, 'reg_alpha': 6.0, 'min_child_samples': 16}. Best is trial#291 with value: 1.0860848058933388.\u001b[0m\n"
     ]
    },
    {
     "name": "stdout",
     "output_type": "stream",
     "text": [
      "\n"
     ]
    },
    {
     "name": "stderr",
     "output_type": "stream",
     "text": [
      "\u001b[32m[I 2020-12-04 22:46:54,170]\u001b[0m Finished trial#397 with value: 1.0928505261132138 with parameters: {'n_estimators': 251, 'max_depth': 160, 'subsample': 0.6, 'colsample_bytree': 0.9, 'learing_rate': 0.02383811746258776, 'reg_alpha': 6.0, 'min_child_samples': 15}. Best is trial#291 with value: 1.0860848058933388.\u001b[0m\n"
     ]
    },
    {
     "name": "stdout",
     "output_type": "stream",
     "text": [
      "\n"
     ]
    },
    {
     "name": "stderr",
     "output_type": "stream",
     "text": [
      "\u001b[32m[I 2020-12-04 22:46:55,486]\u001b[0m Finished trial#398 with value: 1.095930673349722 with parameters: {'n_estimators': 259, 'max_depth': 176, 'subsample': 0.8, 'colsample_bytree': 0.9, 'learing_rate': 0.02204544982102304, 'reg_alpha': 6.0, 'min_child_samples': 13}. Best is trial#291 with value: 1.0860848058933388.\u001b[0m\n"
     ]
    },
    {
     "name": "stdout",
     "output_type": "stream",
     "text": [
      "\n"
     ]
    },
    {
     "name": "stderr",
     "output_type": "stream",
     "text": [
      "\u001b[32m[I 2020-12-04 22:46:56,903]\u001b[0m Finished trial#399 with value: 1.0876764635836893 with parameters: {'n_estimators': 282, 'max_depth': 171, 'subsample': 0.8, 'colsample_bytree': 0.9, 'learing_rate': 0.025926110328739083, 'reg_alpha': 6.0, 'min_child_samples': 17}. Best is trial#291 with value: 1.0860848058933388.\u001b[0m\n"
     ]
    },
    {
     "name": "stdout",
     "output_type": "stream",
     "text": [
      "\n"
     ]
    },
    {
     "name": "stderr",
     "output_type": "stream",
     "text": [
      "\u001b[32m[I 2020-12-04 22:46:58,221]\u001b[0m Finished trial#400 with value: 1.0895666485274675 with parameters: {'n_estimators': 260, 'max_depth': 172, 'subsample': 0.8, 'colsample_bytree': 0.9, 'learing_rate': 0.024983841725949595, 'reg_alpha': 6.0, 'min_child_samples': 14}. Best is trial#291 with value: 1.0860848058933388.\u001b[0m\n"
     ]
    },
    {
     "name": "stdout",
     "output_type": "stream",
     "text": [
      "\n"
     ]
    },
    {
     "name": "stderr",
     "output_type": "stream",
     "text": [
      "\u001b[32m[I 2020-12-04 22:46:59,675]\u001b[0m Finished trial#401 with value: 1.0897969546770827 with parameters: {'n_estimators': 292, 'max_depth': 173, 'subsample': 0.8, 'colsample_bytree': 0.9, 'learing_rate': 0.024111573267513016, 'reg_alpha': 6.0, 'min_child_samples': 12}. Best is trial#291 with value: 1.0860848058933388.\u001b[0m\n"
     ]
    },
    {
     "name": "stdout",
     "output_type": "stream",
     "text": [
      "\n"
     ]
    },
    {
     "name": "stderr",
     "output_type": "stream",
     "text": [
      "\u001b[32m[I 2020-12-04 22:47:01,097]\u001b[0m Finished trial#402 with value: 1.0946088738685114 with parameters: {'n_estimators': 283, 'max_depth': 166, 'subsample': 0.8, 'colsample_bytree': 0.9, 'learing_rate': 0.02622679645546793, 'reg_alpha': 6.0, 'min_child_samples': 14}. Best is trial#291 with value: 1.0860848058933388.\u001b[0m\n"
     ]
    },
    {
     "name": "stdout",
     "output_type": "stream",
     "text": [
      "\n"
     ]
    },
    {
     "name": "stderr",
     "output_type": "stream",
     "text": [
      "\u001b[32m[I 2020-12-04 22:47:02,581]\u001b[0m Finished trial#403 with value: 1.094571906952144 with parameters: {'n_estimators': 299, 'max_depth': 182, 'subsample': 0.8, 'colsample_bytree': 0.9, 'learing_rate': 0.022839818626162387, 'reg_alpha': 6.0, 'min_child_samples': 11}. Best is trial#291 with value: 1.0860848058933388.\u001b[0m\n"
     ]
    },
    {
     "name": "stdout",
     "output_type": "stream",
     "text": [
      "\n"
     ]
    },
    {
     "name": "stderr",
     "output_type": "stream",
     "text": [
      "\u001b[32m[I 2020-12-04 22:47:03,922]\u001b[0m Finished trial#404 with value: 1.0928957464706808 with parameters: {'n_estimators': 271, 'max_depth': 164, 'subsample': 0.8, 'colsample_bytree': 0.9, 'learing_rate': 0.021122868591718646, 'reg_alpha': 6.0, 'min_child_samples': 15}. Best is trial#291 with value: 1.0860848058933388.\u001b[0m\n"
     ]
    },
    {
     "name": "stdout",
     "output_type": "stream",
     "text": [
      "\n"
     ]
    },
    {
     "name": "stderr",
     "output_type": "stream",
     "text": [
      "\u001b[32m[I 2020-12-04 22:47:05,313]\u001b[0m Finished trial#405 with value: 1.0902742986079927 with parameters: {'n_estimators': 275, 'max_depth': 171, 'subsample': 0.8, 'colsample_bytree': 0.9, 'learing_rate': 0.02506139934755916, 'reg_alpha': 6.0, 'min_child_samples': 14}. Best is trial#291 with value: 1.0860848058933388.\u001b[0m\n"
     ]
    },
    {
     "name": "stdout",
     "output_type": "stream",
     "text": [
      "\n"
     ]
    },
    {
     "name": "stderr",
     "output_type": "stream",
     "text": [
      "\u001b[32m[I 2020-12-04 22:47:06,788]\u001b[0m Finished trial#406 with value: 1.0915349288123586 with parameters: {'n_estimators': 283, 'max_depth': 180, 'subsample': 0.8, 'colsample_bytree': 1.0, 'learing_rate': 0.025425669449494454, 'reg_alpha': 6.0, 'min_child_samples': 16}. Best is trial#291 with value: 1.0860848058933388.\u001b[0m\n"
     ]
    },
    {
     "name": "stdout",
     "output_type": "stream",
     "text": [
      "\n"
     ]
    },
    {
     "name": "stderr",
     "output_type": "stream",
     "text": [
      "\u001b[32m[I 2020-12-04 22:47:08,008]\u001b[0m Finished trial#407 with value: 1.0986948257809792 with parameters: {'n_estimators': 242, 'max_depth': 171, 'subsample': 0.8, 'colsample_bytree': 0.9, 'learing_rate': 0.02233615251717711, 'reg_alpha': 6.0, 'min_child_samples': 12}. Best is trial#291 with value: 1.0860848058933388.\u001b[0m\n"
     ]
    },
    {
     "name": "stdout",
     "output_type": "stream",
     "text": [
      "\n"
     ]
    },
    {
     "name": "stderr",
     "output_type": "stream",
     "text": [
      "\u001b[32m[I 2020-12-04 22:47:09,297]\u001b[0m Finished trial#408 with value: 1.087570900355047 with parameters: {'n_estimators': 252, 'max_depth': 164, 'subsample': 0.8, 'colsample_bytree': 0.9, 'learing_rate': 0.025830691163689832, 'reg_alpha': 6.0, 'min_child_samples': 16}. Best is trial#291 with value: 1.0860848058933388.\u001b[0m\n"
     ]
    },
    {
     "name": "stdout",
     "output_type": "stream",
     "text": [
      "\n"
     ]
    },
    {
     "name": "stderr",
     "output_type": "stream",
     "text": [
      "\u001b[32m[I 2020-12-04 22:47:11,151]\u001b[0m Finished trial#409 with value: 1.0998689755165718 with parameters: {'n_estimators': 263, 'max_depth': 161, 'subsample': 0.8, 'colsample_bytree': 0.9, 'learing_rate': 0.018774239142579977, 'reg_alpha': 6.0, 'min_child_samples': 14}. Best is trial#291 with value: 1.0860848058933388.\u001b[0m\n"
     ]
    },
    {
     "name": "stdout",
     "output_type": "stream",
     "text": [
      "\n"
     ]
    },
    {
     "name": "stderr",
     "output_type": "stream",
     "text": [
      "\u001b[32m[I 2020-12-04 22:47:12,446]\u001b[0m Finished trial#410 with value: 1.0869591265818315 with parameters: {'n_estimators': 259, 'max_depth': 158, 'subsample': 0.8, 'colsample_bytree': 0.9, 'learing_rate': 0.02634096594383865, 'reg_alpha': 6.0, 'min_child_samples': 16}. Best is trial#291 with value: 1.0860848058933388.\u001b[0m\n"
     ]
    },
    {
     "name": "stdout",
     "output_type": "stream",
     "text": [
      "\n"
     ]
    },
    {
     "name": "stderr",
     "output_type": "stream",
     "text": [
      "\u001b[32m[I 2020-12-04 22:47:13,716]\u001b[0m Finished trial#411 with value: 1.0898279300374423 with parameters: {'n_estimators': 253, 'max_depth': 158, 'subsample': 0.8, 'colsample_bytree': 0.9, 'learing_rate': 0.027754618961719324, 'reg_alpha': 6.0, 'min_child_samples': 16}. Best is trial#291 with value: 1.0860848058933388.\u001b[0m\n"
     ]
    },
    {
     "name": "stdout",
     "output_type": "stream",
     "text": [
      "\n"
     ]
    },
    {
     "name": "stderr",
     "output_type": "stream",
     "text": [
      "\u001b[32m[I 2020-12-04 22:47:15,193]\u001b[0m Finished trial#412 with value: 1.095261484391205 with parameters: {'n_estimators': 294, 'max_depth': 161, 'subsample': 0.8, 'colsample_bytree': 0.9, 'learing_rate': 0.025922080608254825, 'reg_alpha': 6.0, 'min_child_samples': 17}. Best is trial#291 with value: 1.0860848058933388.\u001b[0m\n"
     ]
    },
    {
     "name": "stdout",
     "output_type": "stream",
     "text": [
      "\n"
     ]
    },
    {
     "name": "stderr",
     "output_type": "stream",
     "text": [
      "\u001b[32m[I 2020-12-04 22:47:16,741]\u001b[0m Finished trial#413 with value: 1.0895361707347635 with parameters: {'n_estimators': 311, 'max_depth': 158, 'subsample': 0.8, 'colsample_bytree': 0.9, 'learing_rate': 0.021830185142711355, 'reg_alpha': 6.0, 'min_child_samples': 16}. Best is trial#291 with value: 1.0860848058933388.\u001b[0m\n"
     ]
    },
    {
     "name": "stdout",
     "output_type": "stream",
     "text": [
      "\n"
     ]
    },
    {
     "name": "stderr",
     "output_type": "stream",
     "text": [
      "\u001b[32m[I 2020-12-04 22:47:17,977]\u001b[0m Finished trial#414 with value: 1.0895613127754795 with parameters: {'n_estimators': 247, 'max_depth': 155, 'subsample': 0.8, 'colsample_bytree': 0.9, 'learing_rate': 0.027024793851582865, 'reg_alpha': 6.0, 'min_child_samples': 12}. Best is trial#291 with value: 1.0860848058933388.\u001b[0m\n"
     ]
    },
    {
     "name": "stdout",
     "output_type": "stream",
     "text": [
      "\n"
     ]
    },
    {
     "name": "stderr",
     "output_type": "stream",
     "text": [
      "\u001b[32m[I 2020-12-04 22:47:19,283]\u001b[0m Finished trial#415 with value: 1.0913119832008407 with parameters: {'n_estimators': 263, 'max_depth': 165, 'subsample': 0.8, 'colsample_bytree': 0.9, 'learing_rate': 0.02440135271369466, 'reg_alpha': 6.0, 'min_child_samples': 10}. Best is trial#291 with value: 1.0860848058933388.\u001b[0m\n"
     ]
    },
    {
     "name": "stdout",
     "output_type": "stream",
     "text": [
      "\n"
     ]
    },
    {
     "name": "stderr",
     "output_type": "stream",
     "text": [
      "\u001b[32m[I 2020-12-04 22:47:20,684]\u001b[0m Finished trial#416 with value: 1.0894531424926492 with parameters: {'n_estimators': 276, 'max_depth': 155, 'subsample': 0.8, 'colsample_bytree': 0.9, 'learing_rate': 0.026306226929195334, 'reg_alpha': 6.0, 'min_child_samples': 17}. Best is trial#291 with value: 1.0860848058933388.\u001b[0m\n"
     ]
    },
    {
     "name": "stdout",
     "output_type": "stream",
     "text": [
      "\n"
     ]
    },
    {
     "name": "stderr",
     "output_type": "stream",
     "text": [
      "\u001b[32m[I 2020-12-04 22:47:22,244]\u001b[0m Finished trial#417 with value: 1.0913658809095834 with parameters: {'n_estimators': 311, 'max_depth': 154, 'subsample': 0.8, 'colsample_bytree': 0.9, 'learing_rate': 0.023171145546822675, 'reg_alpha': 6.0, 'min_child_samples': 15}. Best is trial#291 with value: 1.0860848058933388.\u001b[0m\n"
     ]
    },
    {
     "name": "stdout",
     "output_type": "stream",
     "text": [
      "\n"
     ]
    },
    {
     "name": "stderr",
     "output_type": "stream",
     "text": [
      "\u001b[32m[I 2020-12-04 22:47:23,575]\u001b[0m Finished trial#418 with value: 1.096432686492367 with parameters: {'n_estimators': 288, 'max_depth': 163, 'subsample': 0.8, 'colsample_bytree': 0.6, 'learing_rate': 0.019714541486000388, 'reg_alpha': 6.0, 'min_child_samples': 17}. Best is trial#291 with value: 1.0860848058933388.\u001b[0m\n"
     ]
    },
    {
     "name": "stdout",
     "output_type": "stream",
     "text": [
      "\n"
     ]
    },
    {
     "name": "stderr",
     "output_type": "stream",
     "text": [
      "\u001b[32m[I 2020-12-04 22:47:24,968]\u001b[0m Finished trial#419 with value: 1.0923073474272875 with parameters: {'n_estimators': 281, 'max_depth': 153, 'subsample': 0.8, 'colsample_bytree': 0.9, 'learing_rate': 0.02657769437542033, 'reg_alpha': 6.0, 'min_child_samples': 13}. Best is trial#291 with value: 1.0860848058933388.\u001b[0m\n"
     ]
    },
    {
     "name": "stdout",
     "output_type": "stream",
     "text": [
      "\n"
     ]
    },
    {
     "name": "stderr",
     "output_type": "stream",
     "text": [
      "\u001b[32m[I 2020-12-04 22:47:26,388]\u001b[0m Finished trial#420 with value: 1.090217838821207 with parameters: {'n_estimators': 279, 'max_depth': 158, 'subsample': 0.8, 'colsample_bytree': 1.0, 'learing_rate': 0.02375473898766594, 'reg_alpha': 6.0, 'min_child_samples': 16}. Best is trial#291 with value: 1.0860848058933388.\u001b[0m\n"
     ]
    },
    {
     "name": "stdout",
     "output_type": "stream",
     "text": [
      "\n"
     ]
    },
    {
     "name": "stderr",
     "output_type": "stream",
     "text": [
      "\u001b[32m[I 2020-12-04 22:47:27,669]\u001b[0m Finished trial#421 with value: 1.0945181171967577 with parameters: {'n_estimators': 258, 'max_depth': 169, 'subsample': 0.8, 'colsample_bytree': 0.9, 'learing_rate': 0.026970385374036687, 'reg_alpha': 6.0, 'min_child_samples': 13}. Best is trial#291 with value: 1.0860848058933388.\u001b[0m\n"
     ]
    },
    {
     "name": "stdout",
     "output_type": "stream",
     "text": [
      "\n"
     ]
    },
    {
     "name": "stderr",
     "output_type": "stream",
     "text": [
      "\u001b[32m[I 2020-12-04 22:47:28,915]\u001b[0m Finished trial#422 with value: 1.0923581837186225 with parameters: {'n_estimators': 248, 'max_depth': 150, 'subsample': 0.8, 'colsample_bytree': 0.9, 'learing_rate': 0.027988093758837207, 'reg_alpha': 6.0, 'min_child_samples': 17}. Best is trial#291 with value: 1.0860848058933388.\u001b[0m\n"
     ]
    },
    {
     "name": "stdout",
     "output_type": "stream",
     "text": [
      "\n"
     ]
    },
    {
     "name": "stderr",
     "output_type": "stream",
     "text": [
      "\u001b[32m[I 2020-12-04 22:47:30,259]\u001b[0m Finished trial#423 with value: 1.0923276721983157 with parameters: {'n_estimators': 270, 'max_depth': 159, 'subsample': 0.8, 'colsample_bytree': 0.9, 'learing_rate': 0.024880169196916543, 'reg_alpha': 6.0, 'min_child_samples': 11}. Best is trial#291 with value: 1.0860848058933388.\u001b[0m\n"
     ]
    },
    {
     "name": "stdout",
     "output_type": "stream",
     "text": [
      "\n"
     ]
    },
    {
     "name": "stderr",
     "output_type": "stream",
     "text": [
      "\u001b[32m[I 2020-12-04 22:47:31,495]\u001b[0m Finished trial#424 with value: 1.0952060557224252 with parameters: {'n_estimators': 239, 'max_depth': 166, 'subsample': 0.8, 'colsample_bytree': 0.9, 'learing_rate': 0.02147441032157996, 'reg_alpha': 6.0, 'min_child_samples': 52}. Best is trial#291 with value: 1.0860848058933388.\u001b[0m\n"
     ]
    },
    {
     "name": "stdout",
     "output_type": "stream",
     "text": [
      "\n"
     ]
    },
    {
     "name": "stderr",
     "output_type": "stream",
     "text": [
      "\u001b[32m[I 2020-12-04 22:47:33,180]\u001b[0m Finished trial#425 with value: 1.1006066079692038 with parameters: {'n_estimators': 340, 'max_depth': 177, 'subsample': 0.8, 'colsample_bytree': 1.0, 'learing_rate': 0.027852762077022895, 'reg_alpha': 6.0, 'min_child_samples': 14}. Best is trial#291 with value: 1.0860848058933388.\u001b[0m\n"
     ]
    },
    {
     "name": "stdout",
     "output_type": "stream",
     "text": [
      "\n"
     ]
    },
    {
     "name": "stderr",
     "output_type": "stream",
     "text": [
      "\u001b[32m[I 2020-12-04 22:47:34,817]\u001b[0m Finished trial#426 with value: 1.0946235957279273 with parameters: {'n_estimators': 327, 'max_depth': 153, 'subsample': 0.8, 'colsample_bytree': 0.9, 'learing_rate': 0.02614048474396847, 'reg_alpha': 6.0, 'min_child_samples': 18}. Best is trial#291 with value: 1.0860848058933388.\u001b[0m\n"
     ]
    },
    {
     "name": "stdout",
     "output_type": "stream",
     "text": [
      "\n"
     ]
    },
    {
     "name": "stderr",
     "output_type": "stream",
     "text": [
      "\u001b[32m[I 2020-12-04 22:47:36,153]\u001b[0m Finished trial#427 with value: 1.0933514636957629 with parameters: {'n_estimators': 266, 'max_depth': 155, 'subsample': 0.6, 'colsample_bytree': 0.9, 'learing_rate': 0.02317134607562969, 'reg_alpha': 6.0, 'min_child_samples': 15}. Best is trial#291 with value: 1.0860848058933388.\u001b[0m\n"
     ]
    },
    {
     "name": "stdout",
     "output_type": "stream",
     "text": [
      "\n"
     ]
    },
    {
     "name": "stderr",
     "output_type": "stream",
     "text": [
      "\u001b[32m[I 2020-12-04 22:47:37,655]\u001b[0m Finished trial#428 with value: 1.0932462217782528 with parameters: {'n_estimators': 301, 'max_depth': 164, 'subsample': 0.8, 'colsample_bytree': 0.9, 'learing_rate': 0.029366044466411886, 'reg_alpha': 5.0, 'min_child_samples': 10}. Best is trial#291 with value: 1.0860848058933388.\u001b[0m\n"
     ]
    },
    {
     "name": "stdout",
     "output_type": "stream",
     "text": [
      "\n"
     ]
    },
    {
     "name": "stderr",
     "output_type": "stream",
     "text": [
      "\u001b[32m[I 2020-12-04 22:47:38,903]\u001b[0m Finished trial#429 with value: 1.0915213632055039 with parameters: {'n_estimators': 245, 'max_depth': 149, 'subsample': 0.8, 'colsample_bytree': 0.9, 'learing_rate': 0.02871891145657353, 'reg_alpha': 6.0, 'min_child_samples': 17}. Best is trial#291 with value: 1.0860848058933388.\u001b[0m\n"
     ]
    },
    {
     "name": "stdout",
     "output_type": "stream",
     "text": [
      "\n"
     ]
    },
    {
     "name": "stderr",
     "output_type": "stream",
     "text": [
      "\u001b[32m[I 2020-12-04 22:47:40,320]\u001b[0m Finished trial#430 with value: 1.0922092060414315 with parameters: {'n_estimators': 282, 'max_depth': 149, 'subsample': 0.8, 'colsample_bytree': 0.9, 'learing_rate': 0.02513549147590184, 'reg_alpha': 6.0, 'min_child_samples': 13}. Best is trial#291 with value: 1.0860848058933388.\u001b[0m\n"
     ]
    },
    {
     "name": "stdout",
     "output_type": "stream",
     "text": [
      "\n"
     ]
    },
    {
     "name": "stderr",
     "output_type": "stream",
     "text": [
      "\u001b[32m[I 2020-12-04 22:47:41,526]\u001b[0m Finished trial#431 with value: 1.091572015067165 with parameters: {'n_estimators': 232, 'max_depth': 161, 'subsample': 0.8, 'colsample_bytree': 0.9, 'learing_rate': 0.031285752927099446, 'reg_alpha': 6.0, 'min_child_samples': 18}. Best is trial#291 with value: 1.0860848058933388.\u001b[0m\n"
     ]
    },
    {
     "name": "stdout",
     "output_type": "stream",
     "text": [
      "\n"
     ]
    },
    {
     "name": "stderr",
     "output_type": "stream",
     "text": [
      "\u001b[32m[I 2020-12-04 22:47:42,798]\u001b[0m Finished trial#432 with value: 1.0878148194897848 with parameters: {'n_estimators': 254, 'max_depth': 146, 'subsample': 0.7000000000000001, 'colsample_bytree': 0.9, 'learing_rate': 0.027146754100079325, 'reg_alpha': 6.0, 'min_child_samples': 15}. Best is trial#291 with value: 1.0860848058933388.\u001b[0m\n"
     ]
    },
    {
     "name": "stdout",
     "output_type": "stream",
     "text": [
      "\n"
     ]
    },
    {
     "name": "stderr",
     "output_type": "stream",
     "text": [
      "\u001b[32m[I 2020-12-04 22:47:44,070]\u001b[0m Finished trial#433 with value: 1.0927084224632149 with parameters: {'n_estimators': 253, 'max_depth': 144, 'subsample': 0.7000000000000001, 'colsample_bytree': 0.9, 'learing_rate': 0.029180797484470285, 'reg_alpha': 6.0, 'min_child_samples': 12}. Best is trial#291 with value: 1.0860848058933388.\u001b[0m\n"
     ]
    },
    {
     "name": "stdout",
     "output_type": "stream",
     "text": [
      "\n"
     ]
    },
    {
     "name": "stderr",
     "output_type": "stream",
     "text": [
      "\u001b[32m[I 2020-12-04 22:47:45,286]\u001b[0m Finished trial#434 with value: 1.0970990738824369 with parameters: {'n_estimators': 235, 'max_depth': 149, 'subsample': 0.7000000000000001, 'colsample_bytree': 1.0, 'learing_rate': 0.03195758523800578, 'reg_alpha': 6.0, 'min_child_samples': 15}. Best is trial#291 with value: 1.0860848058933388.\u001b[0m\n"
     ]
    },
    {
     "name": "stdout",
     "output_type": "stream",
     "text": [
      "\n"
     ]
    },
    {
     "name": "stderr",
     "output_type": "stream",
     "text": [
      "\u001b[32m[I 2020-12-04 22:47:46,457]\u001b[0m Finished trial#435 with value: 1.1051969737416008 with parameters: {'n_estimators': 231, 'max_depth': 143, 'subsample': 0.7000000000000001, 'colsample_bytree': 0.9, 'learing_rate': 0.02116384954494018, 'reg_alpha': 6.0, 'min_child_samples': 10}. Best is trial#291 with value: 1.0860848058933388.\u001b[0m\n"
     ]
    },
    {
     "name": "stdout",
     "output_type": "stream",
     "text": [
      "\n"
     ]
    },
    {
     "name": "stderr",
     "output_type": "stream",
     "text": [
      "\u001b[32m[I 2020-12-04 22:47:47,735]\u001b[0m Finished trial#436 with value: 1.0953647195707596 with parameters: {'n_estimators': 250, 'max_depth': 146, 'subsample': 0.7000000000000001, 'colsample_bytree': 0.9, 'learing_rate': 0.0236351037424027, 'reg_alpha': 6.0, 'min_child_samples': 15}. Best is trial#291 with value: 1.0860848058933388.\u001b[0m\n"
     ]
    },
    {
     "name": "stdout",
     "output_type": "stream",
     "text": [
      "\n"
     ]
    },
    {
     "name": "stderr",
     "output_type": "stream",
     "text": [
      "\u001b[32m[I 2020-12-04 22:47:48,848]\u001b[0m Finished trial#437 with value: 1.0942432904754826 with parameters: {'n_estimators': 221, 'max_depth': 299, 'subsample': 0.7000000000000001, 'colsample_bytree': 0.9, 'learing_rate': 0.027567022186151324, 'reg_alpha': 6.0, 'min_child_samples': 13}. Best is trial#291 with value: 1.0860848058933388.\u001b[0m\n"
     ]
    },
    {
     "name": "stdout",
     "output_type": "stream",
     "text": [
      "\n"
     ]
    },
    {
     "name": "stderr",
     "output_type": "stream",
     "text": [
      "\u001b[32m[I 2020-12-04 22:47:50,114]\u001b[0m Finished trial#438 with value: 1.6273515065016912 with parameters: {'n_estimators': 261, 'max_depth': 170, 'subsample': 0.6, 'colsample_bytree': 0.9, 'learing_rate': 0.0015134785579126635, 'reg_alpha': 6.0, 'min_child_samples': 15}. Best is trial#291 with value: 1.0860848058933388.\u001b[0m\n"
     ]
    },
    {
     "name": "stdout",
     "output_type": "stream",
     "text": [
      "\n"
     ]
    },
    {
     "name": "stderr",
     "output_type": "stream",
     "text": [
      "\u001b[32m[I 2020-12-04 22:47:52,205]\u001b[0m Finished trial#439 with value: 1.1085143042556058 with parameters: {'n_estimators': 421, 'max_depth': 159, 'subsample': 0.4, 'colsample_bytree': 0.9, 'learing_rate': 0.031376737143219584, 'reg_alpha': 6.0, 'min_child_samples': 12}. Best is trial#291 with value: 1.0860848058933388.\u001b[0m\n"
     ]
    },
    {
     "name": "stdout",
     "output_type": "stream",
     "text": [
      "\n"
     ]
    },
    {
     "name": "stderr",
     "output_type": "stream",
     "text": [
      "\u001b[32m[I 2020-12-04 22:47:53,423]\u001b[0m Finished trial#440 with value: 1.0868440569832511 with parameters: {'n_estimators': 240, 'max_depth': 145, 'subsample': 0.7000000000000001, 'colsample_bytree': 0.9, 'learing_rate': 0.029373152157801636, 'reg_alpha': 6.0, 'min_child_samples': 16}. Best is trial#291 with value: 1.0860848058933388.\u001b[0m\n",
      "\u001b[32m[I 2020-12-04 22:47:53,613]\u001b[0m Finished trial#441 with value: 1.6666192290594195 with parameters: {'n_estimators': 11, 'max_depth': 151, 'subsample': 0.7000000000000001, 'colsample_bytree': 0.9, 'learing_rate': 0.025271697121075052, 'reg_alpha': 6.0, 'min_child_samples': 18}. Best is trial#291 with value: 1.0860848058933388.\u001b[0m\n"
     ]
    },
    {
     "name": "stdout",
     "output_type": "stream",
     "text": [
      "\n",
      "\n"
     ]
    },
    {
     "name": "stderr",
     "output_type": "stream",
     "text": [
      "\u001b[32m[I 2020-12-04 22:47:54,857]\u001b[0m Finished trial#442 with value: 1.0949025950762379 with parameters: {'n_estimators': 245, 'max_depth': 144, 'subsample': 0.7000000000000001, 'colsample_bytree': 1.0, 'learing_rate': 0.028061500732363652, 'reg_alpha': 6.0, 'min_child_samples': 14}. Best is trial#291 with value: 1.0860848058933388.\u001b[0m\n"
     ]
    },
    {
     "name": "stdout",
     "output_type": "stream",
     "text": [
      "\n"
     ]
    },
    {
     "name": "stderr",
     "output_type": "stream",
     "text": [
      "\u001b[32m[I 2020-12-04 22:47:56,170]\u001b[0m Finished trial#443 with value: 1.0957200247509349 with parameters: {'n_estimators': 262, 'max_depth': 168, 'subsample': 0.5, 'colsample_bytree': 0.9, 'learing_rate': 0.022573036480477635, 'reg_alpha': 6.0, 'min_child_samples': 10}. Best is trial#291 with value: 1.0860848058933388.\u001b[0m\n"
     ]
    },
    {
     "name": "stdout",
     "output_type": "stream",
     "text": [
      "\n"
     ]
    },
    {
     "name": "stderr",
     "output_type": "stream",
     "text": [
      "\u001b[32m[I 2020-12-04 22:47:57,386]\u001b[0m Finished trial#444 with value: 1.0896335242196438 with parameters: {'n_estimators': 237, 'max_depth': 175, 'subsample': 0.7000000000000001, 'colsample_bytree': 0.9, 'learing_rate': 0.030914720295979147, 'reg_alpha': 6.0, 'min_child_samples': 16}. Best is trial#291 with value: 1.0860848058933388.\u001b[0m\n"
     ]
    },
    {
     "name": "stdout",
     "output_type": "stream",
     "text": [
      "\n"
     ]
    },
    {
     "name": "stderr",
     "output_type": "stream",
     "text": [
      "\u001b[32m[I 2020-12-04 22:47:58,554]\u001b[0m Finished trial#445 with value: 1.1041117801239502 with parameters: {'n_estimators': 226, 'max_depth': 156, 'subsample': 0.6, 'colsample_bytree': 0.9, 'learing_rate': 0.019778073098618176, 'reg_alpha': 6.0, 'min_child_samples': 18}. Best is trial#291 with value: 1.0860848058933388.\u001b[0m\n"
     ]
    },
    {
     "name": "stdout",
     "output_type": "stream",
     "text": [
      "\n"
     ]
    },
    {
     "name": "stderr",
     "output_type": "stream",
     "text": [
      "\u001b[32m[I 2020-12-04 22:47:59,793]\u001b[0m Finished trial#446 with value: 1.0962014503722497 with parameters: {'n_estimators': 246, 'max_depth': 148, 'subsample': 0.7000000000000001, 'colsample_bytree': 0.9, 'learing_rate': 0.026670796390681813, 'reg_alpha': 6.0, 'min_child_samples': 12}. Best is trial#291 with value: 1.0860848058933388.\u001b[0m\n"
     ]
    },
    {
     "name": "stdout",
     "output_type": "stream",
     "text": [
      "\n"
     ]
    },
    {
     "name": "stderr",
     "output_type": "stream",
     "text": [
      "\u001b[32m[I 2020-12-04 22:48:01,089]\u001b[0m Finished trial#447 with value: 1.0989956503282883 with parameters: {'n_estimators': 263, 'max_depth': 163, 'subsample': 0.7000000000000001, 'colsample_bytree': 0.9, 'learing_rate': 0.033661341904045544, 'reg_alpha': 6.0, 'min_child_samples': 14}. Best is trial#291 with value: 1.0860848058933388.\u001b[0m\n"
     ]
    },
    {
     "name": "stdout",
     "output_type": "stream",
     "text": [
      "\n"
     ]
    },
    {
     "name": "stderr",
     "output_type": "stream",
     "text": [
      "\u001b[32m[I 2020-12-04 22:48:02,192]\u001b[0m Finished trial#448 with value: 1.0881073569763366 with parameters: {'n_estimators': 218, 'max_depth': 142, 'subsample': 0.7000000000000001, 'colsample_bytree': 0.9, 'learing_rate': 0.02985419623918073, 'reg_alpha': 6.0, 'min_child_samples': 16}. Best is trial#291 with value: 1.0860848058933388.\u001b[0m\n"
     ]
    },
    {
     "name": "stdout",
     "output_type": "stream",
     "text": [
      "\n"
     ]
    },
    {
     "name": "stderr",
     "output_type": "stream",
     "text": [
      "\u001b[32m[I 2020-12-04 22:48:03,301]\u001b[0m Finished trial#449 with value: 1.088382266672065 with parameters: {'n_estimators': 215, 'max_depth': 152, 'subsample': 0.7000000000000001, 'colsample_bytree': 0.9, 'learing_rate': 0.032645322218346734, 'reg_alpha': 6.0, 'min_child_samples': 16}. Best is trial#291 with value: 1.0860848058933388.\u001b[0m\n"
     ]
    },
    {
     "name": "stdout",
     "output_type": "stream",
     "text": [
      "\n"
     ]
    },
    {
     "name": "stderr",
     "output_type": "stream",
     "text": [
      "\u001b[32m[I 2020-12-04 22:48:04,429]\u001b[0m Finished trial#450 with value: 1.090772387927861 with parameters: {'n_estimators': 217, 'max_depth': 159, 'subsample': 0.7000000000000001, 'colsample_bytree': 0.9, 'learing_rate': 0.03239707920638592, 'reg_alpha': 6.0, 'min_child_samples': 18}. Best is trial#291 with value: 1.0860848058933388.\u001b[0m\n"
     ]
    },
    {
     "name": "stdout",
     "output_type": "stream",
     "text": [
      "\n"
     ]
    },
    {
     "name": "stderr",
     "output_type": "stream",
     "text": [
      "\u001b[32m[I 2020-12-04 22:48:06,186]\u001b[0m Finished trial#451 with value: 1.0956363901771164 with parameters: {'n_estimators': 236, 'max_depth': 155, 'subsample': 0.7000000000000001, 'colsample_bytree': 0.9, 'learing_rate': 0.033572694494583714, 'reg_alpha': 6.0, 'min_child_samples': 16}. Best is trial#291 with value: 1.0860848058933388.\u001b[0m\n"
     ]
    },
    {
     "name": "stdout",
     "output_type": "stream",
     "text": [
      "\n"
     ]
    },
    {
     "name": "stderr",
     "output_type": "stream",
     "text": [
      "\u001b[32m[I 2020-12-04 22:48:07,468]\u001b[0m Finished trial#452 with value: 1.0951807365271515 with parameters: {'n_estimators': 250, 'max_depth': 148, 'subsample': 0.7000000000000001, 'colsample_bytree': 0.9, 'learing_rate': 0.030424815918587148, 'reg_alpha': 6.0, 'min_child_samples': 19}. Best is trial#291 with value: 1.0860848058933388.\u001b[0m\n"
     ]
    },
    {
     "name": "stdout",
     "output_type": "stream",
     "text": [
      "\n"
     ]
    },
    {
     "name": "stderr",
     "output_type": "stream",
     "text": [
      "\u001b[32m[I 2020-12-04 22:48:10,729]\u001b[0m Finished trial#453 with value: 1.1593933511388574 with parameters: {'n_estimators': 663, 'max_depth': 151, 'subsample': 0.7000000000000001, 'colsample_bytree': 1.0, 'learing_rate': 0.037105792077178276, 'reg_alpha': 6.0, 'min_child_samples': 17}. Best is trial#291 with value: 1.0860848058933388.\u001b[0m\n"
     ]
    },
    {
     "name": "stdout",
     "output_type": "stream",
     "text": [
      "\n"
     ]
    },
    {
     "name": "stderr",
     "output_type": "stream",
     "text": [
      "\u001b[32m[I 2020-12-04 22:48:12,188]\u001b[0m Finished trial#454 with value: 1.1026568879481988 with parameters: {'n_estimators': 289, 'max_depth': 164, 'subsample': 0.7000000000000001, 'colsample_bytree': 0.9, 'learing_rate': 0.03423926036293995, 'reg_alpha': 6.0, 'min_child_samples': 15}. Best is trial#291 with value: 1.0860848058933388.\u001b[0m\n"
     ]
    },
    {
     "name": "stdout",
     "output_type": "stream",
     "text": [
      "\n"
     ]
    },
    {
     "name": "stderr",
     "output_type": "stream",
     "text": [
      "\u001b[32m[I 2020-12-04 22:48:13,354]\u001b[0m Finished trial#455 with value: 1.093745681312759 with parameters: {'n_estimators': 222, 'max_depth': 143, 'subsample': 0.7000000000000001, 'colsample_bytree': 0.9, 'learing_rate': 0.029324119223365665, 'reg_alpha': 6.0, 'min_child_samples': 18}. Best is trial#291 with value: 1.0860848058933388.\u001b[0m\n"
     ]
    },
    {
     "name": "stdout",
     "output_type": "stream",
     "text": [
      "\n"
     ]
    },
    {
     "name": "stderr",
     "output_type": "stream",
     "text": [
      "\u001b[32m[I 2020-12-04 22:48:14,445]\u001b[0m Finished trial#456 with value: 1.1069417978614835 with parameters: {'n_estimators': 205, 'max_depth': 154, 'subsample': 0.7000000000000001, 'colsample_bytree': 0.9, 'learing_rate': 0.024869262760563858, 'reg_alpha': 6.0, 'min_child_samples': 97}. Best is trial#291 with value: 1.0860848058933388.\u001b[0m\n"
     ]
    },
    {
     "name": "stdout",
     "output_type": "stream",
     "text": [
      "\n"
     ]
    },
    {
     "name": "stderr",
     "output_type": "stream",
     "text": [
      "\u001b[32m[I 2020-12-04 22:48:15,754]\u001b[0m Finished trial#457 with value: 1.096722666206665 with parameters: {'n_estimators': 262, 'max_depth': 187, 'subsample': 0.7000000000000001, 'colsample_bytree': 0.9, 'learing_rate': 0.03242906302700235, 'reg_alpha': 6.0, 'min_child_samples': 13}. Best is trial#291 with value: 1.0860848058933388.\u001b[0m\n"
     ]
    },
    {
     "name": "stdout",
     "output_type": "stream",
     "text": [
      "\n"
     ]
    },
    {
     "name": "stderr",
     "output_type": "stream",
     "text": [
      "\u001b[32m[I 2020-12-04 22:48:16,794]\u001b[0m Finished trial#458 with value: 1.0949337082127795 with parameters: {'n_estimators': 198, 'max_depth': 92, 'subsample': 0.7000000000000001, 'colsample_bytree': 0.9, 'learing_rate': 0.02720166444949958, 'reg_alpha': 6.0, 'min_child_samples': 16}. Best is trial#291 with value: 1.0860848058933388.\u001b[0m\n"
     ]
    },
    {
     "name": "stdout",
     "output_type": "stream",
     "text": [
      "\n"
     ]
    },
    {
     "name": "stderr",
     "output_type": "stream",
     "text": [
      "\u001b[32m[I 2020-12-04 22:48:17,989]\u001b[0m Finished trial#459 with value: 1.09411817883732 with parameters: {'n_estimators': 234, 'max_depth': 177, 'subsample': 0.7000000000000001, 'colsample_bytree': 0.9, 'learing_rate': 0.03613959031367423, 'reg_alpha': 6.0, 'min_child_samples': 11}. Best is trial#291 with value: 1.0860848058933388.\u001b[0m\n"
     ]
    },
    {
     "name": "stdout",
     "output_type": "stream",
     "text": [
      "\n"
     ]
    },
    {
     "name": "stderr",
     "output_type": "stream",
     "text": [
      "\u001b[32m[I 2020-12-04 22:48:19,402]\u001b[0m Finished trial#460 with value: 1.123910599735257 with parameters: {'n_estimators': 275, 'max_depth': 166, 'subsample': 0.7000000000000001, 'colsample_bytree': 0.9, 'learing_rate': 0.04991840715418375, 'reg_alpha': 6.0, 'min_child_samples': 19}. Best is trial#291 with value: 1.0860848058933388.\u001b[0m\n"
     ]
    },
    {
     "name": "stdout",
     "output_type": "stream",
     "text": [
      "\n"
     ]
    },
    {
     "name": "stderr",
     "output_type": "stream",
     "text": [
      "\u001b[32m[I 2020-12-04 22:48:20,480]\u001b[0m Finished trial#461 with value: 1.0990997849804338 with parameters: {'n_estimators': 212, 'max_depth': 143, 'subsample': 0.7000000000000001, 'colsample_bytree': 0.9, 'learing_rate': 0.03993652863111302, 'reg_alpha': 6.0, 'min_child_samples': 14}. Best is trial#291 with value: 1.0860848058933388.\u001b[0m\n"
     ]
    },
    {
     "name": "stdout",
     "output_type": "stream",
     "text": [
      "\n"
     ]
    },
    {
     "name": "stderr",
     "output_type": "stream",
     "text": [
      "\u001b[32m[I 2020-12-04 22:48:21,728]\u001b[0m Finished trial#462 with value: 1.1084555296460776 with parameters: {'n_estimators': 247, 'max_depth': 156, 'subsample': 0.6, 'colsample_bytree': 0.9, 'learing_rate': 0.017560264262618985, 'reg_alpha': 6.0, 'min_child_samples': 17}. Best is trial#291 with value: 1.0860848058933388.\u001b[0m\n"
     ]
    },
    {
     "name": "stdout",
     "output_type": "stream",
     "text": [
      "\n"
     ]
    },
    {
     "name": "stderr",
     "output_type": "stream",
     "text": [
      "\u001b[32m[I 2020-12-04 22:48:22,871]\u001b[0m Finished trial#463 with value: 1.090227745045094 with parameters: {'n_estimators': 224, 'max_depth': 149, 'subsample': 0.7000000000000001, 'colsample_bytree': 0.9, 'learing_rate': 0.02978283445321032, 'reg_alpha': 6.0, 'min_child_samples': 16}. Best is trial#291 with value: 1.0860848058933388.\u001b[0m\n"
     ]
    },
    {
     "name": "stdout",
     "output_type": "stream",
     "text": [
      "\n"
     ]
    },
    {
     "name": "stderr",
     "output_type": "stream",
     "text": [
      "\u001b[32m[I 2020-12-04 22:48:23,817]\u001b[0m Finished trial#464 with value: 1.121947838318536 with parameters: {'n_estimators': 185, 'max_depth': 159, 'subsample': 0.7000000000000001, 'colsample_bytree': 0.9, 'learing_rate': 0.02287861231246997, 'reg_alpha': 6.0, 'min_child_samples': 11}. Best is trial#291 with value: 1.0860848058933388.\u001b[0m\n"
     ]
    },
    {
     "name": "stdout",
     "output_type": "stream",
     "text": [
      "\n"
     ]
    },
    {
     "name": "stderr",
     "output_type": "stream",
     "text": [
      "\u001b[32m[I 2020-12-04 22:48:25,044]\u001b[0m Finished trial#465 with value: 1.1048298786430137 with parameters: {'n_estimators': 239, 'max_depth': 171, 'subsample': 0.7000000000000001, 'colsample_bytree': 1.0, 'learing_rate': 0.03284152859607105, 'reg_alpha': 6.0, 'min_child_samples': 19}. Best is trial#291 with value: 1.0860848058933388.\u001b[0m\n"
     ]
    },
    {
     "name": "stdout",
     "output_type": "stream",
     "text": [
      "\n"
     ]
    },
    {
     "name": "stderr",
     "output_type": "stream",
     "text": [
      "\u001b[32m[I 2020-12-04 22:48:26,073]\u001b[0m Finished trial#466 with value: 1.101375305374465 with parameters: {'n_estimators': 197, 'max_depth': 141, 'subsample': 0.7000000000000001, 'colsample_bytree': 0.9, 'learing_rate': 0.025522709590322743, 'reg_alpha': 6.0, 'min_child_samples': 14}. Best is trial#291 with value: 1.0860848058933388.\u001b[0m\n"
     ]
    },
    {
     "name": "stdout",
     "output_type": "stream",
     "text": [
      "\n"
     ]
    },
    {
     "name": "stderr",
     "output_type": "stream",
     "text": [
      "\u001b[32m[I 2020-12-04 22:48:27,406]\u001b[0m Finished trial#467 with value: 1.0900715815590925 with parameters: {'n_estimators': 260, 'max_depth': 145, 'subsample': 0.7000000000000001, 'colsample_bytree': 0.9, 'learing_rate': 0.028992300905733872, 'reg_alpha': 6.0, 'min_child_samples': 18}. Best is trial#291 with value: 1.0860848058933388.\u001b[0m\n"
     ]
    },
    {
     "name": "stdout",
     "output_type": "stream",
     "text": [
      "\n"
     ]
    },
    {
     "name": "stderr",
     "output_type": "stream",
     "text": [
      "\u001b[32m[I 2020-12-04 22:48:28,509]\u001b[0m Finished trial#468 with value: 1.0975121142194815 with parameters: {'n_estimators': 211, 'max_depth': 152, 'subsample': 0.7000000000000001, 'colsample_bytree': 0.9, 'learing_rate': 0.03599352793084868, 'reg_alpha': 6.0, 'min_child_samples': 16}. Best is trial#291 with value: 1.0860848058933388.\u001b[0m\n"
     ]
    },
    {
     "name": "stdout",
     "output_type": "stream",
     "text": [
      "\n"
     ]
    },
    {
     "name": "stderr",
     "output_type": "stream",
     "text": [
      "\u001b[32m[I 2020-12-04 22:48:30,093]\u001b[0m Finished trial#469 with value: 1.1181078816298011 with parameters: {'n_estimators': 310, 'max_depth': 162, 'subsample': 0.7000000000000001, 'colsample_bytree': 0.9, 'learing_rate': 0.0450418658062152, 'reg_alpha': 6.0, 'min_child_samples': 12}. Best is trial#291 with value: 1.0860848058933388.\u001b[0m\n"
     ]
    },
    {
     "name": "stdout",
     "output_type": "stream",
     "text": [
      "\n"
     ]
    },
    {
     "name": "stderr",
     "output_type": "stream",
     "text": [
      "\u001b[32m[I 2020-12-04 22:48:31,533]\u001b[0m Finished trial#470 with value: 1.0965314082067348 with parameters: {'n_estimators': 277, 'max_depth': 169, 'subsample': 0.7000000000000001, 'colsample_bytree': 0.9, 'learing_rate': 0.03172149647511907, 'reg_alpha': 6.0, 'min_child_samples': 14}. Best is trial#291 with value: 1.0860848058933388.\u001b[0m\n"
     ]
    },
    {
     "name": "stdout",
     "output_type": "stream",
     "text": [
      "\n"
     ]
    },
    {
     "name": "stderr",
     "output_type": "stream",
     "text": [
      "\u001b[32m[I 2020-12-04 22:48:32,735]\u001b[0m Finished trial#471 with value: 1.0927453080009608 with parameters: {'n_estimators': 230, 'max_depth': 141, 'subsample': 0.7000000000000001, 'colsample_bytree': 0.9, 'learing_rate': 0.027397795336374525, 'reg_alpha': 6.0, 'min_child_samples': 19}. Best is trial#291 with value: 1.0860848058933388.\u001b[0m\n"
     ]
    },
    {
     "name": "stdout",
     "output_type": "stream",
     "text": [
      "\n"
     ]
    },
    {
     "name": "stderr",
     "output_type": "stream",
     "text": [
      "\u001b[32m[I 2020-12-04 22:48:34,009]\u001b[0m Finished trial#472 with value: 1.096088837011366 with parameters: {'n_estimators': 249, 'max_depth': 154, 'subsample': 0.7000000000000001, 'colsample_bytree': 0.9, 'learing_rate': 0.02372850201470348, 'reg_alpha': 6.0, 'min_child_samples': 10}. Best is trial#291 with value: 1.0860848058933388.\u001b[0m\n"
     ]
    },
    {
     "name": "stdout",
     "output_type": "stream",
     "text": [
      "\n"
     ]
    },
    {
     "name": "stderr",
     "output_type": "stream",
     "text": [
      "\u001b[32m[I 2020-12-04 22:48:35,175]\u001b[0m Finished trial#473 with value: 1.119810302688809 with parameters: {'n_estimators': 215, 'max_depth': 146, 'subsample': 0.7000000000000001, 'colsample_bytree': 1.0, 'learing_rate': 0.03850224984776803, 'reg_alpha': 6.0, 'min_child_samples': 45}. Best is trial#291 with value: 1.0860848058933388.\u001b[0m\n"
     ]
    },
    {
     "name": "stdout",
     "output_type": "stream",
     "text": [
      "\n"
     ]
    },
    {
     "name": "stderr",
     "output_type": "stream",
     "text": [
      "\u001b[32m[I 2020-12-04 22:48:36,666]\u001b[0m Finished trial#474 with value: 1.1001973755095986 with parameters: {'n_estimators': 291, 'max_depth': 139, 'subsample': 0.9, 'colsample_bytree': 0.9, 'learing_rate': 0.034569532068168256, 'reg_alpha': 6.0, 'min_child_samples': 16}. Best is trial#291 with value: 1.0860848058933388.\u001b[0m\n"
     ]
    },
    {
     "name": "stdout",
     "output_type": "stream",
     "text": [
      "\n"
     ]
    },
    {
     "name": "stderr",
     "output_type": "stream",
     "text": [
      "\u001b[32m[I 2020-12-04 22:48:37,680]\u001b[0m Finished trial#475 with value: 1.097685983602893 with parameters: {'n_estimators': 187, 'max_depth': 160, 'subsample': 0.6, 'colsample_bytree': 0.9, 'learing_rate': 0.030153854345956323, 'reg_alpha': 6.0, 'min_child_samples': 13}. Best is trial#291 with value: 1.0860848058933388.\u001b[0m\n"
     ]
    },
    {
     "name": "stdout",
     "output_type": "stream",
     "text": [
      "\n"
     ]
    },
    {
     "name": "stderr",
     "output_type": "stream",
     "text": [
      "\u001b[32m[I 2020-12-04 22:48:38,789]\u001b[0m Finished trial#476 with value: 1.106183551427696 with parameters: {'n_estimators': 200, 'max_depth': 152, 'subsample': 0.7000000000000001, 'colsample_bytree': 0.9, 'learing_rate': 0.026641405159284277, 'reg_alpha': 5.0, 'min_child_samples': 76}. Best is trial#291 with value: 1.0860848058933388.\u001b[0m\n"
     ]
    },
    {
     "name": "stdout",
     "output_type": "stream",
     "text": [
      "\n"
     ]
    },
    {
     "name": "stderr",
     "output_type": "stream",
     "text": [
      "\u001b[32m[I 2020-12-04 22:48:39,945]\u001b[0m Finished trial#477 with value: 1.1034634626363338 with parameters: {'n_estimators': 223, 'max_depth': 147, 'subsample': 0.6, 'colsample_bytree': 0.9, 'learing_rate': 0.02087837162805117, 'reg_alpha': 6.0, 'min_child_samples': 18}. Best is trial#291 with value: 1.0860848058933388.\u001b[0m\n"
     ]
    },
    {
     "name": "stdout",
     "output_type": "stream",
     "text": [
      "\n"
     ]
    },
    {
     "name": "stderr",
     "output_type": "stream",
     "text": [
      "\u001b[32m[I 2020-12-04 22:48:41,252]\u001b[0m Finished trial#478 with value: 1.105515158461313 with parameters: {'n_estimators': 258, 'max_depth': 168, 'subsample': 0.7000000000000001, 'colsample_bytree': 0.9, 'learing_rate': 0.04111335899014769, 'reg_alpha': 6.0, 'min_child_samples': 15}. Best is trial#291 with value: 1.0860848058933388.\u001b[0m\n"
     ]
    },
    {
     "name": "stdout",
     "output_type": "stream",
     "text": [
      "\n"
     ]
    },
    {
     "name": "stderr",
     "output_type": "stream",
     "text": [
      "\u001b[32m[I 2020-12-04 22:48:42,460]\u001b[0m Finished trial#479 with value: 1.094768895558933 with parameters: {'n_estimators': 234, 'max_depth': 177, 'subsample': 0.9, 'colsample_bytree': 0.9, 'learing_rate': 0.03279249071561954, 'reg_alpha': 6.0, 'min_child_samples': 17}. Best is trial#291 with value: 1.0860848058933388.\u001b[0m\n"
     ]
    },
    {
     "name": "stdout",
     "output_type": "stream",
     "text": [
      "\n"
     ]
    },
    {
     "name": "stderr",
     "output_type": "stream",
     "text": [
      "\u001b[32m[I 2020-12-04 22:48:43,788]\u001b[0m Finished trial#480 with value: 1.0950704701110383 with parameters: {'n_estimators': 266, 'max_depth': 139, 'subsample': 0.7000000000000001, 'colsample_bytree': 0.9, 'learing_rate': 0.024726730958690823, 'reg_alpha': 6.0, 'min_child_samples': 10}. Best is trial#291 with value: 1.0860848058933388.\u001b[0m\n"
     ]
    },
    {
     "name": "stdout",
     "output_type": "stream",
     "text": [
      "\n"
     ]
    },
    {
     "name": "stderr",
     "output_type": "stream",
     "text": [
      "\u001b[32m[I 2020-12-04 22:48:44,808]\u001b[0m Finished trial#481 with value: 1.0953855266233854 with parameters: {'n_estimators': 203, 'max_depth': 158, 'subsample': 0.8, 'colsample_bytree': 0.9, 'learing_rate': 0.02786546764425645, 'reg_alpha': 6.0, 'min_child_samples': 12}. Best is trial#291 with value: 1.0860848058933388.\u001b[0m\n"
     ]
    },
    {
     "name": "stdout",
     "output_type": "stream",
     "text": [
      "\n"
     ]
    },
    {
     "name": "stderr",
     "output_type": "stream",
     "text": [
      "\u001b[32m[I 2020-12-04 22:48:46,767]\u001b[0m Finished trial#482 with value: 1.146503159277323 with parameters: {'n_estimators': 389, 'max_depth': 146, 'subsample': 0.7000000000000001, 'colsample_bytree': 0.9, 'learing_rate': 0.008363269433454886, 'reg_alpha': 6.0, 'min_child_samples': 20}. Best is trial#291 with value: 1.0860848058933388.\u001b[0m\n"
     ]
    },
    {
     "name": "stdout",
     "output_type": "stream",
     "text": [
      "\n"
     ]
    },
    {
     "name": "stderr",
     "output_type": "stream",
     "text": [
      "\u001b[32m[I 2020-12-04 22:48:48,040]\u001b[0m Finished trial#483 with value: 1.0965735262242495 with parameters: {'n_estimators': 245, 'max_depth': 163, 'subsample': 0.8, 'colsample_bytree': 1.0, 'learing_rate': 0.030502820372880747, 'reg_alpha': 6.0, 'min_child_samples': 15}. Best is trial#291 with value: 1.0860848058933388.\u001b[0m\n"
     ]
    },
    {
     "name": "stdout",
     "output_type": "stream",
     "text": [
      "\n"
     ]
    },
    {
     "name": "stderr",
     "output_type": "stream",
     "text": [
      "\u001b[32m[I 2020-12-04 22:48:49,185]\u001b[0m Finished trial#484 with value: 1.0921547585352864 with parameters: {'n_estimators': 219, 'max_depth': 274, 'subsample': 0.9, 'colsample_bytree': 0.9, 'learing_rate': 0.03530424935184152, 'reg_alpha': 6.0, 'min_child_samples': 17}. Best is trial#291 with value: 1.0860848058933388.\u001b[0m\n"
     ]
    },
    {
     "name": "stdout",
     "output_type": "stream",
     "text": [
      "\n"
     ]
    },
    {
     "name": "stderr",
     "output_type": "stream",
     "text": [
      "\u001b[32m[I 2020-12-04 22:48:50,156]\u001b[0m Finished trial#485 with value: 1.1209113536506305 with parameters: {'n_estimators': 186, 'max_depth': 135, 'subsample': 0.2, 'colsample_bytree': 0.9, 'learing_rate': 0.02218115897567677, 'reg_alpha': 6.0, 'min_child_samples': 13}. Best is trial#291 with value: 1.0860848058933388.\u001b[0m\n"
     ]
    },
    {
     "name": "stdout",
     "output_type": "stream",
     "text": [
      "\n"
     ]
    },
    {
     "name": "stderr",
     "output_type": "stream",
     "text": [
      "\u001b[32m[I 2020-12-04 22:48:51,577]\u001b[0m Finished trial#486 with value: 1.1102427458653297 with parameters: {'n_estimators': 280, 'max_depth': 141, 'subsample': 0.8, 'colsample_bytree': 0.9, 'learing_rate': 0.03723065000750959, 'reg_alpha': 6.0, 'min_child_samples': 22}. Best is trial#291 with value: 1.0860848058933388.\u001b[0m\n"
     ]
    },
    {
     "name": "stdout",
     "output_type": "stream",
     "text": [
      "\n"
     ]
    },
    {
     "name": "stderr",
     "output_type": "stream",
     "text": [
      "\u001b[32m[I 2020-12-04 22:48:52,802]\u001b[0m Finished trial#487 with value: 1.0944691027278275 with parameters: {'n_estimators': 239, 'max_depth': 151, 'subsample': 0.7000000000000001, 'colsample_bytree': 0.9, 'learing_rate': 0.03184842540203056, 'reg_alpha': 6.0, 'min_child_samples': 19}. Best is trial#291 with value: 1.0860848058933388.\u001b[0m\n"
     ]
    },
    {
     "name": "stdout",
     "output_type": "stream",
     "text": [
      "\n"
     ]
    },
    {
     "name": "stderr",
     "output_type": "stream",
     "text": [
      "\u001b[32m[I 2020-12-04 22:48:53,882]\u001b[0m Finished trial#488 with value: 1.0916062182147601 with parameters: {'n_estimators': 213, 'max_depth': 157, 'subsample': 0.8, 'colsample_bytree': 0.9, 'learing_rate': 0.02577717994201136, 'reg_alpha': 6.0, 'min_child_samples': 16}. Best is trial#291 with value: 1.0860848058933388.\u001b[0m\n"
     ]
    },
    {
     "name": "stdout",
     "output_type": "stream",
     "text": [
      "\n"
     ]
    },
    {
     "name": "stderr",
     "output_type": "stream",
     "text": [
      "\u001b[32m[I 2020-12-04 22:48:54,824]\u001b[0m Finished trial#489 with value: 1.0996163728270894 with parameters: {'n_estimators': 177, 'max_depth': 174, 'subsample': 0.8, 'colsample_bytree': 0.9, 'learing_rate': 0.028799502620674457, 'reg_alpha': 6.0, 'min_child_samples': 15}. Best is trial#291 with value: 1.0860848058933388.\u001b[0m\n"
     ]
    },
    {
     "name": "stdout",
     "output_type": "stream",
     "text": [
      "\n"
     ]
    },
    {
     "name": "stderr",
     "output_type": "stream",
     "text": [
      "\u001b[32m[I 2020-12-04 22:48:56,124]\u001b[0m Finished trial#490 with value: 1.0971924859282651 with parameters: {'n_estimators': 253, 'max_depth': 139, 'subsample': 0.9, 'colsample_bytree': 0.9, 'learing_rate': 0.03388975156088446, 'reg_alpha': 6.0, 'min_child_samples': 18}. Best is trial#291 with value: 1.0860848058933388.\u001b[0m\n"
     ]
    },
    {
     "name": "stdout",
     "output_type": "stream",
     "text": [
      "\n"
     ]
    },
    {
     "name": "stderr",
     "output_type": "stream",
     "text": [
      "\u001b[32m[I 2020-12-04 22:48:56,755]\u001b[0m Finished trial#491 with value: 1.1548911345822455 with parameters: {'n_estimators': 114, 'max_depth': 149, 'subsample': 0.6, 'colsample_bytree': 0.9, 'learing_rate': 0.0291217834978301, 'reg_alpha': 6.0, 'min_child_samples': 13}. Best is trial#291 with value: 1.0860848058933388.\u001b[0m\n"
     ]
    },
    {
     "name": "stdout",
     "output_type": "stream",
     "text": [
      "\n"
     ]
    },
    {
     "name": "stderr",
     "output_type": "stream",
     "text": [
      "\u001b[32m[I 2020-12-04 22:48:57,974]\u001b[0m Finished trial#492 with value: 1.1053114289758084 with parameters: {'n_estimators': 234, 'max_depth': 163, 'subsample': 0.7000000000000001, 'colsample_bytree': 1.0, 'learing_rate': 0.04037786959455711, 'reg_alpha': 6.0, 'min_child_samples': 20}. Best is trial#291 with value: 1.0860848058933388.\u001b[0m\n"
     ]
    },
    {
     "name": "stdout",
     "output_type": "stream",
     "text": [
      "\n"
     ]
    },
    {
     "name": "stderr",
     "output_type": "stream",
     "text": [
      "\u001b[32m[I 2020-12-04 22:48:59,004]\u001b[0m Finished trial#493 with value: 1.4158778249394777 with parameters: {'n_estimators': 202, 'max_depth': 136, 'subsample': 0.8, 'colsample_bytree': 0.9, 'learing_rate': 0.005834371356215702, 'reg_alpha': 6.0, 'min_child_samples': 11}. Best is trial#291 with value: 1.0860848058933388.\u001b[0m\n"
     ]
    },
    {
     "name": "stdout",
     "output_type": "stream",
     "text": [
      "\n"
     ]
    },
    {
     "name": "stderr",
     "output_type": "stream",
     "text": [
      "\u001b[32m[I 2020-12-04 22:48:59,948]\u001b[0m Finished trial#494 with value: 1.1784411725664532 with parameters: {'n_estimators': 223, 'max_depth': 144, 'subsample': 0.8, 'colsample_bytree': 0.30000000000000004, 'learing_rate': 0.024292434857574905, 'reg_alpha': 6.0, 'min_child_samples': 17}. Best is trial#291 with value: 1.0860848058933388.\u001b[0m\n"
     ]
    },
    {
     "name": "stdout",
     "output_type": "stream",
     "text": [
      "\n"
     ]
    },
    {
     "name": "stderr",
     "output_type": "stream",
     "text": [
      "\u001b[32m[I 2020-12-04 22:49:00,817]\u001b[0m Finished trial#495 with value: 1.0951993321657127 with parameters: {'n_estimators': 164, 'max_depth': 168, 'subsample': 0.7000000000000001, 'colsample_bytree': 0.9, 'learing_rate': 0.04566834540432408, 'reg_alpha': 6.0, 'min_child_samples': 14}. Best is trial#291 with value: 1.0860848058933388.\u001b[0m\n"
     ]
    },
    {
     "name": "stdout",
     "output_type": "stream",
     "text": [
      "\n"
     ]
    },
    {
     "name": "stderr",
     "output_type": "stream",
     "text": [
      "\u001b[32m[I 2020-12-04 22:49:02,229]\u001b[0m Finished trial#496 with value: 1.095089707972275 with parameters: {'n_estimators': 270, 'max_depth': 192, 'subsample': 0.8, 'colsample_bytree': 0.9, 'learing_rate': 0.01954172317621916, 'reg_alpha': 6.0, 'min_child_samples': 22}. Best is trial#291 with value: 1.0860848058933388.\u001b[0m\n"
     ]
    },
    {
     "name": "stdout",
     "output_type": "stream",
     "text": [
      "\n"
     ]
    },
    {
     "name": "stderr",
     "output_type": "stream",
     "text": [
      "\u001b[32m[I 2020-12-04 22:49:03,174]\u001b[0m Finished trial#497 with value: 1.0992509122118632 with parameters: {'n_estimators': 191, 'max_depth': 154, 'subsample': 0.9, 'colsample_bytree': 0.6, 'learing_rate': 0.026849851940384115, 'reg_alpha': 6.0, 'min_child_samples': 15}. Best is trial#291 with value: 1.0860848058933388.\u001b[0m\n"
     ]
    },
    {
     "name": "stdout",
     "output_type": "stream",
     "text": [
      "\n"
     ]
    },
    {
     "name": "stderr",
     "output_type": "stream",
     "text": [
      "\u001b[32m[I 2020-12-04 22:49:04,465]\u001b[0m Finished trial#498 with value: 1.0951940669645248 with parameters: {'n_estimators': 248, 'max_depth': 150, 'subsample': 0.8, 'colsample_bytree': 1.0, 'learing_rate': 0.03104893423241624, 'reg_alpha': 6.0, 'min_child_samples': 18}. Best is trial#291 with value: 1.0860848058933388.\u001b[0m\n"
     ]
    },
    {
     "name": "stdout",
     "output_type": "stream",
     "text": [
      "\n"
     ]
    },
    {
     "name": "stderr",
     "output_type": "stream",
     "text": [
      "\u001b[32m[I 2020-12-04 22:49:05,893]\u001b[0m Finished trial#499 with value: 1.0979742285893603 with parameters: {'n_estimators': 290, 'max_depth': 101, 'subsample': 0.7000000000000001, 'colsample_bytree': 0.9, 'learing_rate': 0.03668047696424326, 'reg_alpha': 6.0, 'min_child_samples': 12}. Best is trial#291 with value: 1.0860848058933388.\u001b[0m\n"
     ]
    },
    {
     "name": "stdout",
     "output_type": "stream",
     "text": [
      "\n"
     ]
    },
    {
     "name": "stderr",
     "output_type": "stream",
     "text": [
      "\u001b[32m[I 2020-12-04 22:49:07,049]\u001b[0m Finished trial#500 with value: 1.0972081168905472 with parameters: {'n_estimators': 220, 'max_depth': 139, 'subsample': 0.8, 'colsample_bytree': 0.9, 'learing_rate': 0.033139440335454136, 'reg_alpha': 6.0, 'min_child_samples': 20}. Best is trial#291 with value: 1.0860848058933388.\u001b[0m\n"
     ]
    },
    {
     "name": "stdout",
     "output_type": "stream",
     "text": [
      "\n"
     ]
    },
    {
     "name": "stderr",
     "output_type": "stream",
     "text": [
      "\u001b[32m[I 2020-12-04 22:49:08,049]\u001b[0m Finished trial#501 with value: 1.2773815352490465 with parameters: {'n_estimators': 193, 'max_depth': 158, 'subsample': 0.7000000000000001, 'colsample_bytree': 0.9, 'learing_rate': 0.010488427201772696, 'reg_alpha': 6.0, 'min_child_samples': 10}. Best is trial#291 with value: 1.0860848058933388.\u001b[0m\n"
     ]
    },
    {
     "name": "stdout",
     "output_type": "stream",
     "text": [
      "\n"
     ]
    },
    {
     "name": "stderr",
     "output_type": "stream",
     "text": [
      "\u001b[32m[I 2020-12-04 22:49:09,121]\u001b[0m Finished trial#502 with value: 1.1039192836171785 with parameters: {'n_estimators': 207, 'max_depth': 282, 'subsample': 0.8, 'colsample_bytree': 0.9, 'learing_rate': 0.022513922906911822, 'reg_alpha': 6.0, 'min_child_samples': 16}. Best is trial#291 with value: 1.0860848058933388.\u001b[0m\n"
     ]
    },
    {
     "name": "stdout",
     "output_type": "stream",
     "text": [
      "\n"
     ]
    },
    {
     "name": "stderr",
     "output_type": "stream",
     "text": [
      "\u001b[32m[I 2020-12-04 22:49:10,243]\u001b[0m Finished trial#503 with value: 1.0983544605813877 with parameters: {'n_estimators': 231, 'max_depth': 134, 'subsample': 0.9, 'colsample_bytree': 0.7000000000000001, 'learing_rate': 0.042033947584907215, 'reg_alpha': 6.0, 'min_child_samples': 14}. Best is trial#291 with value: 1.0860848058933388.\u001b[0m\n"
     ]
    },
    {
     "name": "stdout",
     "output_type": "stream",
     "text": [
      "\n"
     ]
    },
    {
     "name": "stderr",
     "output_type": "stream",
     "text": [
      "\u001b[32m[I 2020-12-04 22:49:11,533]\u001b[0m Finished trial#504 with value: 1.1239924562860306 with parameters: {'n_estimators': 255, 'max_depth': 182, 'subsample': 0.8, 'colsample_bytree': 0.9, 'learing_rate': 0.05377968286306638, 'reg_alpha': 5.0, 'min_child_samples': 18}. Best is trial#291 with value: 1.0860848058933388.\u001b[0m\n"
     ]
    },
    {
     "name": "stdout",
     "output_type": "stream",
     "text": [
      "\n"
     ]
    },
    {
     "name": "stderr",
     "output_type": "stream",
     "text": [
      "\u001b[32m[I 2020-12-04 22:49:12,510]\u001b[0m Finished trial#505 with value: 1.0986045041876544 with parameters: {'n_estimators': 177, 'max_depth': 146, 'subsample': 0.7000000000000001, 'colsample_bytree': 0.9, 'learing_rate': 0.027822336141331377, 'reg_alpha': 6.0, 'min_child_samples': 22}. Best is trial#291 with value: 1.0860848058933388.\u001b[0m\n"
     ]
    },
    {
     "name": "stdout",
     "output_type": "stream",
     "text": [
      "\n"
     ]
    },
    {
     "name": "stderr",
     "output_type": "stream",
     "text": [
      "\u001b[32m[I 2020-12-04 22:49:13,882]\u001b[0m Finished trial#506 with value: 1.0911064395950758 with parameters: {'n_estimators': 273, 'max_depth': 165, 'subsample': 0.8, 'colsample_bytree': 0.9, 'learing_rate': 0.024763576623037787, 'reg_alpha': 6.0, 'min_child_samples': 17}. Best is trial#291 with value: 1.0860848058933388.\u001b[0m\n"
     ]
    },
    {
     "name": "stdout",
     "output_type": "stream",
     "text": [
      "\n"
     ]
    },
    {
     "name": "stderr",
     "output_type": "stream",
     "text": [
      "\u001b[32m[I 2020-12-04 22:49:15,097]\u001b[0m Finished trial#507 with value: 1.0948762902473888 with parameters: {'n_estimators': 242, 'max_depth': 132, 'subsample': 0.8, 'colsample_bytree': 0.9, 'learing_rate': 0.03014925921088621, 'reg_alpha': 6.0, 'min_child_samples': 13}. Best is trial#291 with value: 1.0860848058933388.\u001b[0m\n"
     ]
    },
    {
     "name": "stdout",
     "output_type": "stream",
     "text": [
      "\n"
     ]
    },
    {
     "name": "stderr",
     "output_type": "stream",
     "text": [
      "\u001b[32m[I 2020-12-04 22:49:16,192]\u001b[0m Finished trial#508 with value: 1.0936198292071013 with parameters: {'n_estimators': 210, 'max_depth': 142, 'subsample': 0.9, 'colsample_bytree': 0.9, 'learing_rate': 0.034325013803665684, 'reg_alpha': 6.0, 'min_child_samples': 20}. Best is trial#291 with value: 1.0860848058933388.\u001b[0m\n"
     ]
    },
    {
     "name": "stdout",
     "output_type": "stream",
     "text": [
      "\n"
     ]
    },
    {
     "name": "stderr",
     "output_type": "stream",
     "text": [
      "\u001b[32m[I 2020-12-04 22:49:17,044]\u001b[0m Finished trial#509 with value: 1.1178715587530348 with parameters: {'n_estimators': 159, 'max_depth': 151, 'subsample': 0.6, 'colsample_bytree': 0.9, 'learing_rate': 0.02644402670748049, 'reg_alpha': 6.0, 'min_child_samples': 15}. Best is trial#291 with value: 1.0860848058933388.\u001b[0m\n"
     ]
    },
    {
     "name": "stdout",
     "output_type": "stream",
     "text": [
      "\n"
     ]
    },
    {
     "name": "stderr",
     "output_type": "stream",
     "text": [
      "\u001b[32m[I 2020-12-04 22:49:18,216]\u001b[0m Finished trial#510 with value: 1.0904914932241785 with parameters: {'n_estimators': 228, 'max_depth': 171, 'subsample': 0.7000000000000001, 'colsample_bytree': 0.9, 'learing_rate': 0.032174530848992404, 'reg_alpha': 6.0, 'min_child_samples': 19}. Best is trial#291 with value: 1.0860848058933388.\u001b[0m\n"
     ]
    },
    {
     "name": "stdout",
     "output_type": "stream",
     "text": [
      "\n"
     ]
    },
    {
     "name": "stderr",
     "output_type": "stream",
     "text": [
      "\u001b[32m[I 2020-12-04 22:49:18,751]\u001b[0m Finished trial#511 with value: 1.1413253749996315 with parameters: {'n_estimators': 101, 'max_depth': 116, 'subsample': 0.8, 'colsample_bytree': 0.5, 'learing_rate': 0.039840974483790016, 'reg_alpha': 6.0, 'min_child_samples': 10}. Best is trial#291 with value: 1.0860848058933388.\u001b[0m\n"
     ]
    },
    {
     "name": "stdout",
     "output_type": "stream",
     "text": [
      "\n"
     ]
    },
    {
     "name": "stderr",
     "output_type": "stream",
     "text": [
      "\u001b[32m[I 2020-12-04 22:49:20,249]\u001b[0m Finished trial#512 with value: 1.1092439811350472 with parameters: {'n_estimators': 303, 'max_depth': 128, 'subsample': 0.7000000000000001, 'colsample_bytree': 0.9, 'learing_rate': 0.03689634860627035, 'reg_alpha': 6.0, 'min_child_samples': 16}. Best is trial#291 with value: 1.0860848058933388.\u001b[0m\n"
     ]
    },
    {
     "name": "stdout",
     "output_type": "stream",
     "text": [
      "\n"
     ]
    },
    {
     "name": "stderr",
     "output_type": "stream",
     "text": [
      "\u001b[32m[I 2020-12-04 22:49:21,239]\u001b[0m Finished trial#513 with value: 1.1020322957447317 with parameters: {'n_estimators': 192, 'max_depth': 159, 'subsample': 0.8, 'colsample_bytree': 1.0, 'learing_rate': 0.02971855640054995, 'reg_alpha': 6.0, 'min_child_samples': 12}. Best is trial#291 with value: 1.0860848058933388.\u001b[0m\n"
     ]
    },
    {
     "name": "stdout",
     "output_type": "stream",
     "text": [
      "\n"
     ]
    },
    {
     "name": "stderr",
     "output_type": "stream",
     "text": [
      "\u001b[32m[I 2020-12-04 22:49:22,566]\u001b[0m Finished trial#514 with value: 1.1200023808440143 with parameters: {'n_estimators': 260, 'max_depth': 137, 'subsample': 0.8, 'colsample_bytree': 0.9, 'learing_rate': 0.04848194376515537, 'reg_alpha': 6.0, 'min_child_samples': 17}. Best is trial#291 with value: 1.0860848058933388.\u001b[0m\n"
     ]
    },
    {
     "name": "stdout",
     "output_type": "stream",
     "text": [
      "\n"
     ]
    },
    {
     "name": "stderr",
     "output_type": "stream",
     "text": [
      "\u001b[32m[I 2020-12-04 22:49:23,639]\u001b[0m Finished trial#515 with value: 1.0989497715354966 with parameters: {'n_estimators': 213, 'max_depth': 146, 'subsample': 0.7000000000000001, 'colsample_bytree': 0.8, 'learing_rate': 0.023942436254153255, 'reg_alpha': 6.0, 'min_child_samples': 14}. Best is trial#291 with value: 1.0860848058933388.\u001b[0m\n"
     ]
    },
    {
     "name": "stdout",
     "output_type": "stream",
     "text": [
      "\n"
     ]
    },
    {
     "name": "stderr",
     "output_type": "stream",
     "text": [
      "\u001b[32m[I 2020-12-04 22:49:24,883]\u001b[0m Finished trial#516 with value: 1.0919625039859495 with parameters: {'n_estimators': 243, 'max_depth': 154, 'subsample': 0.8, 'colsample_bytree': 0.9, 'learing_rate': 0.02747616988214553, 'reg_alpha': 6.0, 'min_child_samples': 19}. Best is trial#291 with value: 1.0860848058933388.\u001b[0m\n"
     ]
    },
    {
     "name": "stdout",
     "output_type": "stream",
     "text": [
      "\n"
     ]
    },
    {
     "name": "stderr",
     "output_type": "stream",
     "text": [
      "\u001b[32m[I 2020-12-04 22:49:25,787]\u001b[0m Finished trial#517 with value: 1.0953426430574698 with parameters: {'n_estimators': 171, 'max_depth': 128, 'subsample': 0.9, 'colsample_bytree': 0.9, 'learing_rate': 0.03468009490226639, 'reg_alpha': 6.0, 'min_child_samples': 21}. Best is trial#291 with value: 1.0860848058933388.\u001b[0m\n"
     ]
    },
    {
     "name": "stdout",
     "output_type": "stream",
     "text": [
      "\n"
     ]
    },
    {
     "name": "stderr",
     "output_type": "stream",
     "text": [
      "\u001b[32m[I 2020-12-04 22:49:26,912]\u001b[0m Finished trial#518 with value: 1.1011619190403028 with parameters: {'n_estimators': 224, 'max_depth': 164, 'subsample': 0.8, 'colsample_bytree': 0.8, 'learing_rate': 0.022013167635268924, 'reg_alpha': 6.0, 'min_child_samples': 15}. Best is trial#291 with value: 1.0860848058933388.\u001b[0m\n"
     ]
    },
    {
     "name": "stdout",
     "output_type": "stream",
     "text": [
      "\n"
     ]
    },
    {
     "name": "stderr",
     "output_type": "stream",
     "text": [
      "\u001b[32m[I 2020-12-04 22:49:27,898]\u001b[0m Finished trial#519 with value: 1.096205888821981 with parameters: {'n_estimators': 191, 'max_depth': 141, 'subsample': 0.7000000000000001, 'colsample_bytree': 0.9, 'learing_rate': 0.03124805796955273, 'reg_alpha': 6.0, 'min_child_samples': 12}. Best is trial#291 with value: 1.0860848058933388.\u001b[0m\n"
     ]
    },
    {
     "name": "stdout",
     "output_type": "stream",
     "text": [
      "\n"
     ]
    },
    {
     "name": "stderr",
     "output_type": "stream",
     "text": [
      "\u001b[32m[I 2020-12-04 22:49:28,571]\u001b[0m Finished trial#520 with value: 1.0902705236436228 with parameters: {'n_estimators': 131, 'max_depth': 119, 'subsample': 0.8, 'colsample_bytree': 0.7000000000000001, 'learing_rate': 0.043402844611754476, 'reg_alpha': 6.0, 'min_child_samples': 23}. Best is trial#291 with value: 1.0860848058933388.\u001b[0m\n"
     ]
    },
    {
     "name": "stdout",
     "output_type": "stream",
     "text": [
      "\n"
     ]
    },
    {
     "name": "stderr",
     "output_type": "stream",
     "text": [
      "\u001b[32m[I 2020-12-04 22:49:29,896]\u001b[0m Finished trial#521 with value: 1.0981011702827492 with parameters: {'n_estimators': 270, 'max_depth': 176, 'subsample': 0.7000000000000001, 'colsample_bytree': 0.8, 'learing_rate': 0.02838727167236326, 'reg_alpha': 3.0, 'min_child_samples': 17}. Best is trial#291 with value: 1.0860848058933388.\u001b[0m\n"
     ]
    },
    {
     "name": "stdout",
     "output_type": "stream",
     "text": [
      "\n"
     ]
    },
    {
     "name": "stderr",
     "output_type": "stream",
     "text": [
      "\u001b[32m[I 2020-12-04 22:49:30,956]\u001b[0m Finished trial#522 with value: 1.096874625373745 with parameters: {'n_estimators': 205, 'max_depth': 133, 'subsample': 0.8, 'colsample_bytree': 0.9, 'learing_rate': 0.026266257002374158, 'reg_alpha': 6.0, 'min_child_samples': 14}. Best is trial#291 with value: 1.0860848058933388.\u001b[0m\n"
     ]
    },
    {
     "name": "stdout",
     "output_type": "stream",
     "text": [
      "\n"
     ]
    },
    {
     "name": "stderr",
     "output_type": "stream",
     "text": [
      "\u001b[32m[I 2020-12-04 22:49:32,149]\u001b[0m Finished trial#523 with value: 1.0915083088341826 with parameters: {'n_estimators': 243, 'max_depth': 10, 'subsample': 0.9, 'colsample_bytree': 0.9, 'learing_rate': 0.03284945562374974, 'reg_alpha': 6.0, 'min_child_samples': 10}. Best is trial#291 with value: 1.0860848058933388.\u001b[0m\n"
     ]
    },
    {
     "name": "stdout",
     "output_type": "stream",
     "text": [
      "\n"
     ]
    },
    {
     "name": "stderr",
     "output_type": "stream",
     "text": [
      "\u001b[32m[I 2020-12-04 22:49:33,302]\u001b[0m Finished trial#524 with value: 1.1064349063821053 with parameters: {'n_estimators': 221, 'max_depth': 156, 'subsample': 0.8, 'colsample_bytree': 1.0, 'learing_rate': 0.037912651592171484, 'reg_alpha': 6.0, 'min_child_samples': 19}. Best is trial#291 with value: 1.0860848058933388.\u001b[0m\n"
     ]
    },
    {
     "name": "stdout",
     "output_type": "stream",
     "text": [
      "\n"
     ]
    },
    {
     "name": "stderr",
     "output_type": "stream",
     "text": [
      "\u001b[32m[I 2020-12-04 22:49:34,887]\u001b[0m Finished trial#525 with value: 1.0953819387013384 with parameters: {'n_estimators': 319, 'max_depth': 147, 'subsample': 0.7000000000000001, 'colsample_bytree': 0.9, 'learing_rate': 0.01590261497335644, 'reg_alpha': 6.0, 'min_child_samples': 16}. Best is trial#291 with value: 1.0860848058933388.\u001b[0m\n"
     ]
    },
    {
     "name": "stdout",
     "output_type": "stream",
     "text": [
      "\n"
     ]
    },
    {
     "name": "stderr",
     "output_type": "stream",
     "text": [
      "\u001b[32m[I 2020-12-04 22:49:36,263]\u001b[0m Finished trial#526 with value: 1.0929844490299807 with parameters: {'n_estimators': 286, 'max_depth': 123, 'subsample': 0.8, 'colsample_bytree': 0.8, 'learing_rate': 0.030643900568366154, 'reg_alpha': 6.0, 'min_child_samples': 12}. Best is trial#291 with value: 1.0860848058933388.\u001b[0m\n"
     ]
    },
    {
     "name": "stdout",
     "output_type": "stream",
     "text": [
      "\n"
     ]
    },
    {
     "name": "stderr",
     "output_type": "stream",
     "text": [
      "\u001b[32m[I 2020-12-04 22:49:37,556]\u001b[0m Finished trial#527 with value: 1.0940127353504414 with parameters: {'n_estimators': 254, 'max_depth': 136, 'subsample': 0.5, 'colsample_bytree': 0.9, 'learing_rate': 0.03460324809167387, 'reg_alpha': 6.0, 'min_child_samples': 18}. Best is trial#291 with value: 1.0860848058933388.\u001b[0m\n"
     ]
    },
    {
     "name": "stdout",
     "output_type": "stream",
     "text": [
      "\n"
     ]
    },
    {
     "name": "stderr",
     "output_type": "stream",
     "text": [
      "\u001b[32m[I 2020-12-04 22:49:38,490]\u001b[0m Finished trial#528 with value: 1.1056445911603863 with parameters: {'n_estimators': 175, 'max_depth': 142, 'subsample': 0.7000000000000001, 'colsample_bytree': 0.9, 'learing_rate': 0.024403539541125747, 'reg_alpha': 6.0, 'min_child_samples': 21}. Best is trial#291 with value: 1.0860848058933388.\u001b[0m\n"
     ]
    },
    {
     "name": "stdout",
     "output_type": "stream",
     "text": [
      "\n"
     ]
    },
    {
     "name": "stderr",
     "output_type": "stream",
     "text": [
      "\u001b[32m[I 2020-12-04 22:49:39,684]\u001b[0m Finished trial#529 with value: 1.0922761215531007 with parameters: {'n_estimators': 234, 'max_depth': 162, 'subsample': 0.8, 'colsample_bytree': 0.9, 'learing_rate': 0.028837049755473868, 'reg_alpha': 6.0, 'min_child_samples': 15}. Best is trial#291 with value: 1.0860848058933388.\u001b[0m\n"
     ]
    },
    {
     "name": "stdout",
     "output_type": "stream",
     "text": [
      "\n"
     ]
    },
    {
     "name": "stderr",
     "output_type": "stream",
     "text": [
      "\u001b[32m[I 2020-12-04 22:49:40,514]\u001b[0m Finished trial#530 with value: 1.0921122352936148 with parameters: {'n_estimators': 155, 'max_depth': 152, 'subsample': 0.9, 'colsample_bytree': 0.8, 'learing_rate': 0.03848098684515401, 'reg_alpha': 6.0, 'min_child_samples': 17}. Best is trial#291 with value: 1.0860848058933388.\u001b[0m\n"
     ]
    },
    {
     "name": "stdout",
     "output_type": "stream",
     "text": [
      "\n"
     ]
    },
    {
     "name": "stderr",
     "output_type": "stream",
     "text": [
      "\u001b[32m[I 2020-12-04 22:49:41,563]\u001b[0m Finished trial#531 with value: 1.0953173574376172 with parameters: {'n_estimators': 200, 'max_depth': 130, 'subsample': 0.8, 'colsample_bytree': 0.9, 'learing_rate': 0.02600809152891605, 'reg_alpha': 6.0, 'min_child_samples': 13}. Best is trial#291 with value: 1.0860848058933388.\u001b[0m\n"
     ]
    },
    {
     "name": "stdout",
     "output_type": "stream",
     "text": [
      "\n"
     ]
    },
    {
     "name": "stderr",
     "output_type": "stream",
     "text": [
      "\u001b[32m[I 2020-12-04 22:49:42,964]\u001b[0m Finished trial#532 with value: 1.0947129813881868 with parameters: {'n_estimators': 268, 'max_depth': 157, 'subsample': 0.7000000000000001, 'colsample_bytree': 0.9, 'learing_rate': 0.021128907012168116, 'reg_alpha': 6.0, 'min_child_samples': 19}. Best is trial#291 with value: 1.0860848058933388.\u001b[0m\n"
     ]
    },
    {
     "name": "stdout",
     "output_type": "stream",
     "text": [
      "\n"
     ]
    },
    {
     "name": "stderr",
     "output_type": "stream",
     "text": [
      "\u001b[32m[I 2020-12-04 22:49:44,104]\u001b[0m Finished trial#533 with value: 1.089147432392026 with parameters: {'n_estimators': 211, 'max_depth': 146, 'subsample': 0.8, 'colsample_bytree': 0.8, 'learing_rate': 0.032254235915706614, 'reg_alpha': 6.0, 'min_child_samples': 15}. Best is trial#291 with value: 1.0860848058933388.\u001b[0m\n"
     ]
    },
    {
     "name": "stdout",
     "output_type": "stream",
     "text": [
      "\n"
     ]
    },
    {
     "name": "stderr",
     "output_type": "stream",
     "text": [
      "\u001b[32m[I 2020-12-04 22:49:45,319]\u001b[0m Finished trial#534 with value: 1.0958404762710274 with parameters: {'n_estimators': 233, 'max_depth': 109, 'subsample': 0.8, 'colsample_bytree': 1.0, 'learing_rate': 0.028816347872242753, 'reg_alpha': 6.0, 'min_child_samples': 10}. Best is trial#291 with value: 1.0860848058933388.\u001b[0m\n"
     ]
    },
    {
     "name": "stdout",
     "output_type": "stream",
     "text": [
      "\n"
     ]
    },
    {
     "name": "stderr",
     "output_type": "stream",
     "text": [
      "\u001b[32m[I 2020-12-04 22:49:47,211]\u001b[0m Finished trial#535 with value: 1.1241406047125866 with parameters: {'n_estimators': 373, 'max_depth': 171, 'subsample': 0.9, 'colsample_bytree': 0.9, 'learing_rate': 0.03536992022646617, 'reg_alpha': 6.0, 'min_child_samples': 25}. Best is trial#291 with value: 1.0860848058933388.\u001b[0m\n"
     ]
    },
    {
     "name": "stdout",
     "output_type": "stream",
     "text": [
      "\n"
     ]
    },
    {
     "name": "stderr",
     "output_type": "stream",
     "text": [
      "\u001b[32m[I 2020-12-04 22:49:48,249]\u001b[0m Finished trial#536 with value: 1.1263434724949288 with parameters: {'n_estimators': 186, 'max_depth': 139, 'subsample': 0.7000000000000001, 'colsample_bytree': 0.9, 'learing_rate': 0.04338448651078747, 'reg_alpha': 6.0, 'min_child_samples': 68}. Best is trial#291 with value: 1.0860848058933388.\u001b[0m\n"
     ]
    },
    {
     "name": "stdout",
     "output_type": "stream",
     "text": [
      "\n"
     ]
    },
    {
     "name": "stderr",
     "output_type": "stream",
     "text": [
      "\u001b[32m[I 2020-12-04 22:49:49,563]\u001b[0m Finished trial#537 with value: 1.1073785218072243 with parameters: {'n_estimators': 254, 'max_depth': 124, 'subsample': 0.8, 'colsample_bytree': 0.8, 'learing_rate': 0.02356277845254287, 'reg_alpha': 6.0, 'min_child_samples': 61}. Best is trial#291 with value: 1.0860848058933388.\u001b[0m\n"
     ]
    },
    {
     "name": "stdout",
     "output_type": "stream",
     "text": [
      "\n"
     ]
    },
    {
     "name": "stderr",
     "output_type": "stream",
     "text": [
      "\u001b[32m[I 2020-12-04 22:49:50,684]\u001b[0m Finished trial#538 with value: 1.0973160204930303 with parameters: {'n_estimators': 219, 'max_depth': 88, 'subsample': 0.8, 'colsample_bytree': 0.9, 'learing_rate': 0.0314708610485587, 'reg_alpha': 2.0, 'min_child_samples': 17}. Best is trial#291 with value: 1.0860848058933388.\u001b[0m\n"
     ]
    },
    {
     "name": "stdout",
     "output_type": "stream",
     "text": [
      "\n"
     ]
    },
    {
     "name": "stderr",
     "output_type": "stream",
     "text": [
      "\u001b[32m[I 2020-12-04 22:49:51,698]\u001b[0m Finished trial#539 with value: 1.1011494467254865 with parameters: {'n_estimators': 198, 'max_depth': 167, 'subsample': 0.4, 'colsample_bytree': 0.9, 'learing_rate': 0.02611464304858463, 'reg_alpha': 6.0, 'min_child_samples': 13}. Best is trial#291 with value: 1.0860848058933388.\u001b[0m\n"
     ]
    },
    {
     "name": "stdout",
     "output_type": "stream",
     "text": [
      "\n"
     ]
    },
    {
     "name": "stderr",
     "output_type": "stream",
     "text": [
      "\u001b[32m[I 2020-12-04 22:49:52,944]\u001b[0m Finished trial#540 with value: 1.1087526001872818 with parameters: {'n_estimators': 241, 'max_depth': 136, 'subsample': 0.7000000000000001, 'colsample_bytree': 0.9, 'learing_rate': 0.04021779562724184, 'reg_alpha': 6.0, 'min_child_samples': 22}. Best is trial#291 with value: 1.0860848058933388.\u001b[0m\n"
     ]
    },
    {
     "name": "stdout",
     "output_type": "stream",
     "text": [
      "\n"
     ]
    },
    {
     "name": "stderr",
     "output_type": "stream",
     "text": [
      "\u001b[32m[I 2020-12-04 22:49:53,706]\u001b[0m Finished trial#541 with value: 1.1118213440661135 with parameters: {'n_estimators': 141, 'max_depth': 152, 'subsample': 0.6, 'colsample_bytree': 0.8, 'learing_rate': 0.028723694166279578, 'reg_alpha': 6.0, 'min_child_samples': 20}. Best is trial#291 with value: 1.0860848058933388.\u001b[0m\n"
     ]
    },
    {
     "name": "stdout",
     "output_type": "stream",
     "text": [
      "\n"
     ]
    },
    {
     "name": "stderr",
     "output_type": "stream",
     "text": [
      "\u001b[32m[I 2020-12-04 22:49:55,074]\u001b[0m Finished trial#542 with value: 1.1038602644638986 with parameters: {'n_estimators': 285, 'max_depth': 143, 'subsample': 0.8, 'colsample_bytree': 0.7000000000000001, 'learing_rate': 0.03559825682649417, 'reg_alpha': 6.0, 'min_child_samples': 16}. Best is trial#291 with value: 1.0860848058933388.\u001b[0m\n"
     ]
    },
    {
     "name": "stdout",
     "output_type": "stream",
     "text": [
      "\n"
     ]
    },
    {
     "name": "stderr",
     "output_type": "stream",
     "text": [
      "\u001b[32m[I 2020-12-04 22:49:55,990]\u001b[0m Finished trial#543 with value: 1.152884703754541 with parameters: {'n_estimators': 177, 'max_depth': 161, 'subsample': 0.7000000000000001, 'colsample_bytree': 0.9, 'learing_rate': 0.01893285452237315, 'reg_alpha': 6.0, 'min_child_samples': 14}. Best is trial#291 with value: 1.0860848058933388.\u001b[0m\n"
     ]
    },
    {
     "name": "stdout",
     "output_type": "stream",
     "text": [
      "\n"
     ]
    },
    {
     "name": "stderr",
     "output_type": "stream",
     "text": [
      "\u001b[32m[I 2020-12-04 22:49:57,147]\u001b[0m Finished trial#544 with value: 1.0894852543177365 with parameters: {'n_estimators': 224, 'max_depth': 130, 'subsample': 0.8, 'colsample_bytree': 0.9, 'learing_rate': 0.0320589547178408, 'reg_alpha': 6.0, 'min_child_samples': 18}. Best is trial#291 with value: 1.0860848058933388.\u001b[0m\n"
     ]
    },
    {
     "name": "stdout",
     "output_type": "stream",
     "text": [
      "\n"
     ]
    },
    {
     "name": "stderr",
     "output_type": "stream",
     "text": [
      "\u001b[32m[I 2020-12-04 22:49:58,228]\u001b[0m Finished trial#545 with value: 1.0983242503166493 with parameters: {'n_estimators': 206, 'max_depth': 148, 'subsample': 0.9, 'colsample_bytree': 1.0, 'learing_rate': 0.04973144889301418, 'reg_alpha': 6.0, 'min_child_samples': 11}. Best is trial#291 with value: 1.0860848058933388.\u001b[0m\n"
     ]
    },
    {
     "name": "stdout",
     "output_type": "stream",
     "text": [
      "\n"
     ]
    },
    {
     "name": "stderr",
     "output_type": "stream",
     "text": [
      "\u001b[32m[I 2020-12-04 22:49:59,514]\u001b[0m Finished trial#546 with value: 1.0902094361409227 with parameters: {'n_estimators': 261, 'max_depth': 117, 'subsample': 0.8, 'colsample_bytree': 0.8, 'learing_rate': 0.025047990243537006, 'reg_alpha': 6.0, 'min_child_samples': 15}. Best is trial#291 with value: 1.0860848058933388.\u001b[0m\n"
     ]
    },
    {
     "name": "stdout",
     "output_type": "stream",
     "text": [
      "\n"
     ]
    },
    {
     "name": "stderr",
     "output_type": "stream",
     "text": [
      "\u001b[32m[I 2020-12-04 22:50:00,362]\u001b[0m Finished trial#547 with value: 1.104277841438857 with parameters: {'n_estimators': 162, 'max_depth': 179, 'subsample': 0.7000000000000001, 'colsample_bytree': 0.9, 'learing_rate': 0.027728454944585448, 'reg_alpha': 6.0, 'min_child_samples': 18}. Best is trial#291 with value: 1.0860848058933388.\u001b[0m\n"
     ]
    },
    {
     "name": "stdout",
     "output_type": "stream",
     "text": [
      "\n"
     ]
    },
    {
     "name": "stderr",
     "output_type": "stream",
     "text": [
      "\u001b[32m[I 2020-12-04 22:50:00,836]\u001b[0m Finished trial#548 with value: 1.1002652073434458 with parameters: {'n_estimators': 77, 'max_depth': 81, 'subsample': 0.8, 'colsample_bytree': 0.9, 'learing_rate': 0.08506413718417037, 'reg_alpha': 6.0, 'min_child_samples': 21}. Best is trial#291 with value: 1.0860848058933388.\u001b[0m\n"
     ]
    },
    {
     "name": "stdout",
     "output_type": "stream",
     "text": [
      "\n"
     ]
    },
    {
     "name": "stderr",
     "output_type": "stream",
     "text": [
      "\u001b[32m[I 2020-12-04 22:50:02,008]\u001b[0m Finished trial#549 with value: 1.0935064225729785 with parameters: {'n_estimators': 236, 'max_depth': 134, 'subsample': 0.8, 'colsample_bytree': 0.8, 'learing_rate': 0.03724542386304411, 'reg_alpha': 6.0, 'min_child_samples': 16}. Best is trial#291 with value: 1.0860848058933388.\u001b[0m\n"
     ]
    },
    {
     "name": "stdout",
     "output_type": "stream",
     "text": [
      "\n"
     ]
    },
    {
     "name": "stderr",
     "output_type": "stream",
     "text": [
      "\u001b[32m[I 2020-12-04 22:50:02,991]\u001b[0m Finished trial#550 with value: 1.1250635773049045 with parameters: {'n_estimators': 189, 'max_depth': 153, 'subsample': 0.9, 'colsample_bytree': 0.9, 'learing_rate': 0.02126644709208891, 'reg_alpha': 6.0, 'min_child_samples': 13}. Best is trial#291 with value: 1.0860848058933388.\u001b[0m\n"
     ]
    },
    {
     "name": "stdout",
     "output_type": "stream",
     "text": [
      "\n"
     ]
    },
    {
     "name": "stderr",
     "output_type": "stream",
     "text": [
      "\u001b[32m[I 2020-12-04 22:50:04,372]\u001b[0m Finished trial#551 with value: 1.0966841240394474 with parameters: {'n_estimators': 271, 'max_depth': 141, 'subsample': 0.7000000000000001, 'colsample_bytree': 0.9, 'learing_rate': 0.03078850255087074, 'reg_alpha': 6.0, 'min_child_samples': 23}. Best is trial#291 with value: 1.0860848058933388.\u001b[0m\n"
     ]
    },
    {
     "name": "stdout",
     "output_type": "stream",
     "text": [
      "\n"
     ]
    },
    {
     "name": "stderr",
     "output_type": "stream",
     "text": [
      "\u001b[32m[I 2020-12-04 22:50:05,653]\u001b[0m Finished trial#552 with value: 1.090227620082446 with parameters: {'n_estimators': 250, 'max_depth': 22, 'subsample': 0.8, 'colsample_bytree': 0.9, 'learing_rate': 0.022901124068080255, 'reg_alpha': 6.0, 'min_child_samples': 19}. Best is trial#291 with value: 1.0860848058933388.\u001b[0m\n"
     ]
    },
    {
     "name": "stdout",
     "output_type": "stream",
     "text": [
      "\n"
     ]
    },
    {
     "name": "stderr",
     "output_type": "stream",
     "text": [
      "\u001b[32m[I 2020-12-04 22:50:07,016]\u001b[0m Finished trial#553 with value: 1.113748290502186 with parameters: {'n_estimators': 124, 'max_depth': 97, 'subsample': 0.7000000000000001, 'colsample_bytree': 0.8, 'learing_rate': 0.03463170512866764, 'reg_alpha': 6.0, 'min_child_samples': 14}. Best is trial#291 with value: 1.0860848058933388.\u001b[0m\n"
     ]
    },
    {
     "name": "stdout",
     "output_type": "stream",
     "text": [
      "\n"
     ]
    },
    {
     "name": "stderr",
     "output_type": "stream",
     "text": [
      "\u001b[32m[I 2020-12-04 22:50:07,916]\u001b[0m Finished trial#554 with value: 1.2365162919693375 with parameters: {'n_estimators': 219, 'max_depth': 126, 'subsample': 0.8, 'colsample_bytree': 0.2, 'learing_rate': 0.029184415342786887, 'reg_alpha': 6.0, 'min_child_samples': 17}. Best is trial#291 with value: 1.0860848058933388.\u001b[0m\n"
     ]
    },
    {
     "name": "stdout",
     "output_type": "stream",
     "text": [
      "\n"
     ]
    },
    {
     "name": "stderr",
     "output_type": "stream",
     "text": [
      "\u001b[32m[I 2020-12-04 22:50:09,485]\u001b[0m Finished trial#555 with value: 1.0934514481242814 with parameters: {'n_estimators': 304, 'max_depth': 159, 'subsample': 0.8, 'colsample_bytree': 0.9, 'learing_rate': 0.026185373032356882, 'reg_alpha': 6.0, 'min_child_samples': 10}. Best is trial#291 with value: 1.0860848058933388.\u001b[0m\n"
     ]
    },
    {
     "name": "stdout",
     "output_type": "stream",
     "text": [
      "\n"
     ]
    },
    {
     "name": "stderr",
     "output_type": "stream",
     "text": [
      "\u001b[32m[I 2020-12-04 22:50:10,588]\u001b[0m Finished trial#556 with value: 1.0931238600146325 with parameters: {'n_estimators': 207, 'max_depth': 170, 'subsample': 0.9, 'colsample_bytree': 0.9, 'learing_rate': 0.04433327140943055, 'reg_alpha': 6.0, 'min_child_samples': 12}. Best is trial#291 with value: 1.0860848058933388.\u001b[0m\n"
     ]
    },
    {
     "name": "stdout",
     "output_type": "stream",
     "text": [
      "\n"
     ]
    },
    {
     "name": "stderr",
     "output_type": "stream",
     "text": [
      "\u001b[32m[I 2020-12-04 22:50:11,807]\u001b[0m Finished trial#557 with value: 1.0932703029062252 with parameters: {'n_estimators': 230, 'max_depth': 149, 'subsample': 0.8, 'colsample_bytree': 0.9, 'learing_rate': 0.0332008795865369, 'reg_alpha': 6.0, 'min_child_samples': 16}. Best is trial#291 with value: 1.0860848058933388.\u001b[0m\n"
     ]
    },
    {
     "name": "stdout",
     "output_type": "stream",
     "text": [
      "\n"
     ]
    },
    {
     "name": "stderr",
     "output_type": "stream",
     "text": [
      "\u001b[32m[I 2020-12-04 22:50:12,772]\u001b[0m Finished trial#558 with value: 1.0957408382598046 with parameters: {'n_estimators': 183, 'max_depth': 133, 'subsample': 0.7000000000000001, 'colsample_bytree': 0.8, 'learing_rate': 0.039271893882296446, 'reg_alpha': 6.0, 'min_child_samples': 20}. Best is trial#291 with value: 1.0860848058933388.\u001b[0m\n"
     ]
    },
    {
     "name": "stdout",
     "output_type": "stream",
     "text": [
      "\n"
     ]
    },
    {
     "name": "stderr",
     "output_type": "stream",
     "text": [
      "\u001b[32m[I 2020-12-04 22:50:14,037]\u001b[0m Finished trial#559 with value: 1.0922910855003383 with parameters: {'n_estimators': 246, 'max_depth': 185, 'subsample': 0.7000000000000001, 'colsample_bytree': 0.9, 'learing_rate': 0.03020083492254348, 'reg_alpha': 6.0, 'min_child_samples': 14}. Best is trial#291 with value: 1.0860848058933388.\u001b[0m\n"
     ]
    },
    {
     "name": "stdout",
     "output_type": "stream",
     "text": [
      "\n"
     ]
    },
    {
     "name": "stderr",
     "output_type": "stream",
     "text": [
      "\u001b[32m[I 2020-12-04 22:50:15,046]\u001b[0m Finished trial#560 with value: 1.101370646681071 with parameters: {'n_estimators': 195, 'max_depth': 120, 'subsample': 0.8, 'colsample_bytree': 0.9, 'learing_rate': 0.02443450065449364, 'reg_alpha': 6.0, 'min_child_samples': 18}. Best is trial#291 with value: 1.0860848058933388.\u001b[0m\n"
     ]
    },
    {
     "name": "stdout",
     "output_type": "stream",
     "text": [
      "\n"
     ]
    },
    {
     "name": "stderr",
     "output_type": "stream",
     "text": [
      "\u001b[32m[I 2020-12-04 22:50:15,890]\u001b[0m Finished trial#561 with value: 1.1066759372121808 with parameters: {'n_estimators': 166, 'max_depth': 165, 'subsample': 0.8, 'colsample_bytree': 0.8, 'learing_rate': 0.02665930909099864, 'reg_alpha': 6.0, 'min_child_samples': 16}. Best is trial#291 with value: 1.0860848058933388.\u001b[0m\n"
     ]
    },
    {
     "name": "stdout",
     "output_type": "stream",
     "text": [
      "\n"
     ]
    },
    {
     "name": "stderr",
     "output_type": "stream",
     "text": [
      "\u001b[32m[I 2020-12-04 22:50:17,018]\u001b[0m Finished trial#562 with value: 1.1064471254273074 with parameters: {'n_estimators': 216, 'max_depth': 144, 'subsample': 0.9, 'colsample_bytree': 0.9, 'learing_rate': 0.03444884451709325, 'reg_alpha': 6.0, 'min_child_samples': 41}. Best is trial#291 with value: 1.0860848058933388.\u001b[0m\n"
     ]
    },
    {
     "name": "stdout",
     "output_type": "stream",
     "text": [
      "\n"
     ]
    },
    {
     "name": "stderr",
     "output_type": "stream",
     "text": [
      "\u001b[32m[I 2020-12-04 22:50:18,354]\u001b[0m Finished trial#563 with value: 1.1002537594276267 with parameters: {'n_estimators': 261, 'max_depth': 156, 'subsample': 0.8, 'colsample_bytree': 1.0, 'learing_rate': 0.03797335276327238, 'reg_alpha': 6.0, 'min_child_samples': 12}. Best is trial#291 with value: 1.0860848058933388.\u001b[0m\n"
     ]
    },
    {
     "name": "stdout",
     "output_type": "stream",
     "text": [
      "\n"
     ]
    },
    {
     "name": "stderr",
     "output_type": "stream",
     "text": [
      "\u001b[32m[I 2020-12-04 22:50:19,767]\u001b[0m Finished trial#564 with value: 1.1000571361131537 with parameters: {'n_estimators': 283, 'max_depth': 137, 'subsample': 0.6, 'colsample_bytree': 0.9, 'learing_rate': 0.02936557675011532, 'reg_alpha': 6.0, 'min_child_samples': 19}. Best is trial#291 with value: 1.0860848058933388.\u001b[0m\n"
     ]
    },
    {
     "name": "stdout",
     "output_type": "stream",
     "text": [
      "\n"
     ]
    },
    {
     "name": "stderr",
     "output_type": "stream",
     "text": [
      "\u001b[32m[I 2020-12-04 22:50:20,951]\u001b[0m Finished trial#565 with value: 1.095530248271807 with parameters: {'n_estimators': 232, 'max_depth': 123, 'subsample': 0.7000000000000001, 'colsample_bytree': 0.9, 'learing_rate': 0.03298700259930482, 'reg_alpha': 6.0, 'min_child_samples': 21}. Best is trial#291 with value: 1.0860848058933388.\u001b[0m\n"
     ]
    },
    {
     "name": "stdout",
     "output_type": "stream",
     "text": [
      "\n"
     ]
    },
    {
     "name": "stderr",
     "output_type": "stream",
     "text": [
      "\u001b[32m[I 2020-12-04 22:50:21,936]\u001b[0m Finished trial#566 with value: 1.093708804017261 with parameters: {'n_estimators': 198, 'max_depth': 111, 'subsample': 0.8, 'colsample_bytree': 0.8, 'learing_rate': 0.027675857855436956, 'reg_alpha': 6.0, 'min_child_samples': 15}. Best is trial#291 with value: 1.0860848058933388.\u001b[0m\n"
     ]
    },
    {
     "name": "stdout",
     "output_type": "stream",
     "text": [
      "\n"
     ]
    },
    {
     "name": "stderr",
     "output_type": "stream",
     "text": [
      "\u001b[32m[I 2020-12-04 22:50:23,252]\u001b[0m Finished trial#567 with value: 1.1139896522307926 with parameters: {'n_estimators': 248, 'max_depth': 130, 'subsample': 0.7000000000000001, 'colsample_bytree': 0.9, 'learing_rate': 0.023460424987963073, 'reg_alpha': 6.0, 'min_child_samples': 89}. Best is trial#291 with value: 1.0860848058933388.\u001b[0m\n"
     ]
    },
    {
     "name": "stdout",
     "output_type": "stream",
     "text": [
      "\n"
     ]
    },
    {
     "name": "stderr",
     "output_type": "stream",
     "text": [
      "\u001b[32m[I 2020-12-04 22:50:25,019]\u001b[0m Finished trial#568 with value: 1.0908865074362493 with parameters: {'n_estimators': 360, 'max_depth': 149, 'subsample': 0.8, 'colsample_bytree': 0.9, 'learing_rate': 0.02013504640334719, 'reg_alpha': 6.0, 'min_child_samples': 17}. Best is trial#291 with value: 1.0860848058933388.\u001b[0m\n"
     ]
    },
    {
     "name": "stdout",
     "output_type": "stream",
     "text": [
      "\n"
     ]
    },
    {
     "name": "stderr",
     "output_type": "stream",
     "text": [
      "\u001b[32m[I 2020-12-04 22:50:25,797]\u001b[0m Finished trial#569 with value: 1.1132823713595807 with parameters: {'n_estimators': 147, 'max_depth': 67, 'subsample': 0.9, 'colsample_bytree': 0.8, 'learing_rate': 0.031164742388493028, 'reg_alpha': 6.0, 'min_child_samples': 10}. Best is trial#291 with value: 1.0860848058933388.\u001b[0m\n"
     ]
    },
    {
     "name": "stdout",
     "output_type": "stream",
     "text": [
      "\n"
     ]
    },
    {
     "name": "stderr",
     "output_type": "stream",
     "text": [
      "\u001b[32m[I 2020-12-04 22:50:26,855]\u001b[0m Finished trial#570 with value: 1.1008745712752475 with parameters: {'n_estimators': 212, 'max_depth': 141, 'subsample': 0.8, 'colsample_bytree': 0.7000000000000001, 'learing_rate': 0.041559273476212806, 'reg_alpha': 6.0, 'min_child_samples': 23}. Best is trial#291 with value: 1.0860848058933388.\u001b[0m\n"
     ]
    },
    {
     "name": "stdout",
     "output_type": "stream",
     "text": [
      "\n"
     ]
    },
    {
     "name": "stderr",
     "output_type": "stream",
     "text": [
      "\u001b[32m[I 2020-12-04 22:50:27,802]\u001b[0m Finished trial#571 with value: 1.0927286572708135 with parameters: {'n_estimators': 179, 'max_depth': 162, 'subsample': 0.7000000000000001, 'colsample_bytree': 0.9, 'learing_rate': 0.036709816642356355, 'reg_alpha': 5.0, 'min_child_samples': 14}. Best is trial#291 with value: 1.0860848058933388.\u001b[0m\n"
     ]
    },
    {
     "name": "stdout",
     "output_type": "stream",
     "text": [
      "\n"
     ]
    },
    {
     "name": "stderr",
     "output_type": "stream",
     "text": [
      "\u001b[32m[I 2020-12-04 22:50:29,177]\u001b[0m Finished trial#572 with value: 1.0994978241560125 with parameters: {'n_estimators': 270, 'max_depth': 173, 'subsample': 0.8, 'colsample_bytree': 1.0, 'learing_rate': 0.02535910777334968, 'reg_alpha': 6.0, 'min_child_samples': 12}. Best is trial#291 with value: 1.0860848058933388.\u001b[0m\n"
     ]
    },
    {
     "name": "stdout",
     "output_type": "stream",
     "text": [
      "\n"
     ]
    },
    {
     "name": "stderr",
     "output_type": "stream",
     "text": [
      "\u001b[32m[I 2020-12-04 22:50:30,365]\u001b[0m Finished trial#573 with value: 1.1288402039864927 with parameters: {'n_estimators': 229, 'max_depth': 153, 'subsample': 0.7000000000000001, 'colsample_bytree': 0.9, 'learing_rate': 0.056048115635035256, 'reg_alpha': 6.0, 'min_child_samples': 19}. Best is trial#291 with value: 1.0860848058933388.\u001b[0m\n"
     ]
    },
    {
     "name": "stdout",
     "output_type": "stream",
     "text": [
      "\n"
     ]
    },
    {
     "name": "stderr",
     "output_type": "stream",
     "text": [
      "\u001b[32m[I 2020-12-04 22:50:31,413]\u001b[0m Finished trial#574 with value: 1.0897716292532456 with parameters: {'n_estimators': 204, 'max_depth': 135, 'subsample': 0.9, 'colsample_bytree': 0.8, 'learing_rate': 0.028079533598038883, 'reg_alpha': 6.0, 'min_child_samples': 17}. Best is trial#291 with value: 1.0860848058933388.\u001b[0m\n"
     ]
    },
    {
     "name": "stdout",
     "output_type": "stream",
     "text": [
      "\n"
     ]
    },
    {
     "name": "stderr",
     "output_type": "stream",
     "text": [
      "\u001b[32m[I 2020-12-04 22:50:32,659]\u001b[0m Finished trial#575 with value: 1.089414219793843 with parameters: {'n_estimators': 244, 'max_depth': 127, 'subsample': 0.8, 'colsample_bytree': 0.9, 'learing_rate': 0.03207890686092854, 'reg_alpha': 6.0, 'min_child_samples': 15}. Best is trial#291 with value: 1.0860848058933388.\u001b[0m\n"
     ]
    },
    {
     "name": "stdout",
     "output_type": "stream",
     "text": [
      "\n"
     ]
    },
    {
     "name": "stderr",
     "output_type": "stream",
     "text": [
      "\u001b[32m[I 2020-12-04 22:50:33,819]\u001b[0m Finished trial#576 with value: 1.115286094883411 with parameters: {'n_estimators': 222, 'max_depth': 146, 'subsample': 0.8, 'colsample_bytree': 0.9, 'learing_rate': 0.047622181845887325, 'reg_alpha': 6.0, 'min_child_samples': 21}. Best is trial#291 with value: 1.0860848058933388.\u001b[0m\n"
     ]
    },
    {
     "name": "stdout",
     "output_type": "stream",
     "text": [
      "\n"
     ]
    },
    {
     "name": "stderr",
     "output_type": "stream",
     "text": [
      "\u001b[32m[I 2020-12-04 22:50:35,269]\u001b[0m Finished trial#577 with value: 1.0906840703991632 with parameters: {'n_estimators': 297, 'max_depth': 166, 'subsample': 0.7000000000000001, 'colsample_bytree': 0.8, 'learing_rate': 0.022473974646961464, 'reg_alpha': 6.0, 'min_child_samples': 13}. Best is trial#291 with value: 1.0860848058933388.\u001b[0m\n"
     ]
    },
    {
     "name": "stdout",
     "output_type": "stream",
     "text": [
      "\n"
     ]
    },
    {
     "name": "stderr",
     "output_type": "stream",
     "text": [
      "\u001b[32m[I 2020-12-04 22:50:36,256]\u001b[0m Finished trial#578 with value: 1.2201981376635516 with parameters: {'n_estimators': 188, 'max_depth': 141, 'subsample': 0.6, 'colsample_bytree': 0.9, 'learing_rate': 0.01271993786389322, 'reg_alpha': 6.0, 'min_child_samples': 18}. Best is trial#291 with value: 1.0860848058933388.\u001b[0m\n"
     ]
    },
    {
     "name": "stdout",
     "output_type": "stream",
     "text": [
      "\n"
     ]
    },
    {
     "name": "stderr",
     "output_type": "stream",
     "text": [
      "\u001b[32m[I 2020-12-04 22:50:37,532]\u001b[0m Finished trial#579 with value: 1.0934868906172528 with parameters: {'n_estimators': 255, 'max_depth': 159, 'subsample': 0.8, 'colsample_bytree': 0.9, 'learing_rate': 0.035024793463770305, 'reg_alpha': 6.0, 'min_child_samples': 10}. Best is trial#291 with value: 1.0860848058933388.\u001b[0m\n"
     ]
    },
    {
     "name": "stdout",
     "output_type": "stream",
     "text": [
      "\n"
     ]
    },
    {
     "name": "stderr",
     "output_type": "stream",
     "text": [
      "\u001b[32m[I 2020-12-04 22:50:38,346]\u001b[0m Finished trial#580 with value: 1.104235312008963 with parameters: {'n_estimators': 156, 'max_depth': 131, 'subsample': 0.7000000000000001, 'colsample_bytree': 0.8, 'learing_rate': 0.029524949754683383, 'reg_alpha': 6.0, 'min_child_samples': 16}. Best is trial#291 with value: 1.0860848058933388.\u001b[0m\n"
     ]
    },
    {
     "name": "stdout",
     "output_type": "stream",
     "text": [
      "\n"
     ]
    },
    {
     "name": "stderr",
     "output_type": "stream",
     "text": [
      "\u001b[32m[I 2020-12-04 22:50:39,564]\u001b[0m Finished trial#581 with value: 1.0940280708009125 with parameters: {'n_estimators': 235, 'max_depth': 115, 'subsample': 0.8, 'colsample_bytree': 0.9, 'learing_rate': 0.026550805360370903, 'reg_alpha': 6.0, 'min_child_samples': 26}. Best is trial#291 with value: 1.0860848058933388.\u001b[0m\n"
     ]
    },
    {
     "name": "stdout",
     "output_type": "stream",
     "text": [
      "\n"
     ]
    },
    {
     "name": "stderr",
     "output_type": "stream",
     "text": [
      "\u001b[32m[I 2020-12-04 22:50:40,978]\u001b[0m Finished trial#582 with value: 1.1101041385424029 with parameters: {'n_estimators': 277, 'max_depth': 268, 'subsample': 0.8, 'colsample_bytree': 0.9, 'learing_rate': 0.038615995457966644, 'reg_alpha': 6.0, 'min_child_samples': 20}. Best is trial#291 with value: 1.0860848058933388.\u001b[0m\n"
     ]
    },
    {
     "name": "stdout",
     "output_type": "stream",
     "text": [
      "\n"
     ]
    },
    {
     "name": "stderr",
     "output_type": "stream",
     "text": [
      "\u001b[32m[I 2020-12-04 22:50:42,083]\u001b[0m Finished trial#583 with value: 1.0950120031049897 with parameters: {'n_estimators': 213, 'max_depth': 153, 'subsample': 0.9, 'colsample_bytree': 1.0, 'learing_rate': 0.032377518347902305, 'reg_alpha': 6.0, 'min_child_samples': 14}. Best is trial#291 with value: 1.0860848058933388.\u001b[0m\n"
     ]
    },
    {
     "name": "stdout",
     "output_type": "stream",
     "text": [
      "\n"
     ]
    },
    {
     "name": "stderr",
     "output_type": "stream",
     "text": [
      "\u001b[32m[I 2020-12-04 22:50:42,976]\u001b[0m Finished trial#584 with value: 1.1107562438940097 with parameters: {'n_estimators': 173, 'max_depth': 137, 'subsample': 0.7000000000000001, 'colsample_bytree': 0.8, 'learing_rate': 0.024468194525582302, 'reg_alpha': 6.0, 'min_child_samples': 17}. Best is trial#291 with value: 1.0860848058933388.\u001b[0m\n"
     ]
    },
    {
     "name": "stdout",
     "output_type": "stream",
     "text": [
      "\n"
     ]
    },
    {
     "name": "stderr",
     "output_type": "stream",
     "text": [
      "\u001b[32m[I 2020-12-04 22:50:43,585]\u001b[0m Finished trial#585 with value: 1.168172252672987 with parameters: {'n_estimators': 107, 'max_depth': 146, 'subsample': 0.8, 'colsample_bytree': 0.9, 'learing_rate': 0.02937872532128396, 'reg_alpha': 6.0, 'min_child_samples': 12}. Best is trial#291 with value: 1.0860848058933388.\u001b[0m\n"
     ]
    },
    {
     "name": "stdout",
     "output_type": "stream",
     "text": [
      "\n"
     ]
    },
    {
     "name": "stderr",
     "output_type": "stream",
     "text": [
      "\u001b[32m[I 2020-12-04 22:50:44,924]\u001b[0m Finished trial#586 with value: 1.102592441178446 with parameters: {'n_estimators': 263, 'max_depth': 292, 'subsample': 0.8, 'colsample_bytree': 0.9, 'learing_rate': 0.035467788643271984, 'reg_alpha': 6.0, 'min_child_samples': 19}. Best is trial#291 with value: 1.0860848058933388.\u001b[0m\n"
     ]
    },
    {
     "name": "stdout",
     "output_type": "stream",
     "text": [
      "\n"
     ]
    },
    {
     "name": "stderr",
     "output_type": "stream",
     "text": [
      "\u001b[32m[I 2020-12-04 22:50:45,939]\u001b[0m Finished trial#587 with value: 1.0949160810468728 with parameters: {'n_estimators': 201, 'max_depth': 122, 'subsample': 0.7000000000000001, 'colsample_bytree': 0.8, 'learing_rate': 0.027328389855739814, 'reg_alpha': 6.0, 'min_child_samples': 15}. Best is trial#291 with value: 1.0860848058933388.\u001b[0m\n"
     ]
    },
    {
     "name": "stdout",
     "output_type": "stream",
     "text": [
      "\n"
     ]
    },
    {
     "name": "stderr",
     "output_type": "stream",
     "text": [
      "\u001b[32m[I 2020-12-04 22:50:48,239]\u001b[0m Finished trial#588 with value: 1.155461153583247 with parameters: {'n_estimators': 465, 'max_depth': 160, 'subsample': 0.9, 'colsample_bytree': 0.9, 'learing_rate': 0.04257696153102856, 'reg_alpha': 6.0, 'min_child_samples': 24}. Best is trial#291 with value: 1.0860848058933388.\u001b[0m\n"
     ]
    },
    {
     "name": "stdout",
     "output_type": "stream",
     "text": [
      "\n"
     ]
    },
    {
     "name": "stderr",
     "output_type": "stream",
     "text": [
      "\u001b[32m[I 2020-12-04 22:50:49,334]\u001b[0m Finished trial#589 with value: 1.094832226047626 with parameters: {'n_estimators': 226, 'max_depth': 176, 'subsample': 0.8, 'colsample_bytree': 0.7000000000000001, 'learing_rate': 0.03191392785924389, 'reg_alpha': 6.0, 'min_child_samples': 11}. Best is trial#291 with value: 1.0860848058933388.\u001b[0m\n"
     ]
    },
    {
     "name": "stdout",
     "output_type": "stream",
     "text": [
      "\n"
     ]
    },
    {
     "name": "stderr",
     "output_type": "stream",
     "text": [
      "\u001b[32m[I 2020-12-04 22:50:50,577]\u001b[0m Finished trial#590 with value: 1.0948243038074923 with parameters: {'n_estimators': 244, 'max_depth': 199, 'subsample': 0.8, 'colsample_bytree': 0.9, 'learing_rate': 0.020931932541040345, 'reg_alpha': 6.0, 'min_child_samples': 17}. Best is trial#291 with value: 1.0860848058933388.\u001b[0m\n"
     ]
    },
    {
     "name": "stdout",
     "output_type": "stream",
     "text": [
      "\n"
     ]
    },
    {
     "name": "stderr",
     "output_type": "stream",
     "text": [
      "\u001b[32m[I 2020-12-04 22:50:51,549]\u001b[0m Finished trial#591 with value: 1.1052572247966648 with parameters: {'n_estimators': 185, 'max_depth': 139, 'subsample': 0.7000000000000001, 'colsample_bytree': 0.9, 'learing_rate': 0.025426724933904608, 'reg_alpha': 6.0, 'min_child_samples': 14}. Best is trial#291 with value: 1.0860848058933388.\u001b[0m\n"
     ]
    },
    {
     "name": "stdout",
     "output_type": "stream",
     "text": [
      "\n"
     ]
    },
    {
     "name": "stderr",
     "output_type": "stream",
     "text": [
      "\u001b[32m[I 2020-12-04 22:50:52,255]\u001b[0m Finished trial#592 with value: 1.5618358158503847 with parameters: {'n_estimators': 134, 'max_depth': 150, 'subsample': 0.8, 'colsample_bytree': 0.9, 'learing_rate': 0.004390976125972776, 'reg_alpha': 6.0, 'min_child_samples': 47}. Best is trial#291 with value: 1.0860848058933388.\u001b[0m\n"
     ]
    },
    {
     "name": "stdout",
     "output_type": "stream",
     "text": [
      "\n"
     ]
    },
    {
     "name": "stderr",
     "output_type": "stream",
     "text": [
      "\u001b[32m[I 2020-12-04 22:50:53,379]\u001b[0m Finished trial#593 with value: 1.092147698764483 with parameters: {'n_estimators': 220, 'max_depth': 127, 'subsample': 0.7000000000000001, 'colsample_bytree': 0.8, 'learing_rate': 0.030375726343486793, 'reg_alpha': 6.0, 'min_child_samples': 21}. Best is trial#291 with value: 1.0860848058933388.\u001b[0m\n"
     ]
    },
    {
     "name": "stdout",
     "output_type": "stream",
     "text": [
      "\n"
     ]
    },
    {
     "name": "stderr",
     "output_type": "stream",
     "text": [
      "\u001b[32m[I 2020-12-04 22:50:54,681]\u001b[0m Finished trial#594 with value: 1.093512599442828 with parameters: {'n_estimators': 253, 'max_depth': 168, 'subsample': 0.8, 'colsample_bytree': 0.9, 'learing_rate': 0.034132763011844446, 'reg_alpha': 6.0, 'min_child_samples': 16}. Best is trial#291 with value: 1.0860848058933388.\u001b[0m\n"
     ]
    },
    {
     "name": "stdout",
     "output_type": "stream",
     "text": [
      "\n"
     ]
    },
    {
     "name": "stderr",
     "output_type": "stream",
     "text": [
      "\u001b[32m[I 2020-12-04 22:50:55,729]\u001b[0m Finished trial#595 with value: 1.0953175554961985 with parameters: {'n_estimators': 203, 'max_depth': 155, 'subsample': 0.9, 'colsample_bytree': 0.8, 'learing_rate': 0.03964583451191763, 'reg_alpha': 6.0, 'min_child_samples': 18}. Best is trial#291 with value: 1.0860848058933388.\u001b[0m\n"
     ]
    },
    {
     "name": "stdout",
     "output_type": "stream",
     "text": [
      "\n"
     ]
    },
    {
     "name": "stderr",
     "output_type": "stream",
     "text": [
      "\u001b[32m[I 2020-12-04 22:50:56,603]\u001b[0m Finished trial#596 with value: 1.1096363732151477 with parameters: {'n_estimators': 167, 'max_depth': 132, 'subsample': 0.9, 'colsample_bytree': 0.9, 'learing_rate': 0.02779045859832562, 'reg_alpha': 5.0, 'min_child_samples': 13}. Best is trial#291 with value: 1.0860848058933388.\u001b[0m\n"
     ]
    },
    {
     "name": "stdout",
     "output_type": "stream",
     "text": [
      "\n"
     ]
    },
    {
     "name": "stderr",
     "output_type": "stream",
     "text": [
      "\u001b[32m[I 2020-12-04 22:50:57,843]\u001b[0m Finished trial#597 with value: 1.1028078705143713 with parameters: {'n_estimators': 238, 'max_depth': 142, 'subsample': 0.8, 'colsample_bytree': 1.0, 'learing_rate': 0.02278315386686033, 'reg_alpha': 6.0, 'min_child_samples': 19}. Best is trial#291 with value: 1.0860848058933388.\u001b[0m\n"
     ]
    },
    {
     "name": "stdout",
     "output_type": "stream",
     "text": [
      "\n"
     ]
    },
    {
     "name": "stderr",
     "output_type": "stream",
     "text": [
      "\u001b[32m[I 2020-12-04 22:50:59,381]\u001b[0m Finished trial#598 with value: 1.1622625546605643 with parameters: {'n_estimators': 286, 'max_depth': 106, 'subsample': 0.7000000000000001, 'colsample_bytree': 0.9, 'learing_rate': 0.04594055908886958, 'reg_alpha': 6.0, 'min_child_samples': 54}. Best is trial#291 with value: 1.0860848058933388.\u001b[0m\n"
     ]
    },
    {
     "name": "stdout",
     "output_type": "stream",
     "text": [
      "\n"
     ]
    },
    {
     "name": "stderr",
     "output_type": "stream",
     "text": [
      "\u001b[32m[I 2020-12-04 22:51:02,013]\u001b[0m Finished trial#599 with value: 1.1279902488337548 with parameters: {'n_estimators': 539, 'max_depth': 30, 'subsample': 0.8, 'colsample_bytree': 0.9, 'learing_rate': 0.035545365081065726, 'reg_alpha': 6.0, 'min_child_samples': 15}. Best is trial#291 with value: 1.0860848058933388.\u001b[0m\n"
     ]
    },
    {
     "name": "stdout",
     "output_type": "stream",
     "text": [
      "\n"
     ]
    },
    {
     "name": "stderr",
     "output_type": "stream",
     "text": [
      "\u001b[32m[I 2020-12-04 22:51:03,647]\u001b[0m Finished trial#600 with value: 1.099510309449232 with parameters: {'n_estimators': 324, 'max_depth': 147, 'subsample': 0.7000000000000001, 'colsample_bytree': 0.9, 'learing_rate': 0.030559629622421695, 'reg_alpha': 6.0, 'min_child_samples': 16}. Best is trial#291 with value: 1.0860848058933388.\u001b[0m\n"
     ]
    },
    {
     "name": "stdout",
     "output_type": "stream",
     "text": [
      "\n"
     ]
    },
    {
     "name": "stderr",
     "output_type": "stream",
     "text": [
      "\u001b[32m[I 2020-12-04 22:51:04,965]\u001b[0m Finished trial#601 with value: 1.1055011592872594 with parameters: {'n_estimators': 268, 'max_depth': 162, 'subsample': 0.8, 'colsample_bytree': 0.8, 'learing_rate': 0.018500893140757774, 'reg_alpha': 6.0, 'min_child_samples': 10}. Best is trial#291 with value: 1.0860848058933388.\u001b[0m\n"
     ]
    },
    {
     "name": "stdout",
     "output_type": "stream",
     "text": [
      "\n"
     ]
    },
    {
     "name": "stderr",
     "output_type": "stream",
     "text": [
      "\u001b[32m[I 2020-12-04 22:51:07,922]\u001b[0m Finished trial#602 with value: 1.1367734869303217 with parameters: {'n_estimators': 595, 'max_depth': 121, 'subsample': 0.8, 'colsample_bytree': 0.9, 'learing_rate': 0.026243186085812383, 'reg_alpha': 6.0, 'min_child_samples': 22}. Best is trial#291 with value: 1.0860848058933388.\u001b[0m\n"
     ]
    },
    {
     "name": "stdout",
     "output_type": "stream",
     "text": [
      "\n"
     ]
    },
    {
     "name": "stderr",
     "output_type": "stream",
     "text": [
      "\u001b[32m[I 2020-12-04 22:51:09,022]\u001b[0m Finished trial#603 with value: 1.093241466215198 with parameters: {'n_estimators': 215, 'max_depth': 136, 'subsample': 0.7000000000000001, 'colsample_bytree': 0.9, 'learing_rate': 0.03713132321937331, 'reg_alpha': 6.0, 'min_child_samples': 12}. Best is trial#291 with value: 1.0860848058933388.\u001b[0m\n"
     ]
    },
    {
     "name": "stdout",
     "output_type": "stream",
     "text": [
      "\n"
     ]
    },
    {
     "name": "stderr",
     "output_type": "stream",
     "text": [
      "\u001b[32m[I 2020-12-04 22:51:10,033]\u001b[0m Finished trial#604 with value: 1.0966201228164665 with parameters: {'n_estimators': 197, 'max_depth': 157, 'subsample': 0.6, 'colsample_bytree': 0.8, 'learing_rate': 0.03359281318192484, 'reg_alpha': 6.0, 'min_child_samples': 19}. Best is trial#291 with value: 1.0860848058933388.\u001b[0m\n"
     ]
    },
    {
     "name": "stdout",
     "output_type": "stream",
     "text": [
      "\n"
     ]
    },
    {
     "name": "stderr",
     "output_type": "stream",
     "text": [
      "\u001b[32m[I 2020-12-04 22:51:11,231]\u001b[0m Finished trial#605 with value: 1.0954792266653959 with parameters: {'n_estimators': 234, 'max_depth': 127, 'subsample': 0.8, 'colsample_bytree': 0.9, 'learing_rate': 0.02384554556647712, 'reg_alpha': 6.0, 'min_child_samples': 15}. Best is trial#291 with value: 1.0860848058933388.\u001b[0m\n"
     ]
    },
    {
     "name": "stdout",
     "output_type": "stream",
     "text": [
      "\n"
     ]
    },
    {
     "name": "stderr",
     "output_type": "stream",
     "text": [
      "\u001b[32m[I 2020-12-04 22:51:12,523]\u001b[0m Finished trial#606 with value: 1.0953204581414504 with parameters: {'n_estimators': 254, 'max_depth': 143, 'subsample': 0.8, 'colsample_bytree': 0.9, 'learing_rate': 0.02889810965788364, 'reg_alpha': 6.0, 'min_child_samples': 18}. Best is trial#291 with value: 1.0860848058933388.\u001b[0m\n"
     ]
    },
    {
     "name": "stdout",
     "output_type": "stream",
     "text": [
      "\n"
     ]
    },
    {
     "name": "stderr",
     "output_type": "stream",
     "text": [
      "\u001b[32m[I 2020-12-04 22:51:13,407]\u001b[0m Finished trial#607 with value: 1.0906210455663785 with parameters: {'n_estimators': 175, 'max_depth': 167, 'subsample': 0.9, 'colsample_bytree': 0.8, 'learing_rate': 0.04169050401171823, 'reg_alpha': 6.0, 'min_child_samples': 13}. Best is trial#291 with value: 1.0860848058933388.\u001b[0m\n"
     ]
    },
    {
     "name": "stdout",
     "output_type": "stream",
     "text": [
      "\n"
     ]
    },
    {
     "name": "stderr",
     "output_type": "stream",
     "text": [
      "\u001b[32m[I 2020-12-04 22:51:14,538]\u001b[0m Finished trial#608 with value: 1.0893736270739844 with parameters: {'n_estimators': 217, 'max_depth': 152, 'subsample': 0.8, 'colsample_bytree': 0.9, 'learing_rate': 0.03171975017014344, 'reg_alpha': 6.0, 'min_child_samples': 20}. Best is trial#291 with value: 1.0860848058933388.\u001b[0m\n"
     ]
    },
    {
     "name": "stdout",
     "output_type": "stream",
     "text": [
      "\n"
     ]
    },
    {
     "name": "stderr",
     "output_type": "stream",
     "text": [
      "\u001b[32m[I 2020-12-04 22:51:15,251]\u001b[0m Finished trial#609 with value: 1.1255410706847198 with parameters: {'n_estimators': 145, 'max_depth': 16, 'subsample': 0.7000000000000001, 'colsample_bytree': 0.6, 'learing_rate': 0.026888810795151503, 'reg_alpha': 6.0, 'min_child_samples': 17}. Best is trial#291 with value: 1.0860848058933388.\u001b[0m\n"
     ]
    },
    {
     "name": "stdout",
     "output_type": "stream",
     "text": [
      "\n"
     ]
    },
    {
     "name": "stderr",
     "output_type": "stream",
     "text": [
      "\u001b[32m[I 2020-12-04 22:51:16,255]\u001b[0m Finished trial#610 with value: 1.106499286455543 with parameters: {'n_estimators': 188, 'max_depth': 116, 'subsample': 0.8, 'colsample_bytree': 0.9, 'learing_rate': 0.052700164130201795, 'reg_alpha': 6.0, 'min_child_samples': 22}. Best is trial#291 with value: 1.0860848058933388.\u001b[0m\n"
     ]
    },
    {
     "name": "stdout",
     "output_type": "stream",
     "text": [
      "\n"
     ]
    },
    {
     "name": "stderr",
     "output_type": "stream",
     "text": [
      "\u001b[32m[I 2020-12-04 22:51:16,956]\u001b[0m Finished trial#611 with value: 1.1114412187926848 with parameters: {'n_estimators': 121, 'max_depth': 133, 'subsample': 0.7000000000000001, 'colsample_bytree': 1.0, 'learing_rate': 0.03716418215686943, 'reg_alpha': 6.0, 'min_child_samples': 14}. Best is trial#291 with value: 1.0860848058933388.\u001b[0m\n"
     ]
    },
    {
     "name": "stdout",
     "output_type": "stream",
     "text": [
      "\n"
     ]
    },
    {
     "name": "stderr",
     "output_type": "stream",
     "text": [
      "\u001b[32m[I 2020-12-04 22:51:18,162]\u001b[0m Finished trial#612 with value: 1.0942077649455273 with parameters: {'n_estimators': 241, 'max_depth': 148, 'subsample': 0.8, 'colsample_bytree': 0.9, 'learing_rate': 0.030226302652033646, 'reg_alpha': 6.0, 'min_child_samples': 10}. Best is trial#291 with value: 1.0860848058933388.\u001b[0m\n"
     ]
    },
    {
     "name": "stdout",
     "output_type": "stream",
     "text": [
      "\n"
     ]
    },
    {
     "name": "stderr",
     "output_type": "stream",
     "text": [
      "\u001b[32m[I 2020-12-04 22:51:19,140]\u001b[0m Finished trial#613 with value: 1.1485138194180458 with parameters: {'n_estimators': 207, 'max_depth': 188, 'subsample': 0.5, 'colsample_bytree': 0.4, 'learing_rate': 0.0249854681959531, 'reg_alpha': 6.0, 'min_child_samples': 16}. Best is trial#291 with value: 1.0860848058933388.\u001b[0m\n"
     ]
    },
    {
     "name": "stdout",
     "output_type": "stream",
     "text": [
      "\n"
     ]
    },
    {
     "name": "stderr",
     "output_type": "stream",
     "text": [
      "\u001b[32m[I 2020-12-04 22:51:19,985]\u001b[0m Finished trial#614 with value: 1.1002934211311874 with parameters: {'n_estimators': 159, 'max_depth': 173, 'subsample': 0.8, 'colsample_bytree': 0.8, 'learing_rate': 0.033257365265902145, 'reg_alpha': 6.0, 'min_child_samples': 12}. Best is trial#291 with value: 1.0860848058933388.\u001b[0m\n"
     ]
    },
    {
     "name": "stdout",
     "output_type": "stream",
     "text": [
      "\n"
     ]
    },
    {
     "name": "stderr",
     "output_type": "stream",
     "text": [
      "\u001b[32m[I 2020-12-04 22:51:21,371]\u001b[0m Finished trial#615 with value: 1.085890619618491 with parameters: {'n_estimators': 273, 'max_depth': 157, 'subsample': 0.7000000000000001, 'colsample_bytree': 0.9, 'learing_rate': 0.02215444506126086, 'reg_alpha': 6.0, 'min_child_samples': 24}. Best is trial#615 with value: 1.085890619618491.\u001b[0m\n"
     ]
    },
    {
     "name": "stdout",
     "output_type": "stream",
     "text": [
      "\n"
     ]
    },
    {
     "name": "stderr",
     "output_type": "stream",
     "text": [
      "\u001b[32m[I 2020-12-04 22:51:22,850]\u001b[0m Finished trial#616 with value: 1.0912376704641455 with parameters: {'n_estimators': 294, 'max_depth': 163, 'subsample': 0.9, 'colsample_bytree': 0.9, 'learing_rate': 0.021384895165946025, 'reg_alpha': 6.0, 'min_child_samples': 24}. Best is trial#615 with value: 1.085890619618491.\u001b[0m\n"
     ]
    },
    {
     "name": "stdout",
     "output_type": "stream",
     "text": [
      "\n"
     ]
    },
    {
     "name": "stderr",
     "output_type": "stream",
     "text": [
      "\u001b[32m[I 2020-12-04 22:51:24,367]\u001b[0m Finished trial#617 with value: 1.094341186169167 with parameters: {'n_estimators': 301, 'max_depth': 159, 'subsample': 0.7000000000000001, 'colsample_bytree': 0.8, 'learing_rate': 0.021728630003796046, 'reg_alpha': 6.0, 'min_child_samples': 25}. Best is trial#615 with value: 1.085890619618491.\u001b[0m\n"
     ]
    },
    {
     "name": "stdout",
     "output_type": "stream",
     "text": [
      "\n"
     ]
    },
    {
     "name": "stderr",
     "output_type": "stream",
     "text": [
      "\u001b[32m[I 2020-12-04 22:51:25,695]\u001b[0m Finished trial#618 with value: 1.095214592002244 with parameters: {'n_estimators': 257, 'max_depth': 155, 'subsample': 0.8, 'colsample_bytree': 0.9, 'learing_rate': 0.019453350229832682, 'reg_alpha': 6.0, 'min_child_samples': 27}. Best is trial#615 with value: 1.085890619618491.\u001b[0m\n"
     ]
    },
    {
     "name": "stdout",
     "output_type": "stream",
     "text": [
      "\n"
     ]
    },
    {
     "name": "stderr",
     "output_type": "stream",
     "text": [
      "\u001b[32m[I 2020-12-04 22:51:27,134]\u001b[0m Finished trial#619 with value: 1.0912778890386552 with parameters: {'n_estimators': 279, 'max_depth': 167, 'subsample': 0.8, 'colsample_bytree': 0.9, 'learing_rate': 0.0221176538206073, 'reg_alpha': 6.0, 'min_child_samples': 22}. Best is trial#615 with value: 1.085890619618491.\u001b[0m\n"
     ]
    },
    {
     "name": "stdout",
     "output_type": "stream",
     "text": [
      "\n"
     ]
    },
    {
     "name": "stderr",
     "output_type": "stream",
     "text": [
      "\u001b[32m[I 2020-12-04 22:51:28,579]\u001b[0m Finished trial#620 with value: 1.0975732916129857 with parameters: {'n_estimators': 287, 'max_depth': 178, 'subsample': 0.9, 'colsample_bytree': 0.8, 'learing_rate': 0.023713723390556093, 'reg_alpha': 6.0, 'min_child_samples': 21}. Best is trial#615 with value: 1.085890619618491.\u001b[0m\n"
     ]
    },
    {
     "name": "stdout",
     "output_type": "stream",
     "text": [
      "\n"
     ]
    },
    {
     "name": "stderr",
     "output_type": "stream",
     "text": [
      "\u001b[32m[I 2020-12-04 22:51:29,959]\u001b[0m Finished trial#621 with value: 1.0939549927379637 with parameters: {'n_estimators': 268, 'max_depth': 160, 'subsample': 0.7000000000000001, 'colsample_bytree': 0.9, 'learing_rate': 0.02012931835547784, 'reg_alpha': 6.0, 'min_child_samples': 25}. Best is trial#615 with value: 1.085890619618491.\u001b[0m\n"
     ]
    },
    {
     "name": "stdout",
     "output_type": "stream",
     "text": [
      "\n"
     ]
    },
    {
     "name": "stderr",
     "output_type": "stream",
     "text": [
      "\u001b[32m[I 2020-12-04 22:51:31,412]\u001b[0m Finished trial#622 with value: 1.0932626931732616 with parameters: {'n_estimators': 280, 'max_depth': 155, 'subsample': 0.6, 'colsample_bytree': 0.9, 'learing_rate': 0.023889401902952186, 'reg_alpha': 6.0, 'min_child_samples': 24}. Best is trial#615 with value: 1.085890619618491.\u001b[0m\n"
     ]
    },
    {
     "name": "stdout",
     "output_type": "stream",
     "text": [
      "\n"
     ]
    },
    {
     "name": "stderr",
     "output_type": "stream",
     "text": [
      "\u001b[32m[I 2020-12-04 22:51:32,785]\u001b[0m Finished trial#623 with value: 1.0938015109886083 with parameters: {'n_estimators': 267, 'max_depth': 170, 'subsample': 0.8, 'colsample_bytree': 0.9, 'learing_rate': 0.025792704183933684, 'reg_alpha': 6.0, 'min_child_samples': 23}. Best is trial#615 with value: 1.085890619618491.\u001b[0m\n"
     ]
    },
    {
     "name": "stdout",
     "output_type": "stream",
     "text": [
      "\n"
     ]
    },
    {
     "name": "stderr",
     "output_type": "stream",
     "text": [
      "\u001b[32m[I 2020-12-04 22:51:34,269]\u001b[0m Finished trial#624 with value: 1.1044561481235988 with parameters: {'n_estimators': 302, 'max_depth': 151, 'subsample': 0.8, 'colsample_bytree': 0.8, 'learing_rate': 0.027131292951355506, 'reg_alpha': 6.0, 'min_child_samples': 27}. Best is trial#615 with value: 1.085890619618491.\u001b[0m\n"
     ]
    },
    {
     "name": "stdout",
     "output_type": "stream",
     "text": [
      "\n"
     ]
    },
    {
     "name": "stderr",
     "output_type": "stream",
     "text": [
      "\u001b[32m[I 2020-12-04 22:51:35,270]\u001b[0m Finished trial#625 with value: 1.1412388909161117 with parameters: {'n_estimators': 188, 'max_depth': 166, 'subsample': 0.9, 'colsample_bytree': 0.9, 'learing_rate': 0.01783113032729707, 'reg_alpha': 6.0, 'min_child_samples': 20}. Best is trial#615 with value: 1.085890619618491.\u001b[0m\n"
     ]
    },
    {
     "name": "stdout",
     "output_type": "stream",
     "text": [
      "\n"
     ]
    },
    {
     "name": "stderr",
     "output_type": "stream",
     "text": [
      "\u001b[32m[I 2020-12-04 22:51:36,191]\u001b[0m Finished trial#626 with value: 1.111832200432661 with parameters: {'n_estimators': 174, 'max_depth': 162, 'subsample': 0.7000000000000001, 'colsample_bytree': 0.9, 'learing_rate': 0.022719919666112844, 'reg_alpha': 6.0, 'min_child_samples': 23}. Best is trial#615 with value: 1.085890619618491.\u001b[0m\n"
     ]
    },
    {
     "name": "stdout",
     "output_type": "stream",
     "text": [
      "\n"
     ]
    },
    {
     "name": "stderr",
     "output_type": "stream",
     "text": [
      "\u001b[32m[I 2020-12-04 22:51:37,320]\u001b[0m Finished trial#627 with value: 1.112858877790038 with parameters: {'n_estimators': 227, 'max_depth': 146, 'subsample': 0.8, 'colsample_bytree': 0.7000000000000001, 'learing_rate': 0.01708899152838565, 'reg_alpha': 6.0, 'min_child_samples': 29}. Best is trial#615 with value: 1.085890619618491.\u001b[0m\n"
     ]
    },
    {
     "name": "stdout",
     "output_type": "stream",
     "text": [
      "\n"
     ]
    },
    {
     "name": "stderr",
     "output_type": "stream",
     "text": [
      "\u001b[32m[I 2020-12-04 22:51:38,671]\u001b[0m Finished trial#628 with value: 1.1014532192337319 with parameters: {'n_estimators': 255, 'max_depth': 156, 'subsample': 0.7000000000000001, 'colsample_bytree': 1.0, 'learing_rate': 0.0283752603073562, 'reg_alpha': 6.0, 'min_child_samples': 34}. Best is trial#615 with value: 1.085890619618491.\u001b[0m\n"
     ]
    },
    {
     "name": "stdout",
     "output_type": "stream",
     "text": [
      "\n"
     ]
    },
    {
     "name": "stderr",
     "output_type": "stream",
     "text": [
      "\u001b[32m[I 2020-12-04 22:51:39,753]\u001b[0m Finished trial#629 with value: 1.0987833983497108 with parameters: {'n_estimators': 205, 'max_depth': 152, 'subsample': 0.8, 'colsample_bytree': 0.9, 'learing_rate': 0.024926276928465083, 'reg_alpha': 6.0, 'min_child_samples': 18}. Best is trial#615 with value: 1.085890619618491.\u001b[0m\n"
     ]
    },
    {
     "name": "stdout",
     "output_type": "stream",
     "text": [
      "\n"
     ]
    },
    {
     "name": "stderr",
     "output_type": "stream",
     "text": [
      "\u001b[32m[I 2020-12-04 22:51:40,735]\u001b[0m Finished trial#630 with value: 1.1093734070302086 with parameters: {'n_estimators': 194, 'max_depth': 173, 'subsample': 0.8, 'colsample_bytree': 0.8, 'learing_rate': 0.02108964223656142, 'reg_alpha': 6.0, 'min_child_samples': 20}. Best is trial#615 with value: 1.085890619618491.\u001b[0m\n"
     ]
    },
    {
     "name": "stdout",
     "output_type": "stream",
     "text": [
      "\n"
     ]
    },
    {
     "name": "stderr",
     "output_type": "stream",
     "text": [
      "\u001b[32m[I 2020-12-04 22:51:42,120]\u001b[0m Finished trial#631 with value: 1.1283640582802295 with parameters: {'n_estimators': 272, 'max_depth': 144, 'subsample': 0.8, 'colsample_bytree': 0.9, 'learing_rate': 0.0449382842842466, 'reg_alpha': 6.0, 'min_child_samples': 26}. Best is trial#615 with value: 1.085890619618491.\u001b[0m\n"
     ]
    },
    {
     "name": "stdout",
     "output_type": "stream",
     "text": [
      "\n"
     ]
    },
    {
     "name": "stderr",
     "output_type": "stream",
     "text": [
      "\u001b[32m[I 2020-12-04 22:51:42,948]\u001b[0m Finished trial#632 with value: 1.1154404795623187 with parameters: {'n_estimators': 152, 'max_depth': 160, 'subsample': 0.7000000000000001, 'colsample_bytree': 0.9, 'learing_rate': 0.027046698053271576, 'reg_alpha': 6.0, 'min_child_samples': 17}. Best is trial#615 with value: 1.085890619618491.\u001b[0m\n"
     ]
    },
    {
     "name": "stdout",
     "output_type": "stream",
     "text": [
      "\n"
     ]
    },
    {
     "name": "stderr",
     "output_type": "stream",
     "text": [
      "\u001b[32m[I 2020-12-04 22:51:44,490]\u001b[0m Finished trial#633 with value: 1.1037023326037922 with parameters: {'n_estimators': 319, 'max_depth': 112, 'subsample': 0.8, 'colsample_bytree': 0.8, 'learing_rate': 0.02923268649646219, 'reg_alpha': 1.0, 'min_child_samples': 18}. Best is trial#615 with value: 1.085890619618491.\u001b[0m\n"
     ]
    },
    {
     "name": "stdout",
     "output_type": "stream",
     "text": [
      "\n"
     ]
    },
    {
     "name": "stderr",
     "output_type": "stream",
     "text": [
      "\u001b[32m[I 2020-12-04 22:51:45,644]\u001b[0m Finished trial#634 with value: 1.0956941037191443 with parameters: {'n_estimators': 224, 'max_depth': 124, 'subsample': 0.7000000000000001, 'colsample_bytree': 0.9, 'learing_rate': 0.0254266201903982, 'reg_alpha': 6.0, 'min_child_samples': 15}. Best is trial#615 with value: 1.085890619618491.\u001b[0m\n"
     ]
    },
    {
     "name": "stdout",
     "output_type": "stream",
     "text": [
      "\n"
     ]
    },
    {
     "name": "stderr",
     "output_type": "stream",
     "text": [
      "\u001b[32m[I 2020-12-04 22:51:47,401]\u001b[0m Finished trial#635 with value: 1.1273640932724616 with parameters: {'n_estimators': 347, 'max_depth': 139, 'subsample': 0.9, 'colsample_bytree': 0.9, 'learing_rate': 0.04022679345688777, 'reg_alpha': 6.0, 'min_child_samples': 21}. Best is trial#615 with value: 1.085890619618491.\u001b[0m\n"
     ]
    },
    {
     "name": "stdout",
     "output_type": "stream",
     "text": [
      "\n"
     ]
    },
    {
     "name": "stderr",
     "output_type": "stream",
     "text": [
      "\u001b[32m[I 2020-12-04 22:51:48,619]\u001b[0m Finished trial#636 with value: 1.1372557408856045 with parameters: {'n_estimators': 249, 'max_depth': 150, 'subsample': 0.7000000000000001, 'colsample_bytree': 0.8, 'learing_rate': 0.06102058519776137, 'reg_alpha': 6.0, 'min_child_samples': 19}. Best is trial#615 with value: 1.085890619618491.\u001b[0m\n"
     ]
    },
    {
     "name": "stdout",
     "output_type": "stream",
     "text": [
      "\n"
     ]
    },
    {
     "name": "stderr",
     "output_type": "stream",
     "text": [
      "\u001b[32m[I 2020-12-04 22:51:49,474]\u001b[0m Finished trial#637 with value: 1.241834817480049 with parameters: {'n_estimators': 213, 'max_depth': 165, 'subsample': 0.1, 'colsample_bytree': 0.1, 'learing_rate': 0.022996323162469894, 'reg_alpha': 6.0, 'min_child_samples': 17}. Best is trial#615 with value: 1.085890619618491.\u001b[0m\n"
     ]
    },
    {
     "name": "stdout",
     "output_type": "stream",
     "text": [
      "\n"
     ]
    },
    {
     "name": "stderr",
     "output_type": "stream",
     "text": [
      "\u001b[32m[I 2020-12-04 22:51:50,684]\u001b[0m Finished trial#638 with value: 1.0863630813099001 with parameters: {'n_estimators': 234, 'max_depth': 179, 'subsample': 0.8, 'colsample_bytree': 0.9, 'learing_rate': 0.030146400830420486, 'reg_alpha': 6.0, 'min_child_samples': 16}. Best is trial#615 with value: 1.085890619618491.\u001b[0m\n"
     ]
    },
    {
     "name": "stdout",
     "output_type": "stream",
     "text": [
      "\n"
     ]
    },
    {
     "name": "stderr",
     "output_type": "stream",
     "text": [
      "\u001b[32m[I 2020-12-04 22:51:51,544]\u001b[0m Finished trial#639 with value: 1.1068894497827158 with parameters: {'n_estimators': 163, 'max_depth': 178, 'subsample': 0.8, 'colsample_bytree': 0.9, 'learing_rate': 0.02698424615345288, 'reg_alpha': 6.0, 'min_child_samples': 16}. Best is trial#615 with value: 1.085890619618491.\u001b[0m\n"
     ]
    }
   ],
   "source": [
    "%%time\n",
    "study = optuna.create_study()\n",
    "study.optimize(objective, n_trials=10000)\n",
    "print(study.best_trial)\n",
    "print(f'\\n best_params = {study.best_params}')"
   ]
  },
  {
   "cell_type": "code",
   "execution_count": null,
   "metadata": {},
   "outputs": [],
   "source": []
  },
  {
   "cell_type": "raw",
   "metadata": {},
   "source": [
    "\n",
    "\n",
    "\n",
    "\n",
    "\n",
    "\n",
    "\n",
    "\n",
    "\n",
    "\n",
    "\n",
    "\n",
    "\n",
    "\n",
    "\n",
    "\n",
    "\n",
    "\n",
    "\n",
    "\n",
    "\n",
    "\n"
   ]
  }
 ],
 "metadata": {
  "kernelspec": {
   "display_name": "Python 3",
   "language": "python",
   "name": "python3"
  },
  "language_info": {
   "codemirror_mode": {
    "name": "ipython",
    "version": 3
   },
   "file_extension": ".py",
   "mimetype": "text/x-python",
   "name": "python",
   "nbconvert_exporter": "python",
   "pygments_lexer": "ipython3",
   "version": "3.6.10"
  }
 },
 "nbformat": 4,
 "nbformat_minor": 4
}
