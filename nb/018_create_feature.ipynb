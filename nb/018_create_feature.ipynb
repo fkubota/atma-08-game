{
 "cells": [
  {
   "cell_type": "markdown",
   "metadata": {},
   "source": [
    "# Overview\n",
    "- Basicな特徴量を保存する"
   ]
  },
  {
   "cell_type": "markdown",
   "metadata": {},
   "source": [
    "# Const"
   ]
  },
  {
   "cell_type": "code",
   "execution_count": 1,
   "metadata": {},
   "outputs": [],
   "source": [
    "NB = '018'\n",
    "\n",
    "PATH_TRAIN = './../data/official/train.csv'\n",
    "PATH_TEST = './../data/official/test.csv'\n",
    "PATH_SAMPLE_SUBMITTION = './../data/official/atmaCup8_sample-submission.csv'\n",
    "SAVE_DIR = f'../data/output_nb/nb{NB}/'\n",
    "\n",
    "feat_train_only = ['JP_Sales', 'Global_Sales', 'NA_Sales', 'Other_Sales', 'EU_Sales']\n",
    "feat_common = ['Name', 'Platform', 'Year_of_Release', 'Genre', 'Publisher',\n",
    "           'Critic_Score', 'Critic_Count', 'User_Score', 'User_Count', 'Developer',\n",
    "           'Rating']\n",
    "feat_string = ['Platform', 'Genre', 'Publisher', 'Developer', 'Rating']\n",
    "feat_cat = ['Platform', 'Genre', 'Rating']\n",
    "feat_num = ['Year_of_Release', 'Critic_Score', 'Critic_Count', 'User_Score', 'User_Count']\n",
    "use_col = [\n",
    "    'Platform',\n",
    "    'Year_of_Release',\n",
    "    'Genre',\n",
    "    'Critic_Score',\n",
    "    'Critic_Count',\n",
    "    'User_Score',\n",
    "    'User_Count',\n",
    "    'Rating'\n",
    "    ]"
   ]
  },
  {
   "cell_type": "code",
   "execution_count": 2,
   "metadata": {},
   "outputs": [],
   "source": [
    "config_str = \"\"\"\n",
    "globals:\n",
    "  seed: 2020\n",
    "  show_log: True\n",
    "\n",
    "feature:\n",
    "    use_col: [\n",
    "        'Platform',\n",
    "        'Year_of_Release',\n",
    "        'Genre',\n",
    "        'Critic_Score',\n",
    "        'Critic_Count',\n",
    "        'User_Score',\n",
    "        'User_Count',\n",
    "        'Rating'\n",
    "        ]\n",
    "\n",
    "split:\n",
    "  name: KFold\n",
    "  params:\n",
    "    n_splits: 5\n",
    "    random_state: 2020\n",
    "    shuffle: True\n",
    "\n",
    "model:\n",
    "    model_params:\n",
    "        objective: 'regression'\n",
    "        metric: 'rmse'\n",
    "        n_estimators: 800\n",
    "        max_depth: 131\n",
    "        subsample: 0.6\n",
    "        colsample_bytree: 0.9\n",
    "        learning_rate: 0.022862256818781214\n",
    "        reg_alpha: 1.0\n",
    "        reg_lambda: 6.0\n",
    "        min_child_samples: 10\n",
    "    \n",
    "    train_params:\n",
    "        categorical_feature: ['Platform', 'Genre', 'Rating']\n",
    "        verbose: -1\n",
    "        early_stopping_rounds: 100\n",
    "\"\"\"\n",
    "\n"
   ]
  },
  {
   "cell_type": "markdown",
   "metadata": {},
   "source": [
    "# Import everything I need :)"
   ]
  },
  {
   "cell_type": "code",
   "execution_count": 3,
   "metadata": {},
   "outputs": [
    {
     "name": "stderr",
     "output_type": "stream",
     "text": [
      "/usr/local/lib/python3.6/dist-packages/matplotlib/__init__.py:886: MatplotlibDeprecationWarning: \n",
      "examples.directory is deprecated; in the future, examples will be found relative to the 'datapath' directory.\n",
      "  \"found relative to the 'datapath' directory.\".format(key))\n"
     ]
    }
   ],
   "source": [
    "import os\n",
    "import time\n",
    "import yaml\n",
    "import types\n",
    "import builtins\n",
    "import numpy as np\n",
    "import pandas as pd\n",
    "import seaborn as sns\n",
    "import matplotlib.pyplot as plt\n",
    "from fastprogress import progress_bar\n",
    "\n",
    "from lightgbm import LGBMRegressor \n",
    "\n",
    "from sklearn.preprocessing import LabelEncoder\n",
    "from sklearn.metrics import mean_squared_log_error\n",
    "from sklearn.model_selection import train_test_split, KFold\n",
    "\n",
    "import warnings\n",
    "warnings.filterwarnings('ignore')"
   ]
  },
  {
   "cell_type": "markdown",
   "metadata": {},
   "source": [
    "# My function"
   ]
  },
  {
   "cell_type": "code",
   "execution_count": 4,
   "metadata": {},
   "outputs": [],
   "source": [
    "# noglobal\n",
    "\n",
    "def imports():\n",
    "    for name, val in globals().items():\n",
    "        # module imports\n",
    "        if isinstance(val, types.ModuleType):\n",
    "            yield name, val\n",
    "\n",
    "            # functions / callables\n",
    "        if hasattr(val, '__call__'):\n",
    "            yield name, val\n",
    "\n",
    "\n",
    "def noglobal(f):\n",
    "    '''\n",
    "    ref: https://gist.github.com/raven38/4e4c3c7a179283c441f575d6e375510c\n",
    "    '''\n",
    "    return types.FunctionType(f.__code__,\n",
    "                              dict(imports()),\n",
    "                              f.__name__,\n",
    "                              f.__defaults__,\n",
    "                              f.__closure__\n",
    "                              )"
   ]
  },
  {
   "cell_type": "code",
   "execution_count": 5,
   "metadata": {},
   "outputs": [],
   "source": [
    "@noglobal\n",
    "def metric(y_true, y_pred):\n",
    "    return mean_squared_log_error(y_true, y_pred) ** .5\n",
    "\n",
    "@noglobal\n",
    "def preprocess_User_Score(df):\n",
    "    '''\n",
    "    - tbdをnanにする\n",
    "    - stringをfloatにする\n",
    "    '''\n",
    "    mask = df.User_Score.values == 'tbd'\n",
    "    df.User_Score[mask] = np.nan\n",
    "    df.User_Score = df.User_Score.values.astype(float)\n",
    "    return df\n",
    "\n",
    "@noglobal\n",
    "def string_encode(df_trn, df_te, cols):\n",
    "    '''\n",
    "    - np.nanがあれば、'nan'に置き換える\n",
    "    - label encodingする\n",
    "    '''\n",
    "    df = pd.concat([df_trn, df_te], axis=0).copy()\n",
    "    df[cols] = df[cols].replace(np.nan, 'nan')\n",
    "    df_trn[cols] = df_trn[cols].replace(np.nan, 'nan')\n",
    "    df_te[cols] = df_te[cols].replace(np.nan, 'nan')\n",
    "    for col in cols:\n",
    "        le = LabelEncoder()\n",
    "        le.fit(df[col])\n",
    "        df_trn[col] = le.transform(df_trn[col])\n",
    "        df_te[col] = le.transform(df_te[col])\n",
    "    return df_trn, df_te\n",
    "\n",
    "@noglobal\n",
    "def df_preprocessing(df_trn, df_te, string_cols):\n",
    "    df_trn = preprocess_User_Score(df_trn)\n",
    "    df_te = preprocess_User_Score(df_te)\n",
    "    df_trn, df_te = string_encode(df_trn, df_te, string_cols)\n",
    "    return df_trn, df_te"
   ]
  },
  {
   "cell_type": "code",
   "execution_count": 6,
   "metadata": {},
   "outputs": [],
   "source": [
    "@noglobal\n",
    "def run_fold_lgbm(_X_trn, _y_trn, _X_val, _y_val, _X_te, model_config, show_log=True):\n",
    "    model_params = model_config['model_params']\n",
    "    train_params = model_config['train_params']\n",
    "    \n",
    "    # train\n",
    "    model = LGBMRegressor(**model_params)\n",
    "    model.fit(_X_trn, _y_trn.values[:, 0],\n",
    "              eval_set=[(_X_trn, _y_trn), (_X_val, _y_val)],\n",
    "              **train_params\n",
    "             )\n",
    "    \n",
    "    # predict\n",
    "    y_trn_pred = model.predict(_X_trn)\n",
    "    y_val_pred = model.predict(_X_val)\n",
    "    _y_test_pred = model.predict(_X_te)\n",
    "    \n",
    "    # postprocessiing\n",
    "    y_trn_pred[y_trn_pred <= 1] = 1\n",
    "    y_val_pred[y_val_pred <= 1] = 1\n",
    "    y_trn_pred = np.expm1(y_trn_pred)  # exp を適用して 1 を引く\n",
    "    y_val_pred = np.expm1(y_val_pred)  # exp を適用して 1 を引く\n",
    "    _y_test_pred = np.expm1(_y_test_pred)  # exp を適用して 1 を引く\n",
    "    \n",
    "    if show_log:\n",
    "        print(show_log)\n",
    "        print(f'score train: {metric(np.expm1(_y_trn), y_trn_pred):.5f}')\n",
    "        print(f'score valid: {metric(np.expm1(_y_val), y_val_pred):.5f}')\n",
    "        print('')\n",
    "    \n",
    "    return y_trn_pred, y_val_pred, _y_test_pred\n",
    "\n",
    "@noglobal\n",
    "def run_lgbm(X, y, X_te, splitter, config):\n",
    "    show_log = config['globals']['show_log']\n",
    "    model_config = config['model']\n",
    "\n",
    "    oof = np.zeros(len(X))\n",
    "    y_test_pred = np.zeros(len(X_te))\n",
    "    for fold_i, (idx_trn, idx_val) in enumerate(splitter.split(X)):\n",
    "        if show_log:\n",
    "            print(f'::Fold {fold_i+1}/{splitter.n_splits} start at {time.ctime()}::')\n",
    "        X_trn, X_val = X.iloc[idx_trn, :], X.iloc[idx_val, :]\n",
    "        y_trn, y_val = y.iloc[idx_trn], y.iloc[idx_val]\n",
    "        X_trn = pd.DataFrame(X_trn, columns=X.columns)\n",
    "        X_val = pd.DataFrame(X_val, columns=X.columns)\n",
    "\n",
    "        # train\n",
    "        y_trn_pred, y_val_pred, _y_test_pred = run_fold_lgbm(X_trn, y_trn, X_val, y_val, \n",
    "                                                             X_te, model_config, \n",
    "                                                             show_log=show_log)\n",
    "\n",
    "        # result\n",
    "        oof[idx_val] = y_val_pred\n",
    "        y_test_pred += _y_test_pred / splitter.n_splits\n",
    "\n",
    "\n",
    "    y_test_pred[y_test_pred <= 1] = 1\n",
    "    return oof, y_test_pred"
   ]
  },
  {
   "cell_type": "markdown",
   "metadata": {},
   "source": [
    "# Preparation"
   ]
  },
  {
   "cell_type": "markdown",
   "metadata": {},
   "source": [
    "set"
   ]
  },
  {
   "cell_type": "code",
   "execution_count": 7,
   "metadata": {},
   "outputs": [],
   "source": [
    "if not os.path.exists(SAVE_DIR):\n",
    "    os.makedirs(SAVE_DIR)\n",
    "\n",
    "config = yaml.safe_load(config_str)"
   ]
  },
  {
   "cell_type": "markdown",
   "metadata": {},
   "source": [
    "<br>\n",
    "\n",
    "load dataset"
   ]
  },
  {
   "cell_type": "code",
   "execution_count": 8,
   "metadata": {},
   "outputs": [],
   "source": [
    "train = pd.read_csv(PATH_TRAIN)\n",
    "test = pd.read_csv(PATH_TEST)\n",
    "ss = pd.read_csv(PATH_SAMPLE_SUBMITTION)"
   ]
  },
  {
   "cell_type": "markdown",
   "metadata": {},
   "source": [
    "<br>\n",
    "\n",
    "preprocess"
   ]
  },
  {
   "cell_type": "code",
   "execution_count": 9,
   "metadata": {},
   "outputs": [],
   "source": [
    "train, test = df_preprocessing(train, test, feat_string)"
   ]
  },
  {
   "cell_type": "code",
   "execution_count": 10,
   "metadata": {},
   "outputs": [],
   "source": [
    "X = train[use_col].copy()\n",
    "y = train[['Global_Sales']].copy()\n",
    "X_te = test[use_col].copy()"
   ]
  },
  {
   "cell_type": "code",
   "execution_count": 11,
   "metadata": {},
   "outputs": [
    {
     "data": {
      "text/html": [
       "<div>\n",
       "<style scoped>\n",
       "    .dataframe tbody tr th:only-of-type {\n",
       "        vertical-align: middle;\n",
       "    }\n",
       "\n",
       "    .dataframe tbody tr th {\n",
       "        vertical-align: top;\n",
       "    }\n",
       "\n",
       "    .dataframe thead th {\n",
       "        text-align: right;\n",
       "    }\n",
       "</style>\n",
       "<table border=\"1\" class=\"dataframe\">\n",
       "  <thead>\n",
       "    <tr style=\"text-align: right;\">\n",
       "      <th></th>\n",
       "      <th>Platform</th>\n",
       "      <th>Year_of_Release</th>\n",
       "      <th>Genre</th>\n",
       "      <th>Critic_Score</th>\n",
       "      <th>Critic_Count</th>\n",
       "      <th>User_Score</th>\n",
       "      <th>User_Count</th>\n",
       "      <th>Rating</th>\n",
       "    </tr>\n",
       "  </thead>\n",
       "  <tbody>\n",
       "    <tr>\n",
       "      <th>0</th>\n",
       "      <td>26</td>\n",
       "      <td>NaN</td>\n",
       "      <td>0</td>\n",
       "      <td>74.0</td>\n",
       "      <td>17.0</td>\n",
       "      <td>7.9</td>\n",
       "      <td>22.0</td>\n",
       "      <td>2</td>\n",
       "    </tr>\n",
       "    <tr>\n",
       "      <th>1</th>\n",
       "      <td>26</td>\n",
       "      <td>NaN</td>\n",
       "      <td>0</td>\n",
       "      <td>78.0</td>\n",
       "      <td>22.0</td>\n",
       "      <td>6.6</td>\n",
       "      <td>28.0</td>\n",
       "      <td>2</td>\n",
       "    </tr>\n",
       "    <tr>\n",
       "      <th>2</th>\n",
       "      <td>19</td>\n",
       "      <td>NaN</td>\n",
       "      <td>0</td>\n",
       "      <td>73.0</td>\n",
       "      <td>5.0</td>\n",
       "      <td>7.4</td>\n",
       "      <td>10.0</td>\n",
       "      <td>2</td>\n",
       "    </tr>\n",
       "    <tr>\n",
       "      <th>3</th>\n",
       "      <td>0</td>\n",
       "      <td>NaN</td>\n",
       "      <td>0</td>\n",
       "      <td>NaN</td>\n",
       "      <td>NaN</td>\n",
       "      <td>NaN</td>\n",
       "      <td>NaN</td>\n",
       "      <td>8</td>\n",
       "    </tr>\n",
       "    <tr>\n",
       "      <th>4</th>\n",
       "      <td>26</td>\n",
       "      <td>NaN</td>\n",
       "      <td>0</td>\n",
       "      <td>76.0</td>\n",
       "      <td>8.0</td>\n",
       "      <td>7.8</td>\n",
       "      <td>13.0</td>\n",
       "      <td>2</td>\n",
       "    </tr>\n",
       "    <tr>\n",
       "      <th>...</th>\n",
       "      <td>...</td>\n",
       "      <td>...</td>\n",
       "      <td>...</td>\n",
       "      <td>...</td>\n",
       "      <td>...</td>\n",
       "      <td>...</td>\n",
       "      <td>...</td>\n",
       "      <td>...</td>\n",
       "    </tr>\n",
       "    <tr>\n",
       "      <th>8354</th>\n",
       "      <td>13</td>\n",
       "      <td>2016.0</td>\n",
       "      <td>11</td>\n",
       "      <td>78.0</td>\n",
       "      <td>57.0</td>\n",
       "      <td>8.0</td>\n",
       "      <td>569.0</td>\n",
       "      <td>8</td>\n",
       "    </tr>\n",
       "    <tr>\n",
       "      <th>8355</th>\n",
       "      <td>13</td>\n",
       "      <td>2016.0</td>\n",
       "      <td>11</td>\n",
       "      <td>NaN</td>\n",
       "      <td>NaN</td>\n",
       "      <td>NaN</td>\n",
       "      <td>NaN</td>\n",
       "      <td>8</td>\n",
       "    </tr>\n",
       "    <tr>\n",
       "      <th>8356</th>\n",
       "      <td>20</td>\n",
       "      <td>2017.0</td>\n",
       "      <td>0</td>\n",
       "      <td>NaN</td>\n",
       "      <td>NaN</td>\n",
       "      <td>NaN</td>\n",
       "      <td>NaN</td>\n",
       "      <td>8</td>\n",
       "    </tr>\n",
       "    <tr>\n",
       "      <th>8357</th>\n",
       "      <td>18</td>\n",
       "      <td>2017.0</td>\n",
       "      <td>7</td>\n",
       "      <td>NaN</td>\n",
       "      <td>NaN</td>\n",
       "      <td>NaN</td>\n",
       "      <td>NaN</td>\n",
       "      <td>8</td>\n",
       "    </tr>\n",
       "    <tr>\n",
       "      <th>8358</th>\n",
       "      <td>20</td>\n",
       "      <td>2017.0</td>\n",
       "      <td>7</td>\n",
       "      <td>NaN</td>\n",
       "      <td>NaN</td>\n",
       "      <td>NaN</td>\n",
       "      <td>NaN</td>\n",
       "      <td>8</td>\n",
       "    </tr>\n",
       "  </tbody>\n",
       "</table>\n",
       "<p>8359 rows × 8 columns</p>\n",
       "</div>"
      ],
      "text/plain": [
       "      Platform  Year_of_Release  Genre  Critic_Score  Critic_Count  \\\n",
       "0           26              NaN      0          74.0          17.0   \n",
       "1           26              NaN      0          78.0          22.0   \n",
       "2           19              NaN      0          73.0           5.0   \n",
       "3            0              NaN      0           NaN           NaN   \n",
       "4           26              NaN      0          76.0           8.0   \n",
       "...        ...              ...    ...           ...           ...   \n",
       "8354        13           2016.0     11          78.0          57.0   \n",
       "8355        13           2016.0     11           NaN           NaN   \n",
       "8356        20           2017.0      0           NaN           NaN   \n",
       "8357        18           2017.0      7           NaN           NaN   \n",
       "8358        20           2017.0      7           NaN           NaN   \n",
       "\n",
       "      User_Score  User_Count  Rating  \n",
       "0            7.9        22.0       2  \n",
       "1            6.6        28.0       2  \n",
       "2            7.4        10.0       2  \n",
       "3            NaN         NaN       8  \n",
       "4            7.8        13.0       2  \n",
       "...          ...         ...     ...  \n",
       "8354         8.0       569.0       8  \n",
       "8355         NaN         NaN       8  \n",
       "8356         NaN         NaN       8  \n",
       "8357         NaN         NaN       8  \n",
       "8358         NaN         NaN       8  \n",
       "\n",
       "[8359 rows x 8 columns]"
      ]
     },
     "execution_count": 11,
     "metadata": {},
     "output_type": "execute_result"
    }
   ],
   "source": [
    "X"
   ]
  },
  {
   "cell_type": "code",
   "execution_count": 12,
   "metadata": {},
   "outputs": [],
   "source": [
    "# RMSLE を RMSEとしいて解く\n",
    "y = np.log1p(y)  # 1 を足してlog を適用"
   ]
  },
  {
   "cell_type": "markdown",
   "metadata": {},
   "source": [
    "# Create features"
   ]
  },
  {
   "cell_type": "markdown",
   "metadata": {},
   "source": [
    "カテゴリカル特徴量をobject型にする"
   ]
  },
  {
   "cell_type": "code",
   "execution_count": 17,
   "metadata": {},
   "outputs": [
    {
     "name": "stdout",
     "output_type": "stream",
     "text": [
      "<class 'pandas.core.frame.DataFrame'>\n",
      "RangeIndex: 8359 entries, 0 to 8358\n",
      "Data columns (total 8 columns):\n",
      " #   Column           Non-Null Count  Dtype  \n",
      "---  ------           --------------  -----  \n",
      " 0   Platform         8359 non-null   int64  \n",
      " 1   Year_of_Release  8275 non-null   float64\n",
      " 2   Genre            8359 non-null   int64  \n",
      " 3   Critic_Score     3976 non-null   float64\n",
      " 4   Critic_Count     3976 non-null   float64\n",
      " 5   User_Score       3699 non-null   float64\n",
      " 6   User_Count       3699 non-null   float64\n",
      " 7   Rating           8359 non-null   int64  \n",
      "dtypes: float64(5), int64(3)\n",
      "memory usage: 522.6 KB\n"
     ]
    }
   ],
   "source": [
    "X.info()"
   ]
  },
  {
   "cell_type": "code",
   "execution_count": 26,
   "metadata": {},
   "outputs": [
    {
     "name": "stdout",
     "output_type": "stream",
     "text": [
      "Platform\n",
      "Genre\n",
      "Rating\n"
     ]
    }
   ],
   "source": [
    "for col in X.columns:\n",
    "    if X[col].dtype == int:\n",
    "        print(col)\n",
    "        X[col] = X[col].astype('object')\n",
    "        \n",
    "    if X_te[col].dtype == int:\n",
    "        print(col)\n",
    "        X_te[col] = X_te[col].astype('object')"
   ]
  },
  {
   "cell_type": "code",
   "execution_count": 24,
   "metadata": {},
   "outputs": [
    {
     "name": "stdout",
     "output_type": "stream",
     "text": [
      "<class 'pandas.core.frame.DataFrame'>\n",
      "RangeIndex: 8359 entries, 0 to 8358\n",
      "Data columns (total 8 columns):\n",
      " #   Column           Non-Null Count  Dtype  \n",
      "---  ------           --------------  -----  \n",
      " 0   Platform         8359 non-null   object \n",
      " 1   Year_of_Release  8275 non-null   float64\n",
      " 2   Genre            8359 non-null   object \n",
      " 3   Critic_Score     3976 non-null   float64\n",
      " 4   Critic_Count     3976 non-null   float64\n",
      " 5   User_Score       3699 non-null   float64\n",
      " 6   User_Count       3699 non-null   float64\n",
      " 7   Rating           8359 non-null   object \n",
      "dtypes: float64(5), object(3)\n",
      "memory usage: 522.6+ KB\n"
     ]
    }
   ],
   "source": [
    "X.info()"
   ]
  },
  {
   "cell_type": "code",
   "execution_count": 27,
   "metadata": {},
   "outputs": [
    {
     "name": "stdout",
     "output_type": "stream",
     "text": [
      "<class 'pandas.core.frame.DataFrame'>\n",
      "RangeIndex: 8360 entries, 0 to 8359\n",
      "Data columns (total 8 columns):\n",
      " #   Column           Non-Null Count  Dtype  \n",
      "---  ------           --------------  -----  \n",
      " 0   Platform         8360 non-null   object \n",
      " 1   Year_of_Release  8175 non-null   float64\n",
      " 2   Genre            8360 non-null   object \n",
      " 3   Critic_Score     4161 non-null   float64\n",
      " 4   Critic_Count     4161 non-null   float64\n",
      " 5   User_Score       3891 non-null   float64\n",
      " 6   User_Count       3891 non-null   float64\n",
      " 7   Rating           8360 non-null   object \n",
      "dtypes: float64(5), object(3)\n",
      "memory usage: 522.6+ KB\n"
     ]
    }
   ],
   "source": [
    "X_te.info()"
   ]
  },
  {
   "cell_type": "markdown",
   "metadata": {},
   "source": [
    "# Save features"
   ]
  },
  {
   "cell_type": "code",
   "execution_count": 28,
   "metadata": {},
   "outputs": [
    {
     "data": {
      "text/plain": [
       "'../data/output_nb/nb018/train_feature_basic01.csv'"
      ]
     },
     "execution_count": 28,
     "metadata": {},
     "output_type": "execute_result"
    }
   ],
   "source": [
    "path = f'{SAVE_DIR}train_feature_basic01.csv'\n",
    "X.to_csv(path, index=False, encoding='utf-8')\n",
    "path"
   ]
  },
  {
   "cell_type": "code",
   "execution_count": 29,
   "metadata": {},
   "outputs": [
    {
     "data": {
      "text/plain": [
       "'../data/output_nb/nb018/test_feature_basic01.csv'"
      ]
     },
     "execution_count": 29,
     "metadata": {},
     "output_type": "execute_result"
    }
   ],
   "source": [
    "path = f'{SAVE_DIR}test_feature_basic01.csv'\n",
    "X_te.to_csv(path, index=False, encoding='utf-8')\n",
    "path"
   ]
  },
  {
   "cell_type": "raw",
   "metadata": {},
   "source": [
    "\n",
    "\n",
    "\n",
    "\n",
    "\n",
    "\n",
    "\n",
    "\n",
    "\n",
    "\n",
    "\n",
    "\n",
    "\n",
    "\n",
    "\n",
    "\n",
    "\n",
    "\n",
    "\n",
    "\n",
    "\n",
    "\n",
    "\n",
    "\n",
    "\n",
    "\n",
    "\n",
    "\n",
    "\n",
    "\n",
    "\n",
    "\n",
    "\n",
    "\n",
    "\n",
    "\n",
    "\n",
    "\n"
   ]
  }
 ],
 "metadata": {
  "kernelspec": {
   "display_name": "Python 3",
   "language": "python",
   "name": "python3"
  },
  "language_info": {
   "codemirror_mode": {
    "name": "ipython",
    "version": 3
   },
   "file_extension": ".py",
   "mimetype": "text/x-python",
   "name": "python",
   "nbconvert_exporter": "python",
   "pygments_lexer": "ipython3",
   "version": "3.6.10"
  }
 },
 "nbformat": 4,
 "nbformat_minor": 4
}
