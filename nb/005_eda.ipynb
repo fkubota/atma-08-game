{
 "cells": [
  {
   "cell_type": "markdown",
   "metadata": {},
   "source": [
    "# Overview\n",
    "- string特徴量を見てみる"
   ]
  },
  {
   "cell_type": "markdown",
   "metadata": {},
   "source": [
    "# Const"
   ]
  },
  {
   "cell_type": "code",
   "execution_count": 1,
   "metadata": {},
   "outputs": [],
   "source": [
    "NB = '005'\n",
    "PATH_TRAIN = './../data/official/train.csv'\n",
    "PATH_TEST = './../data/official/test.csv'\n",
    "PATH_SAMPLE_SUBMITTION = './../data/official/atmaCup8_sample-submission.csv'\n",
    "SAVE_DIR = f'../data/output_nb/nb{NB}/'\n",
    "\n",
    "feat_train_only = ['JP_Sales', 'Global_Sales', 'NA_Sales', 'Other_Sales', 'EU_Sales']\n",
    "feat_common = ['Name', 'Platform', 'Year_of_Release', 'Genre', 'Publisher',\n",
    "           'Critic_Score', 'Critic_Count', 'User_Score', 'User_Count', 'Developer',\n",
    "           'Rating']"
   ]
  },
  {
   "cell_type": "markdown",
   "metadata": {},
   "source": [
    "# Import everything I need :)"
   ]
  },
  {
   "cell_type": "code",
   "execution_count": 12,
   "metadata": {},
   "outputs": [],
   "source": [
    "import os\n",
    "import numpy as np\n",
    "import pandas as pd\n",
    "import matplotlib.pyplot as plt\n",
    "import pandas_profiling as pdp\n",
    "from lightgbm import LGBMRegressor \n",
    "from sklearn.metrics import mean_squared_log_error\n",
    "from sklearn.model_selection import train_test_split\n",
    "import warnings\n",
    "warnings.filterwarnings('ignore')"
   ]
  },
  {
   "cell_type": "markdown",
   "metadata": {},
   "source": [
    "# My function"
   ]
  },
  {
   "cell_type": "code",
   "execution_count": 13,
   "metadata": {},
   "outputs": [],
   "source": [
    "def metric(y_true, y_pred):\n",
    "    return mean_squared_log_error(y_true, y_pred) ** .5"
   ]
  },
  {
   "cell_type": "markdown",
   "metadata": {},
   "source": [
    "# Preparation"
   ]
  },
  {
   "cell_type": "markdown",
   "metadata": {},
   "source": [
    "set"
   ]
  },
  {
   "cell_type": "code",
   "execution_count": 14,
   "metadata": {},
   "outputs": [],
   "source": [
    "if not os.path.exists(SAVE_DIR):\n",
    "    os.makedirs(SAVE_DIR)"
   ]
  },
  {
   "cell_type": "markdown",
   "metadata": {},
   "source": [
    "<br>\n",
    "\n",
    "load dataset"
   ]
  },
  {
   "cell_type": "code",
   "execution_count": 15,
   "metadata": {},
   "outputs": [],
   "source": [
    "train = pd.read_csv(PATH_TRAIN)\n",
    "test = pd.read_csv(PATH_TEST)\n",
    "ss = pd.read_csv(PATH_SAMPLE_SUBMITTION)"
   ]
  },
  {
   "cell_type": "markdown",
   "metadata": {},
   "source": [
    "# EDA"
   ]
  },
  {
   "cell_type": "code",
   "execution_count": 16,
   "metadata": {},
   "outputs": [
    {
     "name": "stdout",
     "output_type": "stream",
     "text": [
      "<class 'pandas.core.frame.DataFrame'>\n",
      "RangeIndex: 8360 entries, 0 to 8359\n",
      "Data columns (total 11 columns):\n",
      " #   Column           Non-Null Count  Dtype  \n",
      "---  ------           --------------  -----  \n",
      " 0   Name             8358 non-null   object \n",
      " 1   Platform         8360 non-null   object \n",
      " 2   Year_of_Release  8175 non-null   float64\n",
      " 3   Genre            8358 non-null   object \n",
      " 4   Publisher        8306 non-null   object \n",
      " 5   Critic_Score     4161 non-null   float64\n",
      " 6   Critic_Count     4161 non-null   float64\n",
      " 7   User_Score       5184 non-null   object \n",
      " 8   User_Count       3891 non-null   float64\n",
      " 9   Developer        5226 non-null   object \n",
      " 10  Rating           5152 non-null   object \n",
      "dtypes: float64(4), object(7)\n",
      "memory usage: 718.6+ KB\n"
     ]
    }
   ],
   "source": [
    "test.info()"
   ]
  },
  {
   "cell_type": "code",
   "execution_count": 31,
   "metadata": {},
   "outputs": [],
   "source": [
    "feat_string = ['Name', 'Platform', 'Genre', 'Publisher', 'Developer', 'Rating']"
   ]
  },
  {
   "cell_type": "code",
   "execution_count": 32,
   "metadata": {},
   "outputs": [],
   "source": [
    "test_str = test[feat_string]"
   ]
  },
  {
   "cell_type": "markdown",
   "metadata": {},
   "source": [
    "<br>\n",
    "\n",
    "uniqueな個数は？"
   ]
  },
  {
   "cell_type": "code",
   "execution_count": 33,
   "metadata": {},
   "outputs": [
    {
     "name": "stdout",
     "output_type": "stream",
     "text": [
      "Name: 5542\n",
      "Platform: 28\n",
      "Genre: 12\n",
      "Publisher: 286\n",
      "Developer: 1038\n",
      "Rating: 6\n"
     ]
    }
   ],
   "source": [
    "for col in test_str.columns:\n",
    "    print(f'{col}: {test_str[col].nunique()}')"
   ]
  },
  {
   "cell_type": "markdown",
   "metadata": {},
   "source": [
    "<br>\n",
    "\n",
    "value_counts"
   ]
  },
  {
   "cell_type": "code",
   "execution_count": 34,
   "metadata": {},
   "outputs": [
    {
     "name": "stdout",
     "output_type": "stream",
     "text": [
      "=== Name ===\n",
      "Need for Speed: Most Wanted    12\n",
      "Madden NFL 07                   9\n",
      "FIFA 14                         9\n",
      "Angry Birds Star Wars           8\n",
      "FIFA Soccer 13                  8\n",
      "Name: Name, dtype: int64\n",
      "\n",
      "=== Platform ===\n",
      "PS2    1057\n",
      "DS     1046\n",
      "PS3     688\n",
      "PS      685\n",
      "Wii     675\n",
      "Name: Platform, dtype: int64\n",
      "\n",
      "=== Genre ===\n",
      "Action     1627\n",
      "Sports     1469\n",
      "Misc        845\n",
      "Shooter     739\n",
      "Racing      724\n",
      "Name: Genre, dtype: int64\n",
      "\n",
      "=== Publisher ===\n",
      "Electronic Arts                 1356\n",
      "Activision                       985\n",
      "Namco Bandai Games               939\n",
      "Ubisoft                          933\n",
      "Konami Digital Entertainment     834\n",
      "Name: Publisher, dtype: int64\n",
      "\n",
      "=== Developer ===\n",
      "Ubisoft       203\n",
      "EA Sports     172\n",
      "EA Canada     167\n",
      "Konami        160\n",
      "EA Tiburon    108\n",
      "Name: Developer, dtype: int64\n",
      "\n",
      "=== Rating ===\n",
      "E       2111\n",
      "T       1557\n",
      "M        791\n",
      "E10+     689\n",
      "K-A        2\n",
      "Name: Rating, dtype: int64\n",
      "\n"
     ]
    }
   ],
   "source": [
    "for col in test_str.columns:\n",
    "    print(f'=== {col} ===')\n",
    "    print(f'{test_str[col].value_counts()[:5]}\\n')"
   ]
  },
  {
   "cell_type": "raw",
   "metadata": {},
   "source": [
    "\n",
    "\n",
    "\n",
    "\n",
    "\n",
    "\n",
    "\n",
    "\n",
    "\n",
    "\n",
    "\n",
    "\n",
    "\n",
    "\n",
    "\n",
    "\n",
    "\n",
    "\n",
    "\n",
    "\n",
    "\n",
    "\n",
    "\n",
    "\n",
    "\n",
    "\n",
    "\n",
    "\n"
   ]
  }
 ],
 "metadata": {
  "kernelspec": {
   "display_name": "Python 3",
   "language": "python",
   "name": "python3"
  },
  "language_info": {
   "codemirror_mode": {
    "name": "ipython",
    "version": 3
   },
   "file_extension": ".py",
   "mimetype": "text/x-python",
   "name": "python",
   "nbconvert_exporter": "python",
   "pygments_lexer": "ipython3",
   "version": "3.6.10"
  }
 },
 "nbformat": 4,
 "nbformat_minor": 4
}
