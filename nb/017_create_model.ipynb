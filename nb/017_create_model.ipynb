{
 "cells": [
  {
   "cell_type": "markdown",
   "metadata": {},
   "source": [
    "# Overview\n",
    "- nb015の改良\n",
    "- nb016で作成した name_has特徴量を使用する"
   ]
  },
  {
   "cell_type": "markdown",
   "metadata": {},
   "source": [
    "# Const"
   ]
  },
  {
   "cell_type": "code",
   "execution_count": 1,
   "metadata": {},
   "outputs": [],
   "source": [
    "NB = '017'\n",
    "ADD_FEATS = ['feature_name_has']\n",
    "\n",
    "PATH_TRAIN = './../data/official/train.csv'\n",
    "PATH_TEST = './../data/official/test.csv'\n",
    "PATH_SAMPLE_SUBMITTION = './../data/official/atmaCup8_sample-submission.csv'\n",
    "SAVE_DIR = f'../data/output_nb/nb{NB}/'\n",
    "\n",
    "feat_train_only = ['JP_Sales', 'Global_Sales', 'NA_Sales', 'Other_Sales', 'EU_Sales']\n",
    "feat_common = ['Name', 'Platform', 'Year_of_Release', 'Genre', 'Publisher',\n",
    "           'Critic_Score', 'Critic_Count', 'User_Score', 'User_Count', 'Developer',\n",
    "           'Rating']\n",
    "feat_string = ['Platform', 'Genre', 'Publisher', 'Developer', 'Rating']\n",
    "feat_cat = ['Platform', 'Genre', 'Rating']\n",
    "feat_num = ['Year_of_Release', 'Critic_Score', 'Critic_Count', 'User_Score', 'User_Count']\n",
    "use_col = [\n",
    "    'Platform',\n",
    "    'Year_of_Release',\n",
    "    'Genre',\n",
    "    'Critic_Score',\n",
    "    'Critic_Count',\n",
    "    'User_Score',\n",
    "    'User_Count',\n",
    "    'Rating'\n",
    "    ]"
   ]
  },
  {
   "cell_type": "code",
   "execution_count": 2,
   "metadata": {},
   "outputs": [],
   "source": [
    "config_str = \"\"\"\n",
    "globals:\n",
    "  seed: 2020\n",
    "  show_log: True\n",
    "\n",
    "feature:\n",
    "    use_col: [\n",
    "        'Platform',\n",
    "        'Year_of_Release',\n",
    "        'Genre',\n",
    "        'Critic_Score',\n",
    "        'Critic_Count',\n",
    "        'User_Score',\n",
    "        'User_Count',\n",
    "        'Rating'\n",
    "        ]\n",
    "\n",
    "split:\n",
    "  name: KFold\n",
    "  params:\n",
    "    n_splits: 5\n",
    "    random_state: 2020\n",
    "    shuffle: True\n",
    "\n",
    "model:\n",
    "    model_params:\n",
    "        objective: 'regression'\n",
    "        metric: 'rmse'\n",
    "        n_estimators: 800\n",
    "        max_depth: 131\n",
    "        subsample: 0.6\n",
    "        colsample_bytree: 0.9\n",
    "        learning_rate: 0.022862256818781214\n",
    "        reg_alpha: 1.0\n",
    "        reg_lambda: 6.0\n",
    "        min_child_samples: 10\n",
    "    \n",
    "    train_params:\n",
    "        categorical_feature: ['Platform', 'Genre', 'Rating']\n",
    "        verbose: 30\n",
    "        early_stopping_rounds: 100\n",
    "\"\"\"\n",
    "\n"
   ]
  },
  {
   "cell_type": "markdown",
   "metadata": {},
   "source": [
    "# Import everything I need :)"
   ]
  },
  {
   "cell_type": "code",
   "execution_count": 3,
   "metadata": {},
   "outputs": [
    {
     "name": "stderr",
     "output_type": "stream",
     "text": [
      "/usr/local/lib/python3.6/dist-packages/matplotlib/__init__.py:886: MatplotlibDeprecationWarning: \n",
      "examples.directory is deprecated; in the future, examples will be found relative to the 'datapath' directory.\n",
      "  \"found relative to the 'datapath' directory.\".format(key))\n"
     ]
    }
   ],
   "source": [
    "import os\n",
    "import time\n",
    "import yaml\n",
    "import types\n",
    "import builtins\n",
    "import numpy as np\n",
    "import pandas as pd\n",
    "from glob import glob\n",
    "import seaborn as sns\n",
    "import matplotlib.pyplot as plt\n",
    "\n",
    "from lightgbm import LGBMRegressor \n",
    "\n",
    "from sklearn.preprocessing import LabelEncoder\n",
    "from sklearn.metrics import mean_squared_log_error\n",
    "from sklearn.model_selection import train_test_split, KFold\n",
    "\n",
    "import warnings\n",
    "warnings.filterwarnings('ignore')"
   ]
  },
  {
   "cell_type": "markdown",
   "metadata": {},
   "source": [
    "# My function"
   ]
  },
  {
   "cell_type": "code",
   "execution_count": 4,
   "metadata": {},
   "outputs": [],
   "source": [
    "# noglobal\n",
    "\n",
    "def imports():\n",
    "    for name, val in globals().items():\n",
    "        # module imports\n",
    "        if isinstance(val, types.ModuleType):\n",
    "            yield name, val\n",
    "\n",
    "            # functions / callables\n",
    "        if hasattr(val, '__call__'):\n",
    "            yield name, val\n",
    "\n",
    "\n",
    "def noglobal(f):\n",
    "    '''\n",
    "    ref: https://gist.github.com/raven38/4e4c3c7a179283c441f575d6e375510c\n",
    "    '''\n",
    "    return types.FunctionType(f.__code__,\n",
    "                              dict(imports()),\n",
    "                              f.__name__,\n",
    "                              f.__defaults__,\n",
    "                              f.__closure__\n",
    "                              )"
   ]
  },
  {
   "cell_type": "code",
   "execution_count": 5,
   "metadata": {},
   "outputs": [],
   "source": [
    "@noglobal\n",
    "def metric(y_true, y_pred):\n",
    "    return mean_squared_log_error(y_true, y_pred) ** .5\n",
    "\n",
    "@noglobal\n",
    "def preprocess_User_Score(df):\n",
    "    '''\n",
    "    - tbdをnanにする\n",
    "    - stringをfloatにする\n",
    "    '''\n",
    "    mask = df.User_Score.values == 'tbd'\n",
    "    df.User_Score[mask] = np.nan\n",
    "    df.User_Score = df.User_Score.values.astype(float)\n",
    "    return df\n",
    "\n",
    "@noglobal\n",
    "def string_encode(df_trn, df_te, cols):\n",
    "    '''\n",
    "    - np.nanがあれば、'nan'に置き換える\n",
    "    - label encodingする\n",
    "    '''\n",
    "    df = pd.concat([df_trn, df_te], axis=0).copy()\n",
    "    df[cols] = df[cols].replace(np.nan, 'nan')\n",
    "    df_trn[cols] = df_trn[cols].replace(np.nan, 'nan')\n",
    "    df_te[cols] = df_te[cols].replace(np.nan, 'nan')\n",
    "    for col in cols:\n",
    "        le = LabelEncoder()\n",
    "        le.fit(df[col])\n",
    "        df_trn[col] = le.transform(df_trn[col])\n",
    "        df_te[col] = le.transform(df_te[col])\n",
    "    return df_trn, df_te\n",
    "\n",
    "@noglobal\n",
    "def df_preprocessing(df_trn, df_te, string_cols):\n",
    "    df_trn = preprocess_User_Score(df_trn)\n",
    "    df_te = preprocess_User_Score(df_te)\n",
    "    df_trn, df_te = string_encode(df_trn, df_te, string_cols)\n",
    "    return df_trn, df_te"
   ]
  },
  {
   "cell_type": "code",
   "execution_count": 6,
   "metadata": {},
   "outputs": [],
   "source": [
    "@noglobal\n",
    "def run_fold_lgbm(_X_trn, _y_trn, _X_val, _y_val, _X_te, model_config, show_log=True):\n",
    "    model_params = model_config['model_params']\n",
    "    train_params = model_config['train_params']\n",
    "    \n",
    "    # train\n",
    "    model = LGBMRegressor(**model_params)\n",
    "    model.fit(_X_trn, _y_trn.values[:, 0],\n",
    "              eval_set=[(_X_trn, _y_trn), (_X_val, _y_val)],\n",
    "              **train_params\n",
    "             )\n",
    "    \n",
    "    # predict\n",
    "    y_trn_pred = model.predict(_X_trn)\n",
    "    y_val_pred = model.predict(_X_val)\n",
    "    _y_test_pred = model.predict(_X_te)\n",
    "    \n",
    "    # postprocessiing\n",
    "    y_trn_pred[y_trn_pred <= 1] = 1\n",
    "    y_val_pred[y_val_pred <= 1] = 1\n",
    "    y_trn_pred = np.expm1(y_trn_pred)  # exp を適用して 1 を引く\n",
    "    y_val_pred = np.expm1(y_val_pred)  # exp を適用して 1 を引く\n",
    "    _y_test_pred = np.expm1(_y_test_pred)  # exp を適用して 1 を引く\n",
    "    \n",
    "    if show_log:\n",
    "        print(show_log)\n",
    "        print(f'score train: {metric(np.expm1(_y_trn), y_trn_pred):.5f}')\n",
    "        print(f'score valid: {metric(np.expm1(_y_val), y_val_pred):.5f}')\n",
    "        print('')\n",
    "    \n",
    "    return y_trn_pred, y_val_pred, _y_test_pred\n",
    "\n",
    "@noglobal\n",
    "def run_lgbm(X, y, X_te, splitter, config):\n",
    "    show_log = config['globals']['show_log']\n",
    "    model_config = config['model']\n",
    "\n",
    "    oof = np.zeros(len(X))\n",
    "    y_test_pred = np.zeros(len(X_te))\n",
    "    for fold_i, (idx_trn, idx_val) in enumerate(splitter.split(X)):\n",
    "        if show_log:\n",
    "            print(f'::Fold {fold_i+1}/{splitter.n_splits} start at {time.ctime()}::')\n",
    "        X_trn, X_val = X.iloc[idx_trn, :], X.iloc[idx_val, :]\n",
    "        y_trn, y_val = y.iloc[idx_trn], y.iloc[idx_val]\n",
    "        X_trn = pd.DataFrame(X_trn, columns=X.columns)\n",
    "        X_val = pd.DataFrame(X_val, columns=X.columns)\n",
    "\n",
    "        # train\n",
    "        y_trn_pred, y_val_pred, _y_test_pred = run_fold_lgbm(X_trn, y_trn, X_val, y_val, \n",
    "                                                             X_te, model_config, \n",
    "                                                             show_log=show_log)\n",
    "\n",
    "        # result\n",
    "        oof[idx_val] = y_val_pred\n",
    "        y_test_pred += _y_test_pred / splitter.n_splits\n",
    "\n",
    "\n",
    "    y_test_pred[y_test_pred <= 1] = 1\n",
    "    return oof, y_test_pred"
   ]
  },
  {
   "cell_type": "markdown",
   "metadata": {},
   "source": [
    "# Preparation"
   ]
  },
  {
   "cell_type": "markdown",
   "metadata": {},
   "source": [
    "set"
   ]
  },
  {
   "cell_type": "code",
   "execution_count": 7,
   "metadata": {},
   "outputs": [],
   "source": [
    "if not os.path.exists(SAVE_DIR):\n",
    "    os.makedirs(SAVE_DIR)\n",
    "\n",
    "config = yaml.safe_load(config_str)"
   ]
  },
  {
   "cell_type": "markdown",
   "metadata": {},
   "source": [
    "<br>\n",
    "\n",
    "load dataset"
   ]
  },
  {
   "cell_type": "code",
   "execution_count": 8,
   "metadata": {},
   "outputs": [],
   "source": [
    "train = pd.read_csv(PATH_TRAIN)\n",
    "test = pd.read_csv(PATH_TEST)\n",
    "ss = pd.read_csv(PATH_SAMPLE_SUBMITTION)"
   ]
  },
  {
   "cell_type": "code",
   "execution_count": 9,
   "metadata": {},
   "outputs": [],
   "source": [
    "path_list = sorted(glob(f'../data/output_nb/*/*'))"
   ]
  },
  {
   "cell_type": "markdown",
   "metadata": {},
   "source": [
    "<br>\n",
    "\n",
    "preprocess"
   ]
  },
  {
   "cell_type": "code",
   "execution_count": 10,
   "metadata": {},
   "outputs": [],
   "source": [
    "train, test = df_preprocessing(train, test, feat_string)"
   ]
  },
  {
   "cell_type": "code",
   "execution_count": 11,
   "metadata": {},
   "outputs": [],
   "source": [
    "X = train[use_col].copy()\n",
    "y = train[['Global_Sales']].copy()\n",
    "X_te = test[use_col].copy()"
   ]
  },
  {
   "cell_type": "code",
   "execution_count": 12,
   "metadata": {},
   "outputs": [],
   "source": [
    "for feat_name in ADD_FEATS:\n",
    "    for path in path_list:\n",
    "        if f'train_{feat_name}.csv' in path:\n",
    "            feat = pd.read_csv(path)\n",
    "            X = pd.concat([X, feat], axis=1)\n",
    "        if f'test_{feat_name}.csv' in path:\n",
    "            feat = pd.read_csv(path)\n",
    "            X_te = pd.concat([X_te, feat], axis=1)"
   ]
  },
  {
   "cell_type": "code",
   "execution_count": 13,
   "metadata": {},
   "outputs": [
    {
     "data": {
      "text/html": [
       "<div>\n",
       "<style scoped>\n",
       "    .dataframe tbody tr th:only-of-type {\n",
       "        vertical-align: middle;\n",
       "    }\n",
       "\n",
       "    .dataframe tbody tr th {\n",
       "        vertical-align: top;\n",
       "    }\n",
       "\n",
       "    .dataframe thead th {\n",
       "        text-align: right;\n",
       "    }\n",
       "</style>\n",
       "<table border=\"1\" class=\"dataframe\">\n",
       "  <thead>\n",
       "    <tr style=\"text-align: right;\">\n",
       "      <th></th>\n",
       "      <th>Platform</th>\n",
       "      <th>Year_of_Release</th>\n",
       "      <th>Genre</th>\n",
       "      <th>Critic_Score</th>\n",
       "      <th>Critic_Count</th>\n",
       "      <th>User_Score</th>\n",
       "      <th>User_Count</th>\n",
       "      <th>Rating</th>\n",
       "      <th>Name_has_super</th>\n",
       "      <th>Name_has_world</th>\n",
       "      <th>...</th>\n",
       "      <th>Name_has_collection</th>\n",
       "      <th>Name_has_man</th>\n",
       "      <th>Name_has_sonic</th>\n",
       "      <th>Name_has_battle</th>\n",
       "      <th>Name_has_quest</th>\n",
       "      <th>Name_has_portable</th>\n",
       "      <th>Name_has_shin</th>\n",
       "      <th>Name_has_disney</th>\n",
       "      <th>Name_has_baseball</th>\n",
       "      <th>Name_has_soccer</th>\n",
       "    </tr>\n",
       "  </thead>\n",
       "  <tbody>\n",
       "    <tr>\n",
       "      <th>0</th>\n",
       "      <td>26</td>\n",
       "      <td>NaN</td>\n",
       "      <td>0</td>\n",
       "      <td>74.0</td>\n",
       "      <td>17.0</td>\n",
       "      <td>7.9</td>\n",
       "      <td>22.0</td>\n",
       "      <td>2</td>\n",
       "      <td>False</td>\n",
       "      <td>False</td>\n",
       "      <td>...</td>\n",
       "      <td>False</td>\n",
       "      <td>False</td>\n",
       "      <td>False</td>\n",
       "      <td>False</td>\n",
       "      <td>False</td>\n",
       "      <td>False</td>\n",
       "      <td>False</td>\n",
       "      <td>False</td>\n",
       "      <td>False</td>\n",
       "      <td>False</td>\n",
       "    </tr>\n",
       "    <tr>\n",
       "      <th>1</th>\n",
       "      <td>26</td>\n",
       "      <td>NaN</td>\n",
       "      <td>0</td>\n",
       "      <td>78.0</td>\n",
       "      <td>22.0</td>\n",
       "      <td>6.6</td>\n",
       "      <td>28.0</td>\n",
       "      <td>2</td>\n",
       "      <td>False</td>\n",
       "      <td>False</td>\n",
       "      <td>...</td>\n",
       "      <td>False</td>\n",
       "      <td>False</td>\n",
       "      <td>False</td>\n",
       "      <td>False</td>\n",
       "      <td>False</td>\n",
       "      <td>False</td>\n",
       "      <td>False</td>\n",
       "      <td>False</td>\n",
       "      <td>False</td>\n",
       "      <td>False</td>\n",
       "    </tr>\n",
       "    <tr>\n",
       "      <th>2</th>\n",
       "      <td>19</td>\n",
       "      <td>NaN</td>\n",
       "      <td>0</td>\n",
       "      <td>73.0</td>\n",
       "      <td>5.0</td>\n",
       "      <td>7.4</td>\n",
       "      <td>10.0</td>\n",
       "      <td>2</td>\n",
       "      <td>False</td>\n",
       "      <td>False</td>\n",
       "      <td>...</td>\n",
       "      <td>False</td>\n",
       "      <td>False</td>\n",
       "      <td>False</td>\n",
       "      <td>False</td>\n",
       "      <td>False</td>\n",
       "      <td>False</td>\n",
       "      <td>False</td>\n",
       "      <td>False</td>\n",
       "      <td>False</td>\n",
       "      <td>False</td>\n",
       "    </tr>\n",
       "    <tr>\n",
       "      <th>3</th>\n",
       "      <td>0</td>\n",
       "      <td>NaN</td>\n",
       "      <td>0</td>\n",
       "      <td>NaN</td>\n",
       "      <td>NaN</td>\n",
       "      <td>NaN</td>\n",
       "      <td>NaN</td>\n",
       "      <td>8</td>\n",
       "      <td>False</td>\n",
       "      <td>False</td>\n",
       "      <td>...</td>\n",
       "      <td>False</td>\n",
       "      <td>False</td>\n",
       "      <td>False</td>\n",
       "      <td>False</td>\n",
       "      <td>False</td>\n",
       "      <td>False</td>\n",
       "      <td>False</td>\n",
       "      <td>False</td>\n",
       "      <td>False</td>\n",
       "      <td>False</td>\n",
       "    </tr>\n",
       "    <tr>\n",
       "      <th>4</th>\n",
       "      <td>26</td>\n",
       "      <td>NaN</td>\n",
       "      <td>0</td>\n",
       "      <td>76.0</td>\n",
       "      <td>8.0</td>\n",
       "      <td>7.8</td>\n",
       "      <td>13.0</td>\n",
       "      <td>2</td>\n",
       "      <td>False</td>\n",
       "      <td>False</td>\n",
       "      <td>...</td>\n",
       "      <td>False</td>\n",
       "      <td>False</td>\n",
       "      <td>False</td>\n",
       "      <td>False</td>\n",
       "      <td>False</td>\n",
       "      <td>False</td>\n",
       "      <td>False</td>\n",
       "      <td>False</td>\n",
       "      <td>False</td>\n",
       "      <td>False</td>\n",
       "    </tr>\n",
       "  </tbody>\n",
       "</table>\n",
       "<p>5 rows × 29 columns</p>\n",
       "</div>"
      ],
      "text/plain": [
       "   Platform  Year_of_Release  Genre  Critic_Score  Critic_Count  User_Score  \\\n",
       "0        26              NaN      0          74.0          17.0         7.9   \n",
       "1        26              NaN      0          78.0          22.0         6.6   \n",
       "2        19              NaN      0          73.0           5.0         7.4   \n",
       "3         0              NaN      0           NaN           NaN         NaN   \n",
       "4        26              NaN      0          76.0           8.0         7.8   \n",
       "\n",
       "   User_Count  Rating  Name_has_super  Name_has_world  ...  \\\n",
       "0        22.0       2           False           False  ...   \n",
       "1        28.0       2           False           False  ...   \n",
       "2        10.0       2           False           False  ...   \n",
       "3         NaN       8           False           False  ...   \n",
       "4        13.0       2           False           False  ...   \n",
       "\n",
       "   Name_has_collection  Name_has_man  Name_has_sonic  Name_has_battle  \\\n",
       "0                False         False           False            False   \n",
       "1                False         False           False            False   \n",
       "2                False         False           False            False   \n",
       "3                False         False           False            False   \n",
       "4                False         False           False            False   \n",
       "\n",
       "   Name_has_quest  Name_has_portable  Name_has_shin  Name_has_disney  \\\n",
       "0           False              False          False            False   \n",
       "1           False              False          False            False   \n",
       "2           False              False          False            False   \n",
       "3           False              False          False            False   \n",
       "4           False              False          False            False   \n",
       "\n",
       "   Name_has_baseball  Name_has_soccer  \n",
       "0              False            False  \n",
       "1              False            False  \n",
       "2              False            False  \n",
       "3              False            False  \n",
       "4              False            False  \n",
       "\n",
       "[5 rows x 29 columns]"
      ]
     },
     "execution_count": 13,
     "metadata": {},
     "output_type": "execute_result"
    }
   ],
   "source": [
    "X.head()"
   ]
  },
  {
   "cell_type": "code",
   "execution_count": 14,
   "metadata": {},
   "outputs": [],
   "source": [
    "# RMSLE を RMSEとしいて解く\n",
    "y = np.log1p(y)  # 1 を足してlog を適用"
   ]
  },
  {
   "cell_type": "markdown",
   "metadata": {},
   "source": [
    "# Create Model"
   ]
  },
  {
   "cell_type": "code",
   "execution_count": 15,
   "metadata": {},
   "outputs": [],
   "source": [
    "splitter = KFold(**config['split']['params'])"
   ]
  },
  {
   "cell_type": "code",
   "execution_count": 16,
   "metadata": {},
   "outputs": [
    {
     "name": "stdout",
     "output_type": "stream",
     "text": [
      "use_col: Index(['Platform', 'Year_of_Release', 'Genre', 'Critic_Score', 'Critic_Count',\n",
      "       'User_Score', 'User_Count', 'Rating', 'Name_has_super',\n",
      "       'Name_has_world', 'Name_has_star', 'Name_has_lego', 'Name_has_game',\n",
      "       'Name_has_dragon', 'Name_has_ds', 'Name_has_mario', 'Name_has_final',\n",
      "       'Name_has_fantasy', 'Name_has_vs.', 'Name_has_collection',\n",
      "       'Name_has_man', 'Name_has_sonic', 'Name_has_battle', 'Name_has_quest',\n",
      "       'Name_has_portable', 'Name_has_shin', 'Name_has_disney',\n",
      "       'Name_has_baseball', 'Name_has_soccer'],\n",
      "      dtype='object')\n",
      "::Fold 1/5 start at Mon Dec  7 23:47:36 2020::\n",
      "Training until validation scores don't improve for 100 rounds\n",
      "[30]\tvalid_0's rmse: 1.14791\tvalid_1's rmse: 1.14934\n",
      "[60]\tvalid_0's rmse: 1.0433\tvalid_1's rmse: 1.06193\n",
      "[90]\tvalid_0's rmse: 0.992311\tvalid_1's rmse: 1.02426\n",
      "[120]\tvalid_0's rmse: 0.961836\tvalid_1's rmse: 1.00423\n",
      "[150]\tvalid_0's rmse: 0.940321\tvalid_1's rmse: 0.991064\n",
      "[180]\tvalid_0's rmse: 0.924477\tvalid_1's rmse: 0.983057\n",
      "[210]\tvalid_0's rmse: 0.91184\tvalid_1's rmse: 0.977841\n",
      "[240]\tvalid_0's rmse: 0.902383\tvalid_1's rmse: 0.974313\n",
      "[270]\tvalid_0's rmse: 0.894122\tvalid_1's rmse: 0.971759\n",
      "[300]\tvalid_0's rmse: 0.88666\tvalid_1's rmse: 0.970198\n",
      "[330]\tvalid_0's rmse: 0.879958\tvalid_1's rmse: 0.969543\n",
      "[360]\tvalid_0's rmse: 0.874066\tvalid_1's rmse: 0.968732\n",
      "[390]\tvalid_0's rmse: 0.868173\tvalid_1's rmse: 0.967985\n",
      "[420]\tvalid_0's rmse: 0.863115\tvalid_1's rmse: 0.968342\n",
      "[450]\tvalid_0's rmse: 0.85791\tvalid_1's rmse: 0.967826\n",
      "[480]\tvalid_0's rmse: 0.853083\tvalid_1's rmse: 0.967286\n",
      "[510]\tvalid_0's rmse: 0.848287\tvalid_1's rmse: 0.966714\n",
      "[540]\tvalid_0's rmse: 0.844193\tvalid_1's rmse: 0.966386\n",
      "[570]\tvalid_0's rmse: 0.840125\tvalid_1's rmse: 0.966156\n",
      "[600]\tvalid_0's rmse: 0.836215\tvalid_1's rmse: 0.965955\n",
      "[630]\tvalid_0's rmse: 0.832024\tvalid_1's rmse: 0.965801\n",
      "[660]\tvalid_0's rmse: 0.828361\tvalid_1's rmse: 0.965618\n",
      "[690]\tvalid_0's rmse: 0.824448\tvalid_1's rmse: 0.965973\n",
      "[720]\tvalid_0's rmse: 0.820241\tvalid_1's rmse: 0.966343\n",
      "[750]\tvalid_0's rmse: 0.816678\tvalid_1's rmse: 0.96656\n",
      "Early stopping, best iteration is:\n",
      "[660]\tvalid_0's rmse: 0.828361\tvalid_1's rmse: 0.965618\n",
      "True\n",
      "score train: 0.82838\n",
      "score valid: 0.96553\n",
      "\n",
      "::Fold 2/5 start at Mon Dec  7 23:47:37 2020::\n",
      "Training until validation scores don't improve for 100 rounds\n",
      "[30]\tvalid_0's rmse: 1.1399\tvalid_1's rmse: 1.17394\n",
      "[60]\tvalid_0's rmse: 1.03605\tvalid_1's rmse: 1.08653\n",
      "[90]\tvalid_0's rmse: 0.98377\tvalid_1's rmse: 1.04602\n",
      "[120]\tvalid_0's rmse: 0.95399\tvalid_1's rmse: 1.02458\n",
      "[150]\tvalid_0's rmse: 0.933976\tvalid_1's rmse: 1.01244\n",
      "[180]\tvalid_0's rmse: 0.91809\tvalid_1's rmse: 1.0052\n",
      "[210]\tvalid_0's rmse: 0.906027\tvalid_1's rmse: 1.00141\n",
      "[240]\tvalid_0's rmse: 0.896023\tvalid_1's rmse: 0.998233\n",
      "[270]\tvalid_0's rmse: 0.887812\tvalid_1's rmse: 0.996271\n",
      "[300]\tvalid_0's rmse: 0.88045\tvalid_1's rmse: 0.994658\n",
      "[330]\tvalid_0's rmse: 0.873708\tvalid_1's rmse: 0.993077\n",
      "[360]\tvalid_0's rmse: 0.867511\tvalid_1's rmse: 0.991749\n",
      "[390]\tvalid_0's rmse: 0.862172\tvalid_1's rmse: 0.990805\n",
      "[420]\tvalid_0's rmse: 0.856868\tvalid_1's rmse: 0.989685\n",
      "[450]\tvalid_0's rmse: 0.851823\tvalid_1's rmse: 0.989257\n",
      "[480]\tvalid_0's rmse: 0.847316\tvalid_1's rmse: 0.988591\n",
      "[510]\tvalid_0's rmse: 0.842445\tvalid_1's rmse: 0.98791\n",
      "[540]\tvalid_0's rmse: 0.838192\tvalid_1's rmse: 0.987616\n",
      "[570]\tvalid_0's rmse: 0.834359\tvalid_1's rmse: 0.987032\n",
      "[600]\tvalid_0's rmse: 0.830522\tvalid_1's rmse: 0.986677\n",
      "[630]\tvalid_0's rmse: 0.826927\tvalid_1's rmse: 0.986578\n",
      "[660]\tvalid_0's rmse: 0.823517\tvalid_1's rmse: 0.986251\n",
      "[690]\tvalid_0's rmse: 0.819878\tvalid_1's rmse: 0.985592\n",
      "[720]\tvalid_0's rmse: 0.8169\tvalid_1's rmse: 0.985641\n",
      "[750]\tvalid_0's rmse: 0.813901\tvalid_1's rmse: 0.985473\n",
      "[780]\tvalid_0's rmse: 0.810555\tvalid_1's rmse: 0.985319\n",
      "Did not meet early stopping. Best iteration is:\n",
      "[800]\tvalid_0's rmse: 0.808563\tvalid_1's rmse: 0.985166\n",
      "True\n",
      "score train: 0.80858\n",
      "score valid: 0.98518\n",
      "\n",
      "::Fold 3/5 start at Mon Dec  7 23:47:38 2020::\n",
      "Training until validation scores don't improve for 100 rounds\n",
      "[30]\tvalid_0's rmse: 1.1439\tvalid_1's rmse: 1.17645\n",
      "[60]\tvalid_0's rmse: 1.03906\tvalid_1's rmse: 1.07916\n",
      "[90]\tvalid_0's rmse: 0.988371\tvalid_1's rmse: 1.03561\n",
      "[120]\tvalid_0's rmse: 0.958096\tvalid_1's rmse: 1.01336\n",
      "[150]\tvalid_0's rmse: 0.93741\tvalid_1's rmse: 1.00111\n",
      "[180]\tvalid_0's rmse: 0.921788\tvalid_1's rmse: 0.993498\n",
      "[210]\tvalid_0's rmse: 0.910285\tvalid_1's rmse: 0.988745\n",
      "[240]\tvalid_0's rmse: 0.901198\tvalid_1's rmse: 0.985344\n",
      "[270]\tvalid_0's rmse: 0.892936\tvalid_1's rmse: 0.98279\n",
      "[300]\tvalid_0's rmse: 0.885275\tvalid_1's rmse: 0.980531\n",
      "[330]\tvalid_0's rmse: 0.878759\tvalid_1's rmse: 0.979087\n",
      "[360]\tvalid_0's rmse: 0.873312\tvalid_1's rmse: 0.977702\n",
      "[390]\tvalid_0's rmse: 0.868023\tvalid_1's rmse: 0.976553\n",
      "[420]\tvalid_0's rmse: 0.862669\tvalid_1's rmse: 0.975953\n",
      "[450]\tvalid_0's rmse: 0.857609\tvalid_1's rmse: 0.975678\n",
      "[480]\tvalid_0's rmse: 0.853213\tvalid_1's rmse: 0.975556\n",
      "[510]\tvalid_0's rmse: 0.84882\tvalid_1's rmse: 0.975459\n",
      "[540]\tvalid_0's rmse: 0.844912\tvalid_1's rmse: 0.975512\n",
      "[570]\tvalid_0's rmse: 0.840886\tvalid_1's rmse: 0.975462\n",
      "[600]\tvalid_0's rmse: 0.836594\tvalid_1's rmse: 0.975626\n",
      "[630]\tvalid_0's rmse: 0.832967\tvalid_1's rmse: 0.975132\n",
      "[660]\tvalid_0's rmse: 0.828988\tvalid_1's rmse: 0.974814\n",
      "[690]\tvalid_0's rmse: 0.825015\tvalid_1's rmse: 0.974333\n",
      "[720]\tvalid_0's rmse: 0.821227\tvalid_1's rmse: 0.973949\n",
      "[750]\tvalid_0's rmse: 0.817543\tvalid_1's rmse: 0.973959\n",
      "[780]\tvalid_0's rmse: 0.814305\tvalid_1's rmse: 0.973797\n",
      "Did not meet early stopping. Best iteration is:\n",
      "[800]\tvalid_0's rmse: 0.811791\tvalid_1's rmse: 0.973774\n",
      "True\n",
      "score train: 0.81181\n",
      "score valid: 0.97377\n",
      "\n",
      "::Fold 4/5 start at Mon Dec  7 23:47:39 2020::\n",
      "Training until validation scores don't improve for 100 rounds\n",
      "[30]\tvalid_0's rmse: 1.14873\tvalid_1's rmse: 1.13074\n",
      "[60]\tvalid_0's rmse: 1.04671\tvalid_1's rmse: 1.0412\n",
      "[90]\tvalid_0's rmse: 0.995697\tvalid_1's rmse: 1.0009\n",
      "[120]\tvalid_0's rmse: 0.965271\tvalid_1's rmse: 0.979372\n",
      "[150]\tvalid_0's rmse: 0.945223\tvalid_1's rmse: 0.967353\n",
      "[180]\tvalid_0's rmse: 0.930546\tvalid_1's rmse: 0.960023\n",
      "[210]\tvalid_0's rmse: 0.918969\tvalid_1's rmse: 0.954617\n",
      "[240]\tvalid_0's rmse: 0.90926\tvalid_1's rmse: 0.951435\n",
      "[270]\tvalid_0's rmse: 0.900942\tvalid_1's rmse: 0.949441\n",
      "[300]\tvalid_0's rmse: 0.893081\tvalid_1's rmse: 0.947747\n",
      "[330]\tvalid_0's rmse: 0.886421\tvalid_1's rmse: 0.946886\n",
      "[360]\tvalid_0's rmse: 0.880362\tvalid_1's rmse: 0.946354\n",
      "[390]\tvalid_0's rmse: 0.875014\tvalid_1's rmse: 0.945984\n",
      "[420]\tvalid_0's rmse: 0.869591\tvalid_1's rmse: 0.945448\n",
      "[450]\tvalid_0's rmse: 0.864515\tvalid_1's rmse: 0.945517\n",
      "[480]\tvalid_0's rmse: 0.859988\tvalid_1's rmse: 0.945416\n",
      "[510]\tvalid_0's rmse: 0.855511\tvalid_1's rmse: 0.945504\n",
      "Early stopping, best iteration is:\n",
      "[422]\tvalid_0's rmse: 0.869204\tvalid_1's rmse: 0.945342\n",
      "True\n",
      "score train: 0.86920\n",
      "score valid: 0.94534\n",
      "\n",
      "::Fold 5/5 start at Mon Dec  7 23:47:40 2020::\n",
      "Training until validation scores don't improve for 100 rounds\n",
      "[30]\tvalid_0's rmse: 1.14149\tvalid_1's rmse: 1.17546\n",
      "[60]\tvalid_0's rmse: 1.03765\tvalid_1's rmse: 1.08645\n",
      "[90]\tvalid_0's rmse: 0.985178\tvalid_1's rmse: 1.04419\n",
      "[120]\tvalid_0's rmse: 0.954394\tvalid_1's rmse: 1.02314\n",
      "[150]\tvalid_0's rmse: 0.933119\tvalid_1's rmse: 1.01082\n",
      "[180]\tvalid_0's rmse: 0.917408\tvalid_1's rmse: 1.00338\n",
      "[210]\tvalid_0's rmse: 0.905231\tvalid_1's rmse: 0.999066\n",
      "[240]\tvalid_0's rmse: 0.895434\tvalid_1's rmse: 0.9962\n",
      "[270]\tvalid_0's rmse: 0.886855\tvalid_1's rmse: 0.994339\n",
      "[300]\tvalid_0's rmse: 0.879726\tvalid_1's rmse: 0.993133\n",
      "[330]\tvalid_0's rmse: 0.873384\tvalid_1's rmse: 0.992546\n",
      "[360]\tvalid_0's rmse: 0.867572\tvalid_1's rmse: 0.992296\n",
      "[390]\tvalid_0's rmse: 0.861599\tvalid_1's rmse: 0.991886\n",
      "[420]\tvalid_0's rmse: 0.855983\tvalid_1's rmse: 0.991846\n",
      "[450]\tvalid_0's rmse: 0.850721\tvalid_1's rmse: 0.991997\n",
      "[480]\tvalid_0's rmse: 0.845881\tvalid_1's rmse: 0.991776\n",
      "Early stopping, best iteration is:\n",
      "[409]\tvalid_0's rmse: 0.857972\tvalid_1's rmse: 0.991549\n",
      "True\n",
      "score train: 0.85798\n",
      "score valid: 0.99155\n",
      "\n",
      "oof score: 0.97241\n",
      "CPU times: user 52.8 s, sys: 383 ms, total: 53.2 s\n",
      "Wall time: 4.59 s\n"
     ]
    }
   ],
   "source": [
    "%%time\n",
    "print(f\"use_col: {X.columns}\")\n",
    "oof, y_test_pred = run_lgbm(X, y, X_te, splitter, config)\n",
    "print(f'oof score: {metric(np.expm1(y), oof):.5f}')"
   ]
  },
  {
   "cell_type": "markdown",
   "metadata": {},
   "source": [
    "# create sub"
   ]
  },
  {
   "cell_type": "code",
   "execution_count": 17,
   "metadata": {},
   "outputs": [
    {
     "name": "stdout",
     "output_type": "stream",
     "text": [
      "save: ../data/output_nb/nb017/submission.csv\n"
     ]
    }
   ],
   "source": [
    "ss['Global_Sales'] = y_test_pred\n",
    "save_path = f'{SAVE_DIR}submission.csv'\n",
    "ss.to_csv(save_path, index=False)\n",
    "\n",
    "print(f'save: {save_path}')"
   ]
  },
  {
   "cell_type": "markdown",
   "metadata": {},
   "source": [
    "# Analysis"
   ]
  },
  {
   "cell_type": "code",
   "execution_count": 18,
   "metadata": {},
   "outputs": [
    {
     "data": {
      "text/plain": [
       "Text(0, 0.5, 'Pred')"
      ]
     },
     "execution_count": 18,
     "metadata": {},
     "output_type": "execute_result"
    },
    {
     "data": {
      "image/png": "[encoded data removed]",
      "text/plain": [
       "<Figure size 360x360 with 1 Axes>"
      ]
     },
     "metadata": {
      "needs_background": "light"
     },
     "output_type": "display_data"
    }
   ],
   "source": [
    "plt.figure(figsize=(5, 5))\n",
    "plt.plot([-200, 8000], [-200, 8000], color='black')\n",
    "plt.scatter(np.expm1(y), oof, alpha=0.2)\n",
    "plt.xlim(-100, 4000)\n",
    "plt.ylim(-100, 4000)\n",
    "plt.xlabel('True')\n",
    "plt.ylabel('Pred')"
   ]
  },
  {
   "cell_type": "code",
   "execution_count": 21,
   "metadata": {},
   "outputs": [
    {
     "data": {
      "text/plain": [
       "(-100, 1000)"
      ]
     },
     "execution_count": 21,
     "metadata": {},
     "output_type": "execute_result"
    },
    {
     "data": {
      "image/png": "[encoded data removed]",
      "text/plain": [
       "<Figure size 432x288 with 1 Axes>"
      ]
     },
     "metadata": {
      "needs_background": "light"
     },
     "output_type": "display_data"
    }
   ],
   "source": [
    "sns.kdeplot(oof, label='oof_pred')\n",
    "sns.kdeplot(np.expm1(y.Global_Sales.values), label='true')\n",
    "sns.kdeplot(y_test_pred, label='test_pred')\n",
    "plt.xlim(-100, 1000)"
   ]
  },
  {
   "cell_type": "raw",
   "metadata": {},
   "source": [
    "\n",
    "\n",
    "\n",
    "\n",
    "\n",
    "\n",
    "\n",
    "\n",
    "\n",
    "\n",
    "\n",
    "\n",
    "\n",
    "\n",
    "\n",
    "\n",
    "\n",
    "\n",
    "\n",
    "\n",
    "\n",
    "\n"
   ]
  }
 ],
 "metadata": {
  "kernelspec": {
   "display_name": "Python 3",
   "language": "python",
   "name": "python3"
  },
  "language_info": {
   "codemirror_mode": {
    "name": "ipython",
    "version": 3
   },
   "file_extension": ".py",
   "mimetype": "text/x-python",
   "name": "python",
   "nbconvert_exporter": "python",
   "pygments_lexer": "ipython3",
   "version": "3.6.10"
  }
 },
 "nbformat": 4,
 "nbformat_minor": 4
}
